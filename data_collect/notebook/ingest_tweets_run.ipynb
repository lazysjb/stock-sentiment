{
 "cells": [
  {
   "cell_type": "code",
   "execution_count": 1,
   "metadata": {},
   "outputs": [],
   "source": [
    "import sys\n",
    "sys.path.append('../../')"
   ]
  },
  {
   "cell_type": "code",
   "execution_count": 2,
   "metadata": {},
   "outputs": [],
   "source": [
    "import os\n",
    "import pandas as pd\n",
    "from tqdm import tqdm\n",
    "from data_collect.twitter.ingest_tweet import ingest_twitter_for_date"
   ]
  },
  {
   "cell_type": "code",
   "execution_count": 3,
   "metadata": {},
   "outputs": [],
   "source": [
    "START_DATE = '2017-01-01'\n",
    "END_DATE = '2019-06-01'"
   ]
  },
  {
   "cell_type": "code",
   "execution_count": null,
   "metadata": {},
   "outputs": [
    {
     "name": "stdout",
     "output_type": "stream",
     "text": [
      "Saving output to /home/sjb/Projects/Research/Stock_Sentiment/data/twitter/tweets_2017-01-01_$AAPL.json\n",
      "Saving output to /home/sjb/Projects/Research/Stock_Sentiment/data/twitter/tweets_2017-01-01_$GOOG.json\n",
      "Saving output to /home/sjb/Projects/Research/Stock_Sentiment/data/twitter/tweets_2017-01-01_$MSFT.json\n",
      "Saving output to /home/sjb/Projects/Research/Stock_Sentiment/data/twitter/tweets_2017-01-01_$AMZN.json\n",
      "Saving output to /home/sjb/Projects/Research/Stock_Sentiment/data/twitter/tweets_2017-01-01_$FB.json\n",
      "Saving output to /home/sjb/Projects/Research/Stock_Sentiment/data/twitter/tweets_2017-01-02_$AAPL.json\n",
      "Saving output to /home/sjb/Projects/Research/Stock_Sentiment/data/twitter/tweets_2017-01-02_$GOOG.json\n",
      "Saving output to /home/sjb/Projects/Research/Stock_Sentiment/data/twitter/tweets_2017-01-02_$MSFT.json\n",
      "Saving output to /home/sjb/Projects/Research/Stock_Sentiment/data/twitter/tweets_2017-01-02_$AMZN.json\n",
      "Saving output to /home/sjb/Projects/Research/Stock_Sentiment/data/twitter/tweets_2017-01-02_$FB.json\n",
      "Saving output to /home/sjb/Projects/Research/Stock_Sentiment/data/twitter/tweets_2017-01-03_$AAPL.json\n",
      "Saving output to /home/sjb/Projects/Research/Stock_Sentiment/data/twitter/tweets_2017-01-03_$GOOG.json\n",
      "Saving output to /home/sjb/Projects/Research/Stock_Sentiment/data/twitter/tweets_2017-01-03_$MSFT.json\n",
      "Saving output to /home/sjb/Projects/Research/Stock_Sentiment/data/twitter/tweets_2017-01-03_$AMZN.json\n",
      "Saving output to /home/sjb/Projects/Research/Stock_Sentiment/data/twitter/tweets_2017-01-03_$FB.json\n",
      "Saving output to /home/sjb/Projects/Research/Stock_Sentiment/data/twitter/tweets_2017-01-04_$AAPL.json\n",
      "Saving output to /home/sjb/Projects/Research/Stock_Sentiment/data/twitter/tweets_2017-01-04_$GOOG.json\n",
      "Saving output to /home/sjb/Projects/Research/Stock_Sentiment/data/twitter/tweets_2017-01-04_$MSFT.json\n",
      "Saving output to /home/sjb/Projects/Research/Stock_Sentiment/data/twitter/tweets_2017-01-04_$AMZN.json\n",
      "Saving output to /home/sjb/Projects/Research/Stock_Sentiment/data/twitter/tweets_2017-01-04_$FB.json\n",
      "Saving output to /home/sjb/Projects/Research/Stock_Sentiment/data/twitter/tweets_2017-01-05_$AAPL.json\n",
      "Saving output to /home/sjb/Projects/Research/Stock_Sentiment/data/twitter/tweets_2017-01-05_$GOOG.json\n",
      "Saving output to /home/sjb/Projects/Research/Stock_Sentiment/data/twitter/tweets_2017-01-05_$MSFT.json\n",
      "Saving output to /home/sjb/Projects/Research/Stock_Sentiment/data/twitter/tweets_2017-01-05_$AMZN.json\n",
      "Saving output to /home/sjb/Projects/Research/Stock_Sentiment/data/twitter/tweets_2017-01-05_$FB.json\n",
      "Saving output to /home/sjb/Projects/Research/Stock_Sentiment/data/twitter/tweets_2017-01-06_$AAPL.json\n",
      "Saving output to /home/sjb/Projects/Research/Stock_Sentiment/data/twitter/tweets_2017-01-06_$GOOG.json\n"
     ]
    }
   ],
   "source": [
    "for date in pd.date_range(START_DATE, END_DATE):\n",
    "    date_str = date.strftime('%Y-%m-%d')\n",
    "    ingest_twitter_for_date(date_str)"
   ]
  },
  {
   "cell_type": "code",
   "execution_count": null,
   "metadata": {},
   "outputs": [],
   "source": []
  }
 ],
 "metadata": {
  "kernelspec": {
   "display_name": "Python 3",
   "language": "python",
   "name": "python3"
  },
  "language_info": {
   "codemirror_mode": {
    "name": "ipython",
    "version": 3
   },
   "file_extension": ".py",
   "mimetype": "text/x-python",
   "name": "python",
   "nbconvert_exporter": "python",
   "pygments_lexer": "ipython3",
   "version": "3.6.7"
  }
 },
 "nbformat": 4,
 "nbformat_minor": 2
}
