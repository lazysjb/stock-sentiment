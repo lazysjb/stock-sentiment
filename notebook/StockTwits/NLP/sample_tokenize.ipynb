{
 "cells": [
  {
   "cell_type": "code",
   "execution_count": 1,
   "metadata": {},
   "outputs": [],
   "source": [
    "%load_ext autoreload\n",
    "%autoreload 2"
   ]
  },
  {
   "cell_type": "code",
   "execution_count": 2,
   "metadata": {},
   "outputs": [],
   "source": [
    "import sys\n",
    "sys.path.append('../../../')"
   ]
  },
  {
   "cell_type": "code",
   "execution_count": 57,
   "metadata": {},
   "outputs": [],
   "source": [
    "import os\n",
    "import time\n",
    "import numpy as np\n",
    "import pandas as pd\n",
    "from sklearn.model_selection import train_test_split\n",
    "from tqdm import tqdm\n",
    "\n",
    "from config import STOCKTWITS_TICKER_LIST\n",
    "from util.file_util import StockTwitsFileReader\n",
    "from nlp.twokenize import normalizeTextForTagger, tokenize\n",
    "from nlp.text_processor import (\n",
    "    token_is_cash_tag, token_is_punct, token_matches_ticker, twit_tokenize\n",
    ")"
   ]
  },
  {
   "cell_type": "code",
   "execution_count": 8,
   "metadata": {},
   "outputs": [],
   "source": [
    "np.random.seed(828)"
   ]
  },
  {
   "cell_type": "code",
   "execution_count": null,
   "metadata": {},
   "outputs": [],
   "source": []
  },
  {
   "cell_type": "code",
   "execution_count": 4,
   "metadata": {},
   "outputs": [],
   "source": [
    "stock_twits_reader = StockTwitsFileReader()"
   ]
  },
  {
   "cell_type": "code",
   "execution_count": 5,
   "metadata": {},
   "outputs": [],
   "source": [
    "data_dir = os.path.join(stock_twits_reader.root_dir,\n",
    "                        'processed/text_analysis')"
   ]
  },
  {
   "cell_type": "code",
   "execution_count": 6,
   "metadata": {},
   "outputs": [],
   "source": [
    "twit_train_df = pd.read_pickle(os.path.join(data_dir,\n",
    "                                            'train_twits.pkl'))"
   ]
  },
  {
   "cell_type": "code",
   "execution_count": 7,
   "metadata": {},
   "outputs": [
    {
     "data": {
      "text/plain": [
       "(314276, 7)"
      ]
     },
     "execution_count": 7,
     "metadata": {},
     "output_type": "execute_result"
    }
   ],
   "source": [
    "twit_train_df.shape"
   ]
  },
  {
   "cell_type": "code",
   "execution_count": 22,
   "metadata": {},
   "outputs": [],
   "source": [
    "corpus = twit_train_df['body'].values"
   ]
  },
  {
   "cell_type": "code",
   "execution_count": 23,
   "metadata": {},
   "outputs": [],
   "source": [
    "sample_twits = np.random.choice(corpus, 10)"
   ]
  },
  {
   "cell_type": "code",
   "execution_count": 24,
   "metadata": {},
   "outputs": [
    {
     "data": {
      "text/plain": [
       "array(['$TSLA Biden is going down for teaming up with Chanos. Reelection Secured.',\n",
       "       '$TSLA I&#39;m somewhat disappointed this happened so quickly because I was going to load up on calls.  At least Long position  is still intact.',\n",
       "       '$TSLA $SWIR Li-Ion battery &amp; Internet of Things revolution will change the world. Fundamentally.',\n",
       "       '$AEO #Swinghomework $STUDY critical resistance here we either break by EOD or follow that yellow squiggly arrow I drew. Called @$24.5💰💵',\n",
       "       '$BYND chipotle sells for price.sales of 4.  Bynd price.sales of 69.  It tells you the stock price is not sustainable.',\n",
       "       '$BYND you tree-hugging idiots need to sell asap and save your money. be realistic for god&#39;s sake.',\n",
       "       '$TSLA As we have said...the REAL selling has not begun.',\n",
       "       '$MSFT huge money— Friday $125 calls',\n",
       "       '$BABA China deal rumor? $AAPL $SPY $MSFT $FB', '$BYND DT are out'],\n",
       "      dtype=object)"
      ]
     },
     "execution_count": 24,
     "metadata": {},
     "output_type": "execute_result"
    }
   ],
   "source": [
    "sample_twits"
   ]
  },
  {
   "cell_type": "code",
   "execution_count": null,
   "metadata": {},
   "outputs": [],
   "source": []
  },
  {
   "cell_type": "markdown",
   "metadata": {},
   "source": [
    "## Try Twokenize"
   ]
  },
  {
   "cell_type": "code",
   "execution_count": 25,
   "metadata": {},
   "outputs": [
    {
     "data": {
      "text/plain": [
       "['$TSLA Biden is going down for teaming up with Chanos. Reelection Secured.',\n",
       " \"$TSLA I'm somewhat disappointed this happened so quickly because I was going to load up on calls.  At least Long position  is still intact.\",\n",
       " '$TSLA $SWIR Li-Ion battery & Internet of Things revolution will change the world. Fundamentally.',\n",
       " '$AEO #Swinghomework $STUDY critical resistance here we either break by EOD or follow that yellow squiggly arrow I drew. Called @$24.5💰💵',\n",
       " '$BYND chipotle sells for price.sales of 4.  Bynd price.sales of 69.  It tells you the stock price is not sustainable.',\n",
       " \"$BYND you tree-hugging idiots need to sell asap and save your money. be realistic for god's sake.\",\n",
       " '$TSLA As we have said...the REAL selling has not begun.',\n",
       " '$MSFT huge money— Friday $125 calls',\n",
       " '$BABA China deal rumor? $AAPL $SPY $MSFT $FB',\n",
       " '$BYND DT are out']"
      ]
     },
     "execution_count": 25,
     "metadata": {},
     "output_type": "execute_result"
    }
   ],
   "source": [
    "normalized_twits = [normalizeTextForTagger(x) for x in sample_twits]\n",
    "normalized_twits"
   ]
  },
  {
   "cell_type": "code",
   "execution_count": 31,
   "metadata": {},
   "outputs": [],
   "source": [
    "temp = tokenized_twits[3][-1]"
   ]
  },
  {
   "cell_type": "code",
   "execution_count": 41,
   "metadata": {},
   "outputs": [],
   "source": [
    "a = temp.encode()"
   ]
  },
  {
   "cell_type": "code",
   "execution_count": 42,
   "metadata": {},
   "outputs": [
    {
     "data": {
      "text/plain": [
       "'💰💵'"
      ]
     },
     "execution_count": 42,
     "metadata": {},
     "output_type": "execute_result"
    }
   ],
   "source": [
    "a.decode('utf-8')"
   ]
  },
  {
   "cell_type": "code",
   "execution_count": 44,
   "metadata": {},
   "outputs": [
    {
     "data": {
      "text/plain": [
       "[['$TSLA',\n",
       "  'Biden',\n",
       "  'is',\n",
       "  'going',\n",
       "  'down',\n",
       "  'for',\n",
       "  'teaming',\n",
       "  'up',\n",
       "  'with',\n",
       "  'Chanos',\n",
       "  '.',\n",
       "  'Reelection',\n",
       "  'Secured',\n",
       "  '.'],\n",
       " ['$TSLA',\n",
       "  \"I'm\",\n",
       "  'somewhat',\n",
       "  'disappointed',\n",
       "  'this',\n",
       "  'happened',\n",
       "  'so',\n",
       "  'quickly',\n",
       "  'because',\n",
       "  'I',\n",
       "  'was',\n",
       "  'going',\n",
       "  'to',\n",
       "  'load',\n",
       "  'up',\n",
       "  'on',\n",
       "  'calls',\n",
       "  '.',\n",
       "  'At',\n",
       "  'least',\n",
       "  'Long',\n",
       "  'position',\n",
       "  'is',\n",
       "  'still',\n",
       "  'intact',\n",
       "  '.'],\n",
       " ['$TSLA',\n",
       "  '$SWIR',\n",
       "  'Li-Ion',\n",
       "  'battery',\n",
       "  '&',\n",
       "  'Internet',\n",
       "  'of',\n",
       "  'Things',\n",
       "  'revolution',\n",
       "  'will',\n",
       "  'change',\n",
       "  'the',\n",
       "  'world',\n",
       "  '.',\n",
       "  'Fundamentally',\n",
       "  '.'],\n",
       " ['$AEO',\n",
       "  '#Swinghomework',\n",
       "  '$STUDY',\n",
       "  'critical',\n",
       "  'resistance',\n",
       "  'here',\n",
       "  'we',\n",
       "  'either',\n",
       "  'break',\n",
       "  'by',\n",
       "  'EOD',\n",
       "  'or',\n",
       "  'follow',\n",
       "  'that',\n",
       "  'yellow',\n",
       "  'squiggly',\n",
       "  'arrow',\n",
       "  'I',\n",
       "  'drew',\n",
       "  '.',\n",
       "  'Called',\n",
       "  '@',\n",
       "  '$24.5',\n",
       "  '💰💵'],\n",
       " ['$BYND',\n",
       "  'chipotle',\n",
       "  'sells',\n",
       "  'for',\n",
       "  'price',\n",
       "  '.',\n",
       "  'sales',\n",
       "  'of',\n",
       "  '4',\n",
       "  '.',\n",
       "  'Bynd',\n",
       "  'price',\n",
       "  '.',\n",
       "  'sales',\n",
       "  'of',\n",
       "  '69',\n",
       "  '.',\n",
       "  'It',\n",
       "  'tells',\n",
       "  'you',\n",
       "  'the',\n",
       "  'stock',\n",
       "  'price',\n",
       "  'is',\n",
       "  'not',\n",
       "  'sustainable',\n",
       "  '.'],\n",
       " ['$BYND',\n",
       "  'you',\n",
       "  'tree-hugging',\n",
       "  'idiots',\n",
       "  'need',\n",
       "  'to',\n",
       "  'sell',\n",
       "  'asap',\n",
       "  'and',\n",
       "  'save',\n",
       "  'your',\n",
       "  'money',\n",
       "  '.',\n",
       "  'be',\n",
       "  'realistic',\n",
       "  'for',\n",
       "  \"god's\",\n",
       "  'sake',\n",
       "  '.'],\n",
       " ['$TSLA',\n",
       "  'As',\n",
       "  'we',\n",
       "  'have',\n",
       "  'said',\n",
       "  '...',\n",
       "  'the',\n",
       "  'REAL',\n",
       "  'selling',\n",
       "  'has',\n",
       "  'not',\n",
       "  'begun',\n",
       "  '.'],\n",
       " ['$MSFT', 'huge', 'money', '—', 'Friday', '$125', 'calls'],\n",
       " ['$BABA', 'China', 'deal', 'rumor', '?', '$AAPL', '$SPY', '$MSFT', '$FB'],\n",
       " ['$BYND', 'DT', 'are', 'out']]"
      ]
     },
     "execution_count": 44,
     "metadata": {},
     "output_type": "execute_result"
    }
   ],
   "source": [
    "tokenized_twits = [tokenize(x) for x in normalized_twits]\n",
    "tokenized_twits"
   ]
  },
  {
   "cell_type": "code",
   "execution_count": 51,
   "metadata": {},
   "outputs": [],
   "source": [
    "token_infos = []\n",
    "\n",
    "for tokens in tokenized_twits:\n",
    "    for tok in tokens:\n",
    "        token_infos.append({\n",
    "            'token': tok,\n",
    "            'is_punct': token_is_punct(tok),\n",
    "            'is_cash_tag': token_is_cash_tag(tok),\n",
    "        })"
   ]
  },
  {
   "cell_type": "code",
   "execution_count": 53,
   "metadata": {},
   "outputs": [],
   "source": [
    "temp_df = pd.DataFrame(token_infos)"
   ]
  },
  {
   "cell_type": "code",
   "execution_count": null,
   "metadata": {},
   "outputs": [],
   "source": []
  },
  {
   "cell_type": "code",
   "execution_count": 68,
   "metadata": {},
   "outputs": [
    {
     "name": "stdout",
     "output_type": "stream",
     "text": [
      "$TSLA Biden is going down for teaming up with Chanos. Reelection Secured.\n",
      "['biden', 'going', 'down', 'teaming', 'up', 'chanos', 'reelection', 'secured']\n",
      "\n",
      "\n",
      "$TSLA I&#39;m somewhat disappointed this happened so quickly because I was going to load up on calls.  At least Long position  is still intact.\n",
      "[\"i'm\", 'somewhat', 'disappointed', 'happened', 'quickly', 'going', 'load', 'up', 'on', 'calls', 'least', 'long', 'position', 'still', 'intact']\n",
      "\n",
      "\n",
      "$TSLA $SWIR Li-Ion battery &amp; Internet of Things revolution will change the world. Fundamentally.\n",
      "['li-ion', 'battery', 'internet', 'things', 'revolution', 'change', 'world', 'fundamentally']\n",
      "\n",
      "\n",
      "$AEO #Swinghomework $STUDY critical resistance here we either break by EOD or follow that yellow squiggly arrow I drew. Called @$24.5💰💵\n",
      "['#swinghomework', 'critical', 'resistance', 'either', 'break', 'eod', 'follow', 'yellow', 'squiggly', 'arrow', 'drew', 'called', '$24.5', '💰💵']\n",
      "\n",
      "\n",
      "$BYND chipotle sells for price.sales of 4.  Bynd price.sales of 69.  It tells you the stock price is not sustainable.\n",
      "['chipotle', 'sells', 'price', 'sales', '4', 'bynd', 'price', 'sales', '69', 'tells', 'stock', 'price', 'not', 'sustainable']\n",
      "\n",
      "\n",
      "$BYND you tree-hugging idiots need to sell asap and save your money. be realistic for god&#39;s sake.\n",
      "['tree-hugging', 'idiots', 'need', 'sell', 'asap', 'save', 'money', 'realistic', \"god's\", 'sake']\n",
      "\n",
      "\n",
      "$TSLA As we have said...the REAL selling has not begun.\n",
      "['said', 'real', 'selling', 'not', 'begun']\n",
      "\n",
      "\n",
      "$MSFT huge money— Friday $125 calls\n",
      "['huge', 'money', '—', 'friday', '$125', 'calls']\n",
      "\n",
      "\n",
      "$BABA China deal rumor? $AAPL $SPY $MSFT $FB\n",
      "['china', 'deal', 'rumor']\n",
      "\n",
      "\n",
      "$BYND DT are out\n",
      "['dt', 'out']\n",
      "\n",
      "\n"
     ]
    }
   ],
   "source": [
    "for s in sample_twits:\n",
    "    print(s)\n",
    "    \n",
    "    tokenized_twit = twit_tokenize(s, ticker=None, normalize=True)\n",
    "    print(tokenized_twit)\n",
    "    print('\\n')\n",
    "    "
   ]
  },
  {
   "cell_type": "code",
   "execution_count": null,
   "metadata": {},
   "outputs": [],
   "source": []
  },
  {
   "cell_type": "code",
   "execution_count": null,
   "metadata": {},
   "outputs": [],
   "source": []
  },
  {
   "cell_type": "markdown",
   "metadata": {},
   "source": [
    "# Tokenizer - what is &#39;s"
   ]
  },
  {
   "cell_type": "markdown",
   "metadata": {},
   "source": [
    "### TODO: Remove Binarys"
   ]
  },
  {
   "cell_type": "code",
   "execution_count": null,
   "metadata": {},
   "outputs": [],
   "source": []
  }
 ],
 "metadata": {
  "kernelspec": {
   "display_name": "Python 3",
   "language": "python",
   "name": "python3"
  },
  "language_info": {
   "codemirror_mode": {
    "name": "ipython",
    "version": 3
   },
   "file_extension": ".py",
   "mimetype": "text/x-python",
   "name": "python",
   "nbconvert_exporter": "python",
   "pygments_lexer": "ipython3",
   "version": "3.6.5"
  }
 },
 "nbformat": 4,
 "nbformat_minor": 2
}
