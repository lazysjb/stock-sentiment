{
 "cells": [
  {
   "cell_type": "code",
   "execution_count": null,
   "metadata": {},
   "outputs": [],
   "source": [
    "%load_ext autoreload\n",
    "%autoreload 2"
   ]
  },
  {
   "cell_type": "code",
   "execution_count": null,
   "metadata": {},
   "outputs": [],
   "source": [
    "import sys\n",
    "sys.path.append('../../../')"
   ]
  },
  {
   "cell_type": "code",
   "execution_count": 24,
   "metadata": {},
   "outputs": [],
   "source": [
    "import os\n",
    "import time\n",
    "import numpy as np\n",
    "import pandas as pd\n",
    "from sklearn.model_selection import train_test_split\n",
    "from tqdm import tqdm\n",
    "\n",
    "from config import STOCKTWITS_TICKER_LIST\n",
    "from util.file_util import StockTwitsFileReader"
   ]
  },
  {
   "cell_type": "code",
   "execution_count": null,
   "metadata": {},
   "outputs": [],
   "source": [
    "np.random.seed(828)"
   ]
  },
  {
   "cell_type": "code",
   "execution_count": null,
   "metadata": {},
   "outputs": [],
   "source": [
    "stock_twits_reader = StockTwitsFileReader()"
   ]
  },
  {
   "cell_type": "code",
   "execution_count": 23,
   "metadata": {},
   "outputs": [
    {
     "data": {
      "text/plain": [
       "'/Users/seung-jae_bang/Personal/Research/Stock_Sentiment/data/Stocktwits'"
      ]
     },
     "execution_count": 23,
     "metadata": {},
     "output_type": "execute_result"
    }
   ],
   "source": [
    "stock_twits_reader.root_dir"
   ]
  },
  {
   "cell_type": "code",
   "execution_count": null,
   "metadata": {},
   "outputs": [],
   "source": [
    "start_date = '2018-01-01'\n",
    "end_date = '2019-08-10'"
   ]
  },
  {
   "cell_type": "code",
   "execution_count": null,
   "metadata": {},
   "outputs": [],
   "source": [
    "SENTIMENT_LABEL_COLUMN = 'entities.sentiment.basic'"
   ]
  },
  {
   "cell_type": "code",
   "execution_count": null,
   "metadata": {},
   "outputs": [],
   "source": [
    "labeled_twits = []\n",
    "\n",
    "for ticker in STOCKTWITS_TICKER_LIST:\n",
    "    tic = time.time()\n",
    "    \n",
    "    twits_df = stock_twits_reader.read_twit_file_in_range(ticker, start_date, end_date, cols='default')\n",
    "    labeled_twit_df = twits_df.dropna(subset=[SENTIMENT_LABEL_COLUMN]).copy()\n",
    "    labeled_twit_df['ticker'] = ticker\n",
    "    labeled_twits.append(labeled_twit_df)\n",
    "    \n",
    "    toc = time.time()\n",
    "    print('Running for {} took {} mins'.format(ticker, (toc - tic) / 60))"
   ]
  },
  {
   "cell_type": "code",
   "execution_count": 10,
   "metadata": {},
   "outputs": [],
   "source": [
    "labeled_twits_df = pd.concat(labeled_twits)"
   ]
  },
  {
   "cell_type": "code",
   "execution_count": 14,
   "metadata": {},
   "outputs": [
    {
     "data": {
      "text/plain": [
       "TSLA    331586\n",
       "BYND     55759\n",
       "MSFT     36020\n",
       "LYFT     17544\n",
       "SBUX      9766\n",
       "Name: ticker, dtype: int64"
      ]
     },
     "execution_count": 14,
     "metadata": {},
     "output_type": "execute_result"
    }
   ],
   "source": [
    "labeled_twits_df['ticker'].value_counts().head()"
   ]
  },
  {
   "cell_type": "code",
   "execution_count": 15,
   "metadata": {},
   "outputs": [
    {
     "data": {
      "text/plain": [
       "(491058, 7)"
      ]
     },
     "execution_count": 15,
     "metadata": {},
     "output_type": "execute_result"
    }
   ],
   "source": [
    "labeled_twits_df.shape"
   ]
  },
  {
   "cell_type": "code",
   "execution_count": 18,
   "metadata": {},
   "outputs": [
    {
     "data": {
      "text/plain": [
       "Bullish    307130\n",
       "Bearish    183928\n",
       "Name: entities.sentiment.basic, dtype: int64"
      ]
     },
     "execution_count": 18,
     "metadata": {},
     "output_type": "execute_result"
    }
   ],
   "source": [
    "labeled_twits_df[SENTIMENT_LABEL_COLUMN].value_counts()"
   ]
  },
  {
   "cell_type": "code",
   "execution_count": null,
   "metadata": {},
   "outputs": [],
   "source": []
  },
  {
   "cell_type": "code",
   "execution_count": 19,
   "metadata": {},
   "outputs": [],
   "source": [
    "train_twits, test_twits = train_test_split(labeled_twits_df, test_size=0.2)"
   ]
  },
  {
   "cell_type": "code",
   "execution_count": 20,
   "metadata": {},
   "outputs": [
    {
     "data": {
      "text/plain": [
       "((392846, 7), (98212, 7))"
      ]
     },
     "execution_count": 20,
     "metadata": {},
     "output_type": "execute_result"
    }
   ],
   "source": [
    "train_twits.shape, test_twits.shape"
   ]
  },
  {
   "cell_type": "code",
   "execution_count": 21,
   "metadata": {},
   "outputs": [],
   "source": [
    "train_twits, val_twits = train_test_split(train_twits, test_size=0.2)"
   ]
  },
  {
   "cell_type": "code",
   "execution_count": 22,
   "metadata": {},
   "outputs": [
    {
     "data": {
      "text/plain": [
       "((314276, 7), (78570, 7))"
      ]
     },
     "execution_count": 22,
     "metadata": {},
     "output_type": "execute_result"
    }
   ],
   "source": [
    "train_twits.shape, val_twits.shape"
   ]
  },
  {
   "cell_type": "code",
   "execution_count": 25,
   "metadata": {},
   "outputs": [
    {
     "data": {
      "text/plain": [
       "'/Users/seung-jae_bang/Personal/Research/Stock_Sentiment/data/Stocktwits/processed/text_analysis'"
      ]
     },
     "execution_count": 25,
     "metadata": {},
     "output_type": "execute_result"
    }
   ],
   "source": [
    "save_dir = os.path.join(stock_twits_reader.root_dir,\n",
    "                        'processed/text_analysis')\n",
    "save_dir"
   ]
  },
  {
   "cell_type": "code",
   "execution_count": 28,
   "metadata": {},
   "outputs": [
    {
     "data": {
      "text/html": [
       "<div>\n",
       "<style scoped>\n",
       "    .dataframe tbody tr th:only-of-type {\n",
       "        vertical-align: middle;\n",
       "    }\n",
       "\n",
       "    .dataframe tbody tr th {\n",
       "        vertical-align: top;\n",
       "    }\n",
       "\n",
       "    .dataframe thead th {\n",
       "        text-align: right;\n",
       "    }\n",
       "</style>\n",
       "<table border=\"1\" class=\"dataframe\">\n",
       "  <thead>\n",
       "    <tr style=\"text-align: right;\">\n",
       "      <th></th>\n",
       "      <th>date_est</th>\n",
       "      <th>created_at_est</th>\n",
       "      <th>body</th>\n",
       "      <th>symbols</th>\n",
       "      <th>entities.sentiment.basic</th>\n",
       "      <th>links</th>\n",
       "      <th>ticker</th>\n",
       "    </tr>\n",
       "  </thead>\n",
       "  <tbody>\n",
       "    <tr>\n",
       "      <th>53193</th>\n",
       "      <td>2018-12-06</td>\n",
       "      <td>2018-12-06 16:53:51</td>\n",
       "      <td>$MSFT   .</td>\n",
       "      <td>[{'id': 2735, 'symbol': 'MSFT', 'title': 'Micr...</td>\n",
       "      <td>Bullish</td>\n",
       "      <td>None</td>\n",
       "      <td>MSFT</td>\n",
       "    </tr>\n",
       "    <tr>\n",
       "      <th>610784</th>\n",
       "      <td>2019-07-11</td>\n",
       "      <td>2019-07-11 10:19:04</td>\n",
       "      <td>$TSLA $400 is coming</td>\n",
       "      <td>[{'id': 8660, 'symbol': 'TSLA', 'title': 'Tesl...</td>\n",
       "      <td>Bullish</td>\n",
       "      <td>None</td>\n",
       "      <td>TSLA</td>\n",
       "    </tr>\n",
       "    <tr>\n",
       "      <th>571364</th>\n",
       "      <td>2019-06-05</td>\n",
       "      <td>2019-06-05 17:49:20</td>\n",
       "      <td>$TSLA they are just so beautiful looking on th...</td>\n",
       "      <td>[{'id': 8660, 'symbol': 'TSLA', 'title': 'Tesl...</td>\n",
       "      <td>Bullish</td>\n",
       "      <td>None</td>\n",
       "      <td>TSLA</td>\n",
       "    </tr>\n",
       "    <tr>\n",
       "      <th>8447</th>\n",
       "      <td>2019-05-13</td>\n",
       "      <td>2019-05-13 10:20:45</td>\n",
       "      <td>$UBER I guess Saudis long algos are activated ...</td>\n",
       "      <td>[{'id': 11554, 'symbol': 'UBER', 'title': 'Ube...</td>\n",
       "      <td>Bullish</td>\n",
       "      <td>None</td>\n",
       "      <td>UBER</td>\n",
       "    </tr>\n",
       "    <tr>\n",
       "      <th>70872</th>\n",
       "      <td>2018-05-03</td>\n",
       "      <td>2018-05-03 09:13:28</td>\n",
       "      <td>$TSLA wow poor bulls that have been buying the...</td>\n",
       "      <td>[{'id': 8660, 'symbol': 'TSLA', 'title': 'Tesl...</td>\n",
       "      <td>Bearish</td>\n",
       "      <td>None</td>\n",
       "      <td>TSLA</td>\n",
       "    </tr>\n",
       "  </tbody>\n",
       "</table>\n",
       "</div>"
      ],
      "text/plain": [
       "          date_est       created_at_est  \\\n",
       "53193   2018-12-06  2018-12-06 16:53:51   \n",
       "610784  2019-07-11  2019-07-11 10:19:04   \n",
       "571364  2019-06-05  2019-06-05 17:49:20   \n",
       "8447    2019-05-13  2019-05-13 10:20:45   \n",
       "70872   2018-05-03  2018-05-03 09:13:28   \n",
       "\n",
       "                                                     body  \\\n",
       "53193                                           $MSFT   .   \n",
       "610784                               $TSLA $400 is coming   \n",
       "571364  $TSLA they are just so beautiful looking on th...   \n",
       "8447    $UBER I guess Saudis long algos are activated ...   \n",
       "70872   $TSLA wow poor bulls that have been buying the...   \n",
       "\n",
       "                                                  symbols  \\\n",
       "53193   [{'id': 2735, 'symbol': 'MSFT', 'title': 'Micr...   \n",
       "610784  [{'id': 8660, 'symbol': 'TSLA', 'title': 'Tesl...   \n",
       "571364  [{'id': 8660, 'symbol': 'TSLA', 'title': 'Tesl...   \n",
       "8447    [{'id': 11554, 'symbol': 'UBER', 'title': 'Ube...   \n",
       "70872   [{'id': 8660, 'symbol': 'TSLA', 'title': 'Tesl...   \n",
       "\n",
       "       entities.sentiment.basic links ticker  \n",
       "53193                   Bullish  None   MSFT  \n",
       "610784                  Bullish  None   TSLA  \n",
       "571364                  Bullish  None   TSLA  \n",
       "8447                    Bullish  None   UBER  \n",
       "70872                   Bearish  None   TSLA  "
      ]
     },
     "execution_count": 28,
     "metadata": {},
     "output_type": "execute_result"
    }
   ],
   "source": [
    "train_twits.head()"
   ]
  },
  {
   "cell_type": "markdown",
   "metadata": {},
   "source": []
  },
  {
   "cell_type": "code",
   "execution_count": 27,
   "metadata": {},
   "outputs": [],
   "source": [
    "train_twits.to_pickle(os.path.join(save_dir, 'train_twits.pkl'))\n",
    "val_twits.to_pickle(os.path.join(save_dir, 'val_twits.pkl'))\n",
    "test_twits.to_pickle(os.path.join(save_dir, 'test_twits.pkl'))"
   ]
  },
  {
   "cell_type": "code",
   "execution_count": null,
   "metadata": {},
   "outputs": [],
   "source": []
  }
 ],
 "metadata": {
  "kernelspec": {
   "display_name": "Python 3",
   "language": "python",
   "name": "python3"
  },
  "language_info": {
   "codemirror_mode": {
    "name": "ipython",
    "version": 3
   },
   "file_extension": ".py",
   "mimetype": "text/x-python",
   "name": "python",
   "nbconvert_exporter": "python",
   "pygments_lexer": "ipython3",
   "version": "3.6.5"
  }
 },
 "nbformat": 4,
 "nbformat_minor": 2
}
