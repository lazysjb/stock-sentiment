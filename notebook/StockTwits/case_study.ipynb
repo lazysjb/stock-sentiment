{
 "cells": [
  {
   "cell_type": "code",
   "execution_count": 1,
   "metadata": {},
   "outputs": [],
   "source": [
    "%load_ext autoreload\n",
    "%autoreload 2"
   ]
  },
  {
   "cell_type": "code",
   "execution_count": 2,
   "metadata": {},
   "outputs": [],
   "source": [
    "import sys\n",
    "sys.path.append('../../')"
   ]
  },
  {
   "cell_type": "code",
   "execution_count": 3,
   "metadata": {},
   "outputs": [],
   "source": [
    "import warnings\n",
    "from arrow.factory import ArrowParseWarning\n",
    "\n",
    "warnings.simplefilter(\"ignore\", ArrowParseWarning)"
   ]
  },
  {
   "cell_type": "code",
   "execution_count": 4,
   "metadata": {},
   "outputs": [],
   "source": [
    "import arrow\n",
    "import numpy as np\n",
    "import pandas as pd\n",
    "\n",
    "import matplotlib.pyplot as plt\n",
    "%matplotlib inline\n",
    "\n",
    "from util.file_util import StockTwitsFileReader, StockDataFileReader\n",
    "from util.ts_util import (\n",
    "    shift_date_index, calc_corr, \n",
    "    resample_weekly, rolling_nday)\n",
    "from util.plot_util import (\n",
    "    plot_time_series_bar, overlay_on_secondary_axis)\n",
    "from util.stockdata_helper import (\n",
    "    get_sp500_sector_info, get_gics_sector_list,\n",
    "    get_etf_ticker_for_sector, get_component_tickers_for_sector,\n",
    "    get_nday_returns_for_ticker\n",
    ")\n",
    "from config import STOCKTWITS_TICKER_LIST, ETF_TICKER_TO_SECTOR"
   ]
  },
  {
   "cell_type": "code",
   "execution_count": 5,
   "metadata": {},
   "outputs": [],
   "source": [
    "twit_file_reader = StockTwitsFileReader() \n",
    "stock_file_reader = StockDataFileReader()"
   ]
  },
  {
   "cell_type": "code",
   "execution_count": 6,
   "metadata": {},
   "outputs": [],
   "source": [
    "start_date = '2017-01-01'\n",
    "end_date = '2019-08-10'"
   ]
  },
  {
   "cell_type": "code",
   "execution_count": 7,
   "metadata": {},
   "outputs": [
    {
     "data": {
      "text/plain": [
       "['Consumer Staples',\n",
       " 'Real Estate',\n",
       " 'Industrials',\n",
       " 'Information Technology',\n",
       " 'Energy',\n",
       " 'Materials',\n",
       " 'Consumer Discretionary',\n",
       " 'Financials',\n",
       " 'Health Care',\n",
       " 'Utilities',\n",
       " 'All']"
      ]
     },
     "execution_count": 7,
     "metadata": {},
     "output_type": "execute_result"
    }
   ],
   "source": [
    "all_sectors = get_gics_sector_list()\n",
    "all_sectors"
   ]
  },
  {
   "cell_type": "code",
   "execution_count": 8,
   "metadata": {},
   "outputs": [],
   "source": [
    "def append_sentiment_cols(sentiment_df):\n",
    "    new_sentiment_df = sentiment_df.copy()\n",
    "    \n",
    "    new_sentiment_df['Bullish_minus_Bearish'] = new_sentiment_df['Bullish'] - new_sentiment_df['Bearish']\n",
    "    new_sentiment_df['Log_Bullish_over_Bearish'] = np.log(new_sentiment_df['Bullish']) - np.log(new_sentiment_df['Bearish'])\n",
    "    return new_sentiment_df\n",
    "\n",
    "def get_daily_sentiment_agg_df_for_sector(sector):\n",
    "    tickers_in_sector = get_component_tickers_for_sector(sector)\n",
    "    print('number of component tickers {} in {}'.format(len(tickers_in_sector),\n",
    "                                                        sector))\n",
    "    \n",
    "    daily_sentiment_agg_df = pd.DataFrame()\n",
    "\n",
    "    for ticker in tickers_in_sector:\n",
    "        twit_df = twit_file_reader.read_daily_sentiment_summary_prelim(ticker,\n",
    "                                                                       start_date=start_date,\n",
    "                                                                       end_date=end_date)\n",
    "        twit_df['Bullish_minus_Bearish'] = twit_df['Bullish'] - twit_df['Bearish']\n",
    "        \n",
    "        daily_sentiment_agg_df = daily_sentiment_agg_df.add(twit_df, fill_value=0)\n",
    "    \n",
    "    return daily_sentiment_agg_df\n",
    "\n",
    "def get_daily_sentiment_df_dict_for_sector(sector):\n",
    "    tickers_in_sector = get_component_tickers_for_sector(sector)\n",
    "    print('number of component tickers {} in {}'.format(len(tickers_in_sector),\n",
    "                                                        sector))\n",
    "    \n",
    "    daily_sentiment_df_dict = {}\n",
    "\n",
    "    for ticker in tickers_in_sector:\n",
    "        twit_df = twit_file_reader.read_daily_sentiment_summary_prelim(ticker,\n",
    "                                                                       start_date=start_date,\n",
    "                                                                       end_date=end_date)\n",
    "        if len(twit_df):\n",
    "            twit_df['Bullish_minus_Bearish'] = twit_df['Bullish'] - twit_df['Bearish']\n",
    "        \n",
    "        daily_sentiment_df_dict[ticker] = twit_df\n",
    "    \n",
    "    return daily_sentiment_df_dict"
   ]
  },
  {
   "cell_type": "code",
   "execution_count": null,
   "metadata": {},
   "outputs": [],
   "source": []
  },
  {
   "cell_type": "code",
   "execution_count": 158,
   "metadata": {},
   "outputs": [],
   "source": [
    "sector = 'Industrials'"
   ]
  },
  {
   "cell_type": "code",
   "execution_count": 159,
   "metadata": {},
   "outputs": [
    {
     "name": "stdout",
     "output_type": "stream",
     "text": [
      "number of component tickers 69 in Industrials\n",
      "number of component tickers 69 in Industrials\n"
     ]
    }
   ],
   "source": [
    "daily_sentiment_agg_df = get_daily_sentiment_agg_df_for_sector(sector)\n",
    "daily_sentiment_df_dict = get_daily_sentiment_df_dict_for_sector(sector)"
   ]
  },
  {
   "cell_type": "code",
   "execution_count": 160,
   "metadata": {},
   "outputs": [],
   "source": [
    "etf_ticker = get_etf_ticker_for_sector(sector)\n",
    "etf_price_df = stock_file_reader.read_stockdata_in_range(etf_ticker,\n",
    "                                                         start_date, \n",
    "                                                         end_date)"
   ]
  },
  {
   "cell_type": "code",
   "execution_count": 161,
   "metadata": {},
   "outputs": [
    {
     "data": {
      "text/plain": [
       "Text(0.5, 0.98, 'Industrials')"
      ]
     },
     "execution_count": 161,
     "metadata": {},
     "output_type": "execute_result"
    },
    {
     "data": {
      "image/png": "[encoded data removed]",
      "text/plain": [
       "<Figure size 576x432 with 2 Axes>"
      ]
     },
     "metadata": {
      "needs_background": "light"
     },
     "output_type": "display_data"
    }
   ],
   "source": [
    "fig, axes = plt.subplots(2, 1, figsize=(8, 6), sharex=True)\n",
    "\n",
    "daily_sentiment_agg_df.plot(y=['Bearish', 'Bullish'],\n",
    "                            linewidth=0.8,\n",
    "                            ax=axes[0])\n",
    "etf_price_df.plot(ax=axes[1])\n",
    "plt.suptitle(sector)"
   ]
  },
  {
   "cell_type": "code",
   "execution_count": 162,
   "metadata": {},
   "outputs": [
    {
     "data": {
      "text/html": [
       "<div>\n",
       "<style scoped>\n",
       "    .dataframe tbody tr th:only-of-type {\n",
       "        vertical-align: middle;\n",
       "    }\n",
       "\n",
       "    .dataframe tbody tr th {\n",
       "        vertical-align: top;\n",
       "    }\n",
       "\n",
       "    .dataframe thead th {\n",
       "        text-align: right;\n",
       "    }\n",
       "</style>\n",
       "<table border=\"1\" class=\"dataframe\">\n",
       "  <thead>\n",
       "    <tr style=\"text-align: right;\">\n",
       "      <th></th>\n",
       "      <th>adjusted close</th>\n",
       "    </tr>\n",
       "    <tr>\n",
       "      <th>date</th>\n",
       "      <th></th>\n",
       "    </tr>\n",
       "  </thead>\n",
       "  <tbody>\n",
       "    <tr>\n",
       "      <th>2018-03-01</th>\n",
       "      <td>72.9954</td>\n",
       "    </tr>\n",
       "    <tr>\n",
       "      <th>2018-03-02</th>\n",
       "      <td>72.9759</td>\n",
       "    </tr>\n",
       "    <tr>\n",
       "      <th>2018-03-05</th>\n",
       "      <td>73.8501</td>\n",
       "    </tr>\n",
       "    <tr>\n",
       "      <th>2018-03-06</th>\n",
       "      <td>74.1804</td>\n",
       "    </tr>\n",
       "    <tr>\n",
       "      <th>2018-03-07</th>\n",
       "      <td>74.1707</td>\n",
       "    </tr>\n",
       "    <tr>\n",
       "      <th>2018-03-08</th>\n",
       "      <td>74.5592</td>\n",
       "    </tr>\n",
       "    <tr>\n",
       "      <th>2018-03-09</th>\n",
       "      <td>76.2008</td>\n",
       "    </tr>\n",
       "    <tr>\n",
       "      <th>2018-03-12</th>\n",
       "      <td>75.2586</td>\n",
       "    </tr>\n",
       "    <tr>\n",
       "      <th>2018-03-13</th>\n",
       "      <td>74.8895</td>\n",
       "    </tr>\n",
       "    <tr>\n",
       "      <th>2018-03-14</th>\n",
       "      <td>74.0736</td>\n",
       "    </tr>\n",
       "    <tr>\n",
       "      <th>2018-03-15</th>\n",
       "      <td>74.2872</td>\n",
       "    </tr>\n",
       "    <tr>\n",
       "      <th>2018-03-16</th>\n",
       "      <td>74.6842</td>\n",
       "    </tr>\n",
       "    <tr>\n",
       "      <th>2018-03-19</th>\n",
       "      <td>74.1088</td>\n",
       "    </tr>\n",
       "    <tr>\n",
       "      <th>2018-03-20</th>\n",
       "      <td>74.3623</td>\n",
       "    </tr>\n",
       "    <tr>\n",
       "      <th>2018-03-21</th>\n",
       "      <td>74.4501</td>\n",
       "    </tr>\n",
       "    <tr>\n",
       "      <th>2018-03-22</th>\n",
       "      <td>71.9925</td>\n",
       "    </tr>\n",
       "    <tr>\n",
       "      <th>2018-03-23</th>\n",
       "      <td>70.9392</td>\n",
       "    </tr>\n",
       "    <tr>\n",
       "      <th>2018-03-26</th>\n",
       "      <td>72.6557</td>\n",
       "    </tr>\n",
       "    <tr>\n",
       "      <th>2018-03-27</th>\n",
       "      <td>71.6512</td>\n",
       "    </tr>\n",
       "    <tr>\n",
       "      <th>2018-03-28</th>\n",
       "      <td>71.4073</td>\n",
       "    </tr>\n",
       "    <tr>\n",
       "      <th>2018-03-29</th>\n",
       "      <td>72.4509</td>\n",
       "    </tr>\n",
       "  </tbody>\n",
       "</table>\n",
       "</div>"
      ],
      "text/plain": [
       "            adjusted close\n",
       "date                      \n",
       "2018-03-01         72.9954\n",
       "2018-03-02         72.9759\n",
       "2018-03-05         73.8501\n",
       "2018-03-06         74.1804\n",
       "2018-03-07         74.1707\n",
       "2018-03-08         74.5592\n",
       "2018-03-09         76.2008\n",
       "2018-03-12         75.2586\n",
       "2018-03-13         74.8895\n",
       "2018-03-14         74.0736\n",
       "2018-03-15         74.2872\n",
       "2018-03-16         74.6842\n",
       "2018-03-19         74.1088\n",
       "2018-03-20         74.3623\n",
       "2018-03-21         74.4501\n",
       "2018-03-22         71.9925\n",
       "2018-03-23         70.9392\n",
       "2018-03-26         72.6557\n",
       "2018-03-27         71.6512\n",
       "2018-03-28         71.4073\n",
       "2018-03-29         72.4509"
      ]
     },
     "execution_count": 162,
     "metadata": {},
     "output_type": "execute_result"
    }
   ],
   "source": [
    "etf_price_df['2018-03']"
   ]
  },
  {
   "cell_type": "code",
   "execution_count": 163,
   "metadata": {},
   "outputs": [
    {
     "data": {
      "text/html": [
       "<div>\n",
       "<style scoped>\n",
       "    .dataframe tbody tr th:only-of-type {\n",
       "        vertical-align: middle;\n",
       "    }\n",
       "\n",
       "    .dataframe tbody tr th {\n",
       "        vertical-align: top;\n",
       "    }\n",
       "\n",
       "    .dataframe thead th {\n",
       "        text-align: right;\n",
       "    }\n",
       "</style>\n",
       "<table border=\"1\" class=\"dataframe\">\n",
       "  <thead>\n",
       "    <tr style=\"text-align: right;\">\n",
       "      <th></th>\n",
       "      <th>Bearish</th>\n",
       "      <th>Bullish</th>\n",
       "      <th>Bullish_minus_Bearish</th>\n",
       "    </tr>\n",
       "  </thead>\n",
       "  <tbody>\n",
       "    <tr>\n",
       "      <th>2017-04-11</th>\n",
       "      <td>999.0</td>\n",
       "      <td>181.0</td>\n",
       "      <td>-818.0</td>\n",
       "    </tr>\n",
       "    <tr>\n",
       "      <th>2017-09-14</th>\n",
       "      <td>1073.0</td>\n",
       "      <td>267.0</td>\n",
       "      <td>-806.0</td>\n",
       "    </tr>\n",
       "    <tr>\n",
       "      <th>2017-09-15</th>\n",
       "      <td>916.0</td>\n",
       "      <td>285.0</td>\n",
       "      <td>-631.0</td>\n",
       "    </tr>\n",
       "    <tr>\n",
       "      <th>2019-03-13</th>\n",
       "      <td>1552.0</td>\n",
       "      <td>1036.0</td>\n",
       "      <td>-516.0</td>\n",
       "    </tr>\n",
       "    <tr>\n",
       "      <th>2019-03-14</th>\n",
       "      <td>1083.0</td>\n",
       "      <td>705.0</td>\n",
       "      <td>-378.0</td>\n",
       "    </tr>\n",
       "  </tbody>\n",
       "</table>\n",
       "</div>"
      ],
      "text/plain": [
       "            Bearish  Bullish  Bullish_minus_Bearish\n",
       "2017-04-11    999.0    181.0                 -818.0\n",
       "2017-09-14   1073.0    267.0                 -806.0\n",
       "2017-09-15    916.0    285.0                 -631.0\n",
       "2019-03-13   1552.0   1036.0                 -516.0\n",
       "2019-03-14   1083.0    705.0                 -378.0"
      ]
     },
     "execution_count": 163,
     "metadata": {},
     "output_type": "execute_result"
    }
   ],
   "source": [
    "case_study_df = daily_sentiment_agg_df.sort_values('Bullish_minus_Bearish').head(5)\n",
    "case_study_df"
   ]
  },
  {
   "cell_type": "code",
   "execution_count": 164,
   "metadata": {},
   "outputs": [],
   "source": [
    "def get_field_stat_by_ticker(daily_sentiment_df_dict,\n",
    "                             ref_date,\n",
    "                             prev_n_days=1,\n",
    "                             col_name='Bullish_minus_Bearish'):\n",
    "\n",
    "    stat_by_ticker = {}\n",
    "\n",
    "    for t in daily_sentiment_df_dict:\n",
    "        try:\n",
    "            if prev_n_days == 1:\n",
    "                r = daily_sentiment_df_dict[t].loc[ref_date]\n",
    "            else:\n",
    "                prev_date = arrow.get(ref_date).shift(days=-1 * prev_n_days).strftime('%Y-%m-%d')\n",
    "                r = daily_sentiment_df_dict[t].loc[prev_date:ref_date].sum()\n",
    "            stat_by_ticker[t] = r['Bullish_minus_Bearish']\n",
    "        except:\n",
    "            continue\n",
    "            \n",
    "    return stat_by_ticker"
   ]
  },
  {
   "cell_type": "code",
   "execution_count": 165,
   "metadata": {},
   "outputs": [],
   "source": [
    "bear_sentiment_ratio = [] \n",
    "\n",
    "for dt in pd.date_range(start_date, end_date):\n",
    "    weekly_agg = get_field_stat_by_ticker(daily_sentiment_df_dict,\n",
    "                             dt,\n",
    "                             prev_n_days=7)\n",
    "    weekly_agg = pd.Series(weekly_agg)\n",
    "    n_companies_bear = weekly_agg[weekly_agg < -5].count()\n",
    "    bear_sentiment_ratio.append({\n",
    "        'date': dt,\n",
    "        'n_companies_bear': n_companies_bear,\n",
    "    })"
   ]
  },
  {
   "cell_type": "code",
   "execution_count": 166,
   "metadata": {},
   "outputs": [
    {
     "data": {
      "text/plain": [
       "<matplotlib.axes._subplots.AxesSubplot at 0x11f840160>"
      ]
     },
     "execution_count": 166,
     "metadata": {},
     "output_type": "execute_result"
    },
    {
     "data": {
      "image/png": "[encoded data removed]",
      "text/plain": [
       "<Figure size 432x288 with 1 Axes>"
      ]
     },
     "metadata": {
      "needs_background": "light"
     },
     "output_type": "display_data"
    }
   ],
   "source": [
    "pd.DataFrame(bear_sentiment_ratio).set_index('date').plot()"
   ]
  },
  {
   "cell_type": "code",
   "execution_count": 167,
   "metadata": {},
   "outputs": [
    {
     "data": {
      "text/plain": [
       "69"
      ]
     },
     "execution_count": 167,
     "metadata": {},
     "output_type": "execute_result"
    }
   ],
   "source": [
    "weekly_agg.count()"
   ]
  },
  {
   "cell_type": "code",
   "execution_count": null,
   "metadata": {},
   "outputs": [],
   "source": []
  },
  {
   "cell_type": "code",
   "execution_count": 135,
   "metadata": {},
   "outputs": [
    {
     "data": {
      "text/plain": [
       "{'AMG': 6.0,\n",
       " 'AFL': 54.0,\n",
       " 'ALL': 66.0,\n",
       " 'AXP': 139.0,\n",
       " 'AIG': 77.0,\n",
       " 'AMP': 11.0,\n",
       " 'AON': 16.0,\n",
       " 'AJG': 6.0,\n",
       " 'AIZ': -2.0,\n",
       " 'BAC': 1424.0,\n",
       " 'BK': 12.0,\n",
       " 'BBT': 85.0,\n",
       " 'BRK.B': 257.0,\n",
       " 'BLK': 26.0,\n",
       " 'COF': 81.0,\n",
       " 'CBOE': 3.0,\n",
       " 'SCHW': -1.0,\n",
       " 'CB': 3.0,\n",
       " 'CINF': 3.0,\n",
       " 'C': 182.0,\n",
       " 'CFG': 17.0,\n",
       " 'CME': 93.0,\n",
       " 'CMA': 0.0,\n",
       " 'DFS': 96.0,\n",
       " 'ETFC': 30.0,\n",
       " 'RE': 1.0,\n",
       " 'FITB': 28.0,\n",
       " 'FRC': 0.0,\n",
       " 'BEN': 3.0,\n",
       " 'GS': 445.0,\n",
       " 'HIG': 46.0,\n",
       " 'HBAN': 57.0,\n",
       " 'ICE': 4.0,\n",
       " 'IVZ': 9.0,\n",
       " 'JEF': 11.0,\n",
       " 'JPM': 334.0,\n",
       " 'KEY': 35.0,\n",
       " 'LNC': 69.0,\n",
       " 'L': 5.0,\n",
       " 'MTB': 12.0,\n",
       " 'MKTX': 3.0,\n",
       " 'MMC': 9.0,\n",
       " 'MET': 9.0,\n",
       " 'MCO': 8.0,\n",
       " 'MS': 111.0,\n",
       " 'MSCI': 58.0,\n",
       " 'NDAQ': 16.0,\n",
       " 'NTRS': -4.0,\n",
       " 'PBCT': 8.0,\n",
       " 'PNC': 68.0,\n",
       " 'PFG': 15.0,\n",
       " 'PGR': 42.0,\n",
       " 'PRU': 102.0,\n",
       " 'RJF': 7.0,\n",
       " 'RF': 79.0,\n",
       " 'SPGI': 5.0,\n",
       " 'STT': 81.0,\n",
       " 'STI': 96.0,\n",
       " 'SIVB': 28.0,\n",
       " 'SYF': 97.0,\n",
       " 'TROW': 7.0,\n",
       " 'TRV': 74.0,\n",
       " 'USB': 58.0,\n",
       " 'UNM': 4.0,\n",
       " 'WFC': 183.0,\n",
       " 'WLTW': 6.0,\n",
       " 'ZION': 15.0}"
      ]
     },
     "execution_count": 135,
     "metadata": {},
     "output_type": "execute_result"
    }
   ],
   "source": [
    "get_field_stat_by_ticker(daily_sentiment_df_dict,\n",
    "                         '2019-03-30',\n",
    "                         prev_n_days=90)"
   ]
  },
  {
   "cell_type": "code",
   "execution_count": 99,
   "metadata": {},
   "outputs": [],
   "source": [
    "ticker = 'GS'"
   ]
  },
  {
   "cell_type": "code",
   "execution_count": 100,
   "metadata": {},
   "outputs": [],
   "source": [
    "ref_date = '2017-04-10'\n",
    "ref_prev_date = arrow.get(ref_date).shift(months=-1).strftime('%Y-%m-%d')\n",
    "ref_next_date = arrow.get(ref_date).shift(months=1).strftime('%Y-%m-%d')"
   ]
  },
  {
   "cell_type": "code",
   "execution_count": null,
   "metadata": {},
   "outputs": [],
   "source": []
  },
  {
   "cell_type": "code",
   "execution_count": 101,
   "metadata": {},
   "outputs": [],
   "source": [
    "def plot_sentiment_and_price(sentiment_df, price_df,\n",
    "                             title=''):\n",
    "    fig, axes = plt.subplots(2, 1, figsize=(8, 6), sharex=True)\n",
    "\n",
    "    sentiment_df.plot(y=['Bearish', 'Bullish'],\n",
    "                     linewidth=0.8,\n",
    "                     ax=axes[0])\n",
    "    price_df.plot(ax=axes[1])\n",
    "    plt.suptitle(title)"
   ]
  },
  {
   "cell_type": "code",
   "execution_count": 102,
   "metadata": {},
   "outputs": [],
   "source": [
    "case_study_twit_df = twit_file_reader.read_daily_sentiment_summary_prelim(\n",
    "    ticker, start_date=start_date, end_date=end_date)"
   ]
  },
  {
   "cell_type": "code",
   "execution_count": 103,
   "metadata": {},
   "outputs": [],
   "source": [
    "case_study_price_df = stock_file_reader.read_stockdata_in_range(ticker,\n",
    "                                                                start_date,\n",
    "                                                                end_date)"
   ]
  },
  {
   "cell_type": "code",
   "execution_count": 104,
   "metadata": {},
   "outputs": [
    {
     "data": {
      "image/png": "[encoded data removed]",
      "text/plain": [
       "<Figure size 576x432 with 2 Axes>"
      ]
     },
     "metadata": {
      "needs_background": "light"
     },
     "output_type": "display_data"
    }
   ],
   "source": [
    "plot_sentiment_and_price(case_study_twit_df.loc[ref_prev_date:ref_next_date],\n",
    "                         case_study_price_df.loc[ref_prev_date:ref_next_date],\n",
    "                         title=ticker)"
   ]
  },
  {
   "cell_type": "code",
   "execution_count": 106,
   "metadata": {},
   "outputs": [
    {
     "data": {
      "text/html": [
       "<div>\n",
       "<style scoped>\n",
       "    .dataframe tbody tr th:only-of-type {\n",
       "        vertical-align: middle;\n",
       "    }\n",
       "\n",
       "    .dataframe tbody tr th {\n",
       "        vertical-align: top;\n",
       "    }\n",
       "\n",
       "    .dataframe thead th {\n",
       "        text-align: right;\n",
       "    }\n",
       "</style>\n",
       "<table border=\"1\" class=\"dataframe\">\n",
       "  <thead>\n",
       "    <tr style=\"text-align: right;\">\n",
       "      <th></th>\n",
       "      <th>Bearish</th>\n",
       "      <th>Bullish</th>\n",
       "    </tr>\n",
       "  </thead>\n",
       "  <tbody>\n",
       "    <tr>\n",
       "      <th>2017-04-03</th>\n",
       "      <td>8.0</td>\n",
       "      <td>18.0</td>\n",
       "    </tr>\n",
       "    <tr>\n",
       "      <th>2017-04-04</th>\n",
       "      <td>7.0</td>\n",
       "      <td>15.0</td>\n",
       "    </tr>\n",
       "    <tr>\n",
       "      <th>2017-04-05</th>\n",
       "      <td>8.0</td>\n",
       "      <td>13.0</td>\n",
       "    </tr>\n",
       "    <tr>\n",
       "      <th>2017-04-06</th>\n",
       "      <td>72.0</td>\n",
       "      <td>35.0</td>\n",
       "    </tr>\n",
       "    <tr>\n",
       "      <th>2017-04-07</th>\n",
       "      <td>897.0</td>\n",
       "      <td>85.0</td>\n",
       "    </tr>\n",
       "    <tr>\n",
       "      <th>2017-04-10</th>\n",
       "      <td>826.0</td>\n",
       "      <td>75.0</td>\n",
       "    </tr>\n",
       "    <tr>\n",
       "      <th>2017-04-11</th>\n",
       "      <td>92.0</td>\n",
       "      <td>18.0</td>\n",
       "    </tr>\n",
       "    <tr>\n",
       "      <th>2017-04-12</th>\n",
       "      <td>54.0</td>\n",
       "      <td>12.0</td>\n",
       "    </tr>\n",
       "    <tr>\n",
       "      <th>2017-04-13</th>\n",
       "      <td>58.0</td>\n",
       "      <td>23.0</td>\n",
       "    </tr>\n",
       "    <tr>\n",
       "      <th>2017-04-14</th>\n",
       "      <td>22.0</td>\n",
       "      <td>3.0</td>\n",
       "    </tr>\n",
       "    <tr>\n",
       "      <th>2017-04-17</th>\n",
       "      <td>32.0</td>\n",
       "      <td>14.0</td>\n",
       "    </tr>\n",
       "    <tr>\n",
       "      <th>2017-04-18</th>\n",
       "      <td>279.0</td>\n",
       "      <td>71.0</td>\n",
       "    </tr>\n",
       "    <tr>\n",
       "      <th>2017-04-19</th>\n",
       "      <td>116.0</td>\n",
       "      <td>57.0</td>\n",
       "    </tr>\n",
       "    <tr>\n",
       "      <th>2017-04-20</th>\n",
       "      <td>36.0</td>\n",
       "      <td>41.0</td>\n",
       "    </tr>\n",
       "    <tr>\n",
       "      <th>2017-04-21</th>\n",
       "      <td>19.0</td>\n",
       "      <td>18.0</td>\n",
       "    </tr>\n",
       "    <tr>\n",
       "      <th>2017-04-24</th>\n",
       "      <td>25.0</td>\n",
       "      <td>35.0</td>\n",
       "    </tr>\n",
       "    <tr>\n",
       "      <th>2017-04-25</th>\n",
       "      <td>21.0</td>\n",
       "      <td>17.0</td>\n",
       "    </tr>\n",
       "    <tr>\n",
       "      <th>2017-04-26</th>\n",
       "      <td>19.0</td>\n",
       "      <td>18.0</td>\n",
       "    </tr>\n",
       "    <tr>\n",
       "      <th>2017-04-27</th>\n",
       "      <td>41.0</td>\n",
       "      <td>10.0</td>\n",
       "    </tr>\n",
       "    <tr>\n",
       "      <th>2017-04-28</th>\n",
       "      <td>15.0</td>\n",
       "      <td>13.0</td>\n",
       "    </tr>\n",
       "    <tr>\n",
       "      <th>2017-05-01</th>\n",
       "      <td>11.0</td>\n",
       "      <td>11.0</td>\n",
       "    </tr>\n",
       "    <tr>\n",
       "      <th>2017-05-02</th>\n",
       "      <td>17.0</td>\n",
       "      <td>8.0</td>\n",
       "    </tr>\n",
       "    <tr>\n",
       "      <th>2017-05-03</th>\n",
       "      <td>13.0</td>\n",
       "      <td>18.0</td>\n",
       "    </tr>\n",
       "    <tr>\n",
       "      <th>2017-05-04</th>\n",
       "      <td>7.0</td>\n",
       "      <td>13.0</td>\n",
       "    </tr>\n",
       "    <tr>\n",
       "      <th>2017-05-05</th>\n",
       "      <td>7.0</td>\n",
       "      <td>8.0</td>\n",
       "    </tr>\n",
       "    <tr>\n",
       "      <th>2017-05-08</th>\n",
       "      <td>9.0</td>\n",
       "      <td>15.0</td>\n",
       "    </tr>\n",
       "    <tr>\n",
       "      <th>2017-05-09</th>\n",
       "      <td>12.0</td>\n",
       "      <td>9.0</td>\n",
       "    </tr>\n",
       "    <tr>\n",
       "      <th>2017-05-10</th>\n",
       "      <td>4.0</td>\n",
       "      <td>14.0</td>\n",
       "    </tr>\n",
       "    <tr>\n",
       "      <th>2017-05-11</th>\n",
       "      <td>18.0</td>\n",
       "      <td>11.0</td>\n",
       "    </tr>\n",
       "    <tr>\n",
       "      <th>2017-05-12</th>\n",
       "      <td>12.0</td>\n",
       "      <td>8.0</td>\n",
       "    </tr>\n",
       "    <tr>\n",
       "      <th>...</th>\n",
       "      <td>...</td>\n",
       "      <td>...</td>\n",
       "    </tr>\n",
       "    <tr>\n",
       "      <th>2019-07-01</th>\n",
       "      <td>1.0</td>\n",
       "      <td>12.0</td>\n",
       "    </tr>\n",
       "    <tr>\n",
       "      <th>2019-07-02</th>\n",
       "      <td>1.0</td>\n",
       "      <td>5.0</td>\n",
       "    </tr>\n",
       "    <tr>\n",
       "      <th>2019-07-03</th>\n",
       "      <td>0.0</td>\n",
       "      <td>8.0</td>\n",
       "    </tr>\n",
       "    <tr>\n",
       "      <th>2019-07-04</th>\n",
       "      <td>0.0</td>\n",
       "      <td>3.0</td>\n",
       "    </tr>\n",
       "    <tr>\n",
       "      <th>2019-07-05</th>\n",
       "      <td>1.0</td>\n",
       "      <td>12.0</td>\n",
       "    </tr>\n",
       "    <tr>\n",
       "      <th>2019-07-08</th>\n",
       "      <td>4.0</td>\n",
       "      <td>19.0</td>\n",
       "    </tr>\n",
       "    <tr>\n",
       "      <th>2019-07-09</th>\n",
       "      <td>3.0</td>\n",
       "      <td>2.0</td>\n",
       "    </tr>\n",
       "    <tr>\n",
       "      <th>2019-07-10</th>\n",
       "      <td>8.0</td>\n",
       "      <td>5.0</td>\n",
       "    </tr>\n",
       "    <tr>\n",
       "      <th>2019-07-11</th>\n",
       "      <td>0.0</td>\n",
       "      <td>17.0</td>\n",
       "    </tr>\n",
       "    <tr>\n",
       "      <th>2019-07-12</th>\n",
       "      <td>1.0</td>\n",
       "      <td>22.0</td>\n",
       "    </tr>\n",
       "    <tr>\n",
       "      <th>2019-07-15</th>\n",
       "      <td>3.0</td>\n",
       "      <td>38.0</td>\n",
       "    </tr>\n",
       "    <tr>\n",
       "      <th>2019-07-16</th>\n",
       "      <td>6.0</td>\n",
       "      <td>61.0</td>\n",
       "    </tr>\n",
       "    <tr>\n",
       "      <th>2019-07-17</th>\n",
       "      <td>2.0</td>\n",
       "      <td>12.0</td>\n",
       "    </tr>\n",
       "    <tr>\n",
       "      <th>2019-07-18</th>\n",
       "      <td>2.0</td>\n",
       "      <td>19.0</td>\n",
       "    </tr>\n",
       "    <tr>\n",
       "      <th>2019-07-19</th>\n",
       "      <td>2.0</td>\n",
       "      <td>7.0</td>\n",
       "    </tr>\n",
       "    <tr>\n",
       "      <th>2019-07-22</th>\n",
       "      <td>4.0</td>\n",
       "      <td>10.0</td>\n",
       "    </tr>\n",
       "    <tr>\n",
       "      <th>2019-07-23</th>\n",
       "      <td>1.0</td>\n",
       "      <td>12.0</td>\n",
       "    </tr>\n",
       "    <tr>\n",
       "      <th>2019-07-24</th>\n",
       "      <td>8.0</td>\n",
       "      <td>18.0</td>\n",
       "    </tr>\n",
       "    <tr>\n",
       "      <th>2019-07-25</th>\n",
       "      <td>6.0</td>\n",
       "      <td>5.0</td>\n",
       "    </tr>\n",
       "    <tr>\n",
       "      <th>2019-07-26</th>\n",
       "      <td>1.0</td>\n",
       "      <td>7.0</td>\n",
       "    </tr>\n",
       "    <tr>\n",
       "      <th>2019-07-29</th>\n",
       "      <td>2.0</td>\n",
       "      <td>10.0</td>\n",
       "    </tr>\n",
       "    <tr>\n",
       "      <th>2019-07-30</th>\n",
       "      <td>9.0</td>\n",
       "      <td>6.0</td>\n",
       "    </tr>\n",
       "    <tr>\n",
       "      <th>2019-07-31</th>\n",
       "      <td>0.0</td>\n",
       "      <td>10.0</td>\n",
       "    </tr>\n",
       "    <tr>\n",
       "      <th>2019-08-01</th>\n",
       "      <td>3.0</td>\n",
       "      <td>3.0</td>\n",
       "    </tr>\n",
       "    <tr>\n",
       "      <th>2019-08-02</th>\n",
       "      <td>8.0</td>\n",
       "      <td>4.0</td>\n",
       "    </tr>\n",
       "    <tr>\n",
       "      <th>2019-08-05</th>\n",
       "      <td>3.0</td>\n",
       "      <td>6.0</td>\n",
       "    </tr>\n",
       "    <tr>\n",
       "      <th>2019-08-06</th>\n",
       "      <td>3.0</td>\n",
       "      <td>2.0</td>\n",
       "    </tr>\n",
       "    <tr>\n",
       "      <th>2019-08-07</th>\n",
       "      <td>11.0</td>\n",
       "      <td>4.0</td>\n",
       "    </tr>\n",
       "    <tr>\n",
       "      <th>2019-08-08</th>\n",
       "      <td>4.0</td>\n",
       "      <td>3.0</td>\n",
       "    </tr>\n",
       "    <tr>\n",
       "      <th>2019-08-09</th>\n",
       "      <td>4.0</td>\n",
       "      <td>5.0</td>\n",
       "    </tr>\n",
       "  </tbody>\n",
       "</table>\n",
       "<p>615 rows × 2 columns</p>\n",
       "</div>"
      ],
      "text/plain": [
       "            Bearish  Bullish\n",
       "2017-04-03      8.0     18.0\n",
       "2017-04-04      7.0     15.0\n",
       "2017-04-05      8.0     13.0\n",
       "2017-04-06     72.0     35.0\n",
       "2017-04-07    897.0     85.0\n",
       "2017-04-10    826.0     75.0\n",
       "2017-04-11     92.0     18.0\n",
       "2017-04-12     54.0     12.0\n",
       "2017-04-13     58.0     23.0\n",
       "2017-04-14     22.0      3.0\n",
       "2017-04-17     32.0     14.0\n",
       "2017-04-18    279.0     71.0\n",
       "2017-04-19    116.0     57.0\n",
       "2017-04-20     36.0     41.0\n",
       "2017-04-21     19.0     18.0\n",
       "2017-04-24     25.0     35.0\n",
       "2017-04-25     21.0     17.0\n",
       "2017-04-26     19.0     18.0\n",
       "2017-04-27     41.0     10.0\n",
       "2017-04-28     15.0     13.0\n",
       "2017-05-01     11.0     11.0\n",
       "2017-05-02     17.0      8.0\n",
       "2017-05-03     13.0     18.0\n",
       "2017-05-04      7.0     13.0\n",
       "2017-05-05      7.0      8.0\n",
       "2017-05-08      9.0     15.0\n",
       "2017-05-09     12.0      9.0\n",
       "2017-05-10      4.0     14.0\n",
       "2017-05-11     18.0     11.0\n",
       "2017-05-12     12.0      8.0\n",
       "...             ...      ...\n",
       "2019-07-01      1.0     12.0\n",
       "2019-07-02      1.0      5.0\n",
       "2019-07-03      0.0      8.0\n",
       "2019-07-04      0.0      3.0\n",
       "2019-07-05      1.0     12.0\n",
       "2019-07-08      4.0     19.0\n",
       "2019-07-09      3.0      2.0\n",
       "2019-07-10      8.0      5.0\n",
       "2019-07-11      0.0     17.0\n",
       "2019-07-12      1.0     22.0\n",
       "2019-07-15      3.0     38.0\n",
       "2019-07-16      6.0     61.0\n",
       "2019-07-17      2.0     12.0\n",
       "2019-07-18      2.0     19.0\n",
       "2019-07-19      2.0      7.0\n",
       "2019-07-22      4.0     10.0\n",
       "2019-07-23      1.0     12.0\n",
       "2019-07-24      8.0     18.0\n",
       "2019-07-25      6.0      5.0\n",
       "2019-07-26      1.0      7.0\n",
       "2019-07-29      2.0     10.0\n",
       "2019-07-30      9.0      6.0\n",
       "2019-07-31      0.0     10.0\n",
       "2019-08-01      3.0      3.0\n",
       "2019-08-02      8.0      4.0\n",
       "2019-08-05      3.0      6.0\n",
       "2019-08-06      3.0      2.0\n",
       "2019-08-07     11.0      4.0\n",
       "2019-08-08      4.0      3.0\n",
       "2019-08-09      4.0      5.0\n",
       "\n",
       "[615 rows x 2 columns]"
      ]
     },
     "execution_count": 106,
     "metadata": {},
     "output_type": "execute_result"
    }
   ],
   "source": [
    "case_study_twit_df.loc['2017-04':]"
   ]
  },
  {
   "cell_type": "code",
   "execution_count": null,
   "metadata": {},
   "outputs": [],
   "source": []
  },
  {
   "cell_type": "code",
   "execution_count": null,
   "metadata": {},
   "outputs": [],
   "source": []
  },
  {
   "cell_type": "code",
   "execution_count": null,
   "metadata": {},
   "outputs": [],
   "source": []
  },
  {
   "cell_type": "code",
   "execution_count": null,
   "metadata": {},
   "outputs": [],
   "source": []
  },
  {
   "cell_type": "code",
   "execution_count": null,
   "metadata": {},
   "outputs": [],
   "source": [
    "merged = daily_sentiment_agg_df.merge(etf_price_df,\n",
    "                                      how='left',\n",
    "                                      left_index=True,\n",
    "                                      right_index=True)"
   ]
  },
  {
   "cell_type": "code",
   "execution_count": null,
   "metadata": {},
   "outputs": [],
   "source": [
    "merged.plot(secondary_y='adjusted close')"
   ]
  },
  {
   "cell_type": "code",
   "execution_count": null,
   "metadata": {},
   "outputs": [],
   "source": [
    "etf_price_df.plot()"
   ]
  },
  {
   "cell_type": "code",
   "execution_count": null,
   "metadata": {},
   "outputs": [],
   "source": [
    "daily_sentiment_agg_df['Bullish_minus_Bearish'] = daily_sentiment_agg_df['Bullish'] - daily_sentiment_agg_df['Bearish']"
   ]
  },
  {
   "cell_type": "code",
   "execution_count": null,
   "metadata": {},
   "outputs": [],
   "source": [
    "daily_sentiment_agg_df.sort_values('Bullish_minus_Bearish').head(20)"
   ]
  },
  {
   "cell_type": "code",
   "execution_count": null,
   "metadata": {},
   "outputs": [],
   "source": [
    "etf_ticker"
   ]
  },
  {
   "cell_type": "code",
   "execution_count": null,
   "metadata": {},
   "outputs": [],
   "source": []
  },
  {
   "cell_type": "code",
   "execution_count": null,
   "metadata": {},
   "outputs": [],
   "source": [
    "ref_date = '2017-04-07'"
   ]
  },
  {
   "cell_type": "code",
   "execution_count": null,
   "metadata": {},
   "outputs": [],
   "source": [
    "stat_by_ticker = {}\n",
    "\n",
    "for t in daily_sentiment_df_dict:\n",
    "    try:\n",
    "        r = daily_sentiment_df_dict[t].loc[ref_date]\n",
    "        stat_by_ticker[t] = r['Bullish_minus_Bearish']\n",
    "    except:\n",
    "        continue"
   ]
  },
  {
   "cell_type": "code",
   "execution_count": null,
   "metadata": {},
   "outputs": [],
   "source": [
    "stat_by_ticker"
   ]
  },
  {
   "cell_type": "code",
   "execution_count": null,
   "metadata": {},
   "outputs": [],
   "source": [
    "ticker = 'GS'"
   ]
  },
  {
   "cell_type": "code",
   "execution_count": null,
   "metadata": {},
   "outputs": [],
   "source": [
    "stock_price_df = stock_file_reader.read_stockdata_in_range(ticker,\n",
    "                                                           start_date,\n",
    "                                                           end_date)"
   ]
  },
  {
   "cell_type": "code",
   "execution_count": null,
   "metadata": {},
   "outputs": [],
   "source": [
    "temp = twit_file_reader.read_twit_file_in_range(ticker,\n",
    "                                                '2017-04-07', \n",
    "                                                '2017-04-07')"
   ]
  },
  {
   "cell_type": "code",
   "execution_count": null,
   "metadata": {},
   "outputs": [],
   "source": [
    "daily_sentiment_df_dict[ticker].loc['2017-04':].head(10)"
   ]
  },
  {
   "cell_type": "code",
   "execution_count": null,
   "metadata": {},
   "outputs": [],
   "source": [
    "stock_price_df.loc['2017-04-01':].head(15)"
   ]
  },
  {
   "cell_type": "code",
   "execution_count": null,
   "metadata": {},
   "outputs": [],
   "source": [
    "# temp[temp['entities.sentiment.basic'] == 'Bullish']['body'].values"
   ]
  },
  {
   "cell_type": "code",
   "execution_count": null,
   "metadata": {},
   "outputs": [],
   "source": [
    "stock_price_df.index"
   ]
  },
  {
   "cell_type": "code",
   "execution_count": null,
   "metadata": {},
   "outputs": [],
   "source": [
    "temp[temp['entities.sentiment.basic']=='Bearish'].sample(20)['body'].values"
   ]
  },
  {
   "cell_type": "code",
   "execution_count": null,
   "metadata": {},
   "outputs": [],
   "source": []
  }
 ],
 "metadata": {
  "kernelspec": {
   "display_name": "Python 3",
   "language": "python",
   "name": "python3"
  },
  "language_info": {
   "codemirror_mode": {
    "name": "ipython",
    "version": 3
   },
   "file_extension": ".py",
   "mimetype": "text/x-python",
   "name": "python",
   "nbconvert_exporter": "python",
   "pygments_lexer": "ipython3",
   "version": "3.6.5"
  }
 },
 "nbformat": 4,
 "nbformat_minor": 2
}
