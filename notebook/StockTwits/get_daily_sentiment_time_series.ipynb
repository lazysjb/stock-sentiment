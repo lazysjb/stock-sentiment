{
 "cells": [
  {
   "cell_type": "code",
   "execution_count": null,
   "metadata": {},
   "outputs": [],
   "source": [
    "%load_ext autoreload\n",
    "%autoreload 2"
   ]
  },
  {
   "cell_type": "code",
   "execution_count": null,
   "metadata": {},
   "outputs": [],
   "source": [
    "import sys\n",
    "sys.path.append('../../')"
   ]
  },
  {
   "cell_type": "code",
   "execution_count": 3,
   "metadata": {},
   "outputs": [],
   "source": [
    "import datetime\n",
    "import arrow\n",
    "import os\n",
    "import pandas as pd\n",
    "import warnings\n",
    "import time\n",
    "\n",
    "from tqdm import tqdm\n",
    "\n",
    "from util.file_util import StockTwitsFileReader\n",
    "from util.stocktwits_helper import (\n",
    "    get_est_market_datetime, get_daily_sentiment_count_df,\n",
    "    get_all_stocktwits_tickers)"
   ]
  },
  {
   "cell_type": "code",
   "execution_count": 4,
   "metadata": {},
   "outputs": [],
   "source": [
    "from arrow.factory import ArrowParseWarning"
   ]
  },
  {
   "cell_type": "code",
   "execution_count": 5,
   "metadata": {},
   "outputs": [],
   "source": [
    "# Disable Arrow warnings per https://github.com/crsmithdev/arrow/issues/612\n",
    "warnings.simplefilter(\"ignore\", ArrowParseWarning)"
   ]
  },
  {
   "cell_type": "code",
   "execution_count": 6,
   "metadata": {},
   "outputs": [],
   "source": [
    "stock_twits_reader = StockTwitsFileReader()"
   ]
  },
  {
   "cell_type": "code",
   "execution_count": null,
   "metadata": {},
   "outputs": [],
   "source": [
    "ticker = 'NVDA'"
   ]
  },
  {
   "cell_type": "code",
   "execution_count": null,
   "metadata": {},
   "outputs": [],
   "source": [
    "start_date = '2014-01-01'\n",
    "end_date = '2018-03-30'"
   ]
  },
  {
   "cell_type": "code",
   "execution_count": null,
   "metadata": {},
   "outputs": [],
   "source": [
    "df = stock_twits_reader.read_twit_file_in_range(ticker, start_date, end_date, cols='default')"
   ]
  },
  {
   "cell_type": "code",
   "execution_count": null,
   "metadata": {},
   "outputs": [],
   "source": [
    "daily_sentiment_df = get_daily_sentiment_count_df(df)"
   ]
  },
  {
   "cell_type": "code",
   "execution_count": null,
   "metadata": {},
   "outputs": [],
   "source": [
    "df[['date_est', 'created_at_est', 'mkt_date']].head(10)"
   ]
  },
  {
   "cell_type": "code",
   "execution_count": null,
   "metadata": {},
   "outputs": [],
   "source": []
  },
  {
   "cell_type": "markdown",
   "metadata": {},
   "source": [
    "## Save down sentiment time series"
   ]
  },
  {
   "cell_type": "code",
   "execution_count": 7,
   "metadata": {},
   "outputs": [],
   "source": [
    "start_date = '2016-01-01'\n",
    "end_date = '2019-08-10'"
   ]
  },
  {
   "cell_type": "markdown",
   "metadata": {},
   "source": [
    "#### Run this for all tickers"
   ]
  },
  {
   "cell_type": "code",
   "execution_count": 8,
   "metadata": {},
   "outputs": [],
   "source": [
    "from config import STOCKTWITS_TICKER_LIST"
   ]
  },
  {
   "cell_type": "code",
   "execution_count": 9,
   "metadata": {},
   "outputs": [
    {
     "data": {
      "text/plain": [
       "502"
      ]
     },
     "execution_count": 9,
     "metadata": {},
     "output_type": "execute_result"
    }
   ],
   "source": [
    "ticker_list = STOCKTWITS_TICKER_LIST\n",
    "len(ticker_list)"
   ]
  },
  {
   "cell_type": "code",
   "execution_count": 10,
   "metadata": {},
   "outputs": [],
   "source": [
    "# ticker_list = get_all_stocktwits_tickers()\n",
    "# ticker_list = [\n",
    "#     'UBER',  # Uber\n",
    "#     'LYFT',  # Lyft\n",
    "#     'WORK',  # Slack\n",
    "#     'ZM',  # Zoom\n",
    "#     'PINS',  # Pinterest\n",
    "#     'CHWY',  # Chewy\n",
    "#     'CRWD',  # Crowdstrike\n",
    "# ]"
   ]
  },
  {
   "cell_type": "code",
   "execution_count": 11,
   "metadata": {},
   "outputs": [
    {
     "data": {
      "text/plain": [
       "'/Users/seung-jae_bang/Personal/Research/Stock_Sentiment/data/Stocktwits/processed/sentiment_summary_prelim_new'"
      ]
     },
     "execution_count": 11,
     "metadata": {},
     "output_type": "execute_result"
    }
   ],
   "source": [
    "root_dir = stock_twits_reader.get_root_dir()\n",
    "save_dir = os.path.join(root_dir, 'processed', 'sentiment_summary_prelim_new')\n",
    "save_dir"
   ]
  },
  {
   "cell_type": "code",
   "execution_count": 12,
   "metadata": {},
   "outputs": [
    {
     "data": {
      "text/plain": [
       "'/Users/seung-jae_bang/Personal/Research/Stock_Sentiment/data/Stocktwits/processed/sentiment_summary_prelim_new/{ticker}_sentiment_summary.pkl'"
      ]
     },
     "execution_count": 12,
     "metadata": {},
     "output_type": "execute_result"
    }
   ],
   "source": [
    "save_file_format = '{ticker}_sentiment_summary.pkl'\n",
    "save_path_format = os.path.join(save_dir, save_file_format)\n",
    "save_path_format"
   ]
  },
  {
   "cell_type": "code",
   "execution_count": 13,
   "metadata": {},
   "outputs": [
    {
     "name": "stderr",
     "output_type": "stream",
     "text": [
      "100%|██████████| 502/502 [3:02:23<00:00, 21.80s/it]\n"
     ]
    }
   ],
   "source": [
    "for t in tqdm(ticker_list):\n",
    "    save_file_path = save_path_format.format(ticker=t)\n",
    "    \n",
    "    if os.path.exists(save_file_path):\n",
    "        continue\n",
    "    \n",
    "    tic = time.time()\n",
    "    \n",
    "    raw_df = stock_twits_reader.read_twit_file_in_range(t, start_date, end_date, cols='default')\n",
    "    daily_sentiment_df = get_daily_sentiment_count_df(raw_df)\n",
    "    daily_sentiment_df.to_pickle(save_file_path)\n",
    "    \n",
    "    toc = time.time()\n",
    "#     print('Run for {} took {} mins'.format(t, (toc - tic) / 60))"
   ]
  },
  {
   "cell_type": "code",
   "execution_count": null,
   "metadata": {},
   "outputs": [],
   "source": []
  },
  {
   "cell_type": "code",
   "execution_count": null,
   "metadata": {},
   "outputs": [],
   "source": []
  }
 ],
 "metadata": {
  "kernelspec": {
   "display_name": "Python 3",
   "language": "python",
   "name": "python3"
  },
  "language_info": {
   "codemirror_mode": {
    "name": "ipython",
    "version": 3
   },
   "file_extension": ".py",
   "mimetype": "text/x-python",
   "name": "python",
   "nbconvert_exporter": "python",
   "pygments_lexer": "ipython3",
   "version": "3.6.5"
  }
 },
 "nbformat": 4,
 "nbformat_minor": 2
}
