{
 "cells": [
  {
   "cell_type": "code",
   "execution_count": 1,
   "metadata": {},
   "outputs": [],
   "source": [
    "%load_ext autoreload\n",
    "%autoreload 2"
   ]
  },
  {
   "cell_type": "code",
   "execution_count": 2,
   "metadata": {},
   "outputs": [],
   "source": [
    "import sys\n",
    "sys.path.append('../../')"
   ]
  },
  {
   "cell_type": "code",
   "execution_count": 3,
   "metadata": {},
   "outputs": [],
   "source": [
    "from glob import glob\n",
    "import os\n",
    "import time\n",
    "\n",
    "import pandas as pd\n",
    "import matplotlib\n",
    "import matplotlib.pyplot as plt\n",
    "%matplotlib inline\n",
    "from tqdm import tqdm\n",
    "\n",
    "from util.file_util import StockTwitsFileReader"
   ]
  },
  {
   "cell_type": "code",
   "execution_count": 4,
   "metadata": {},
   "outputs": [],
   "source": [
    "pd.set_option('display.max_rows', 200)\n",
    "pd.set_option('display.max_colwidth', 150)"
   ]
  },
  {
   "cell_type": "code",
   "execution_count": 5,
   "metadata": {},
   "outputs": [],
   "source": [
    "file_reader = StockTwitsFileReader()"
   ]
  },
  {
   "cell_type": "code",
   "execution_count": 6,
   "metadata": {},
   "outputs": [],
   "source": [
    "date = '2019-08-09'\n",
    "ticker = 'SHAK'"
   ]
  },
  {
   "cell_type": "code",
   "execution_count": 7,
   "metadata": {},
   "outputs": [],
   "source": [
    "temp_df = file_reader.read_twit_file(ticker, date)"
   ]
  },
  {
   "cell_type": "code",
   "execution_count": 8,
   "metadata": {},
   "outputs": [
    {
     "data": {
      "text/html": [
       "<div>\n",
       "<style scoped>\n",
       "    .dataframe tbody tr th:only-of-type {\n",
       "        vertical-align: middle;\n",
       "    }\n",
       "\n",
       "    .dataframe tbody tr th {\n",
       "        vertical-align: top;\n",
       "    }\n",
       "\n",
       "    .dataframe thead th {\n",
       "        text-align: right;\n",
       "    }\n",
       "</style>\n",
       "<table border=\"1\" class=\"dataframe\">\n",
       "  <thead>\n",
       "    <tr style=\"text-align: right;\">\n",
       "      <th></th>\n",
       "      <th>0</th>\n",
       "      <th>1</th>\n",
       "    </tr>\n",
       "  </thead>\n",
       "  <tbody>\n",
       "    <tr>\n",
       "      <th>body</th>\n",
       "      <td>$SHAK CLDR Boys next call on Monday after the drop . One to look at anyways 👍</td>\n",
       "      <td>$SHAK new insider selling: 40987 shares. http://insiderbuyingselling.com/?t=SHAK</td>\n",
       "    </tr>\n",
       "    <tr>\n",
       "      <th>conversation.in_reply_to_message_id</th>\n",
       "      <td>NaN</td>\n",
       "      <td>NaN</td>\n",
       "    </tr>\n",
       "    <tr>\n",
       "      <th>conversation.parent</th>\n",
       "      <td>NaN</td>\n",
       "      <td>NaN</td>\n",
       "    </tr>\n",
       "    <tr>\n",
       "      <th>conversation.parent_message_id</th>\n",
       "      <td>NaN</td>\n",
       "      <td>NaN</td>\n",
       "    </tr>\n",
       "    <tr>\n",
       "      <th>conversation.replies</th>\n",
       "      <td>NaN</td>\n",
       "      <td>NaN</td>\n",
       "    </tr>\n",
       "    <tr>\n",
       "      <th>created_at</th>\n",
       "      <td>2019-08-10 03:46:47</td>\n",
       "      <td>2019-08-10 00:41:37</td>\n",
       "    </tr>\n",
       "    <tr>\n",
       "      <th>created_at_est</th>\n",
       "      <td>2019-08-09 23:46:47</td>\n",
       "      <td>2019-08-09 20:41:37</td>\n",
       "    </tr>\n",
       "    <tr>\n",
       "      <th>date_est</th>\n",
       "      <td>2019-08-09</td>\n",
       "      <td>2019-08-09</td>\n",
       "    </tr>\n",
       "    <tr>\n",
       "      <th>entities.chart.large</th>\n",
       "      <td>None</td>\n",
       "      <td>None</td>\n",
       "    </tr>\n",
       "    <tr>\n",
       "      <th>entities.chart.original</th>\n",
       "      <td>None</td>\n",
       "      <td>None</td>\n",
       "    </tr>\n",
       "    <tr>\n",
       "      <th>entities.chart.thumb</th>\n",
       "      <td>None</td>\n",
       "      <td>None</td>\n",
       "    </tr>\n",
       "    <tr>\n",
       "      <th>entities.chart.url</th>\n",
       "      <td>None</td>\n",
       "      <td>None</td>\n",
       "    </tr>\n",
       "    <tr>\n",
       "      <th>entities.sentiment</th>\n",
       "      <td>NaN</td>\n",
       "      <td>NaN</td>\n",
       "    </tr>\n",
       "    <tr>\n",
       "      <th>entities.sentiment.basic</th>\n",
       "      <td>None</td>\n",
       "      <td>None</td>\n",
       "    </tr>\n",
       "    <tr>\n",
       "      <th>id</th>\n",
       "      <td>173670691</td>\n",
       "      <td>173662866</td>\n",
       "    </tr>\n",
       "    <tr>\n",
       "      <th>liked_by_self</th>\n",
       "      <td>False</td>\n",
       "      <td>False</td>\n",
       "    </tr>\n",
       "    <tr>\n",
       "      <th>likes.total</th>\n",
       "      <td>1</td>\n",
       "      <td>NaN</td>\n",
       "    </tr>\n",
       "    <tr>\n",
       "      <th>likes.user_ids</th>\n",
       "      <td>[468764]</td>\n",
       "      <td>None</td>\n",
       "    </tr>\n",
       "    <tr>\n",
       "      <th>links</th>\n",
       "      <td>None</td>\n",
       "      <td>[{'title': 'Tracking insider buying and selling stocks for Shake Shack Inc. ( SHAK )', 'url': 'http://insiderbuyingselling.com/?t=SHAK', 'shortene...</td>\n",
       "    </tr>\n",
       "    <tr>\n",
       "      <th>mentioned_users</th>\n",
       "      <td>[]</td>\n",
       "      <td>[]</td>\n",
       "    </tr>\n",
       "    <tr>\n",
       "      <th>reshare_message.message.body</th>\n",
       "      <td>NaN</td>\n",
       "      <td>NaN</td>\n",
       "    </tr>\n",
       "    <tr>\n",
       "      <th>reshare_message.message.conversation.in_reply_to_message_id</th>\n",
       "      <td>NaN</td>\n",
       "      <td>NaN</td>\n",
       "    </tr>\n",
       "    <tr>\n",
       "      <th>reshare_message.message.conversation.parent</th>\n",
       "      <td>NaN</td>\n",
       "      <td>NaN</td>\n",
       "    </tr>\n",
       "    <tr>\n",
       "      <th>reshare_message.message.conversation.parent_message_id</th>\n",
       "      <td>NaN</td>\n",
       "      <td>NaN</td>\n",
       "    </tr>\n",
       "    <tr>\n",
       "      <th>reshare_message.message.conversation.replies</th>\n",
       "      <td>NaN</td>\n",
       "      <td>NaN</td>\n",
       "    </tr>\n",
       "    <tr>\n",
       "      <th>reshare_message.message.created_at</th>\n",
       "      <td>NaT</td>\n",
       "      <td>NaT</td>\n",
       "    </tr>\n",
       "    <tr>\n",
       "      <th>reshare_message.message.entities.chart.large</th>\n",
       "      <td>NaN</td>\n",
       "      <td>NaN</td>\n",
       "    </tr>\n",
       "    <tr>\n",
       "      <th>reshare_message.message.entities.chart.original</th>\n",
       "      <td>NaN</td>\n",
       "      <td>NaN</td>\n",
       "    </tr>\n",
       "    <tr>\n",
       "      <th>reshare_message.message.entities.chart.thumb</th>\n",
       "      <td>NaN</td>\n",
       "      <td>NaN</td>\n",
       "    </tr>\n",
       "    <tr>\n",
       "      <th>reshare_message.message.entities.chart.url</th>\n",
       "      <td>NaN</td>\n",
       "      <td>NaN</td>\n",
       "    </tr>\n",
       "    <tr>\n",
       "      <th>reshare_message.message.entities.sentiment</th>\n",
       "      <td>NaN</td>\n",
       "      <td>NaN</td>\n",
       "    </tr>\n",
       "    <tr>\n",
       "      <th>reshare_message.message.entities.sentiment.basic</th>\n",
       "      <td>NaN</td>\n",
       "      <td>NaN</td>\n",
       "    </tr>\n",
       "    <tr>\n",
       "      <th>reshare_message.message.id</th>\n",
       "      <td>NaN</td>\n",
       "      <td>NaN</td>\n",
       "    </tr>\n",
       "    <tr>\n",
       "      <th>reshare_message.message.likes.total</th>\n",
       "      <td>NaN</td>\n",
       "      <td>NaN</td>\n",
       "    </tr>\n",
       "    <tr>\n",
       "      <th>reshare_message.message.likes.user_ids</th>\n",
       "      <td>NaN</td>\n",
       "      <td>NaN</td>\n",
       "    </tr>\n",
       "    <tr>\n",
       "      <th>reshare_message.message.links</th>\n",
       "      <td>NaN</td>\n",
       "      <td>NaN</td>\n",
       "    </tr>\n",
       "    <tr>\n",
       "      <th>reshare_message.message.mentioned_users</th>\n",
       "      <td>NaN</td>\n",
       "      <td>NaN</td>\n",
       "    </tr>\n",
       "    <tr>\n",
       "      <th>reshare_message.message.source.id</th>\n",
       "      <td>NaN</td>\n",
       "      <td>NaN</td>\n",
       "    </tr>\n",
       "    <tr>\n",
       "      <th>reshare_message.message.source.title</th>\n",
       "      <td>NaN</td>\n",
       "      <td>NaN</td>\n",
       "    </tr>\n",
       "    <tr>\n",
       "      <th>reshare_message.message.source.url</th>\n",
       "      <td>NaN</td>\n",
       "      <td>NaN</td>\n",
       "    </tr>\n",
       "    <tr>\n",
       "      <th>reshare_message.message.symbols</th>\n",
       "      <td>NaN</td>\n",
       "      <td>NaN</td>\n",
       "    </tr>\n",
       "    <tr>\n",
       "      <th>reshare_message.message.user.avatar_url</th>\n",
       "      <td>NaN</td>\n",
       "      <td>NaN</td>\n",
       "    </tr>\n",
       "    <tr>\n",
       "      <th>reshare_message.message.user.avatar_url_ssl</th>\n",
       "      <td>NaN</td>\n",
       "      <td>NaN</td>\n",
       "    </tr>\n",
       "    <tr>\n",
       "      <th>reshare_message.message.user.classification</th>\n",
       "      <td>NaN</td>\n",
       "      <td>NaN</td>\n",
       "    </tr>\n",
       "    <tr>\n",
       "      <th>reshare_message.message.user.followers</th>\n",
       "      <td>NaN</td>\n",
       "      <td>NaN</td>\n",
       "    </tr>\n",
       "    <tr>\n",
       "      <th>reshare_message.message.user.following</th>\n",
       "      <td>NaN</td>\n",
       "      <td>NaN</td>\n",
       "    </tr>\n",
       "    <tr>\n",
       "      <th>reshare_message.message.user.id</th>\n",
       "      <td>NaN</td>\n",
       "      <td>NaN</td>\n",
       "    </tr>\n",
       "    <tr>\n",
       "      <th>reshare_message.message.user.ideas</th>\n",
       "      <td>NaN</td>\n",
       "      <td>NaN</td>\n",
       "    </tr>\n",
       "    <tr>\n",
       "      <th>reshare_message.message.user.identity</th>\n",
       "      <td>NaN</td>\n",
       "      <td>NaN</td>\n",
       "    </tr>\n",
       "    <tr>\n",
       "      <th>reshare_message.message.user.join_date</th>\n",
       "      <td>NaN</td>\n",
       "      <td>NaN</td>\n",
       "    </tr>\n",
       "    <tr>\n",
       "      <th>reshare_message.message.user.like_count</th>\n",
       "      <td>NaN</td>\n",
       "      <td>NaN</td>\n",
       "    </tr>\n",
       "    <tr>\n",
       "      <th>reshare_message.message.user.name</th>\n",
       "      <td>NaN</td>\n",
       "      <td>NaN</td>\n",
       "    </tr>\n",
       "    <tr>\n",
       "      <th>reshare_message.message.user.official</th>\n",
       "      <td>NaN</td>\n",
       "      <td>NaN</td>\n",
       "    </tr>\n",
       "    <tr>\n",
       "      <th>reshare_message.message.user.plus_tier</th>\n",
       "      <td>NaN</td>\n",
       "      <td>NaN</td>\n",
       "    </tr>\n",
       "    <tr>\n",
       "      <th>reshare_message.message.user.username</th>\n",
       "      <td>NaN</td>\n",
       "      <td>NaN</td>\n",
       "    </tr>\n",
       "    <tr>\n",
       "      <th>reshare_message.message.user.watchlist_stocks_count</th>\n",
       "      <td>NaN</td>\n",
       "      <td>NaN</td>\n",
       "    </tr>\n",
       "    <tr>\n",
       "      <th>reshare_message.parent_reshared_deleted</th>\n",
       "      <td>NaN</td>\n",
       "      <td>NaN</td>\n",
       "    </tr>\n",
       "    <tr>\n",
       "      <th>reshare_message.parent_reshared_message_id</th>\n",
       "      <td>NaN</td>\n",
       "      <td>NaN</td>\n",
       "    </tr>\n",
       "    <tr>\n",
       "      <th>reshare_message.parent_reshared_url</th>\n",
       "      <td>NaN</td>\n",
       "      <td>NaN</td>\n",
       "    </tr>\n",
       "    <tr>\n",
       "      <th>reshare_message.reshared_count</th>\n",
       "      <td>NaN</td>\n",
       "      <td>NaN</td>\n",
       "    </tr>\n",
       "    <tr>\n",
       "      <th>reshare_message.reshared_deleted</th>\n",
       "      <td>NaN</td>\n",
       "      <td>NaN</td>\n",
       "    </tr>\n",
       "    <tr>\n",
       "      <th>reshare_message.reshared_user_deleted</th>\n",
       "      <td>NaN</td>\n",
       "      <td>NaN</td>\n",
       "    </tr>\n",
       "    <tr>\n",
       "      <th>reshared_by_self</th>\n",
       "      <td>False</td>\n",
       "      <td>False</td>\n",
       "    </tr>\n",
       "    <tr>\n",
       "      <th>reshares.reshared_count</th>\n",
       "      <td>1</td>\n",
       "      <td>NaN</td>\n",
       "    </tr>\n",
       "    <tr>\n",
       "      <th>reshares.user_ids</th>\n",
       "      <td>[1844945]</td>\n",
       "      <td>None</td>\n",
       "    </tr>\n",
       "    <tr>\n",
       "      <th>source.id</th>\n",
       "      <td>1149</td>\n",
       "      <td>4049</td>\n",
       "    </tr>\n",
       "    <tr>\n",
       "      <th>source.title</th>\n",
       "      <td>StockTwits for iOS</td>\n",
       "      <td>insiderbuyingselling</td>\n",
       "    </tr>\n",
       "    <tr>\n",
       "      <th>source.url</th>\n",
       "      <td>http://www.stocktwits.com/mobile</td>\n",
       "      <td>http://insiderbuyingselling.com</td>\n",
       "    </tr>\n",
       "    <tr>\n",
       "      <th>symbols</th>\n",
       "      <td>[{'id': 12378, 'symbol': 'SHAK', 'title': 'Shake Shack', 'aliases': [], 'is_following': False, 'watchlist_count': 9548}]</td>\n",
       "      <td>[{'id': 12378, 'symbol': 'SHAK', 'title': 'Shake Shack', 'aliases': [], 'is_following': False, 'watchlist_count': 9547}]</td>\n",
       "    </tr>\n",
       "    <tr>\n",
       "      <th>user.avatar_url</th>\n",
       "      <td>https://avatars.stocktwits.com/production/1844945/thumb-1565122000.png</td>\n",
       "      <td>https://avatars.stocktwits.com/production/1419740/thumb-1522159697.png</td>\n",
       "    </tr>\n",
       "    <tr>\n",
       "      <th>user.avatar_url_ssl</th>\n",
       "      <td>https://avatars.stocktwits.com/production/1844945/thumb-1565122000.png</td>\n",
       "      <td>https://avatars.stocktwits.com/production/1419740/thumb-1522159697.png</td>\n",
       "    </tr>\n",
       "    <tr>\n",
       "      <th>user.classification</th>\n",
       "      <td>[]</td>\n",
       "      <td>[]</td>\n",
       "    </tr>\n",
       "    <tr>\n",
       "      <th>user.followers</th>\n",
       "      <td>3</td>\n",
       "      <td>778</td>\n",
       "    </tr>\n",
       "    <tr>\n",
       "      <th>user.following</th>\n",
       "      <td>4</td>\n",
       "      <td>0</td>\n",
       "    </tr>\n",
       "    <tr>\n",
       "      <th>user.id</th>\n",
       "      <td>1844945</td>\n",
       "      <td>1419740</td>\n",
       "    </tr>\n",
       "    <tr>\n",
       "      <th>user.ideas</th>\n",
       "      <td>301</td>\n",
       "      <td>28240</td>\n",
       "    </tr>\n",
       "    <tr>\n",
       "      <th>user.identity</th>\n",
       "      <td>User</td>\n",
       "      <td>User</td>\n",
       "    </tr>\n",
       "    <tr>\n",
       "      <th>user.join_date</th>\n",
       "      <td>2019-02-02</td>\n",
       "      <td>2018-02-22</td>\n",
       "    </tr>\n",
       "    <tr>\n",
       "      <th>user.like_count</th>\n",
       "      <td>561</td>\n",
       "      <td>0</td>\n",
       "    </tr>\n",
       "    <tr>\n",
       "      <th>user.name</th>\n",
       "      <td>David</td>\n",
       "      <td>sky</td>\n",
       "    </tr>\n",
       "    <tr>\n",
       "      <th>user.official</th>\n",
       "      <td>False</td>\n",
       "      <td>False</td>\n",
       "    </tr>\n",
       "    <tr>\n",
       "      <th>user.plus_tier</th>\n",
       "      <td></td>\n",
       "      <td></td>\n",
       "    </tr>\n",
       "    <tr>\n",
       "      <th>user.username</th>\n",
       "      <td>Driggs417</td>\n",
       "      <td>insiderbuyingselling</td>\n",
       "    </tr>\n",
       "    <tr>\n",
       "      <th>user.watchlist_stocks_count</th>\n",
       "      <td>9</td>\n",
       "      <td>0</td>\n",
       "    </tr>\n",
       "  </tbody>\n",
       "</table>\n",
       "</div>"
      ],
      "text/plain": [
       "                                                                                                                                                                                    0  \\\n",
       "body                                                                                                    $SHAK CLDR Boys next call on Monday after the drop . One to look at anyways 👍   \n",
       "conversation.in_reply_to_message_id                                                                                                                                               NaN   \n",
       "conversation.parent                                                                                                                                                               NaN   \n",
       "conversation.parent_message_id                                                                                                                                                    NaN   \n",
       "conversation.replies                                                                                                                                                              NaN   \n",
       "created_at                                                                                                                                                        2019-08-10 03:46:47   \n",
       "created_at_est                                                                                                                                                    2019-08-09 23:46:47   \n",
       "date_est                                                                                                                                                                   2019-08-09   \n",
       "entities.chart.large                                                                                                                                                             None   \n",
       "entities.chart.original                                                                                                                                                          None   \n",
       "entities.chart.thumb                                                                                                                                                             None   \n",
       "entities.chart.url                                                                                                                                                               None   \n",
       "entities.sentiment                                                                                                                                                                NaN   \n",
       "entities.sentiment.basic                                                                                                                                                         None   \n",
       "id                                                                                                                                                                          173670691   \n",
       "liked_by_self                                                                                                                                                                   False   \n",
       "likes.total                                                                                                                                                                         1   \n",
       "likes.user_ids                                                                                                                                                               [468764]   \n",
       "links                                                                                                                                                                            None   \n",
       "mentioned_users                                                                                                                                                                    []   \n",
       "reshare_message.message.body                                                                                                                                                      NaN   \n",
       "reshare_message.message.conversation.in_reply_to_message_id                                                                                                                       NaN   \n",
       "reshare_message.message.conversation.parent                                                                                                                                       NaN   \n",
       "reshare_message.message.conversation.parent_message_id                                                                                                                            NaN   \n",
       "reshare_message.message.conversation.replies                                                                                                                                      NaN   \n",
       "reshare_message.message.created_at                                                                                                                                                NaT   \n",
       "reshare_message.message.entities.chart.large                                                                                                                                      NaN   \n",
       "reshare_message.message.entities.chart.original                                                                                                                                   NaN   \n",
       "reshare_message.message.entities.chart.thumb                                                                                                                                      NaN   \n",
       "reshare_message.message.entities.chart.url                                                                                                                                        NaN   \n",
       "reshare_message.message.entities.sentiment                                                                                                                                        NaN   \n",
       "reshare_message.message.entities.sentiment.basic                                                                                                                                  NaN   \n",
       "reshare_message.message.id                                                                                                                                                        NaN   \n",
       "reshare_message.message.likes.total                                                                                                                                               NaN   \n",
       "reshare_message.message.likes.user_ids                                                                                                                                            NaN   \n",
       "reshare_message.message.links                                                                                                                                                     NaN   \n",
       "reshare_message.message.mentioned_users                                                                                                                                           NaN   \n",
       "reshare_message.message.source.id                                                                                                                                                 NaN   \n",
       "reshare_message.message.source.title                                                                                                                                              NaN   \n",
       "reshare_message.message.source.url                                                                                                                                                NaN   \n",
       "reshare_message.message.symbols                                                                                                                                                   NaN   \n",
       "reshare_message.message.user.avatar_url                                                                                                                                           NaN   \n",
       "reshare_message.message.user.avatar_url_ssl                                                                                                                                       NaN   \n",
       "reshare_message.message.user.classification                                                                                                                                       NaN   \n",
       "reshare_message.message.user.followers                                                                                                                                            NaN   \n",
       "reshare_message.message.user.following                                                                                                                                            NaN   \n",
       "reshare_message.message.user.id                                                                                                                                                   NaN   \n",
       "reshare_message.message.user.ideas                                                                                                                                                NaN   \n",
       "reshare_message.message.user.identity                                                                                                                                             NaN   \n",
       "reshare_message.message.user.join_date                                                                                                                                            NaN   \n",
       "reshare_message.message.user.like_count                                                                                                                                           NaN   \n",
       "reshare_message.message.user.name                                                                                                                                                 NaN   \n",
       "reshare_message.message.user.official                                                                                                                                             NaN   \n",
       "reshare_message.message.user.plus_tier                                                                                                                                            NaN   \n",
       "reshare_message.message.user.username                                                                                                                                             NaN   \n",
       "reshare_message.message.user.watchlist_stocks_count                                                                                                                               NaN   \n",
       "reshare_message.parent_reshared_deleted                                                                                                                                           NaN   \n",
       "reshare_message.parent_reshared_message_id                                                                                                                                        NaN   \n",
       "reshare_message.parent_reshared_url                                                                                                                                               NaN   \n",
       "reshare_message.reshared_count                                                                                                                                                    NaN   \n",
       "reshare_message.reshared_deleted                                                                                                                                                  NaN   \n",
       "reshare_message.reshared_user_deleted                                                                                                                                             NaN   \n",
       "reshared_by_self                                                                                                                                                                False   \n",
       "reshares.reshared_count                                                                                                                                                             1   \n",
       "reshares.user_ids                                                                                                                                                           [1844945]   \n",
       "source.id                                                                                                                                                                        1149   \n",
       "source.title                                                                                                                                                       StockTwits for iOS   \n",
       "source.url                                                                                                                                           http://www.stocktwits.com/mobile   \n",
       "symbols                                                      [{'id': 12378, 'symbol': 'SHAK', 'title': 'Shake Shack', 'aliases': [], 'is_following': False, 'watchlist_count': 9548}]   \n",
       "user.avatar_url                                                                                                https://avatars.stocktwits.com/production/1844945/thumb-1565122000.png   \n",
       "user.avatar_url_ssl                                                                                            https://avatars.stocktwits.com/production/1844945/thumb-1565122000.png   \n",
       "user.classification                                                                                                                                                                []   \n",
       "user.followers                                                                                                                                                                      3   \n",
       "user.following                                                                                                                                                                      4   \n",
       "user.id                                                                                                                                                                       1844945   \n",
       "user.ideas                                                                                                                                                                        301   \n",
       "user.identity                                                                                                                                                                    User   \n",
       "user.join_date                                                                                                                                                             2019-02-02   \n",
       "user.like_count                                                                                                                                                                   561   \n",
       "user.name                                                                                                                                                                       David   \n",
       "user.official                                                                                                                                                                   False   \n",
       "user.plus_tier                                                                                                                                                                          \n",
       "user.username                                                                                                                                                               Driggs417   \n",
       "user.watchlist_stocks_count                                                                                                                                                         9   \n",
       "\n",
       "                                                                                                                                                                                                                 1  \n",
       "body                                                                                                                              $SHAK new insider selling: 40987 shares. http://insiderbuyingselling.com/?t=SHAK  \n",
       "conversation.in_reply_to_message_id                                                                                                                                                                            NaN  \n",
       "conversation.parent                                                                                                                                                                                            NaN  \n",
       "conversation.parent_message_id                                                                                                                                                                                 NaN  \n",
       "conversation.replies                                                                                                                                                                                           NaN  \n",
       "created_at                                                                                                                                                                                     2019-08-10 00:41:37  \n",
       "created_at_est                                                                                                                                                                                 2019-08-09 20:41:37  \n",
       "date_est                                                                                                                                                                                                2019-08-09  \n",
       "entities.chart.large                                                                                                                                                                                          None  \n",
       "entities.chart.original                                                                                                                                                                                       None  \n",
       "entities.chart.thumb                                                                                                                                                                                          None  \n",
       "entities.chart.url                                                                                                                                                                                            None  \n",
       "entities.sentiment                                                                                                                                                                                             NaN  \n",
       "entities.sentiment.basic                                                                                                                                                                                      None  \n",
       "id                                                                                                                                                                                                       173662866  \n",
       "liked_by_self                                                                                                                                                                                                False  \n",
       "likes.total                                                                                                                                                                                                    NaN  \n",
       "likes.user_ids                                                                                                                                                                                                None  \n",
       "links                                                        [{'title': 'Tracking insider buying and selling stocks for Shake Shack Inc. ( SHAK )', 'url': 'http://insiderbuyingselling.com/?t=SHAK', 'shortene...  \n",
       "mentioned_users                                                                                                                                                                                                 []  \n",
       "reshare_message.message.body                                                                                                                                                                                   NaN  \n",
       "reshare_message.message.conversation.in_reply_to_message_id                                                                                                                                                    NaN  \n",
       "reshare_message.message.conversation.parent                                                                                                                                                                    NaN  \n",
       "reshare_message.message.conversation.parent_message_id                                                                                                                                                         NaN  \n",
       "reshare_message.message.conversation.replies                                                                                                                                                                   NaN  \n",
       "reshare_message.message.created_at                                                                                                                                                                             NaT  \n",
       "reshare_message.message.entities.chart.large                                                                                                                                                                   NaN  \n",
       "reshare_message.message.entities.chart.original                                                                                                                                                                NaN  \n",
       "reshare_message.message.entities.chart.thumb                                                                                                                                                                   NaN  \n",
       "reshare_message.message.entities.chart.url                                                                                                                                                                     NaN  \n",
       "reshare_message.message.entities.sentiment                                                                                                                                                                     NaN  \n",
       "reshare_message.message.entities.sentiment.basic                                                                                                                                                               NaN  \n",
       "reshare_message.message.id                                                                                                                                                                                     NaN  \n",
       "reshare_message.message.likes.total                                                                                                                                                                            NaN  \n",
       "reshare_message.message.likes.user_ids                                                                                                                                                                         NaN  \n",
       "reshare_message.message.links                                                                                                                                                                                  NaN  \n",
       "reshare_message.message.mentioned_users                                                                                                                                                                        NaN  \n",
       "reshare_message.message.source.id                                                                                                                                                                              NaN  \n",
       "reshare_message.message.source.title                                                                                                                                                                           NaN  \n",
       "reshare_message.message.source.url                                                                                                                                                                             NaN  \n",
       "reshare_message.message.symbols                                                                                                                                                                                NaN  \n",
       "reshare_message.message.user.avatar_url                                                                                                                                                                        NaN  \n",
       "reshare_message.message.user.avatar_url_ssl                                                                                                                                                                    NaN  \n",
       "reshare_message.message.user.classification                                                                                                                                                                    NaN  \n",
       "reshare_message.message.user.followers                                                                                                                                                                         NaN  \n",
       "reshare_message.message.user.following                                                                                                                                                                         NaN  \n",
       "reshare_message.message.user.id                                                                                                                                                                                NaN  \n",
       "reshare_message.message.user.ideas                                                                                                                                                                             NaN  \n",
       "reshare_message.message.user.identity                                                                                                                                                                          NaN  \n",
       "reshare_message.message.user.join_date                                                                                                                                                                         NaN  \n",
       "reshare_message.message.user.like_count                                                                                                                                                                        NaN  \n",
       "reshare_message.message.user.name                                                                                                                                                                              NaN  \n",
       "reshare_message.message.user.official                                                                                                                                                                          NaN  \n",
       "reshare_message.message.user.plus_tier                                                                                                                                                                         NaN  \n",
       "reshare_message.message.user.username                                                                                                                                                                          NaN  \n",
       "reshare_message.message.user.watchlist_stocks_count                                                                                                                                                            NaN  \n",
       "reshare_message.parent_reshared_deleted                                                                                                                                                                        NaN  \n",
       "reshare_message.parent_reshared_message_id                                                                                                                                                                     NaN  \n",
       "reshare_message.parent_reshared_url                                                                                                                                                                            NaN  \n",
       "reshare_message.reshared_count                                                                                                                                                                                 NaN  \n",
       "reshare_message.reshared_deleted                                                                                                                                                                               NaN  \n",
       "reshare_message.reshared_user_deleted                                                                                                                                                                          NaN  \n",
       "reshared_by_self                                                                                                                                                                                             False  \n",
       "reshares.reshared_count                                                                                                                                                                                        NaN  \n",
       "reshares.user_ids                                                                                                                                                                                             None  \n",
       "source.id                                                                                                                                                                                                     4049  \n",
       "source.title                                                                                                                                                                                  insiderbuyingselling  \n",
       "source.url                                                                                                                                                                         http://insiderbuyingselling.com  \n",
       "symbols                                                                                   [{'id': 12378, 'symbol': 'SHAK', 'title': 'Shake Shack', 'aliases': [], 'is_following': False, 'watchlist_count': 9547}]  \n",
       "user.avatar_url                                                                                                                             https://avatars.stocktwits.com/production/1419740/thumb-1522159697.png  \n",
       "user.avatar_url_ssl                                                                                                                         https://avatars.stocktwits.com/production/1419740/thumb-1522159697.png  \n",
       "user.classification                                                                                                                                                                                             []  \n",
       "user.followers                                                                                                                                                                                                 778  \n",
       "user.following                                                                                                                                                                                                   0  \n",
       "user.id                                                                                                                                                                                                    1419740  \n",
       "user.ideas                                                                                                                                                                                                   28240  \n",
       "user.identity                                                                                                                                                                                                 User  \n",
       "user.join_date                                                                                                                                                                                          2018-02-22  \n",
       "user.like_count                                                                                                                                                                                                  0  \n",
       "user.name                                                                                                                                                                                                      sky  \n",
       "user.official                                                                                                                                                                                                False  \n",
       "user.plus_tier                                                                                                                                                                                                      \n",
       "user.username                                                                                                                                                                                 insiderbuyingselling  \n",
       "user.watchlist_stocks_count                                                                                                                                                                                      0  "
      ]
     },
     "execution_count": 8,
     "metadata": {},
     "output_type": "execute_result"
    }
   ],
   "source": [
    "temp_df.head(2).T"
   ]
  },
  {
   "cell_type": "markdown",
   "metadata": {},
   "source": [
    "#### Lets Think about User information question later (for ex, is this user reliable?)\n",
    "- For now, just focus on the message"
   ]
  },
  {
   "cell_type": "code",
   "execution_count": 9,
   "metadata": {},
   "outputs": [],
   "source": [
    "COLS_OF_INTEREST = [\n",
    "    'date_est',\n",
    "    'created_at_est',\n",
    "    'body',\n",
    "    'symbols',\n",
    "    'entities.sentiment.basic',\n",
    "    'links',\n",
    "]"
   ]
  },
  {
   "cell_type": "code",
   "execution_count": 10,
   "metadata": {},
   "outputs": [],
   "source": [
    "sentiment_cols = [c for c in temp_df.columns if 'sentiment' in c]"
   ]
  },
  {
   "cell_type": "code",
   "execution_count": 11,
   "metadata": {},
   "outputs": [
    {
     "name": "stdout",
     "output_type": "stream",
     "text": [
      "<class 'pandas.core.frame.DataFrame'>\n",
      "RangeIndex: 54 entries, 0 to 53\n",
      "Data columns (total 4 columns):\n",
      "entities.sentiment                                  0 non-null float64\n",
      "entities.sentiment.basic                            22 non-null object\n",
      "reshare_message.message.entities.sentiment          0 non-null float64\n",
      "reshare_message.message.entities.sentiment.basic    0 non-null float64\n",
      "dtypes: float64(3), object(1)\n",
      "memory usage: 1.8+ KB\n"
     ]
    }
   ],
   "source": [
    "temp_df[sentiment_cols].info()"
   ]
  },
  {
   "cell_type": "code",
   "execution_count": 12,
   "metadata": {},
   "outputs": [],
   "source": [
    "temp_df_new = file_reader.read_twit_file(ticker, date, cols='default')"
   ]
  },
  {
   "cell_type": "code",
   "execution_count": 13,
   "metadata": {},
   "outputs": [
    {
     "data": {
      "text/html": [
       "<div>\n",
       "<style scoped>\n",
       "    .dataframe tbody tr th:only-of-type {\n",
       "        vertical-align: middle;\n",
       "    }\n",
       "\n",
       "    .dataframe tbody tr th {\n",
       "        vertical-align: top;\n",
       "    }\n",
       "\n",
       "    .dataframe thead th {\n",
       "        text-align: right;\n",
       "    }\n",
       "</style>\n",
       "<table border=\"1\" class=\"dataframe\">\n",
       "  <thead>\n",
       "    <tr style=\"text-align: right;\">\n",
       "      <th></th>\n",
       "      <th>date_est</th>\n",
       "      <th>created_at_est</th>\n",
       "      <th>body</th>\n",
       "      <th>symbols</th>\n",
       "      <th>entities.sentiment.basic</th>\n",
       "      <th>links</th>\n",
       "    </tr>\n",
       "  </thead>\n",
       "  <tbody>\n",
       "    <tr>\n",
       "      <th>0</th>\n",
       "      <td>2019-08-09</td>\n",
       "      <td>2019-08-09 23:46:47</td>\n",
       "      <td>$SHAK CLDR Boys next call on Monday after the drop . One to look at anyways 👍</td>\n",
       "      <td>[{'id': 12378, 'symbol': 'SHAK', 'title': 'Shake Shack', 'aliases': [], 'is_following': False, 'watchlist_count': 9548}]</td>\n",
       "      <td>None</td>\n",
       "      <td>None</td>\n",
       "    </tr>\n",
       "    <tr>\n",
       "      <th>1</th>\n",
       "      <td>2019-08-09</td>\n",
       "      <td>2019-08-09 20:41:37</td>\n",
       "      <td>$SHAK new insider selling: 40987 shares. http://insiderbuyingselling.com/?t=SHAK</td>\n",
       "      <td>[{'id': 12378, 'symbol': 'SHAK', 'title': 'Shake Shack', 'aliases': [], 'is_following': False, 'watchlist_count': 9547}]</td>\n",
       "      <td>None</td>\n",
       "      <td>[{'title': 'Tracking insider buying and selling stocks for Shake Shack Inc. ( SHAK )', 'url': 'http://insiderbuyingselling.com/?t=SHAK', 'shortene...</td>\n",
       "    </tr>\n",
       "    <tr>\n",
       "      <th>2</th>\n",
       "      <td>2019-08-09</td>\n",
       "      <td>2019-08-09 20:14:08</td>\n",
       "      <td>$SHAK how is institutional ownership 106%? Educate me dont belittle me please.</td>\n",
       "      <td>[{'id': 12378, 'symbol': 'SHAK', 'title': 'Shake Shack', 'aliases': [], 'is_following': False, 'watchlist_count': 9547}]</td>\n",
       "      <td>None</td>\n",
       "      <td>None</td>\n",
       "    </tr>\n",
       "    <tr>\n",
       "      <th>3</th>\n",
       "      <td>2019-08-09</td>\n",
       "      <td>2019-08-09 19:56:51</td>\n",
       "      <td>$SHAK So far Zach Koff was the insider who dumped at the highest price. If they are exercising their options and dumping them immediately, why are...</td>\n",
       "      <td>[{'id': 679, 'symbol': 'SPX', 'title': 'S&amp;P 500 Index', 'aliases': [], 'is_following': False, 'watchlist_count': 42321}, {'id': 4979, 'symbol': 'D...</td>\n",
       "      <td>Bearish</td>\n",
       "      <td>None</td>\n",
       "    </tr>\n",
       "    <tr>\n",
       "      <th>4</th>\n",
       "      <td>2019-08-09</td>\n",
       "      <td>2019-08-09 19:26:32</td>\n",
       "      <td>$SHAK all these big dumps and price goes up? What gives?</td>\n",
       "      <td>[{'id': 12378, 'symbol': 'SHAK', 'title': 'Shake Shack', 'aliases': [], 'is_following': False, 'watchlist_count': 9548}]</td>\n",
       "      <td>Bearish</td>\n",
       "      <td>None</td>\n",
       "    </tr>\n",
       "  </tbody>\n",
       "</table>\n",
       "</div>"
      ],
      "text/plain": [
       "     date_est       created_at_est  \\\n",
       "0  2019-08-09  2019-08-09 23:46:47   \n",
       "1  2019-08-09  2019-08-09 20:41:37   \n",
       "2  2019-08-09  2019-08-09 20:14:08   \n",
       "3  2019-08-09  2019-08-09 19:56:51   \n",
       "4  2019-08-09  2019-08-09 19:26:32   \n",
       "\n",
       "                                                                                                                                                    body  \\\n",
       "0                                                                          $SHAK CLDR Boys next call on Monday after the drop . One to look at anyways 👍   \n",
       "1                                                                       $SHAK new insider selling: 40987 shares. http://insiderbuyingselling.com/?t=SHAK   \n",
       "2                                                                         $SHAK how is institutional ownership 106%? Educate me dont belittle me please.   \n",
       "3  $SHAK So far Zach Koff was the insider who dumped at the highest price. If they are exercising their options and dumping them immediately, why are...   \n",
       "4                                                                                               $SHAK all these big dumps and price goes up? What gives?   \n",
       "\n",
       "                                                                                                                                                 symbols  \\\n",
       "0                               [{'id': 12378, 'symbol': 'SHAK', 'title': 'Shake Shack', 'aliases': [], 'is_following': False, 'watchlist_count': 9548}]   \n",
       "1                               [{'id': 12378, 'symbol': 'SHAK', 'title': 'Shake Shack', 'aliases': [], 'is_following': False, 'watchlist_count': 9547}]   \n",
       "2                               [{'id': 12378, 'symbol': 'SHAK', 'title': 'Shake Shack', 'aliases': [], 'is_following': False, 'watchlist_count': 9547}]   \n",
       "3  [{'id': 679, 'symbol': 'SPX', 'title': 'S&P 500 Index', 'aliases': [], 'is_following': False, 'watchlist_count': 42321}, {'id': 4979, 'symbol': 'D...   \n",
       "4                               [{'id': 12378, 'symbol': 'SHAK', 'title': 'Shake Shack', 'aliases': [], 'is_following': False, 'watchlist_count': 9548}]   \n",
       "\n",
       "  entities.sentiment.basic  \\\n",
       "0                     None   \n",
       "1                     None   \n",
       "2                     None   \n",
       "3                  Bearish   \n",
       "4                  Bearish   \n",
       "\n",
       "                                                                                                                                                   links  \n",
       "0                                                                                                                                                   None  \n",
       "1  [{'title': 'Tracking insider buying and selling stocks for Shake Shack Inc. ( SHAK )', 'url': 'http://insiderbuyingselling.com/?t=SHAK', 'shortene...  \n",
       "2                                                                                                                                                   None  \n",
       "3                                                                                                                                                   None  \n",
       "4                                                                                                                                                   None  "
      ]
     },
     "execution_count": 13,
     "metadata": {},
     "output_type": "execute_result"
    }
   ],
   "source": [
    "temp_df_new.head()"
   ]
  },
  {
   "cell_type": "code",
   "execution_count": null,
   "metadata": {},
   "outputs": [],
   "source": []
  },
  {
   "cell_type": "markdown",
   "metadata": {},
   "source": [
    "## Read for time range"
   ]
  },
  {
   "cell_type": "code",
   "execution_count": 14,
   "metadata": {},
   "outputs": [],
   "source": [
    "ticker = 'SHAK'\n",
    "\n",
    "start_date = '2018-01-01'\n",
    "end_date = '2019-08-01'"
   ]
  },
  {
   "cell_type": "markdown",
   "metadata": {},
   "source": [
    "Problem - below takes too long, I should cache it"
   ]
  },
  {
   "cell_type": "code",
   "execution_count": 15,
   "metadata": {},
   "outputs": [
    {
     "name": "stdout",
     "output_type": "stream",
     "text": [
      "CPU times: user 37.9 s, sys: 349 ms, total: 38.2 s\n",
      "Wall time: 38.7 s\n"
     ]
    }
   ],
   "source": [
    "%%time\n",
    "\n",
    "data_df = file_reader.read_twit_file_in_range(ticker, start_date, end_date, cols='default')"
   ]
  },
  {
   "cell_type": "code",
   "execution_count": 16,
   "metadata": {},
   "outputs": [
    {
     "data": {
      "text/plain": [
       "(8664, 6)"
      ]
     },
     "execution_count": 16,
     "metadata": {},
     "output_type": "execute_result"
    }
   ],
   "source": [
    "data_df.shape"
   ]
  },
  {
   "cell_type": "code",
   "execution_count": 17,
   "metadata": {},
   "outputs": [
    {
     "data": {
      "text/plain": [
       "NaN        6554\n",
       "Bearish    1067\n",
       "Bullish    1043\n",
       "Name: entities.sentiment.basic, dtype: int64"
      ]
     },
     "execution_count": 17,
     "metadata": {},
     "output_type": "execute_result"
    }
   ],
   "source": [
    "data_df['entities.sentiment.basic'].value_counts(dropna=False)"
   ]
  },
  {
   "cell_type": "code",
   "execution_count": 18,
   "metadata": {},
   "outputs": [
    {
     "data": {
      "text/plain": [
       "'/Users/seung-jae_bang/Personal/Research/Stock_Sentiment/data/Stocktwits/scrap_data'"
      ]
     },
     "execution_count": 18,
     "metadata": {},
     "output_type": "execute_result"
    }
   ],
   "source": [
    "root_dir = file_reader.get_root_dir()\n",
    "scrap_data_dir = os.path.join(root_dir, 'scrap_data')\n",
    "scrap_data_dir"
   ]
  },
  {
   "cell_type": "code",
   "execution_count": null,
   "metadata": {},
   "outputs": [],
   "source": [
    "TICKER_LIST = [\n",
    "    'SHAK',\n",
    "    'MSFT',\n",
    "    'TSLA',\n",
    "    'SBUX'\n",
    "]"
   ]
  },
  {
   "cell_type": "code",
   "execution_count": null,
   "metadata": {},
   "outputs": [],
   "source": [
    "for t in tqdm(TICKER_LIST):\n",
    "    df = file_reader.read_twit_file_in_range(t, start_date, end_date, cols='default')\n",
    "    df.to_pickle(os.path.join(scrap_data_dir, \n",
    "                              '{ticker}_{start_date}_{end_date}.pkl'.format(ticker=t,\n",
    "                                                                            start_date=start_date,\n",
    "                                                                            end_date=end_date)))"
   ]
  },
  {
   "cell_type": "code",
   "execution_count": null,
   "metadata": {},
   "outputs": [],
   "source": []
  },
  {
   "cell_type": "code",
   "execution_count": null,
   "metadata": {},
   "outputs": [],
   "source": [
    "data_df.loc[data_df['entities.sentiment.basic'] == 'Bearish', 'body'].sample(10).to_frame()"
   ]
  },
  {
   "cell_type": "code",
   "execution_count": null,
   "metadata": {},
   "outputs": [],
   "source": []
  },
  {
   "cell_type": "code",
   "execution_count": null,
   "metadata": {},
   "outputs": [],
   "source": [
    "data_df.loc[data_df['entities.sentiment.basic'] == 'Bullish', 'body'].sample(10).to_frame()"
   ]
  },
  {
   "cell_type": "code",
   "execution_count": null,
   "metadata": {},
   "outputs": [],
   "source": []
  },
  {
   "cell_type": "markdown",
   "metadata": {},
   "source": [
    "## Summarize Stats"
   ]
  },
  {
   "cell_type": "code",
   "execution_count": 19,
   "metadata": {},
   "outputs": [],
   "source": [
    "cache_file_format = '{ticker}_{start_date}_{end_date}.pkl'"
   ]
  },
  {
   "cell_type": "code",
   "execution_count": 20,
   "metadata": {},
   "outputs": [],
   "source": [
    "data_dict = dict()"
   ]
  },
  {
   "cell_type": "code",
   "execution_count": 21,
   "metadata": {},
   "outputs": [
    {
     "ename": "NameError",
     "evalue": "name 'TICKER_LIST' is not defined",
     "output_type": "error",
     "traceback": [
      "\u001b[0;31m---------------------------------------------------------------------------\u001b[0m",
      "\u001b[0;31mNameError\u001b[0m                                 Traceback (most recent call last)",
      "\u001b[0;32m<ipython-input-21-837856a86ee9>\u001b[0m in \u001b[0;36m<module>\u001b[0;34m\u001b[0m\n\u001b[0;32m----> 1\u001b[0;31m \u001b[0;32mfor\u001b[0m \u001b[0mt\u001b[0m \u001b[0;32min\u001b[0m \u001b[0mTICKER_LIST\u001b[0m\u001b[0;34m:\u001b[0m\u001b[0;34m\u001b[0m\u001b[0m\n\u001b[0m\u001b[1;32m      2\u001b[0m     temp = pd.read_pickle(os.path.join(scrap_data_dir, \n\u001b[1;32m      3\u001b[0m                                        cache_file_format.format(ticker=t,\n\u001b[1;32m      4\u001b[0m                                                                 \u001b[0mstart_date\u001b[0m\u001b[0;34m=\u001b[0m\u001b[0mstart_date\u001b[0m\u001b[0;34m,\u001b[0m\u001b[0;34m\u001b[0m\u001b[0m\n\u001b[1;32m      5\u001b[0m                                                                 end_date=end_date,)))\n",
      "\u001b[0;31mNameError\u001b[0m: name 'TICKER_LIST' is not defined"
     ]
    }
   ],
   "source": [
    "for t in TICKER_LIST:\n",
    "    temp = pd.read_pickle(os.path.join(scrap_data_dir, \n",
    "                                       cache_file_format.format(ticker=t,\n",
    "                                                                start_date=start_date,\n",
    "                                                                end_date=end_date,)))\n",
    "    temp['ticker'] = t\n",
    "    data_dict[t] = temp"
   ]
  },
  {
   "cell_type": "code",
   "execution_count": null,
   "metadata": {},
   "outputs": [],
   "source": [
    "all_df = pd.concat(data_dict.values())"
   ]
  },
  {
   "cell_type": "code",
   "execution_count": null,
   "metadata": {},
   "outputs": [],
   "source": [
    "n_days = all_df['date_est'].nunique()\n",
    "n_days"
   ]
  },
  {
   "cell_type": "markdown",
   "metadata": {},
   "source": [
    "Twit Count Stat"
   ]
  },
  {
   "cell_type": "code",
   "execution_count": null,
   "metadata": {},
   "outputs": [],
   "source": [
    "count_df = all_df.groupby('ticker')['date_est'].count().to_frame('count')\n",
    "count_df['count_per_day'] = (count_df['count'] / n_days).round(2)\n",
    "count_df"
   ]
  },
  {
   "cell_type": "code",
   "execution_count": null,
   "metadata": {},
   "outputs": [],
   "source": [
    "sentiment_count_df = all_df.groupby('ticker').apply(\n",
    "    lambda x: x['entities.sentiment.basic'].value_counts(dropna=True)).reset_index()\n",
    "\n",
    "sentiment_count_df.columns = ['ticker', 'sentiment_type', 'count']\n",
    "sentiment_count_df = sentiment_count_df.pivot(\n",
    "    index='ticker', columns='sentiment_type', values=['count'])\n",
    "\n",
    "sentiment_count_df.columns = sentiment_count_df.columns.levels[1]\n",
    "sentiment_count_df.columns.name = None\n",
    "sentiment_count_df['total_sentiment_count'] = sentiment_count_df['Bearish'] + sentiment_count_df['Bullish']\n",
    "sentiment_count_df"
   ]
  },
  {
   "cell_type": "code",
   "execution_count": null,
   "metadata": {},
   "outputs": [],
   "source": [
    "count_df = count_df.merge(sentiment_count_df, left_index=True, right_index=True)\n",
    "count_df['pct_sentiment'] = count_df['total_sentiment_count'] / count_df['count']\n",
    "count_df"
   ]
  },
  {
   "cell_type": "code",
   "execution_count": null,
   "metadata": {},
   "outputs": [],
   "source": []
  },
  {
   "cell_type": "markdown",
   "metadata": {},
   "source": [
    "### Investigate Hyperlinks"
   ]
  },
  {
   "cell_type": "code",
   "execution_count": null,
   "metadata": {},
   "outputs": [],
   "source": [
    "pd.set_option('display.max_colwidth', 500)"
   ]
  },
  {
   "cell_type": "code",
   "execution_count": null,
   "metadata": {},
   "outputs": [],
   "source": [
    "def extract_link_info(row):\n",
    "    temp = row['links'][0]\n",
    "    return pd.Series(temp)"
   ]
  },
  {
   "cell_type": "code",
   "execution_count": null,
   "metadata": {},
   "outputs": [],
   "source": [
    "link_df = all_df.dropna(subset=['links'])[['body', 'links']].sample(3)"
   ]
  },
  {
   "cell_type": "code",
   "execution_count": null,
   "metadata": {},
   "outputs": [],
   "source": [
    "link_df.assign(**link_df.apply(extract_link_info, axis=1))[['body', 'title', 'url', 'description']]"
   ]
  },
  {
   "cell_type": "code",
   "execution_count": null,
   "metadata": {},
   "outputs": [],
   "source": []
  },
  {
   "cell_type": "markdown",
   "metadata": {},
   "source": [
    "#### Look at Labeled Samples"
   ]
  },
  {
   "cell_type": "code",
   "execution_count": null,
   "metadata": {},
   "outputs": [],
   "source": [
    "N_SAMPLES = 4"
   ]
  },
  {
   "cell_type": "code",
   "execution_count": null,
   "metadata": {},
   "outputs": [],
   "source": [
    "bullish_dfs = []\n",
    "bearish_dfs = []"
   ]
  },
  {
   "cell_type": "code",
   "execution_count": null,
   "metadata": {},
   "outputs": [],
   "source": [
    "all_bullish_df = all_df[all_df['entities.sentiment.basic'] == 'Bullish']\n",
    "all_bearish_df = all_df[all_df['entities.sentiment.basic'] == 'Bearish']"
   ]
  },
  {
   "cell_type": "code",
   "execution_count": null,
   "metadata": {},
   "outputs": [],
   "source": [
    "for _, df in all_bullish_df.groupby('ticker'):\n",
    "    bullish_dfs.append(df[['body', 'ticker', 'entities.sentiment.basic']].sample(N_SAMPLES))\n",
    "    \n",
    "for _, df in all_bearish_df.groupby('ticker'):\n",
    "    bearish_dfs.append(df[['body', 'ticker', 'entities.sentiment.basic']].sample(N_SAMPLES))"
   ]
  },
  {
   "cell_type": "code",
   "execution_count": null,
   "metadata": {},
   "outputs": [],
   "source": [
    "bullish_df = pd.concat(bullish_dfs)\n",
    "bearish_df = pd.concat(bearish_dfs)"
   ]
  },
  {
   "cell_type": "code",
   "execution_count": null,
   "metadata": {},
   "outputs": [],
   "source": [
    "bearish_df"
   ]
  },
  {
   "cell_type": "code",
   "execution_count": null,
   "metadata": {},
   "outputs": [],
   "source": []
  },
  {
   "cell_type": "markdown",
   "metadata": {},
   "source": [
    "#### Bullish / Bearish Counts"
   ]
  },
  {
   "cell_type": "code",
   "execution_count": 24,
   "metadata": {},
   "outputs": [],
   "source": [
    "import matplotlib.dates as md\n",
    "from matplotlib.dates import date2num"
   ]
  },
  {
   "cell_type": "code",
   "execution_count": 25,
   "metadata": {},
   "outputs": [],
   "source": [
    "STOCK_DATA_DIR = '/Users/seung-jae_bang/Personal/Research/Stock_Sentiment/data/AlphaVantage/scrap'"
   ]
  },
  {
   "cell_type": "code",
   "execution_count": 26,
   "metadata": {},
   "outputs": [],
   "source": [
    "ticker = 'MSFT'"
   ]
  },
  {
   "cell_type": "code",
   "execution_count": 27,
   "metadata": {},
   "outputs": [],
   "source": [
    "stock_df = pd.read_pickle(os.path.join(STOCK_DATA_DIR,\n",
    "                                       'stock_price_{}.pkl'.format(ticker)))"
   ]
  },
  {
   "cell_type": "code",
   "execution_count": 28,
   "metadata": {},
   "outputs": [],
   "source": [
    "stock_df = stock_df.loc['2018-01-01':'2019-08-10', ['close']]"
   ]
  },
  {
   "cell_type": "code",
   "execution_count": 29,
   "metadata": {},
   "outputs": [],
   "source": [
    "shak_df = pd.read_pickle(os.path.join(scrap_data_dir, \n",
    "                                      cache_file_format.format(ticker=ticker,\n",
    "                                                               start_date=start_date,\n",
    "                                                               end_date=end_date,)))\n",
    "\n",
    "shak_df['date_est'] = pd.to_datetime(shak_df['date_est'])\n",
    "shak_df = shak_df.dropna(subset=['entities.sentiment.basic'])"
   ]
  },
  {
   "cell_type": "code",
   "execution_count": 30,
   "metadata": {},
   "outputs": [],
   "source": [
    "shak_df = shak_df.groupby('date_est').apply(\n",
    "    lambda d: d['entities.sentiment.basic'].value_counts()).to_frame('count').reset_index()"
   ]
  },
  {
   "cell_type": "code",
   "execution_count": 31,
   "metadata": {},
   "outputs": [],
   "source": [
    "shak_df = shak_df.pivot(index='date_est', columns='level_1', values='count').fillna(0)"
   ]
  },
  {
   "cell_type": "code",
   "execution_count": 32,
   "metadata": {},
   "outputs": [],
   "source": [
    "shak_df['Bearish'] = shak_df['Bearish'].astype(int)\n",
    "shak_df['Bullish'] = shak_df['Bullish'].astype(int)\n",
    "\n",
    "shak_df = shak_df.sort_index()"
   ]
  },
  {
   "cell_type": "code",
   "execution_count": 33,
   "metadata": {},
   "outputs": [],
   "source": [
    "shak_weely_df = shak_df.resample('W-FRI').sum()"
   ]
  },
  {
   "cell_type": "code",
   "execution_count": 35,
   "metadata": {},
   "outputs": [],
   "source": [
    "num_dates = date2num(shak_weely_df.index)"
   ]
  },
  {
   "cell_type": "code",
   "execution_count": null,
   "metadata": {},
   "outputs": [],
   "source": [
    "𝛼=1−𝑒𝑥𝑝(𝑙𝑜𝑔(0.5)/ℎ𝑎𝑙𝑓𝑙𝑖𝑓𝑒)"
   ]
  },
  {
   "cell_type": "code",
   "execution_count": 38,
   "metadata": {},
   "outputs": [
    {
     "ename": "NameError",
     "evalue": "name 'np' is not defined",
     "output_type": "error",
     "traceback": [
      "\u001b[0;31m---------------------------------------------------------------------------\u001b[0m",
      "\u001b[0;31mNameError\u001b[0m                                 Traceback (most recent call last)",
      "\u001b[0;32m<ipython-input-38-08d37348fb7e>\u001b[0m in \u001b[0;36m<module>\u001b[0;34m\u001b[0m\n\u001b[0;32m----> 1\u001b[0;31m \u001b[0mnp\u001b[0m\u001b[0;34m.\u001b[0m\u001b[0mlog\u001b[0m\u001b[0;34m(\u001b[0m\u001b[0;36m0.5\u001b[0m\u001b[0;34m)\u001b[0m\u001b[0;34m\u001b[0m\u001b[0m\n\u001b[0m",
      "\u001b[0;31mNameError\u001b[0m: name 'np' is not defined"
     ]
    }
   ],
   "source": [
    "np.log(0.5)"
   ]
  },
  {
   "cell_type": "code",
   "execution_count": 37,
   "metadata": {},
   "outputs": [
    {
     "data": {
      "image/png": "[encoded data removed]",
      "text/plain": [
       "<Figure size 1008x504 with 2 Axes>"
      ]
     },
     "metadata": {
      "needs_background": "light"
     },
     "output_type": "display_data"
    }
   ],
   "source": [
    "myFmt = md.DateFormatter('%Y-%m-%d')\n",
    "\n",
    "fig, ax = plt.subplots(figsize=(14, 7))\n",
    "# shak_weely_df.plot(kind='bar', ax=ax)\n",
    "b1 = ax.bar(num_dates - 2, shak_weely_df['Bullish'], label='bullish', color='g', width=2, align='center')\n",
    "b2 = ax.bar(num_dates, shak_weely_df['Bearish'], label='bearish', color='orange', width=2, align='center')\n",
    "\n",
    "# Set major x ticks on Mondays.\n",
    "ax.xaxis.set_major_locator(\n",
    "#     matplotlib.dates.WeekdayLocator(byweekday=matplotlib.dates.MO)\n",
    "    matplotlib.dates.MonthLocator()\n",
    ")\n",
    "ax.xaxis.set_major_formatter(myFmt)\n",
    "ax.xaxis.set_tick_params(rotation=45)\n",
    "\n",
    "ax2 = ax.twinx()\n",
    "l1 = ax2.plot(stock_df.index, stock_df['close'], linewidth=0.7, linestyle='--')\n",
    "\n",
    "ax.legend('upper right', handles=[b1, b2])\n",
    "plt.title('Weekly Bullish / Bearish Twit Counts for {}'.format(ticker))\n",
    "plt.show()"
   ]
  },
  {
   "cell_type": "code",
   "execution_count": null,
   "metadata": {},
   "outputs": [],
   "source": [
    "myFmt = md.DateFormatter('%Y-%m-%d')\n",
    "\n",
    "fig, ax = plt.subplots(figsize=(14, 7))\n",
    "shak_weely_df.plot(kind='bar', ax=ax)"
   ]
  },
  {
   "cell_type": "code",
   "execution_count": null,
   "metadata": {},
   "outputs": [],
   "source": [
    "ax.xaxis.get_major_formatter()"
   ]
  },
  {
   "cell_type": "code",
   "execution_count": null,
   "metadata": {},
   "outputs": [],
   "source": [
    "shak_weely_df.plot(kind='bar')"
   ]
  },
  {
   "cell_type": "code",
   "execution_count": null,
   "metadata": {},
   "outputs": [],
   "source": []
  }
 ],
 "metadata": {
  "kernelspec": {
   "display_name": "Python 3",
   "language": "python",
   "name": "python3"
  },
  "language_info": {
   "codemirror_mode": {
    "name": "ipython",
    "version": 3
   },
   "file_extension": ".py",
   "mimetype": "text/x-python",
   "name": "python",
   "nbconvert_exporter": "python",
   "pygments_lexer": "ipython3",
   "version": "3.6.5"
  }
 },
 "nbformat": 4,
 "nbformat_minor": 2
}
