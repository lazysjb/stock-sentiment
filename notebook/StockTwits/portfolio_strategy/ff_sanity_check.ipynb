{
 "cells": [
  {
   "cell_type": "code",
   "execution_count": 1,
   "metadata": {},
   "outputs": [],
   "source": [
    "%load_ext autoreload\n",
    "%autoreload 2"
   ]
  },
  {
   "cell_type": "code",
   "execution_count": 2,
   "metadata": {},
   "outputs": [],
   "source": [
    "import sys\n",
    "sys.path.append('../../../')"
   ]
  },
  {
   "cell_type": "markdown",
   "metadata": {},
   "source": [
    "## Regress SPY returns on Fama French and Sanity Check"
   ]
  },
  {
   "cell_type": "code",
   "execution_count": 3,
   "metadata": {},
   "outputs": [],
   "source": [
    "from util.ff_util import read_ff_factors_daily, get_ff_factors_with_freq\n",
    "from util.file_util import (\n",
    "    StockTwitsFileReader, StockDataFileReader\n",
    ")"
   ]
  },
  {
   "cell_type": "code",
   "execution_count": 4,
   "metadata": {},
   "outputs": [],
   "source": [
    "stock_data_reader = StockDataFileReader()"
   ]
  },
  {
   "cell_type": "code",
   "execution_count": 5,
   "metadata": {},
   "outputs": [],
   "source": [
    "start_date = '2017-01-01'\n",
    "end_date = '2019-08-10'"
   ]
  },
  {
   "cell_type": "code",
   "execution_count": 6,
   "metadata": {},
   "outputs": [],
   "source": [
    "def get_weekly_returns_for_ticker(ticker,\n",
    "                                  start_date,\n",
    "                                  end_date):\n",
    "    price_ts = stock_data_reader.read_stockdata_in_range(ticker,\n",
    "                                                         start_date,\n",
    "                                                         end_date)\n",
    "    weekly_price_ts = price_ts.resample('W-FRI').last()\n",
    "    weekly_return_ts = weekly_price_ts.pct_change()\n",
    "    weekly_return_ts['ticker'] = ticker\n",
    "    return weekly_return_ts"
   ]
  },
  {
   "cell_type": "code",
   "execution_count": 7,
   "metadata": {},
   "outputs": [],
   "source": [
    "# price_ts = stock_data_reader.read_stockdata_in_range('SPY',\n",
    "#                                                     start_date,\n",
    "#                                                     end_date)"
   ]
  },
  {
   "cell_type": "code",
   "execution_count": null,
   "metadata": {},
   "outputs": [],
   "source": [
    "return_ts = price_ts.pct_change()\n",
    "return_ts.columns = ['spy']\n",
    "return_ts = return_ts.iloc[1:]"
   ]
  },
  {
   "cell_type": "code",
   "execution_count": 8,
   "metadata": {},
   "outputs": [],
   "source": [
    "return_ts = get_weekly_returns_for_ticker('SPY', start_date, end_date).dropna()"
   ]
  },
  {
   "cell_type": "code",
   "execution_count": null,
   "metadata": {},
   "outputs": [],
   "source": []
  },
  {
   "cell_type": "code",
   "execution_count": null,
   "metadata": {},
   "outputs": [],
   "source": [
    "ff_daily_df = read_ff_factors_daily()"
   ]
  },
  {
   "cell_type": "code",
   "execution_count": null,
   "metadata": {},
   "outputs": [],
   "source": [
    "ff_daily_df /= 100"
   ]
  },
  {
   "cell_type": "code",
   "execution_count": 9,
   "metadata": {},
   "outputs": [],
   "source": [
    "ff_df = get_ff_factors_with_freq()"
   ]
  },
  {
   "cell_type": "code",
   "execution_count": null,
   "metadata": {},
   "outputs": [],
   "source": [
    "# ff_daily_df.columns = ['mkt_rf', 'SMB', 'HML', 'RF']"
   ]
  },
  {
   "cell_type": "code",
   "execution_count": null,
   "metadata": {},
   "outputs": [],
   "source": [
    "# ff_daily_df['Mkt-RF'] /= 100"
   ]
  },
  {
   "cell_type": "code",
   "execution_count": 10,
   "metadata": {},
   "outputs": [],
   "source": [
    "merged = return_ts.merge(ff_df,\n",
    "                left_index=True,\n",
    "                right_index=True)"
   ]
  },
  {
   "cell_type": "code",
   "execution_count": 12,
   "metadata": {},
   "outputs": [],
   "source": [
    "import statsmodels.formula.api as smf"
   ]
  },
  {
   "cell_type": "code",
   "execution_count": 13,
   "metadata": {},
   "outputs": [],
   "source": [
    "lm = smf.ols(\"Q('adjusted close') ~ Q('Mkt-RF') + SMB + HML\", data=merged).fit()"
   ]
  },
  {
   "cell_type": "code",
   "execution_count": 14,
   "metadata": {},
   "outputs": [
    {
     "data": {
      "text/html": [
       "<table class=\"simpletable\">\n",
       "<caption>OLS Regression Results</caption>\n",
       "<tr>\n",
       "  <th>Dep. Variable:</th>    <td>Q('adjusted close')</td> <th>  R-squared:         </th> <td>   0.997</td> \n",
       "</tr>\n",
       "<tr>\n",
       "  <th>Model:</th>                    <td>OLS</td>         <th>  Adj. R-squared:    </th> <td>   0.997</td> \n",
       "</tr>\n",
       "<tr>\n",
       "  <th>Method:</th>              <td>Least Squares</td>    <th>  F-statistic:       </th> <td>1.453e+04</td>\n",
       "</tr>\n",
       "<tr>\n",
       "  <th>Date:</th>              <td>Mon, 04 Nov 2019</td>   <th>  Prob (F-statistic):</th> <td>4.70e-165</td>\n",
       "</tr>\n",
       "<tr>\n",
       "  <th>Time:</th>                  <td>03:59:57</td>       <th>  Log-Likelihood:    </th> <td>  740.12</td> \n",
       "</tr>\n",
       "<tr>\n",
       "  <th>No. Observations:</th>       <td>   135</td>        <th>  AIC:               </th> <td>  -1472.</td> \n",
       "</tr>\n",
       "<tr>\n",
       "  <th>Df Residuals:</th>           <td>   131</td>        <th>  BIC:               </th> <td>  -1461.</td> \n",
       "</tr>\n",
       "<tr>\n",
       "  <th>Df Model:</th>               <td>     3</td>        <th>                     </th>     <td> </td>    \n",
       "</tr>\n",
       "<tr>\n",
       "  <th>Covariance Type:</th>       <td>nonrobust</td>      <th>                     </th>     <td> </td>    \n",
       "</tr>\n",
       "</table>\n",
       "<table class=\"simpletable\">\n",
       "<tr>\n",
       "       <td></td>          <th>coef</th>     <th>std err</th>      <th>t</th>      <th>P>|t|</th>  <th>[0.025</th>    <th>0.975]</th>  \n",
       "</tr>\n",
       "<tr>\n",
       "  <th>Intercept</th>   <td>    0.0002</td> <td>  9.1e-05</td> <td>    2.281</td> <td> 0.024</td> <td> 2.75e-05</td> <td>    0.000</td>\n",
       "</tr>\n",
       "<tr>\n",
       "  <th>Q('Mkt-RF')</th> <td>    0.9745</td> <td>    0.005</td> <td>  208.116</td> <td> 0.000</td> <td>    0.965</td> <td>    0.984</td>\n",
       "</tr>\n",
       "<tr>\n",
       "  <th>SMB</th>         <td>   -0.1333</td> <td>    0.008</td> <td>  -15.894</td> <td> 0.000</td> <td>   -0.150</td> <td>   -0.117</td>\n",
       "</tr>\n",
       "<tr>\n",
       "  <th>HML</th>         <td>   -0.0197</td> <td>    0.008</td> <td>   -2.489</td> <td> 0.014</td> <td>   -0.035</td> <td>   -0.004</td>\n",
       "</tr>\n",
       "</table>\n",
       "<table class=\"simpletable\">\n",
       "<tr>\n",
       "  <th>Omnibus:</th>       <td> 0.117</td> <th>  Durbin-Watson:     </th> <td>   2.417</td>\n",
       "</tr>\n",
       "<tr>\n",
       "  <th>Prob(Omnibus):</th> <td> 0.943</td> <th>  Jarque-Bera (JB):  </th> <td>   0.268</td>\n",
       "</tr>\n",
       "<tr>\n",
       "  <th>Skew:</th>          <td>-0.039</td> <th>  Prob(JB):          </th> <td>   0.874</td>\n",
       "</tr>\n",
       "<tr>\n",
       "  <th>Kurtosis:</th>      <td> 2.796</td> <th>  Cond. No.          </th> <td>    98.2</td>\n",
       "</tr>\n",
       "</table><br/><br/>Warnings:<br/>[1] Standard Errors assume that the covariance matrix of the errors is correctly specified."
      ],
      "text/plain": [
       "<class 'statsmodels.iolib.summary.Summary'>\n",
       "\"\"\"\n",
       "                             OLS Regression Results                            \n",
       "===============================================================================\n",
       "Dep. Variable:     Q('adjusted close')   R-squared:                       0.997\n",
       "Model:                             OLS   Adj. R-squared:                  0.997\n",
       "Method:                  Least Squares   F-statistic:                 1.453e+04\n",
       "Date:                 Mon, 04 Nov 2019   Prob (F-statistic):          4.70e-165\n",
       "Time:                         03:59:57   Log-Likelihood:                 740.12\n",
       "No. Observations:                  135   AIC:                            -1472.\n",
       "Df Residuals:                      131   BIC:                            -1461.\n",
       "Df Model:                            3                                         \n",
       "Covariance Type:             nonrobust                                         \n",
       "===============================================================================\n",
       "                  coef    std err          t      P>|t|      [0.025      0.975]\n",
       "-------------------------------------------------------------------------------\n",
       "Intercept       0.0002    9.1e-05      2.281      0.024    2.75e-05       0.000\n",
       "Q('Mkt-RF')     0.9745      0.005    208.116      0.000       0.965       0.984\n",
       "SMB            -0.1333      0.008    -15.894      0.000      -0.150      -0.117\n",
       "HML            -0.0197      0.008     -2.489      0.014      -0.035      -0.004\n",
       "==============================================================================\n",
       "Omnibus:                        0.117   Durbin-Watson:                   2.417\n",
       "Prob(Omnibus):                  0.943   Jarque-Bera (JB):                0.268\n",
       "Skew:                          -0.039   Prob(JB):                        0.874\n",
       "Kurtosis:                       2.796   Cond. No.                         98.2\n",
       "==============================================================================\n",
       "\n",
       "Warnings:\n",
       "[1] Standard Errors assume that the covariance matrix of the errors is correctly specified.\n",
       "\"\"\""
      ]
     },
     "execution_count": 14,
     "metadata": {},
     "output_type": "execute_result"
    }
   ],
   "source": [
    "lm.summary()"
   ]
  },
  {
   "cell_type": "code",
   "execution_count": null,
   "metadata": {},
   "outputs": [],
   "source": []
  },
  {
   "cell_type": "code",
   "execution_count": null,
   "metadata": {},
   "outputs": [],
   "source": []
  }
 ],
 "metadata": {
  "kernelspec": {
   "display_name": "Python 3",
   "language": "python",
   "name": "python3"
  },
  "language_info": {
   "codemirror_mode": {
    "name": "ipython",
    "version": 3
   },
   "file_extension": ".py",
   "mimetype": "text/x-python",
   "name": "python",
   "nbconvert_exporter": "python",
   "pygments_lexer": "ipython3",
   "version": "3.6.5"
  }
 },
 "nbformat": 4,
 "nbformat_minor": 2
}
