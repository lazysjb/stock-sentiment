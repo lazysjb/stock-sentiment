{
 "cells": [
  {
   "cell_type": "code",
   "execution_count": null,
   "metadata": {},
   "outputs": [],
   "source": [
    "%load_ext autoreload\n",
    "%autoreload 2"
   ]
  },
  {
   "cell_type": "code",
   "execution_count": null,
   "metadata": {},
   "outputs": [],
   "source": [
    "import sys\n",
    "sys.path.append('../../../')"
   ]
  },
  {
   "cell_type": "code",
   "execution_count": 3,
   "metadata": {},
   "outputs": [],
   "source": [
    "import pickle\n",
    "\n",
    "import numpy as np\n",
    "import pandas as pd\n",
    "import matplotlib.pyplot as plt\n",
    "%matplotlib inline\n",
    "\n",
    "from config import STOCKTWITS_TICKER_LIST\n",
    "from util.file_util import (\n",
    "    StockTwitsFileReader, StockDataFileReader\n",
    ")\n",
    "from util.plot_util import plot_twit_series_for_ticker\n",
    "from util.ts_util import resample_weekly\n",
    "from util.ff_util import read_ff_factors_daily, get_ff_factors_with_freq"
   ]
  },
  {
   "cell_type": "code",
   "execution_count": null,
   "metadata": {},
   "outputs": [],
   "source": []
  },
  {
   "cell_type": "code",
   "execution_count": 4,
   "metadata": {},
   "outputs": [],
   "source": [
    "with open('./ticker_at_least_2_median.pkl', 'rb') as f:\n",
    "    all_ticker_list = pickle.load(f)"
   ]
  },
  {
   "cell_type": "code",
   "execution_count": 5,
   "metadata": {},
   "outputs": [],
   "source": [
    "twit_file_reader = StockTwitsFileReader()\n",
    "stock_data_reader = StockDataFileReader()"
   ]
  },
  {
   "cell_type": "code",
   "execution_count": 6,
   "metadata": {},
   "outputs": [],
   "source": [
    "start_date = '2017-01-01'\n",
    "end_date = '2019-08-10'"
   ]
  },
  {
   "cell_type": "code",
   "execution_count": null,
   "metadata": {},
   "outputs": [],
   "source": []
  },
  {
   "cell_type": "code",
   "execution_count": 7,
   "metadata": {},
   "outputs": [],
   "source": [
    "def get_weekly_twits_for_ticker(ticker,\n",
    "                                start_date,\n",
    "                                end_date):\n",
    "    twit_df = twit_file_reader.read_daily_sentiment_summary_prelim(ticker,\n",
    "                                                                   start_date=start_date,\n",
    "                                                                   end_date=end_date)\n",
    "    weekly_twit_df = resample_weekly(twit_df)\n",
    "    weekly_twit_df['B_m_B'] = weekly_twit_df['Bullish'] - weekly_twit_df['Bearish']\n",
    "    weekly_twit_df['ticker'] = ticker\n",
    "    \n",
    "    return weekly_twit_df\n",
    "\n",
    "def get_weekly_returns_for_ticker(ticker,\n",
    "                                  start_date,\n",
    "                                  end_date):\n",
    "    price_ts = stock_data_reader.read_stockdata_in_range(ticker,\n",
    "                                                         start_date,\n",
    "                                                         end_date)\n",
    "    weekly_price_ts = price_ts.resample('W-FRI').last()\n",
    "    weekly_return_ts = weekly_price_ts.pct_change()\n",
    "    weekly_return_ts['ticker'] = ticker\n",
    "    return weekly_return_ts"
   ]
  },
  {
   "cell_type": "code",
   "execution_count": 8,
   "metadata": {},
   "outputs": [],
   "source": [
    "def get_weekly_returns_for_ticker_list(ticker_list,\n",
    "                                       start_date,\n",
    "                                       end_date):\n",
    "    return_dfs = []\n",
    "\n",
    "    for ticker in ticker_list:\n",
    "        return_dfs.append(get_weekly_returns_for_ticker(ticker,\n",
    "                                                        start_date,\n",
    "                                                        end_date))\n",
    "\n",
    "    return_df = pd.concat(return_dfs)\n",
    "    return_df = return_df.pivot_table(values='adjusted close', \n",
    "                                      columns=['ticker'], \n",
    "                                      index=return_df.index).sort_index()\n",
    "    return return_df"
   ]
  },
  {
   "cell_type": "code",
   "execution_count": 9,
   "metadata": {},
   "outputs": [],
   "source": [
    "dfs = []\n",
    "\n",
    "for ticker in all_ticker_list:\n",
    "    dfs.append(get_weekly_twits_for_ticker(ticker,\n",
    "                                           start_date,\n",
    "                                           end_date))\n",
    "\n",
    "df = pd.concat(dfs)"
   ]
  },
  {
   "cell_type": "code",
   "execution_count": 10,
   "metadata": {},
   "outputs": [],
   "source": [
    "weekly_signal_df = df.pivot_table(values='B_m_B', columns=['ticker'], index=df.index)"
   ]
  },
  {
   "cell_type": "code",
   "execution_count": 11,
   "metadata": {},
   "outputs": [],
   "source": [
    "weekly_signal_df = weekly_signal_df.fillna(0)"
   ]
  },
  {
   "cell_type": "code",
   "execution_count": null,
   "metadata": {},
   "outputs": [],
   "source": []
  },
  {
   "cell_type": "code",
   "execution_count": 12,
   "metadata": {},
   "outputs": [],
   "source": [
    "quantile_lables = ['q1', 'q2', 'q3', 'q4', 'q5']\n",
    "\n",
    "def label_rows_by_quantile(row):\n",
    "    result = pd.qcut(row, 5, labels=quantile_lables,\n",
    "                     duplicates='drop')\n",
    "    return result\n",
    "\n",
    "def get_portfolio_signal_for_quantile(weekly_signal_df, quantile):\n",
    "    \n",
    "    q_label_df = weekly_signal_df.apply(\n",
    "        label_rows_by_quantile, axis=1).sort_index()\n",
    "    \n",
    "    portfolio_ts = (q_label_df == quantile).astype(int)\n",
    "    portfolio_ts_one_time_ahead = portfolio_ts.shift(1)\n",
    "    return portfolio_ts_one_time_ahead\n",
    "\n",
    "def calc_portfolio_returns(portfolio_holding_df,\n",
    "                           return_df):\n",
    "    assert np.all(return_df.columns == portfolio_holding_df.columns)\n",
    "    n_holding_ts = portfolio_holding_df.sum(axis=1)\n",
    "    \n",
    "    portfolio_returns = return_df * portfolio_holding_df\n",
    "    portfolio_returns = (portfolio_returns.sum(axis=1) \n",
    "                         / n_holding_ts).iloc[1:]\n",
    "    return portfolio_returns"
   ]
  },
  {
   "cell_type": "code",
   "execution_count": 13,
   "metadata": {},
   "outputs": [],
   "source": [
    "portfolio_holding_df_q1 = get_portfolio_signal_for_quantile(weekly_signal_df,\n",
    "                                                            'q1')\n",
    "portfolio_holding_df_q5 = get_portfolio_signal_for_quantile(weekly_signal_df,\n",
    "                                                            'q5')"
   ]
  },
  {
   "cell_type": "code",
   "execution_count": 14,
   "metadata": {},
   "outputs": [],
   "source": [
    "return_df = get_weekly_returns_for_ticker_list(all_ticker_list,\n",
    "                                               start_date,\n",
    "                                               end_date)"
   ]
  },
  {
   "cell_type": "code",
   "execution_count": 24,
   "metadata": {},
   "outputs": [],
   "source": [
    "portfolio_return_df_q1 = calc_portfolio_returns(portfolio_holding_df_q1,\n",
    "                                                return_df)\n",
    "portfolio_return_df_q5 = calc_portfolio_returns(portfolio_holding_df_q5,\n",
    "                                                return_df)"
   ]
  },
  {
   "cell_type": "code",
   "execution_count": 25,
   "metadata": {},
   "outputs": [],
   "source": [
    "# strategy - long q1, short q5\n",
    "portfolio_return_df_strategy = portfolio_return_df_q1 - portfolio_return_df_q5"
   ]
  },
  {
   "cell_type": "code",
   "execution_count": null,
   "metadata": {},
   "outputs": [],
   "source": []
  },
  {
   "cell_type": "markdown",
   "metadata": {},
   "source": [
    "### Read Fama French Data"
   ]
  },
  {
   "cell_type": "code",
   "execution_count": 26,
   "metadata": {},
   "outputs": [],
   "source": [
    "ff_df_wkly = get_ff_factors_with_freq()"
   ]
  },
  {
   "cell_type": "code",
   "execution_count": 27,
   "metadata": {},
   "outputs": [
    {
     "data": {
      "text/html": [
       "<div>\n",
       "<style scoped>\n",
       "    .dataframe tbody tr th:only-of-type {\n",
       "        vertical-align: middle;\n",
       "    }\n",
       "\n",
       "    .dataframe tbody tr th {\n",
       "        vertical-align: top;\n",
       "    }\n",
       "\n",
       "    .dataframe thead th {\n",
       "        text-align: right;\n",
       "    }\n",
       "</style>\n",
       "<table border=\"1\" class=\"dataframe\">\n",
       "  <thead>\n",
       "    <tr style=\"text-align: right;\">\n",
       "      <th></th>\n",
       "      <th>Mkt-RF</th>\n",
       "      <th>SMB</th>\n",
       "      <th>HML</th>\n",
       "      <th>Mom</th>\n",
       "    </tr>\n",
       "    <tr>\n",
       "      <th>date</th>\n",
       "      <th></th>\n",
       "      <th></th>\n",
       "      <th></th>\n",
       "      <th></th>\n",
       "    </tr>\n",
       "  </thead>\n",
       "  <tbody>\n",
       "    <tr>\n",
       "      <th>1926-11-05</th>\n",
       "      <td>0.008617</td>\n",
       "      <td>-0.004793</td>\n",
       "      <td>0.006390</td>\n",
       "      <td>0.011976</td>\n",
       "    </tr>\n",
       "    <tr>\n",
       "      <th>1926-11-12</th>\n",
       "      <td>0.011203</td>\n",
       "      <td>0.000790</td>\n",
       "      <td>-0.005505</td>\n",
       "      <td>-0.008418</td>\n",
       "    </tr>\n",
       "    <tr>\n",
       "      <th>1926-11-19</th>\n",
       "      <td>-0.011878</td>\n",
       "      <td>0.004678</td>\n",
       "      <td>0.002586</td>\n",
       "      <td>0.011541</td>\n",
       "    </tr>\n",
       "    <tr>\n",
       "      <th>1926-11-26</th>\n",
       "      <td>0.015893</td>\n",
       "      <td>-0.000504</td>\n",
       "      <td>0.003499</td>\n",
       "      <td>-0.005317</td>\n",
       "    </tr>\n",
       "    <tr>\n",
       "      <th>1926-12-03</th>\n",
       "      <td>0.009307</td>\n",
       "      <td>-0.001500</td>\n",
       "      <td>-0.008983</td>\n",
       "      <td>-0.002220</td>\n",
       "    </tr>\n",
       "  </tbody>\n",
       "</table>\n",
       "</div>"
      ],
      "text/plain": [
       "              Mkt-RF       SMB       HML       Mom\n",
       "date                                              \n",
       "1926-11-05  0.008617 -0.004793  0.006390  0.011976\n",
       "1926-11-12  0.011203  0.000790 -0.005505 -0.008418\n",
       "1926-11-19 -0.011878  0.004678  0.002586  0.011541\n",
       "1926-11-26  0.015893 -0.000504  0.003499 -0.005317\n",
       "1926-12-03  0.009307 -0.001500 -0.008983 -0.002220"
      ]
     },
     "execution_count": 27,
     "metadata": {},
     "output_type": "execute_result"
    }
   ],
   "source": [
    "ff_df_wkly.head()"
   ]
  },
  {
   "cell_type": "code",
   "execution_count": null,
   "metadata": {},
   "outputs": [],
   "source": []
  },
  {
   "cell_type": "markdown",
   "metadata": {},
   "source": [
    "### Compare Q5 vs. Q1 portfolio\n",
    "- Assume equal (dollar) weighting for now (which means we avg the returns)"
   ]
  },
  {
   "cell_type": "code",
   "execution_count": 28,
   "metadata": {},
   "outputs": [],
   "source": [
    "import statsmodels.formula.api as smf"
   ]
  },
  {
   "cell_type": "code",
   "execution_count": 40,
   "metadata": {},
   "outputs": [],
   "source": [
    "def calc_portfolio_performance(portfolio_return_weekly_df,\n",
    "                               ff_df_weekly):\n",
    "    avg_annualized_return = (1 + portfolio_return_weekly_df.mean()) ** 52\n",
    "    \n",
    "    all_df = portfolio_return_weekly_df.to_frame(\n",
    "        'portfolio_return').merge(ff_df_wkly,\n",
    "                                  left_index=True, \n",
    "                                  right_index=True)\n",
    "    lm = smf.ols(\n",
    "        \"portfolio_return ~ Q('Mkt-RF') + SMB + HML + Mom\", data=all_df).fit()\n",
    "    avg_annualized_alpha = lm.params['Intercept']\n",
    "    \n",
    "    return {\n",
    "        'lm': lm,\n",
    "        'annualized_return': avg_annualized_return,\n",
    "        'annualized_alpha': avg_annualized_alpha,\n",
    "    }"
   ]
  },
  {
   "cell_type": "code",
   "execution_count": 41,
   "metadata": {},
   "outputs": [],
   "source": [
    "performance_q1 = calc_portfolio_performance(portfolio_return_df_q1,\n",
    "                                            ff_df_wkly)\n",
    "performance_q5 = calc_portfolio_performance(portfolio_return_df_q5,\n",
    "                                            ff_df_wkly)\n",
    "performance_strategy = calc_portfolio_performance(portfolio_return_df_strategy,\n",
    "                                                  ff_df_wkly)"
   ]
  },
  {
   "cell_type": "code",
   "execution_count": 43,
   "metadata": {},
   "outputs": [
    {
     "data": {
      "text/html": [
       "<table class=\"simpletable\">\n",
       "<caption>OLS Regression Results</caption>\n",
       "<tr>\n",
       "  <th>Dep. Variable:</th>    <td>portfolio_return</td> <th>  R-squared:         </th> <td>   0.920</td>\n",
       "</tr>\n",
       "<tr>\n",
       "  <th>Model:</th>                   <td>OLS</td>       <th>  Adj. R-squared:    </th> <td>   0.918</td>\n",
       "</tr>\n",
       "<tr>\n",
       "  <th>Method:</th>             <td>Least Squares</td>  <th>  F-statistic:       </th> <td>   374.5</td>\n",
       "</tr>\n",
       "<tr>\n",
       "  <th>Date:</th>             <td>Mon, 04 Nov 2019</td> <th>  Prob (F-statistic):</th> <td>2.69e-70</td>\n",
       "</tr>\n",
       "<tr>\n",
       "  <th>Time:</th>                 <td>05:51:38</td>     <th>  Log-Likelihood:    </th> <td>  495.78</td>\n",
       "</tr>\n",
       "<tr>\n",
       "  <th>No. Observations:</th>      <td>   135</td>      <th>  AIC:               </th> <td>  -981.6</td>\n",
       "</tr>\n",
       "<tr>\n",
       "  <th>Df Residuals:</th>          <td>   130</td>      <th>  BIC:               </th> <td>  -967.0</td>\n",
       "</tr>\n",
       "<tr>\n",
       "  <th>Df Model:</th>              <td>     4</td>      <th>                     </th>     <td> </td>   \n",
       "</tr>\n",
       "<tr>\n",
       "  <th>Covariance Type:</th>      <td>nonrobust</td>    <th>                     </th>     <td> </td>   \n",
       "</tr>\n",
       "</table>\n",
       "<table class=\"simpletable\">\n",
       "<tr>\n",
       "       <td></td>          <th>coef</th>     <th>std err</th>      <th>t</th>      <th>P>|t|</th>  <th>[0.025</th>    <th>0.975]</th>  \n",
       "</tr>\n",
       "<tr>\n",
       "  <th>Intercept</th>   <td>   -0.0003</td> <td>    0.001</td> <td>   -0.461</td> <td> 0.646</td> <td>   -0.001</td> <td>    0.001</td>\n",
       "</tr>\n",
       "<tr>\n",
       "  <th>Q('Mkt-RF')</th> <td>    1.0776</td> <td>    0.029</td> <td>   37.400</td> <td> 0.000</td> <td>    1.021</td> <td>    1.135</td>\n",
       "</tr>\n",
       "<tr>\n",
       "  <th>SMB</th>         <td>    0.0602</td> <td>    0.052</td> <td>    1.162</td> <td> 0.247</td> <td>   -0.042</td> <td>    0.163</td>\n",
       "</tr>\n",
       "<tr>\n",
       "  <th>HML</th>         <td>   -0.2468</td> <td>    0.053</td> <td>   -4.684</td> <td> 0.000</td> <td>   -0.351</td> <td>   -0.143</td>\n",
       "</tr>\n",
       "<tr>\n",
       "  <th>Mom</th>         <td>   -0.0291</td> <td>    0.046</td> <td>   -0.639</td> <td> 0.524</td> <td>   -0.119</td> <td>    0.061</td>\n",
       "</tr>\n",
       "</table>\n",
       "<table class=\"simpletable\">\n",
       "<tr>\n",
       "  <th>Omnibus:</th>       <td> 0.292</td> <th>  Durbin-Watson:     </th> <td>   2.327</td>\n",
       "</tr>\n",
       "<tr>\n",
       "  <th>Prob(Omnibus):</th> <td> 0.864</td> <th>  Jarque-Bera (JB):  </th> <td>   0.103</td>\n",
       "</tr>\n",
       "<tr>\n",
       "  <th>Skew:</th>          <td> 0.057</td> <th>  Prob(JB):          </th> <td>   0.950</td>\n",
       "</tr>\n",
       "<tr>\n",
       "  <th>Kurtosis:</th>      <td> 3.071</td> <th>  Cond. No.          </th> <td>    112.</td>\n",
       "</tr>\n",
       "</table><br/><br/>Warnings:<br/>[1] Standard Errors assume that the covariance matrix of the errors is correctly specified."
      ],
      "text/plain": [
       "<class 'statsmodels.iolib.summary.Summary'>\n",
       "\"\"\"\n",
       "                            OLS Regression Results                            \n",
       "==============================================================================\n",
       "Dep. Variable:       portfolio_return   R-squared:                       0.920\n",
       "Model:                            OLS   Adj. R-squared:                  0.918\n",
       "Method:                 Least Squares   F-statistic:                     374.5\n",
       "Date:                Mon, 04 Nov 2019   Prob (F-statistic):           2.69e-70\n",
       "Time:                        05:51:38   Log-Likelihood:                 495.78\n",
       "No. Observations:                 135   AIC:                            -981.6\n",
       "Df Residuals:                     130   BIC:                            -967.0\n",
       "Df Model:                           4                                         \n",
       "Covariance Type:            nonrobust                                         \n",
       "===============================================================================\n",
       "                  coef    std err          t      P>|t|      [0.025      0.975]\n",
       "-------------------------------------------------------------------------------\n",
       "Intercept      -0.0003      0.001     -0.461      0.646      -0.001       0.001\n",
       "Q('Mkt-RF')     1.0776      0.029     37.400      0.000       1.021       1.135\n",
       "SMB             0.0602      0.052      1.162      0.247      -0.042       0.163\n",
       "HML            -0.2468      0.053     -4.684      0.000      -0.351      -0.143\n",
       "Mom            -0.0291      0.046     -0.639      0.524      -0.119       0.061\n",
       "==============================================================================\n",
       "Omnibus:                        0.292   Durbin-Watson:                   2.327\n",
       "Prob(Omnibus):                  0.864   Jarque-Bera (JB):                0.103\n",
       "Skew:                           0.057   Prob(JB):                        0.950\n",
       "Kurtosis:                       3.071   Cond. No.                         112.\n",
       "==============================================================================\n",
       "\n",
       "Warnings:\n",
       "[1] Standard Errors assume that the covariance matrix of the errors is correctly specified.\n",
       "\"\"\""
      ]
     },
     "execution_count": 43,
     "metadata": {},
     "output_type": "execute_result"
    }
   ],
   "source": [
    "performance_q5['lm'].summary()"
   ]
  },
  {
   "cell_type": "code",
   "execution_count": null,
   "metadata": {},
   "outputs": [],
   "source": []
  }
 ],
 "metadata": {
  "kernelspec": {
   "display_name": "Python 3",
   "language": "python",
   "name": "python3"
  },
  "language_info": {
   "codemirror_mode": {
    "name": "ipython",
    "version": 3
   },
   "file_extension": ".py",
   "mimetype": "text/x-python",
   "name": "python",
   "nbconvert_exporter": "python",
   "pygments_lexer": "ipython3",
   "version": "3.6.5"
  }
 },
 "nbformat": 4,
 "nbformat_minor": 2
}
