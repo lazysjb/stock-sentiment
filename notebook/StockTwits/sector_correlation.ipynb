{
 "cells": [
  {
   "cell_type": "code",
   "execution_count": null,
   "metadata": {},
   "outputs": [],
   "source": [
    "%load_ext autoreload\n",
    "%autoreload 2"
   ]
  },
  {
   "cell_type": "code",
   "execution_count": 2,
   "metadata": {},
   "outputs": [],
   "source": [
    "import sys\n",
    "sys.path.append('../../')"
   ]
  },
  {
   "cell_type": "code",
   "execution_count": 3,
   "metadata": {},
   "outputs": [],
   "source": [
    "import numpy as np\n",
    "import pandas as pd\n",
    "\n",
    "import matplotlib.pyplot as plt\n",
    "%matplotlib inline\n",
    "\n",
    "from util.file_util import StockTwitsFileReader, StockDataFileReader\n",
    "from util.ts_util import (\n",
    "    shift_date_index, calc_corr, \n",
    "    resample_weekly, rolling_nday)\n",
    "from util.plot_util import (\n",
    "    plot_time_series_bar, overlay_on_secondary_axis)\n",
    "from util.stockdata_helper import (\n",
    "    get_sp500_sector_info, get_gics_sector_list,\n",
    "    get_etf_ticker_for_sector, get_component_tickers_for_sector,\n",
    "    get_nday_returns_for_ticker\n",
    ")\n",
    "from config import STOCKTWITS_TICKER_LIST, ETF_TICKER_TO_SECTOR"
   ]
  },
  {
   "cell_type": "code",
   "execution_count": 4,
   "metadata": {},
   "outputs": [],
   "source": [
    "start_date = '2018-01-01'\n",
    "end_date = '2019-08-10'\n",
    "\n",
    "twit_file_reader = StockTwitsFileReader() \n",
    "stock_file_reader = StockDataFileReader()"
   ]
  },
  {
   "cell_type": "code",
   "execution_count": 5,
   "metadata": {},
   "outputs": [
    {
     "data": {
      "text/plain": [
       "['Consumer Staples',\n",
       " 'Real Estate',\n",
       " 'Industrials',\n",
       " 'Information Technology',\n",
       " 'Communication Services',\n",
       " 'Energy',\n",
       " 'Materials',\n",
       " 'Consumer Discretionary',\n",
       " 'Financials',\n",
       " 'Health Care',\n",
       " 'Utilities',\n",
       " 'All']"
      ]
     },
     "execution_count": 5,
     "metadata": {},
     "output_type": "execute_result"
    }
   ],
   "source": [
    "all_sectors = get_gics_sector_list()\n",
    "all_sectors"
   ]
  },
  {
   "cell_type": "code",
   "execution_count": 6,
   "metadata": {},
   "outputs": [],
   "source": [
    "def append_sentiment_cols(sentiment_df):\n",
    "    new_sentiment_df = sentiment_df.copy()\n",
    "    \n",
    "    new_sentiment_df['Bullish_minus_Bearish'] = new_sentiment_df['Bullish'] - new_sentiment_df['Bearish']\n",
    "    new_sentiment_df['Log_Bullish_over_Bearish'] = np.log(new_sentiment_df['Bullish']) - np.log(new_sentiment_df['Bearish'])\n",
    "    return new_sentiment_df\n",
    "\n",
    "def get_daily_sentiment_agg_df_for_sector(sector):\n",
    "    tickers_in_sector = get_component_tickers_for_sector(sector)\n",
    "    print('number of component tickers {} in {}'.format(len(tickers_in_sector),\n",
    "                                                        sector))\n",
    "    \n",
    "    daily_sentiment_agg_df = pd.DataFrame()\n",
    "\n",
    "    for ticker in tickers_in_sector:\n",
    "        twit_df = twit_file_reader.read_daily_sentiment_summary_prelim(ticker,\n",
    "                                                                       start_date=start_date,\n",
    "                                                                       end_date=end_date)\n",
    "\n",
    "        daily_sentiment_agg_df = daily_sentiment_agg_df.add(twit_df, fill_value=0)\n",
    "    \n",
    "    return daily_sentiment_agg_df"
   ]
  },
  {
   "cell_type": "code",
   "execution_count": 7,
   "metadata": {},
   "outputs": [
    {
     "name": "stdout",
     "output_type": "stream",
     "text": [
      "number of component tickers 502 in All\n"
     ]
    }
   ],
   "source": [
    "sample_select_sector = 'All'\n",
    "\n",
    "daily_sentiment_agg_df = get_daily_sentiment_agg_df_for_sector(sample_select_sector)\n",
    "wkly_sentiment_agg_df = resample_weekly(daily_sentiment_agg_df)\n",
    "\n",
    "etf_ticker = get_etf_ticker_for_sector(sample_select_sector)"
   ]
  },
  {
   "cell_type": "code",
   "execution_count": 8,
   "metadata": {},
   "outputs": [
    {
     "data": {
      "text/html": [
       "<div>\n",
       "<style scoped>\n",
       "    .dataframe tbody tr th:only-of-type {\n",
       "        vertical-align: middle;\n",
       "    }\n",
       "\n",
       "    .dataframe tbody tr th {\n",
       "        vertical-align: top;\n",
       "    }\n",
       "\n",
       "    .dataframe thead th {\n",
       "        text-align: right;\n",
       "    }\n",
       "</style>\n",
       "<table border=\"1\" class=\"dataframe\">\n",
       "  <thead>\n",
       "    <tr style=\"text-align: right;\">\n",
       "      <th></th>\n",
       "      <th>Bearish</th>\n",
       "      <th>Bullish</th>\n",
       "    </tr>\n",
       "  </thead>\n",
       "  <tbody>\n",
       "    <tr>\n",
       "      <th>2018-01-05</th>\n",
       "      <td>1843.0</td>\n",
       "      <td>12921.0</td>\n",
       "    </tr>\n",
       "    <tr>\n",
       "      <th>2018-01-12</th>\n",
       "      <td>2094.0</td>\n",
       "      <td>16383.0</td>\n",
       "    </tr>\n",
       "    <tr>\n",
       "      <th>2018-01-19</th>\n",
       "      <td>2255.0</td>\n",
       "      <td>13995.0</td>\n",
       "    </tr>\n",
       "    <tr>\n",
       "      <th>2018-01-26</th>\n",
       "      <td>3548.0</td>\n",
       "      <td>20884.0</td>\n",
       "    </tr>\n",
       "    <tr>\n",
       "      <th>2018-02-02</th>\n",
       "      <td>5483.0</td>\n",
       "      <td>31048.0</td>\n",
       "    </tr>\n",
       "  </tbody>\n",
       "</table>\n",
       "</div>"
      ],
      "text/plain": [
       "            Bearish  Bullish\n",
       "2018-01-05   1843.0  12921.0\n",
       "2018-01-12   2094.0  16383.0\n",
       "2018-01-19   2255.0  13995.0\n",
       "2018-01-26   3548.0  20884.0\n",
       "2018-02-02   5483.0  31048.0"
      ]
     },
     "execution_count": 8,
     "metadata": {},
     "output_type": "execute_result"
    }
   ],
   "source": [
    "wkly_sentiment_agg_df.head()"
   ]
  },
  {
   "cell_type": "code",
   "execution_count": 9,
   "metadata": {},
   "outputs": [],
   "source": [
    "etf_price_ts = stock_file_reader.read_stockdata_in_range(etf_ticker,\n",
    "                                                         start_date,\n",
    "                                                         end_date)"
   ]
  },
  {
   "cell_type": "code",
   "execution_count": 10,
   "metadata": {},
   "outputs": [
    {
     "data": {
      "text/plain": [
       "<matplotlib.axes._subplots.AxesSubplot at 0x1177aef60>"
      ]
     },
     "execution_count": 10,
     "metadata": {},
     "output_type": "execute_result"
    },
    {
     "data": {
      "image/png": "[encoded data removed]",
      "text/plain": [
       "<Figure size 432x288 with 1 Axes>"
      ]
     },
     "metadata": {
      "needs_background": "light"
     },
     "output_type": "display_data"
    }
   ],
   "source": [
    "etf_price_ts.plot()"
   ]
  },
  {
   "cell_type": "code",
   "execution_count": 11,
   "metadata": {},
   "outputs": [
    {
     "name": "stderr",
     "output_type": "stream",
     "text": [
      "/Users/seung-jae_bang/.virtualenvs/my_research/lib/python3.6/site-packages/matplotlib/legend.py:1270: UserWarning: You have mixed positional and keyword arguments, some input may be discarded.\n",
      "  warnings.warn(\"You have mixed positional and keyword arguments, some \"\n"
     ]
    },
    {
     "data": {
      "image/png": "[encoded data removed]",
      "text/plain": [
       "<Figure size 1008x360 with 2 Axes>"
      ]
     },
     "metadata": {
      "needs_background": "light"
     },
     "output_type": "display_data"
    }
   ],
   "source": [
    "ax = plot_time_series_bar(wkly_sentiment_agg_df[['Bearish', 'Bullish']], \n",
    "                          figsize=(14, 5),)\n",
    "\n",
    "overlay_on_secondary_axis(etf_price_ts, 'adjusted close', ax)"
   ]
  },
  {
   "cell_type": "code",
   "execution_count": null,
   "metadata": {},
   "outputs": [],
   "source": []
  },
  {
   "cell_type": "markdown",
   "metadata": {},
   "source": [
    "### Daily Correlations by Lag"
   ]
  },
  {
   "cell_type": "code",
   "execution_count": 12,
   "metadata": {},
   "outputs": [],
   "source": [
    "sentiment_types = [\n",
    "    'Bullish',\n",
    "    'Bearish',\n",
    "    'Bullish_minus_Bearish',\n",
    "    'Log_Bullish_over_Bearish'\n",
    "]"
   ]
  },
  {
   "cell_type": "code",
   "execution_count": 13,
   "metadata": {},
   "outputs": [
    {
     "name": "stdout",
     "output_type": "stream",
     "text": [
      "number of component tickers 33 in Consumer Staples\n"
     ]
    },
    {
     "name": "stderr",
     "output_type": "stream",
     "text": [
      "/Users/seung-jae_bang/.virtualenvs/my_research/lib/python3.6/site-packages/ipykernel_launcher.py:5: RuntimeWarning: divide by zero encountered in log\n",
      "  \"\"\"\n"
     ]
    },
    {
     "name": "stdout",
     "output_type": "stream",
     "text": [
      "number of component tickers 32 in Real Estate\n"
     ]
    },
    {
     "name": "stderr",
     "output_type": "stream",
     "text": [
      "/Users/seung-jae_bang/.virtualenvs/my_research/lib/python3.6/site-packages/ipykernel_launcher.py:5: RuntimeWarning: divide by zero encountered in log\n",
      "  \"\"\"\n"
     ]
    },
    {
     "name": "stdout",
     "output_type": "stream",
     "text": [
      "number of component tickers 69 in Industrials\n",
      "number of component tickers 68 in Information Technology\n",
      "number of component tickers 26 in Communication Services\n"
     ]
    },
    {
     "name": "stderr",
     "output_type": "stream",
     "text": [
      "/Users/seung-jae_bang/.virtualenvs/my_research/lib/python3.6/site-packages/ipykernel_launcher.py:5: RuntimeWarning: divide by zero encountered in log\n",
      "  \"\"\"\n"
     ]
    },
    {
     "name": "stdout",
     "output_type": "stream",
     "text": [
      "number of component tickers 28 in Energy\n"
     ]
    },
    {
     "name": "stderr",
     "output_type": "stream",
     "text": [
      "/Users/seung-jae_bang/.virtualenvs/my_research/lib/python3.6/site-packages/ipykernel_launcher.py:5: RuntimeWarning: divide by zero encountered in log\n",
      "  \"\"\"\n"
     ]
    },
    {
     "name": "stdout",
     "output_type": "stream",
     "text": [
      "number of component tickers 27 in Materials\n"
     ]
    },
    {
     "name": "stderr",
     "output_type": "stream",
     "text": [
      "/Users/seung-jae_bang/.virtualenvs/my_research/lib/python3.6/site-packages/ipykernel_launcher.py:5: RuntimeWarning: divide by zero encountered in log\n",
      "  \"\"\"\n"
     ]
    },
    {
     "name": "stdout",
     "output_type": "stream",
     "text": [
      "number of component tickers 62 in Consumer Discretionary\n",
      "number of component tickers 67 in Financials\n"
     ]
    },
    {
     "name": "stderr",
     "output_type": "stream",
     "text": [
      "/Users/seung-jae_bang/.virtualenvs/my_research/lib/python3.6/site-packages/ipykernel_launcher.py:5: RuntimeWarning: divide by zero encountered in log\n",
      "  \"\"\"\n"
     ]
    },
    {
     "name": "stdout",
     "output_type": "stream",
     "text": [
      "number of component tickers 62 in Health Care\n",
      "number of component tickers 28 in Utilities\n"
     ]
    },
    {
     "name": "stderr",
     "output_type": "stream",
     "text": [
      "/Users/seung-jae_bang/.virtualenvs/my_research/lib/python3.6/site-packages/ipykernel_launcher.py:5: RuntimeWarning: divide by zero encountered in log\n",
      "  \"\"\"\n"
     ]
    },
    {
     "name": "stdout",
     "output_type": "stream",
     "text": [
      "number of component tickers 502 in All\n"
     ]
    }
   ],
   "source": [
    "# lags indicate Twit leads\n",
    "n_lags = [0, 1, 3, 5]\n",
    "corr_summary = []\n",
    "\n",
    "\n",
    "for sector in all_sectors:\n",
    "    \n",
    "    daily_sentiment_agg_df = get_daily_sentiment_agg_df_for_sector(sector)\n",
    "    etf_ticker = get_etf_ticker_for_sector(sector)\n",
    "    daily_etf_return = get_nday_returns_for_ticker(etf_ticker, \n",
    "                                                   start_date, \n",
    "                                                   end_date,\n",
    "                                                   n_days=1)\n",
    "    \n",
    "    daily_sentiment_agg_df = append_sentiment_cols(daily_sentiment_agg_df)\n",
    "    \n",
    "    for sentiment_type in sentiment_types:\n",
    "        for lag in n_lags:\n",
    "            if lag == 0:\n",
    "                shifted_daily_sentiment_agg_df = daily_sentiment_agg_df\n",
    "            else:\n",
    "                shifted_daily_sentiment_agg_df = shift_date_index(daily_sentiment_agg_df, lag)\n",
    "\n",
    "            corr = calc_corr(shifted_daily_sentiment_agg_df, \n",
    "                             daily_etf_return,\n",
    "                             sentiment_type,\n",
    "                             'adjusted close return')\n",
    "            corr_summary.append({\n",
    "                'ticker': etf_ticker,\n",
    "                'sector': sector,\n",
    "                'sentiment_type': sentiment_type,\n",
    "                'lag': lag,\n",
    "                'corr': corr,\n",
    "            })"
   ]
  },
  {
   "cell_type": "code",
   "execution_count": 14,
   "metadata": {},
   "outputs": [],
   "source": [
    "corr_summary_df = pd.DataFrame(corr_summary)"
   ]
  },
  {
   "cell_type": "code",
   "execution_count": 15,
   "metadata": {},
   "outputs": [],
   "source": [
    "corr_summary_df_pivot = corr_summary_df.pivot_table(\n",
    "    index=['sentiment_type', 'ticker', 'sector'],\n",
    "    columns=['lag'],\n",
    "    values='corr'\n",
    ").round(2)"
   ]
  },
  {
   "cell_type": "code",
   "execution_count": 16,
   "metadata": {},
   "outputs": [
    {
     "data": {
      "text/html": [
       "<div>\n",
       "<style scoped>\n",
       "    .dataframe tbody tr th:only-of-type {\n",
       "        vertical-align: middle;\n",
       "    }\n",
       "\n",
       "    .dataframe tbody tr th {\n",
       "        vertical-align: top;\n",
       "    }\n",
       "\n",
       "    .dataframe thead th {\n",
       "        text-align: right;\n",
       "    }\n",
       "</style>\n",
       "<table border=\"1\" class=\"dataframe\">\n",
       "  <thead>\n",
       "    <tr style=\"text-align: right;\">\n",
       "      <th></th>\n",
       "      <th>lag</th>\n",
       "      <th>0</th>\n",
       "      <th>1</th>\n",
       "      <th>3</th>\n",
       "      <th>5</th>\n",
       "    </tr>\n",
       "    <tr>\n",
       "      <th>ticker</th>\n",
       "      <th>sector</th>\n",
       "      <th></th>\n",
       "      <th></th>\n",
       "      <th></th>\n",
       "      <th></th>\n",
       "    </tr>\n",
       "  </thead>\n",
       "  <tbody>\n",
       "    <tr>\n",
       "      <th>SPY</th>\n",
       "      <th>All</th>\n",
       "      <td>0.37</td>\n",
       "      <td>-0.00</td>\n",
       "      <td>-0.02</td>\n",
       "      <td>-0.05</td>\n",
       "    </tr>\n",
       "    <tr>\n",
       "      <th>XLB</th>\n",
       "      <th>Materials</th>\n",
       "      <td>0.20</td>\n",
       "      <td>0.02</td>\n",
       "      <td>-0.01</td>\n",
       "      <td>-0.10</td>\n",
       "    </tr>\n",
       "    <tr>\n",
       "      <th>XLC</th>\n",
       "      <th>Communication Services</th>\n",
       "      <td>0.42</td>\n",
       "      <td>-0.03</td>\n",
       "      <td>-0.09</td>\n",
       "      <td>-0.07</td>\n",
       "    </tr>\n",
       "    <tr>\n",
       "      <th>XLE</th>\n",
       "      <th>Energy</th>\n",
       "      <td>0.36</td>\n",
       "      <td>0.07</td>\n",
       "      <td>0.03</td>\n",
       "      <td>-0.05</td>\n",
       "    </tr>\n",
       "    <tr>\n",
       "      <th>XLF</th>\n",
       "      <th>Financials</th>\n",
       "      <td>0.34</td>\n",
       "      <td>-0.01</td>\n",
       "      <td>-0.00</td>\n",
       "      <td>-0.08</td>\n",
       "    </tr>\n",
       "    <tr>\n",
       "      <th>XLI</th>\n",
       "      <th>Industrials</th>\n",
       "      <td>0.33</td>\n",
       "      <td>0.03</td>\n",
       "      <td>0.01</td>\n",
       "      <td>0.07</td>\n",
       "    </tr>\n",
       "    <tr>\n",
       "      <th>XLK</th>\n",
       "      <th>Information Technology</th>\n",
       "      <td>0.33</td>\n",
       "      <td>-0.04</td>\n",
       "      <td>-0.02</td>\n",
       "      <td>-0.07</td>\n",
       "    </tr>\n",
       "    <tr>\n",
       "      <th>XLP</th>\n",
       "      <th>Consumer Staples</th>\n",
       "      <td>0.28</td>\n",
       "      <td>0.01</td>\n",
       "      <td>0.02</td>\n",
       "      <td>-0.02</td>\n",
       "    </tr>\n",
       "    <tr>\n",
       "      <th>XLRE</th>\n",
       "      <th>Real Estate</th>\n",
       "      <td>0.22</td>\n",
       "      <td>0.01</td>\n",
       "      <td>0.02</td>\n",
       "      <td>-0.02</td>\n",
       "    </tr>\n",
       "    <tr>\n",
       "      <th>XLU</th>\n",
       "      <th>Utilities</th>\n",
       "      <td>0.06</td>\n",
       "      <td>0.03</td>\n",
       "      <td>0.03</td>\n",
       "      <td>0.03</td>\n",
       "    </tr>\n",
       "    <tr>\n",
       "      <th>XLV</th>\n",
       "      <th>Health Care</th>\n",
       "      <td>0.36</td>\n",
       "      <td>0.10</td>\n",
       "      <td>0.00</td>\n",
       "      <td>-0.05</td>\n",
       "    </tr>\n",
       "    <tr>\n",
       "      <th>XLY</th>\n",
       "      <th>Consumer Discretionary</th>\n",
       "      <td>0.42</td>\n",
       "      <td>-0.03</td>\n",
       "      <td>-0.01</td>\n",
       "      <td>0.00</td>\n",
       "    </tr>\n",
       "  </tbody>\n",
       "</table>\n",
       "</div>"
      ],
      "text/plain": [
       "lag                               0     1     3     5\n",
       "ticker sector                                        \n",
       "SPY    All                     0.37 -0.00 -0.02 -0.05\n",
       "XLB    Materials               0.20  0.02 -0.01 -0.10\n",
       "XLC    Communication Services  0.42 -0.03 -0.09 -0.07\n",
       "XLE    Energy                  0.36  0.07  0.03 -0.05\n",
       "XLF    Financials              0.34 -0.01 -0.00 -0.08\n",
       "XLI    Industrials             0.33  0.03  0.01  0.07\n",
       "XLK    Information Technology  0.33 -0.04 -0.02 -0.07\n",
       "XLP    Consumer Staples        0.28  0.01  0.02 -0.02\n",
       "XLRE   Real Estate             0.22  0.01  0.02 -0.02\n",
       "XLU    Utilities               0.06  0.03  0.03  0.03\n",
       "XLV    Health Care             0.36  0.10  0.00 -0.05\n",
       "XLY    Consumer Discretionary  0.42 -0.03 -0.01  0.00"
      ]
     },
     "execution_count": 16,
     "metadata": {},
     "output_type": "execute_result"
    }
   ],
   "source": [
    "corr_summary_df_pivot.loc['Log_Bullish_over_Bearish']"
   ]
  },
  {
   "cell_type": "code",
   "execution_count": null,
   "metadata": {},
   "outputs": [],
   "source": []
  },
  {
   "cell_type": "markdown",
   "metadata": {},
   "source": [
    "### Daily vs. NDay Correlation"
   ]
  },
  {
   "cell_type": "code",
   "execution_count": 17,
   "metadata": {},
   "outputs": [
    {
     "name": "stdout",
     "output_type": "stream",
     "text": [
      "number of component tickers 33 in Consumer Staples\n"
     ]
    },
    {
     "name": "stderr",
     "output_type": "stream",
     "text": [
      "/Users/seung-jae_bang/.virtualenvs/my_research/lib/python3.6/site-packages/ipykernel_launcher.py:5: RuntimeWarning: divide by zero encountered in log\n",
      "  \"\"\"\n"
     ]
    },
    {
     "name": "stdout",
     "output_type": "stream",
     "text": [
      "number of component tickers 32 in Real Estate\n"
     ]
    },
    {
     "name": "stderr",
     "output_type": "stream",
     "text": [
      "/Users/seung-jae_bang/.virtualenvs/my_research/lib/python3.6/site-packages/ipykernel_launcher.py:5: RuntimeWarning: divide by zero encountered in log\n",
      "  \"\"\"\n"
     ]
    },
    {
     "name": "stdout",
     "output_type": "stream",
     "text": [
      "number of component tickers 69 in Industrials\n",
      "number of component tickers 68 in Information Technology\n",
      "number of component tickers 26 in Communication Services\n"
     ]
    },
    {
     "name": "stderr",
     "output_type": "stream",
     "text": [
      "/Users/seung-jae_bang/.virtualenvs/my_research/lib/python3.6/site-packages/ipykernel_launcher.py:5: RuntimeWarning: divide by zero encountered in log\n",
      "  \"\"\"\n"
     ]
    },
    {
     "name": "stdout",
     "output_type": "stream",
     "text": [
      "number of component tickers 28 in Energy\n"
     ]
    },
    {
     "name": "stderr",
     "output_type": "stream",
     "text": [
      "/Users/seung-jae_bang/.virtualenvs/my_research/lib/python3.6/site-packages/ipykernel_launcher.py:5: RuntimeWarning: divide by zero encountered in log\n",
      "  \"\"\"\n"
     ]
    },
    {
     "name": "stdout",
     "output_type": "stream",
     "text": [
      "number of component tickers 27 in Materials\n"
     ]
    },
    {
     "name": "stderr",
     "output_type": "stream",
     "text": [
      "/Users/seung-jae_bang/.virtualenvs/my_research/lib/python3.6/site-packages/ipykernel_launcher.py:5: RuntimeWarning: divide by zero encountered in log\n",
      "  \"\"\"\n"
     ]
    },
    {
     "name": "stdout",
     "output_type": "stream",
     "text": [
      "number of component tickers 62 in Consumer Discretionary\n",
      "number of component tickers 67 in Financials\n"
     ]
    },
    {
     "name": "stderr",
     "output_type": "stream",
     "text": [
      "/Users/seung-jae_bang/.virtualenvs/my_research/lib/python3.6/site-packages/ipykernel_launcher.py:5: RuntimeWarning: divide by zero encountered in log\n",
      "  \"\"\"\n"
     ]
    },
    {
     "name": "stdout",
     "output_type": "stream",
     "text": [
      "number of component tickers 62 in Health Care\n",
      "number of component tickers 28 in Utilities\n"
     ]
    },
    {
     "name": "stderr",
     "output_type": "stream",
     "text": [
      "/Users/seung-jae_bang/.virtualenvs/my_research/lib/python3.6/site-packages/ipykernel_launcher.py:5: RuntimeWarning: divide by zero encountered in log\n",
      "  \"\"\"\n"
     ]
    },
    {
     "name": "stdout",
     "output_type": "stream",
     "text": [
      "number of component tickers 502 in All\n"
     ]
    }
   ],
   "source": [
    "n_days = [1, 5, 21, 63, 128, 256]\n",
    "corr_summary = []\n",
    "\n",
    "\n",
    "for sector in all_sectors:\n",
    "    \n",
    "    daily_sentiment_agg_df = get_daily_sentiment_agg_df_for_sector(sector)\n",
    "    etf_ticker = get_etf_ticker_for_sector(sector)\n",
    "    \n",
    "    daily_sentiment_agg_df = append_sentiment_cols(daily_sentiment_agg_df)\n",
    "    \n",
    "    for sentiment_type in sentiment_types:\n",
    "        \n",
    "        for n_day in n_days:\n",
    "            nday_etf_return = get_nday_returns_for_ticker(etf_ticker, \n",
    "                                                           start_date, \n",
    "                                                           end_date,\n",
    "                                                           n_days=n_day)\n",
    "            \n",
    "            shifted_daily_sentiment_agg_df = shift_date_index(daily_sentiment_agg_df, \n",
    "                                                              n_day)\n",
    "\n",
    "            corr = calc_corr(shifted_daily_sentiment_agg_df, \n",
    "                             nday_etf_return,\n",
    "                             sentiment_type,\n",
    "                             'adjusted close return')\n",
    "            corr_summary.append({\n",
    "                'ticker': etf_ticker,\n",
    "                'sector': sector,\n",
    "                'sentiment_type': sentiment_type,\n",
    "                'nday': n_day,\n",
    "                'corr': corr,\n",
    "            })"
   ]
  },
  {
   "cell_type": "code",
   "execution_count": 18,
   "metadata": {},
   "outputs": [],
   "source": [
    "corr_summary_df = pd.DataFrame(corr_summary)"
   ]
  },
  {
   "cell_type": "code",
   "execution_count": 19,
   "metadata": {},
   "outputs": [],
   "source": [
    "corr_summary_df_pivot = corr_summary_df.pivot_table(\n",
    "    index=['sentiment_type', 'ticker', 'sector'],\n",
    "    columns=['nday'],\n",
    "    values='corr'\n",
    ").round(2)"
   ]
  },
  {
   "cell_type": "code",
   "execution_count": 20,
   "metadata": {},
   "outputs": [
    {
     "data": {
      "text/html": [
       "<div>\n",
       "<style scoped>\n",
       "    .dataframe tbody tr th:only-of-type {\n",
       "        vertical-align: middle;\n",
       "    }\n",
       "\n",
       "    .dataframe tbody tr th {\n",
       "        vertical-align: top;\n",
       "    }\n",
       "\n",
       "    .dataframe thead th {\n",
       "        text-align: right;\n",
       "    }\n",
       "</style>\n",
       "<table border=\"1\" class=\"dataframe\">\n",
       "  <thead>\n",
       "    <tr style=\"text-align: right;\">\n",
       "      <th></th>\n",
       "      <th>nday</th>\n",
       "      <th>1</th>\n",
       "      <th>5</th>\n",
       "      <th>21</th>\n",
       "      <th>63</th>\n",
       "      <th>128</th>\n",
       "      <th>256</th>\n",
       "    </tr>\n",
       "    <tr>\n",
       "      <th>ticker</th>\n",
       "      <th>sector</th>\n",
       "      <th></th>\n",
       "      <th></th>\n",
       "      <th></th>\n",
       "      <th></th>\n",
       "      <th></th>\n",
       "      <th></th>\n",
       "    </tr>\n",
       "  </thead>\n",
       "  <tbody>\n",
       "    <tr>\n",
       "      <th>SPY</th>\n",
       "      <th>All</th>\n",
       "      <td>-0.00</td>\n",
       "      <td>-0.08</td>\n",
       "      <td>-0.23</td>\n",
       "      <td>-0.34</td>\n",
       "      <td>-0.57</td>\n",
       "      <td>-0.51</td>\n",
       "    </tr>\n",
       "    <tr>\n",
       "      <th>XLB</th>\n",
       "      <th>Materials</th>\n",
       "      <td>0.02</td>\n",
       "      <td>-0.08</td>\n",
       "      <td>-0.11</td>\n",
       "      <td>-0.19</td>\n",
       "      <td>-0.34</td>\n",
       "      <td>-0.07</td>\n",
       "    </tr>\n",
       "    <tr>\n",
       "      <th>XLC</th>\n",
       "      <th>Communication Services</th>\n",
       "      <td>-0.03</td>\n",
       "      <td>-0.14</td>\n",
       "      <td>-0.32</td>\n",
       "      <td>-0.55</td>\n",
       "      <td>-0.62</td>\n",
       "      <td>-0.19</td>\n",
       "    </tr>\n",
       "    <tr>\n",
       "      <th>XLE</th>\n",
       "      <th>Energy</th>\n",
       "      <td>0.07</td>\n",
       "      <td>-0.02</td>\n",
       "      <td>-0.05</td>\n",
       "      <td>0.02</td>\n",
       "      <td>-0.01</td>\n",
       "      <td>-0.05</td>\n",
       "    </tr>\n",
       "    <tr>\n",
       "      <th>XLF</th>\n",
       "      <th>Financials</th>\n",
       "      <td>-0.01</td>\n",
       "      <td>-0.07</td>\n",
       "      <td>-0.13</td>\n",
       "      <td>-0.26</td>\n",
       "      <td>-0.43</td>\n",
       "      <td>-0.35</td>\n",
       "    </tr>\n",
       "    <tr>\n",
       "      <th>XLI</th>\n",
       "      <th>Industrials</th>\n",
       "      <td>0.03</td>\n",
       "      <td>0.08</td>\n",
       "      <td>0.08</td>\n",
       "      <td>-0.11</td>\n",
       "      <td>-0.34</td>\n",
       "      <td>-0.15</td>\n",
       "    </tr>\n",
       "    <tr>\n",
       "      <th>XLK</th>\n",
       "      <th>Information Technology</th>\n",
       "      <td>-0.04</td>\n",
       "      <td>-0.12</td>\n",
       "      <td>-0.23</td>\n",
       "      <td>-0.32</td>\n",
       "      <td>-0.54</td>\n",
       "      <td>-0.44</td>\n",
       "    </tr>\n",
       "    <tr>\n",
       "      <th>XLP</th>\n",
       "      <th>Consumer Staples</th>\n",
       "      <td>0.01</td>\n",
       "      <td>-0.04</td>\n",
       "      <td>-0.14</td>\n",
       "      <td>-0.18</td>\n",
       "      <td>-0.32</td>\n",
       "      <td>-0.24</td>\n",
       "    </tr>\n",
       "    <tr>\n",
       "      <th>XLRE</th>\n",
       "      <th>Real Estate</th>\n",
       "      <td>0.01</td>\n",
       "      <td>0.07</td>\n",
       "      <td>0.11</td>\n",
       "      <td>-0.01</td>\n",
       "      <td>-0.07</td>\n",
       "      <td>0.01</td>\n",
       "    </tr>\n",
       "    <tr>\n",
       "      <th>XLU</th>\n",
       "      <th>Utilities</th>\n",
       "      <td>0.03</td>\n",
       "      <td>0.07</td>\n",
       "      <td>-0.06</td>\n",
       "      <td>-0.21</td>\n",
       "      <td>-0.15</td>\n",
       "      <td>-0.20</td>\n",
       "    </tr>\n",
       "    <tr>\n",
       "      <th>XLV</th>\n",
       "      <th>Health Care</th>\n",
       "      <td>0.10</td>\n",
       "      <td>-0.04</td>\n",
       "      <td>-0.21</td>\n",
       "      <td>-0.40</td>\n",
       "      <td>-0.19</td>\n",
       "      <td>-0.33</td>\n",
       "    </tr>\n",
       "    <tr>\n",
       "      <th>XLY</th>\n",
       "      <th>Consumer Discretionary</th>\n",
       "      <td>-0.03</td>\n",
       "      <td>-0.08</td>\n",
       "      <td>-0.21</td>\n",
       "      <td>-0.19</td>\n",
       "      <td>-0.19</td>\n",
       "      <td>-0.45</td>\n",
       "    </tr>\n",
       "  </tbody>\n",
       "</table>\n",
       "</div>"
      ],
      "text/plain": [
       "nday                            1     5     21    63    128   256\n",
       "ticker sector                                                    \n",
       "SPY    All                    -0.00 -0.08 -0.23 -0.34 -0.57 -0.51\n",
       "XLB    Materials               0.02 -0.08 -0.11 -0.19 -0.34 -0.07\n",
       "XLC    Communication Services -0.03 -0.14 -0.32 -0.55 -0.62 -0.19\n",
       "XLE    Energy                  0.07 -0.02 -0.05  0.02 -0.01 -0.05\n",
       "XLF    Financials             -0.01 -0.07 -0.13 -0.26 -0.43 -0.35\n",
       "XLI    Industrials             0.03  0.08  0.08 -0.11 -0.34 -0.15\n",
       "XLK    Information Technology -0.04 -0.12 -0.23 -0.32 -0.54 -0.44\n",
       "XLP    Consumer Staples        0.01 -0.04 -0.14 -0.18 -0.32 -0.24\n",
       "XLRE   Real Estate             0.01  0.07  0.11 -0.01 -0.07  0.01\n",
       "XLU    Utilities               0.03  0.07 -0.06 -0.21 -0.15 -0.20\n",
       "XLV    Health Care             0.10 -0.04 -0.21 -0.40 -0.19 -0.33\n",
       "XLY    Consumer Discretionary -0.03 -0.08 -0.21 -0.19 -0.19 -0.45"
      ]
     },
     "execution_count": 20,
     "metadata": {},
     "output_type": "execute_result"
    }
   ],
   "source": [
    "corr_summary_df_pivot.loc['Log_Bullish_over_Bearish']"
   ]
  },
  {
   "cell_type": "code",
   "execution_count": null,
   "metadata": {},
   "outputs": [],
   "source": []
  },
  {
   "cell_type": "markdown",
   "metadata": {},
   "source": [
    "### Weekly vs NDay Correlation"
   ]
  },
  {
   "cell_type": "code",
   "execution_count": 21,
   "metadata": {},
   "outputs": [],
   "source": [
    "from util.ts_util import rolling_nday"
   ]
  },
  {
   "cell_type": "code",
   "execution_count": null,
   "metadata": {},
   "outputs": [],
   "source": []
  },
  {
   "cell_type": "code",
   "execution_count": 60,
   "metadata": {},
   "outputs": [
    {
     "name": "stdout",
     "output_type": "stream",
     "text": [
      "number of component tickers 33 in Consumer Staples\n"
     ]
    },
    {
     "name": "stderr",
     "output_type": "stream",
     "text": [
      "/Users/seung-jae_bang/.virtualenvs/my_research/lib/python3.6/site-packages/ipykernel_launcher.py:5: RuntimeWarning: divide by zero encountered in log\n",
      "  \"\"\"\n"
     ]
    },
    {
     "name": "stdout",
     "output_type": "stream",
     "text": [
      "number of component tickers 32 in Real Estate\n"
     ]
    },
    {
     "name": "stderr",
     "output_type": "stream",
     "text": [
      "/Users/seung-jae_bang/.virtualenvs/my_research/lib/python3.6/site-packages/ipykernel_launcher.py:5: RuntimeWarning: divide by zero encountered in log\n",
      "  \"\"\"\n"
     ]
    },
    {
     "name": "stdout",
     "output_type": "stream",
     "text": [
      "number of component tickers 69 in Industrials\n",
      "number of component tickers 68 in Information Technology\n",
      "number of component tickers 26 in Communication Services\n"
     ]
    },
    {
     "name": "stderr",
     "output_type": "stream",
     "text": [
      "/Users/seung-jae_bang/.virtualenvs/my_research/lib/python3.6/site-packages/ipykernel_launcher.py:5: RuntimeWarning: divide by zero encountered in log\n",
      "  \"\"\"\n"
     ]
    },
    {
     "name": "stdout",
     "output_type": "stream",
     "text": [
      "number of component tickers 28 in Energy\n"
     ]
    },
    {
     "name": "stderr",
     "output_type": "stream",
     "text": [
      "/Users/seung-jae_bang/.virtualenvs/my_research/lib/python3.6/site-packages/ipykernel_launcher.py:5: RuntimeWarning: divide by zero encountered in log\n",
      "  \"\"\"\n"
     ]
    },
    {
     "name": "stdout",
     "output_type": "stream",
     "text": [
      "number of component tickers 27 in Materials\n"
     ]
    },
    {
     "name": "stderr",
     "output_type": "stream",
     "text": [
      "/Users/seung-jae_bang/.virtualenvs/my_research/lib/python3.6/site-packages/ipykernel_launcher.py:5: RuntimeWarning: divide by zero encountered in log\n",
      "  \"\"\"\n"
     ]
    },
    {
     "name": "stdout",
     "output_type": "stream",
     "text": [
      "number of component tickers 62 in Consumer Discretionary\n",
      "number of component tickers 67 in Financials\n"
     ]
    },
    {
     "name": "stderr",
     "output_type": "stream",
     "text": [
      "/Users/seung-jae_bang/.virtualenvs/my_research/lib/python3.6/site-packages/ipykernel_launcher.py:5: RuntimeWarning: divide by zero encountered in log\n",
      "  \"\"\"\n"
     ]
    },
    {
     "name": "stdout",
     "output_type": "stream",
     "text": [
      "number of component tickers 62 in Health Care\n",
      "number of component tickers 28 in Utilities\n",
      "number of component tickers 502 in All\n"
     ]
    }
   ],
   "source": [
    "n_days = [1, 5, 21, 63, 128, 256]\n",
    "corr_summary = []\n",
    "\n",
    "\n",
    "for sector in all_sectors:\n",
    "\n",
    "    daily_sentiment_agg_df = get_daily_sentiment_agg_df_for_sector(sector)\n",
    "    weekly_sentiment_agg_df = rolling_nday(daily_sentiment_agg_df, window='180D')\n",
    "    etf_ticker = get_etf_ticker_for_sector(sector)\n",
    "    \n",
    "    weekly_sentiment_agg_df = append_sentiment_cols(weekly_sentiment_agg_df)\n",
    "    \n",
    "    for sentiment_type in sentiment_types:\n",
    "        \n",
    "        for n_day in n_days:\n",
    "            nday_etf_return = get_nday_returns_for_ticker(etf_ticker, \n",
    "                                                           start_date, \n",
    "                                                           end_date,\n",
    "                                                           n_days=n_day)\n",
    "            \n",
    "            shifted_weekly_sentiment_agg_df = shift_date_index(weekly_sentiment_agg_df, \n",
    "                                                               n_day)\n",
    "\n",
    "            corr = calc_corr(shifted_weekly_sentiment_agg_df, \n",
    "                             nday_etf_return,\n",
    "                             sentiment_type,\n",
    "                             'adjusted close return')\n",
    "            corr_summary.append({\n",
    "                'ticker': etf_ticker,\n",
    "                'sector': sector,\n",
    "                'sentiment_type': sentiment_type,\n",
    "                'nday': n_day,\n",
    "                'corr': corr,\n",
    "            })"
   ]
  },
  {
   "cell_type": "code",
   "execution_count": 61,
   "metadata": {},
   "outputs": [],
   "source": [
    "corr_summary_df = pd.DataFrame(corr_summary)"
   ]
  },
  {
   "cell_type": "code",
   "execution_count": 62,
   "metadata": {},
   "outputs": [],
   "source": [
    "corr_summary_df_pivot = corr_summary_df.pivot_table(\n",
    "    index=['sentiment_type', 'ticker', 'sector'],\n",
    "    columns=['nday'],\n",
    "    values='corr'\n",
    ").round(2)"
   ]
  },
  {
   "cell_type": "code",
   "execution_count": 63,
   "metadata": {},
   "outputs": [
    {
     "data": {
      "text/html": [
       "<div>\n",
       "<style scoped>\n",
       "    .dataframe tbody tr th:only-of-type {\n",
       "        vertical-align: middle;\n",
       "    }\n",
       "\n",
       "    .dataframe tbody tr th {\n",
       "        vertical-align: top;\n",
       "    }\n",
       "\n",
       "    .dataframe thead th {\n",
       "        text-align: right;\n",
       "    }\n",
       "</style>\n",
       "<table border=\"1\" class=\"dataframe\">\n",
       "  <thead>\n",
       "    <tr style=\"text-align: right;\">\n",
       "      <th></th>\n",
       "      <th>nday</th>\n",
       "      <th>1</th>\n",
       "      <th>5</th>\n",
       "      <th>21</th>\n",
       "      <th>63</th>\n",
       "      <th>128</th>\n",
       "      <th>256</th>\n",
       "    </tr>\n",
       "    <tr>\n",
       "      <th>ticker</th>\n",
       "      <th>sector</th>\n",
       "      <th></th>\n",
       "      <th></th>\n",
       "      <th></th>\n",
       "      <th></th>\n",
       "      <th></th>\n",
       "      <th></th>\n",
       "    </tr>\n",
       "  </thead>\n",
       "  <tbody>\n",
       "    <tr>\n",
       "      <th>SPY</th>\n",
       "      <th>All</th>\n",
       "      <td>-0.03</td>\n",
       "      <td>-0.09</td>\n",
       "      <td>-0.29</td>\n",
       "      <td>-0.38</td>\n",
       "      <td>-0.41</td>\n",
       "      <td>-0.85</td>\n",
       "    </tr>\n",
       "    <tr>\n",
       "      <th>XLB</th>\n",
       "      <th>Materials</th>\n",
       "      <td>-0.05</td>\n",
       "      <td>-0.10</td>\n",
       "      <td>-0.21</td>\n",
       "      <td>-0.52</td>\n",
       "      <td>-0.71</td>\n",
       "      <td>0.54</td>\n",
       "    </tr>\n",
       "    <tr>\n",
       "      <th>XLC</th>\n",
       "      <th>Communication Services</th>\n",
       "      <td>-0.10</td>\n",
       "      <td>-0.26</td>\n",
       "      <td>-0.52</td>\n",
       "      <td>-0.47</td>\n",
       "      <td>-0.18</td>\n",
       "      <td>-0.79</td>\n",
       "    </tr>\n",
       "    <tr>\n",
       "      <th>XLE</th>\n",
       "      <th>Energy</th>\n",
       "      <td>-0.03</td>\n",
       "      <td>-0.09</td>\n",
       "      <td>-0.15</td>\n",
       "      <td>0.07</td>\n",
       "      <td>0.05</td>\n",
       "      <td>-0.09</td>\n",
       "    </tr>\n",
       "    <tr>\n",
       "      <th>XLF</th>\n",
       "      <th>Financials</th>\n",
       "      <td>-0.02</td>\n",
       "      <td>-0.07</td>\n",
       "      <td>-0.27</td>\n",
       "      <td>-0.52</td>\n",
       "      <td>-0.58</td>\n",
       "      <td>-0.89</td>\n",
       "    </tr>\n",
       "    <tr>\n",
       "      <th>XLI</th>\n",
       "      <th>Industrials</th>\n",
       "      <td>0.00</td>\n",
       "      <td>-0.02</td>\n",
       "      <td>-0.28</td>\n",
       "      <td>-0.48</td>\n",
       "      <td>-0.58</td>\n",
       "      <td>-0.69</td>\n",
       "    </tr>\n",
       "    <tr>\n",
       "      <th>XLK</th>\n",
       "      <th>Information Technology</th>\n",
       "      <td>-0.03</td>\n",
       "      <td>-0.09</td>\n",
       "      <td>-0.25</td>\n",
       "      <td>-0.35</td>\n",
       "      <td>-0.58</td>\n",
       "      <td>-0.58</td>\n",
       "    </tr>\n",
       "    <tr>\n",
       "      <th>XLP</th>\n",
       "      <th>Consumer Staples</th>\n",
       "      <td>-0.06</td>\n",
       "      <td>-0.15</td>\n",
       "      <td>-0.42</td>\n",
       "      <td>-0.73</td>\n",
       "      <td>-0.71</td>\n",
       "      <td>-0.81</td>\n",
       "    </tr>\n",
       "    <tr>\n",
       "      <th>XLRE</th>\n",
       "      <th>Real Estate</th>\n",
       "      <td>-0.01</td>\n",
       "      <td>-0.04</td>\n",
       "      <td>-0.04</td>\n",
       "      <td>-0.28</td>\n",
       "      <td>-0.27</td>\n",
       "      <td>0.70</td>\n",
       "    </tr>\n",
       "    <tr>\n",
       "      <th>XLU</th>\n",
       "      <th>Utilities</th>\n",
       "      <td>-0.03</td>\n",
       "      <td>-0.07</td>\n",
       "      <td>-0.12</td>\n",
       "      <td>-0.25</td>\n",
       "      <td>-0.29</td>\n",
       "      <td>0.02</td>\n",
       "    </tr>\n",
       "    <tr>\n",
       "      <th>XLV</th>\n",
       "      <th>Health Care</th>\n",
       "      <td>-0.03</td>\n",
       "      <td>-0.11</td>\n",
       "      <td>-0.28</td>\n",
       "      <td>-0.22</td>\n",
       "      <td>0.26</td>\n",
       "      <td>-0.14</td>\n",
       "    </tr>\n",
       "    <tr>\n",
       "      <th>XLY</th>\n",
       "      <th>Consumer Discretionary</th>\n",
       "      <td>-0.00</td>\n",
       "      <td>-0.03</td>\n",
       "      <td>-0.13</td>\n",
       "      <td>-0.16</td>\n",
       "      <td>-0.17</td>\n",
       "      <td>-0.59</td>\n",
       "    </tr>\n",
       "  </tbody>\n",
       "</table>\n",
       "</div>"
      ],
      "text/plain": [
       "nday                            1     5     21    63    128   256\n",
       "ticker sector                                                    \n",
       "SPY    All                    -0.03 -0.09 -0.29 -0.38 -0.41 -0.85\n",
       "XLB    Materials              -0.05 -0.10 -0.21 -0.52 -0.71  0.54\n",
       "XLC    Communication Services -0.10 -0.26 -0.52 -0.47 -0.18 -0.79\n",
       "XLE    Energy                 -0.03 -0.09 -0.15  0.07  0.05 -0.09\n",
       "XLF    Financials             -0.02 -0.07 -0.27 -0.52 -0.58 -0.89\n",
       "XLI    Industrials             0.00 -0.02 -0.28 -0.48 -0.58 -0.69\n",
       "XLK    Information Technology -0.03 -0.09 -0.25 -0.35 -0.58 -0.58\n",
       "XLP    Consumer Staples       -0.06 -0.15 -0.42 -0.73 -0.71 -0.81\n",
       "XLRE   Real Estate            -0.01 -0.04 -0.04 -0.28 -0.27  0.70\n",
       "XLU    Utilities              -0.03 -0.07 -0.12 -0.25 -0.29  0.02\n",
       "XLV    Health Care            -0.03 -0.11 -0.28 -0.22  0.26 -0.14\n",
       "XLY    Consumer Discretionary -0.00 -0.03 -0.13 -0.16 -0.17 -0.59"
      ]
     },
     "execution_count": 63,
     "metadata": {},
     "output_type": "execute_result"
    }
   ],
   "source": [
    "corr_summary_df_pivot.loc['Log_Bullish_over_Bearish']"
   ]
  },
  {
   "cell_type": "code",
   "execution_count": 64,
   "metadata": {},
   "outputs": [
    {
     "data": {
      "text/plain": [
       "nday\n",
       "1     -0.030\n",
       "5     -0.090\n",
       "21    -0.260\n",
       "63    -0.365\n",
       "128   -0.350\n",
       "256   -0.585\n",
       "dtype: float64"
      ]
     },
     "execution_count": 64,
     "metadata": {},
     "output_type": "execute_result"
    }
   ],
   "source": [
    "corr_summary_df_pivot.loc['Log_Bullish_over_Bearish'].median()"
   ]
  },
  {
   "cell_type": "code",
   "execution_count": 97,
   "metadata": {},
   "outputs": [
    {
     "name": "stdout",
     "output_type": "stream",
     "text": [
      "number of component tickers 69 in Industrials\n"
     ]
    }
   ],
   "source": [
    "corr_summary = []\n",
    "\n",
    "\n",
    "for sector in ['Industrials']:\n",
    "\n",
    "    daily_sentiment_agg_df = get_daily_sentiment_agg_df_for_sector(sector)\n",
    "    weekly_sentiment_agg_df = resample_weekly(daily_sentiment_agg_df)\n",
    "    etf_ticker = get_etf_ticker_for_sector(sector)\n",
    "    \n",
    "    weekly_sentiment_agg_df = append_sentiment_cols(weekly_sentiment_agg_df)\n",
    "    \n",
    "    for sentiment_type in sentiment_types:\n",
    "        \n",
    "        \n",
    "        nday_etf_return = get_nday_returns_for_ticker(etf_ticker, \n",
    "                                                       start_date, \n",
    "                                                       end_date,\n",
    "                                                       n_days=5)\n",
    "        nday_etf_return = nday_etf_return.resample('W-FRI').last()\n",
    "\n",
    "        shifted_weekly_sentiment_agg_df = weekly_sentiment_agg_df.shift(1)\n",
    "\n",
    "        corr = calc_corr(shifted_weekly_sentiment_agg_df, \n",
    "                         nday_etf_return,\n",
    "                         sentiment_type,\n",
    "                         'adjusted close return')\n",
    "        corr_summary.append({\n",
    "            'ticker': etf_ticker,\n",
    "            'sector': sector,\n",
    "            'sentiment_type': sentiment_type,\n",
    "#             'nday': n_day,\n",
    "            'corr': corr,\n",
    "        })"
   ]
  },
  {
   "cell_type": "code",
   "execution_count": 102,
   "metadata": {},
   "outputs": [
    {
     "data": {
      "text/plain": [
       "Bearish    136.847687\n",
       "Bullish    129.430918\n",
       "dtype: float64"
      ]
     },
     "execution_count": 102,
     "metadata": {},
     "output_type": "execute_result"
    }
   ],
   "source": [
    "daily_sentiment_agg_df.std()"
   ]
  },
  {
   "cell_type": "code",
   "execution_count": 103,
   "metadata": {},
   "outputs": [
    {
     "data": {
      "text/plain": [
       "<matplotlib.axes._subplots.AxesSubplot at 0x11cc0d6d8>"
      ]
     },
     "execution_count": 103,
     "metadata": {},
     "output_type": "execute_result"
    },
    {
     "data": {
      "image/png": "[encoded data removed]",
      "text/plain": [
       "<Figure size 432x288 with 1 Axes>"
      ]
     },
     "metadata": {
      "needs_background": "light"
     },
     "output_type": "display_data"
    }
   ],
   "source": [
    "daily_sentiment_agg_df.plot()"
   ]
  },
  {
   "cell_type": "code",
   "execution_count": null,
   "metadata": {},
   "outputs": [],
   "source": []
  },
  {
   "cell_type": "code",
   "execution_count": null,
   "metadata": {},
   "outputs": [],
   "source": []
  },
  {
   "cell_type": "code",
   "execution_count": 88,
   "metadata": {},
   "outputs": [],
   "source": [
    "corr_summary_df = pd.DataFrame(corr_summary)"
   ]
  },
  {
   "cell_type": "code",
   "execution_count": 90,
   "metadata": {},
   "outputs": [],
   "source": [
    "corr_summary_df = corr_summary_df[corr_summary_df['sentiment_type'] == 'Log_Bullish_over_Bearish']"
   ]
  },
  {
   "cell_type": "code",
   "execution_count": 94,
   "metadata": {},
   "outputs": [
    {
     "data": {
      "text/html": [
       "<div>\n",
       "<style scoped>\n",
       "    .dataframe tbody tr th:only-of-type {\n",
       "        vertical-align: middle;\n",
       "    }\n",
       "\n",
       "    .dataframe tbody tr th {\n",
       "        vertical-align: top;\n",
       "    }\n",
       "\n",
       "    .dataframe thead th {\n",
       "        text-align: right;\n",
       "    }\n",
       "</style>\n",
       "<table border=\"1\" class=\"dataframe\">\n",
       "  <thead>\n",
       "    <tr style=\"text-align: right;\">\n",
       "      <th></th>\n",
       "      <th>corr</th>\n",
       "      <th>sector</th>\n",
       "      <th>ticker</th>\n",
       "    </tr>\n",
       "  </thead>\n",
       "  <tbody>\n",
       "    <tr>\n",
       "      <th>19</th>\n",
       "      <td>-0.30</td>\n",
       "      <td>Communication Services</td>\n",
       "      <td>XLC</td>\n",
       "    </tr>\n",
       "    <tr>\n",
       "      <th>31</th>\n",
       "      <td>-0.15</td>\n",
       "      <td>Consumer Discretionary</td>\n",
       "      <td>XLY</td>\n",
       "    </tr>\n",
       "    <tr>\n",
       "      <th>23</th>\n",
       "      <td>-0.14</td>\n",
       "      <td>Energy</td>\n",
       "      <td>XLE</td>\n",
       "    </tr>\n",
       "    <tr>\n",
       "      <th>27</th>\n",
       "      <td>-0.13</td>\n",
       "      <td>Materials</td>\n",
       "      <td>XLB</td>\n",
       "    </tr>\n",
       "    <tr>\n",
       "      <th>47</th>\n",
       "      <td>-0.12</td>\n",
       "      <td>All</td>\n",
       "      <td>SPY</td>\n",
       "    </tr>\n",
       "    <tr>\n",
       "      <th>15</th>\n",
       "      <td>-0.11</td>\n",
       "      <td>Information Technology</td>\n",
       "      <td>XLK</td>\n",
       "    </tr>\n",
       "    <tr>\n",
       "      <th>39</th>\n",
       "      <td>-0.11</td>\n",
       "      <td>Health Care</td>\n",
       "      <td>XLV</td>\n",
       "    </tr>\n",
       "    <tr>\n",
       "      <th>35</th>\n",
       "      <td>-0.10</td>\n",
       "      <td>Financials</td>\n",
       "      <td>XLF</td>\n",
       "    </tr>\n",
       "    <tr>\n",
       "      <th>3</th>\n",
       "      <td>-0.09</td>\n",
       "      <td>Consumer Staples</td>\n",
       "      <td>XLP</td>\n",
       "    </tr>\n",
       "    <tr>\n",
       "      <th>7</th>\n",
       "      <td>-0.00</td>\n",
       "      <td>Real Estate</td>\n",
       "      <td>XLRE</td>\n",
       "    </tr>\n",
       "    <tr>\n",
       "      <th>43</th>\n",
       "      <td>0.01</td>\n",
       "      <td>Utilities</td>\n",
       "      <td>XLU</td>\n",
       "    </tr>\n",
       "    <tr>\n",
       "      <th>11</th>\n",
       "      <td>0.11</td>\n",
       "      <td>Industrials</td>\n",
       "      <td>XLI</td>\n",
       "    </tr>\n",
       "  </tbody>\n",
       "</table>\n",
       "</div>"
      ],
      "text/plain": [
       "    corr                  sector ticker\n",
       "19 -0.30  Communication Services    XLC\n",
       "31 -0.15  Consumer Discretionary    XLY\n",
       "23 -0.14                  Energy    XLE\n",
       "27 -0.13               Materials    XLB\n",
       "47 -0.12                     All    SPY\n",
       "15 -0.11  Information Technology    XLK\n",
       "39 -0.11             Health Care    XLV\n",
       "35 -0.10              Financials    XLF\n",
       "3  -0.09        Consumer Staples    XLP\n",
       "7  -0.00             Real Estate   XLRE\n",
       "43  0.01               Utilities    XLU\n",
       "11  0.11             Industrials    XLI"
      ]
     },
     "execution_count": 94,
     "metadata": {},
     "output_type": "execute_result"
    }
   ],
   "source": [
    "corr_summary_df.drop('sentiment_type', axis=1).sort_values('corr').round(2)"
   ]
  },
  {
   "cell_type": "code",
   "execution_count": 96,
   "metadata": {},
   "outputs": [
    {
     "data": {
      "text/plain": [
       "'All'"
      ]
     },
     "execution_count": 96,
     "metadata": {},
     "output_type": "execute_result"
    }
   ],
   "source": [
    "sector"
   ]
  },
  {
   "cell_type": "code",
   "execution_count": 95,
   "metadata": {},
   "outputs": [
    {
     "data": {
      "text/html": [
       "<div>\n",
       "<style scoped>\n",
       "    .dataframe tbody tr th:only-of-type {\n",
       "        vertical-align: middle;\n",
       "    }\n",
       "\n",
       "    .dataframe tbody tr th {\n",
       "        vertical-align: top;\n",
       "    }\n",
       "\n",
       "    .dataframe thead th {\n",
       "        text-align: right;\n",
       "    }\n",
       "</style>\n",
       "<table border=\"1\" class=\"dataframe\">\n",
       "  <thead>\n",
       "    <tr style=\"text-align: right;\">\n",
       "      <th></th>\n",
       "      <th>Bearish</th>\n",
       "      <th>Bullish</th>\n",
       "    </tr>\n",
       "  </thead>\n",
       "  <tbody>\n",
       "    <tr>\n",
       "      <th>2018-01-01</th>\n",
       "      <td>14.0</td>\n",
       "      <td>159.0</td>\n",
       "    </tr>\n",
       "    <tr>\n",
       "      <th>2018-01-02</th>\n",
       "      <td>180.0</td>\n",
       "      <td>2217.0</td>\n",
       "    </tr>\n",
       "    <tr>\n",
       "      <th>2018-01-03</th>\n",
       "      <td>509.0</td>\n",
       "      <td>3889.0</td>\n",
       "    </tr>\n",
       "    <tr>\n",
       "      <th>2018-01-04</th>\n",
       "      <td>668.0</td>\n",
       "      <td>3418.0</td>\n",
       "    </tr>\n",
       "    <tr>\n",
       "      <th>2018-01-05</th>\n",
       "      <td>472.0</td>\n",
       "      <td>3238.0</td>\n",
       "    </tr>\n",
       "    <tr>\n",
       "      <th>2018-01-08</th>\n",
       "      <td>387.0</td>\n",
       "      <td>3796.0</td>\n",
       "    </tr>\n",
       "    <tr>\n",
       "      <th>2018-01-09</th>\n",
       "      <td>442.0</td>\n",
       "      <td>2941.0</td>\n",
       "    </tr>\n",
       "    <tr>\n",
       "      <th>2018-01-10</th>\n",
       "      <td>395.0</td>\n",
       "      <td>2655.0</td>\n",
       "    </tr>\n",
       "    <tr>\n",
       "      <th>2018-01-11</th>\n",
       "      <td>307.0</td>\n",
       "      <td>2767.0</td>\n",
       "    </tr>\n",
       "    <tr>\n",
       "      <th>2018-01-12</th>\n",
       "      <td>563.0</td>\n",
       "      <td>4224.0</td>\n",
       "    </tr>\n",
       "    <tr>\n",
       "      <th>2018-01-15</th>\n",
       "      <td>167.0</td>\n",
       "      <td>2037.0</td>\n",
       "    </tr>\n",
       "    <tr>\n",
       "      <th>2018-01-16</th>\n",
       "      <td>433.0</td>\n",
       "      <td>2472.0</td>\n",
       "    </tr>\n",
       "    <tr>\n",
       "      <th>2018-01-17</th>\n",
       "      <td>508.0</td>\n",
       "      <td>3173.0</td>\n",
       "    </tr>\n",
       "    <tr>\n",
       "      <th>2018-01-18</th>\n",
       "      <td>525.0</td>\n",
       "      <td>3300.0</td>\n",
       "    </tr>\n",
       "    <tr>\n",
       "      <th>2018-01-19</th>\n",
       "      <td>622.0</td>\n",
       "      <td>3013.0</td>\n",
       "    </tr>\n",
       "    <tr>\n",
       "      <th>2018-01-22</th>\n",
       "      <td>447.0</td>\n",
       "      <td>3742.0</td>\n",
       "    </tr>\n",
       "    <tr>\n",
       "      <th>2018-01-23</th>\n",
       "      <td>483.0</td>\n",
       "      <td>4498.0</td>\n",
       "    </tr>\n",
       "    <tr>\n",
       "      <th>2018-01-24</th>\n",
       "      <td>933.0</td>\n",
       "      <td>3813.0</td>\n",
       "    </tr>\n",
       "    <tr>\n",
       "      <th>2018-01-25</th>\n",
       "      <td>873.0</td>\n",
       "      <td>4192.0</td>\n",
       "    </tr>\n",
       "    <tr>\n",
       "      <th>2018-01-26</th>\n",
       "      <td>812.0</td>\n",
       "      <td>4639.0</td>\n",
       "    </tr>\n",
       "    <tr>\n",
       "      <th>2018-01-29</th>\n",
       "      <td>914.0</td>\n",
       "      <td>5926.0</td>\n",
       "    </tr>\n",
       "    <tr>\n",
       "      <th>2018-01-30</th>\n",
       "      <td>898.0</td>\n",
       "      <td>4494.0</td>\n",
       "    </tr>\n",
       "    <tr>\n",
       "      <th>2018-01-31</th>\n",
       "      <td>1109.0</td>\n",
       "      <td>7376.0</td>\n",
       "    </tr>\n",
       "    <tr>\n",
       "      <th>2018-02-01</th>\n",
       "      <td>1243.0</td>\n",
       "      <td>6980.0</td>\n",
       "    </tr>\n",
       "    <tr>\n",
       "      <th>2018-02-02</th>\n",
       "      <td>1319.0</td>\n",
       "      <td>6272.0</td>\n",
       "    </tr>\n",
       "    <tr>\n",
       "      <th>2018-02-05</th>\n",
       "      <td>1283.0</td>\n",
       "      <td>4147.0</td>\n",
       "    </tr>\n",
       "    <tr>\n",
       "      <th>2018-02-06</th>\n",
       "      <td>932.0</td>\n",
       "      <td>3676.0</td>\n",
       "    </tr>\n",
       "    <tr>\n",
       "      <th>2018-02-07</th>\n",
       "      <td>928.0</td>\n",
       "      <td>3399.0</td>\n",
       "    </tr>\n",
       "    <tr>\n",
       "      <th>2018-02-08</th>\n",
       "      <td>826.0</td>\n",
       "      <td>3076.0</td>\n",
       "    </tr>\n",
       "    <tr>\n",
       "      <th>2018-02-09</th>\n",
       "      <td>1130.0</td>\n",
       "      <td>4164.0</td>\n",
       "    </tr>\n",
       "    <tr>\n",
       "      <th>...</th>\n",
       "      <td>...</td>\n",
       "      <td>...</td>\n",
       "    </tr>\n",
       "    <tr>\n",
       "      <th>2019-07-01</th>\n",
       "      <td>960.0</td>\n",
       "      <td>3953.0</td>\n",
       "    </tr>\n",
       "    <tr>\n",
       "      <th>2019-07-02</th>\n",
       "      <td>789.0</td>\n",
       "      <td>2083.0</td>\n",
       "    </tr>\n",
       "    <tr>\n",
       "      <th>2019-07-03</th>\n",
       "      <td>538.0</td>\n",
       "      <td>2036.0</td>\n",
       "    </tr>\n",
       "    <tr>\n",
       "      <th>2019-07-04</th>\n",
       "      <td>139.0</td>\n",
       "      <td>448.0</td>\n",
       "    </tr>\n",
       "    <tr>\n",
       "      <th>2019-07-05</th>\n",
       "      <td>448.0</td>\n",
       "      <td>1509.0</td>\n",
       "    </tr>\n",
       "    <tr>\n",
       "      <th>2019-07-08</th>\n",
       "      <td>759.0</td>\n",
       "      <td>2728.0</td>\n",
       "    </tr>\n",
       "    <tr>\n",
       "      <th>2019-07-09</th>\n",
       "      <td>668.0</td>\n",
       "      <td>2361.0</td>\n",
       "    </tr>\n",
       "    <tr>\n",
       "      <th>2019-07-10</th>\n",
       "      <td>612.0</td>\n",
       "      <td>2787.0</td>\n",
       "    </tr>\n",
       "    <tr>\n",
       "      <th>2019-07-11</th>\n",
       "      <td>748.0</td>\n",
       "      <td>2865.0</td>\n",
       "    </tr>\n",
       "    <tr>\n",
       "      <th>2019-07-12</th>\n",
       "      <td>733.0</td>\n",
       "      <td>2659.0</td>\n",
       "    </tr>\n",
       "    <tr>\n",
       "      <th>2019-07-15</th>\n",
       "      <td>784.0</td>\n",
       "      <td>3590.0</td>\n",
       "    </tr>\n",
       "    <tr>\n",
       "      <th>2019-07-16</th>\n",
       "      <td>747.0</td>\n",
       "      <td>2793.0</td>\n",
       "    </tr>\n",
       "    <tr>\n",
       "      <th>2019-07-17</th>\n",
       "      <td>841.0</td>\n",
       "      <td>2432.0</td>\n",
       "    </tr>\n",
       "    <tr>\n",
       "      <th>2019-07-18</th>\n",
       "      <td>2082.0</td>\n",
       "      <td>3570.0</td>\n",
       "    </tr>\n",
       "    <tr>\n",
       "      <th>2019-07-19</th>\n",
       "      <td>1075.0</td>\n",
       "      <td>3606.0</td>\n",
       "    </tr>\n",
       "    <tr>\n",
       "      <th>2019-07-22</th>\n",
       "      <td>1003.0</td>\n",
       "      <td>3177.0</td>\n",
       "    </tr>\n",
       "    <tr>\n",
       "      <th>2019-07-23</th>\n",
       "      <td>853.0</td>\n",
       "      <td>2783.0</td>\n",
       "    </tr>\n",
       "    <tr>\n",
       "      <th>2019-07-24</th>\n",
       "      <td>1217.0</td>\n",
       "      <td>4055.0</td>\n",
       "    </tr>\n",
       "    <tr>\n",
       "      <th>2019-07-25</th>\n",
       "      <td>1631.0</td>\n",
       "      <td>4246.0</td>\n",
       "    </tr>\n",
       "    <tr>\n",
       "      <th>2019-07-26</th>\n",
       "      <td>1055.0</td>\n",
       "      <td>4477.0</td>\n",
       "    </tr>\n",
       "    <tr>\n",
       "      <th>2019-07-29</th>\n",
       "      <td>968.0</td>\n",
       "      <td>3166.0</td>\n",
       "    </tr>\n",
       "    <tr>\n",
       "      <th>2019-07-30</th>\n",
       "      <td>989.0</td>\n",
       "      <td>2903.0</td>\n",
       "    </tr>\n",
       "    <tr>\n",
       "      <th>2019-07-31</th>\n",
       "      <td>1691.0</td>\n",
       "      <td>5140.0</td>\n",
       "    </tr>\n",
       "    <tr>\n",
       "      <th>2019-08-01</th>\n",
       "      <td>1263.0</td>\n",
       "      <td>3165.0</td>\n",
       "    </tr>\n",
       "    <tr>\n",
       "      <th>2019-08-02</th>\n",
       "      <td>1246.0</td>\n",
       "      <td>2251.0</td>\n",
       "    </tr>\n",
       "    <tr>\n",
       "      <th>2019-08-05</th>\n",
       "      <td>1526.0</td>\n",
       "      <td>2458.0</td>\n",
       "    </tr>\n",
       "    <tr>\n",
       "      <th>2019-08-06</th>\n",
       "      <td>1133.0</td>\n",
       "      <td>2528.0</td>\n",
       "    </tr>\n",
       "    <tr>\n",
       "      <th>2019-08-07</th>\n",
       "      <td>1127.0</td>\n",
       "      <td>2818.0</td>\n",
       "    </tr>\n",
       "    <tr>\n",
       "      <th>2019-08-08</th>\n",
       "      <td>746.0</td>\n",
       "      <td>3780.0</td>\n",
       "    </tr>\n",
       "    <tr>\n",
       "      <th>2019-08-09</th>\n",
       "      <td>873.0</td>\n",
       "      <td>2765.0</td>\n",
       "    </tr>\n",
       "  </tbody>\n",
       "</table>\n",
       "<p>420 rows × 2 columns</p>\n",
       "</div>"
      ],
      "text/plain": [
       "            Bearish  Bullish\n",
       "2018-01-01     14.0    159.0\n",
       "2018-01-02    180.0   2217.0\n",
       "2018-01-03    509.0   3889.0\n",
       "2018-01-04    668.0   3418.0\n",
       "2018-01-05    472.0   3238.0\n",
       "2018-01-08    387.0   3796.0\n",
       "2018-01-09    442.0   2941.0\n",
       "2018-01-10    395.0   2655.0\n",
       "2018-01-11    307.0   2767.0\n",
       "2018-01-12    563.0   4224.0\n",
       "2018-01-15    167.0   2037.0\n",
       "2018-01-16    433.0   2472.0\n",
       "2018-01-17    508.0   3173.0\n",
       "2018-01-18    525.0   3300.0\n",
       "2018-01-19    622.0   3013.0\n",
       "2018-01-22    447.0   3742.0\n",
       "2018-01-23    483.0   4498.0\n",
       "2018-01-24    933.0   3813.0\n",
       "2018-01-25    873.0   4192.0\n",
       "2018-01-26    812.0   4639.0\n",
       "2018-01-29    914.0   5926.0\n",
       "2018-01-30    898.0   4494.0\n",
       "2018-01-31   1109.0   7376.0\n",
       "2018-02-01   1243.0   6980.0\n",
       "2018-02-02   1319.0   6272.0\n",
       "2018-02-05   1283.0   4147.0\n",
       "2018-02-06    932.0   3676.0\n",
       "2018-02-07    928.0   3399.0\n",
       "2018-02-08    826.0   3076.0\n",
       "2018-02-09   1130.0   4164.0\n",
       "...             ...      ...\n",
       "2019-07-01    960.0   3953.0\n",
       "2019-07-02    789.0   2083.0\n",
       "2019-07-03    538.0   2036.0\n",
       "2019-07-04    139.0    448.0\n",
       "2019-07-05    448.0   1509.0\n",
       "2019-07-08    759.0   2728.0\n",
       "2019-07-09    668.0   2361.0\n",
       "2019-07-10    612.0   2787.0\n",
       "2019-07-11    748.0   2865.0\n",
       "2019-07-12    733.0   2659.0\n",
       "2019-07-15    784.0   3590.0\n",
       "2019-07-16    747.0   2793.0\n",
       "2019-07-17    841.0   2432.0\n",
       "2019-07-18   2082.0   3570.0\n",
       "2019-07-19   1075.0   3606.0\n",
       "2019-07-22   1003.0   3177.0\n",
       "2019-07-23    853.0   2783.0\n",
       "2019-07-24   1217.0   4055.0\n",
       "2019-07-25   1631.0   4246.0\n",
       "2019-07-26   1055.0   4477.0\n",
       "2019-07-29    968.0   3166.0\n",
       "2019-07-30    989.0   2903.0\n",
       "2019-07-31   1691.0   5140.0\n",
       "2019-08-01   1263.0   3165.0\n",
       "2019-08-02   1246.0   2251.0\n",
       "2019-08-05   1526.0   2458.0\n",
       "2019-08-06   1133.0   2528.0\n",
       "2019-08-07   1127.0   2818.0\n",
       "2019-08-08    746.0   3780.0\n",
       "2019-08-09    873.0   2765.0\n",
       "\n",
       "[420 rows x 2 columns]"
      ]
     },
     "execution_count": 95,
     "metadata": {},
     "output_type": "execute_result"
    }
   ],
   "source": [
    "daily_sentiment_agg_df"
   ]
  },
  {
   "cell_type": "code",
   "execution_count": null,
   "metadata": {},
   "outputs": [],
   "source": []
  }
 ],
 "metadata": {
  "kernelspec": {
   "display_name": "Python 3",
   "language": "python",
   "name": "python3"
  },
  "language_info": {
   "codemirror_mode": {
    "name": "ipython",
    "version": 3
   },
   "file_extension": ".py",
   "mimetype": "text/x-python",
   "name": "python",
   "nbconvert_exporter": "python",
   "pygments_lexer": "ipython3",
   "version": "3.6.5"
  }
 },
 "nbformat": 4,
 "nbformat_minor": 2
}
