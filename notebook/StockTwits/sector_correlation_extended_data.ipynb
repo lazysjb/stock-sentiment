{
 "cells": [
  {
   "cell_type": "code",
   "execution_count": 1,
   "metadata": {},
   "outputs": [],
   "source": [
    "%load_ext autoreload\n",
    "%autoreload 2"
   ]
  },
  {
   "cell_type": "code",
   "execution_count": 2,
   "metadata": {},
   "outputs": [],
   "source": [
    "import sys\n",
    "sys.path.append('../../')"
   ]
  },
  {
   "cell_type": "code",
   "execution_count": 3,
   "metadata": {},
   "outputs": [],
   "source": [
    "import numpy as np\n",
    "import pandas as pd\n",
    "\n",
    "import matplotlib.pyplot as plt\n",
    "%matplotlib inline\n",
    "\n",
    "from util.file_util import StockTwitsFileReader, StockDataFileReader\n",
    "from util.ts_util import (\n",
    "    shift_date_index, calc_corr, \n",
    "    resample_weekly, rolling_nday)\n",
    "from util.plot_util import (\n",
    "    plot_time_series_bar, overlay_on_secondary_axis)\n",
    "from util.stockdata_helper import (\n",
    "    get_sp500_sector_info, get_gics_sector_list,\n",
    "    get_etf_ticker_for_sector, get_component_tickers_for_sector,\n",
    "    get_nday_returns_for_ticker\n",
    ")\n",
    "from config import STOCKTWITS_TICKER_LIST, ETF_TICKER_TO_SECTOR"
   ]
  },
  {
   "cell_type": "code",
   "execution_count": 4,
   "metadata": {},
   "outputs": [],
   "source": [
    "start_date = '2016-01-01'\n",
    "end_date = '2019-08-10'\n",
    "\n",
    "twit_file_reader = StockTwitsFileReader() \n",
    "stock_file_reader = StockDataFileReader()"
   ]
  },
  {
   "cell_type": "code",
   "execution_count": 5,
   "metadata": {},
   "outputs": [
    {
     "data": {
      "text/plain": [
       "['Consumer Staples',\n",
       " 'Real Estate',\n",
       " 'Industrials',\n",
       " 'Information Technology',\n",
       " 'Energy',\n",
       " 'Materials',\n",
       " 'Consumer Discretionary',\n",
       " 'Financials',\n",
       " 'Health Care',\n",
       " 'Utilities',\n",
       " 'All']"
      ]
     },
     "execution_count": 5,
     "metadata": {},
     "output_type": "execute_result"
    }
   ],
   "source": [
    "all_sectors = get_gics_sector_list()\n",
    "all_sectors"
   ]
  },
  {
   "cell_type": "code",
   "execution_count": 6,
   "metadata": {},
   "outputs": [],
   "source": [
    "def append_sentiment_cols(sentiment_df):\n",
    "    new_sentiment_df = sentiment_df.copy()\n",
    "    \n",
    "    new_sentiment_df['Bullish_minus_Bearish'] = new_sentiment_df['Bullish'] - new_sentiment_df['Bearish']\n",
    "    new_sentiment_df['Log_Bullish_over_Bearish'] = np.log(new_sentiment_df['Bullish']) - np.log(new_sentiment_df['Bearish'])\n",
    "    return new_sentiment_df\n",
    "\n",
    "def get_daily_sentiment_agg_df_for_sector(sector):\n",
    "    tickers_in_sector = get_component_tickers_for_sector(sector)\n",
    "    print('number of component tickers {} in {}'.format(len(tickers_in_sector),\n",
    "                                                        sector))\n",
    "    \n",
    "    daily_sentiment_agg_df = pd.DataFrame()\n",
    "\n",
    "    for ticker in tickers_in_sector:\n",
    "        twit_df = twit_file_reader.read_daily_sentiment_summary_prelim(ticker,\n",
    "                                                                       start_date=start_date,\n",
    "                                                                       end_date=end_date)\n",
    "\n",
    "        daily_sentiment_agg_df = daily_sentiment_agg_df.add(twit_df, fill_value=0)\n",
    "    \n",
    "    return daily_sentiment_agg_df"
   ]
  },
  {
   "cell_type": "code",
   "execution_count": 7,
   "metadata": {},
   "outputs": [
    {
     "name": "stdout",
     "output_type": "stream",
     "text": [
      "number of component tickers 502 in All\n"
     ]
    }
   ],
   "source": [
    "sample_select_sector = 'All'\n",
    "\n",
    "daily_sentiment_agg_df = get_daily_sentiment_agg_df_for_sector(sample_select_sector)\n",
    "wkly_sentiment_agg_df = resample_weekly(daily_sentiment_agg_df)\n",
    "\n",
    "etf_ticker = get_etf_ticker_for_sector(sample_select_sector)"
   ]
  },
  {
   "cell_type": "code",
   "execution_count": 8,
   "metadata": {},
   "outputs": [
    {
     "data": {
      "text/html": [
       "<div>\n",
       "<style scoped>\n",
       "    .dataframe tbody tr th:only-of-type {\n",
       "        vertical-align: middle;\n",
       "    }\n",
       "\n",
       "    .dataframe tbody tr th {\n",
       "        vertical-align: top;\n",
       "    }\n",
       "\n",
       "    .dataframe thead th {\n",
       "        text-align: right;\n",
       "    }\n",
       "</style>\n",
       "<table border=\"1\" class=\"dataframe\">\n",
       "  <thead>\n",
       "    <tr style=\"text-align: right;\">\n",
       "      <th></th>\n",
       "      <th>Bearish</th>\n",
       "      <th>Bullish</th>\n",
       "    </tr>\n",
       "  </thead>\n",
       "  <tbody>\n",
       "    <tr>\n",
       "      <th>2016-01-01</th>\n",
       "      <td>30.0</td>\n",
       "      <td>85.0</td>\n",
       "    </tr>\n",
       "    <tr>\n",
       "      <th>2016-01-08</th>\n",
       "      <td>3996.0</td>\n",
       "      <td>6258.0</td>\n",
       "    </tr>\n",
       "    <tr>\n",
       "      <th>2016-01-15</th>\n",
       "      <td>3951.0</td>\n",
       "      <td>5533.0</td>\n",
       "    </tr>\n",
       "    <tr>\n",
       "      <th>2016-01-22</th>\n",
       "      <td>3820.0</td>\n",
       "      <td>5346.0</td>\n",
       "    </tr>\n",
       "    <tr>\n",
       "      <th>2016-01-29</th>\n",
       "      <td>4193.0</td>\n",
       "      <td>8870.0</td>\n",
       "    </tr>\n",
       "  </tbody>\n",
       "</table>\n",
       "</div>"
      ],
      "text/plain": [
       "            Bearish  Bullish\n",
       "2016-01-01     30.0     85.0\n",
       "2016-01-08   3996.0   6258.0\n",
       "2016-01-15   3951.0   5533.0\n",
       "2016-01-22   3820.0   5346.0\n",
       "2016-01-29   4193.0   8870.0"
      ]
     },
     "execution_count": 8,
     "metadata": {},
     "output_type": "execute_result"
    }
   ],
   "source": [
    "wkly_sentiment_agg_df.head()"
   ]
  },
  {
   "cell_type": "code",
   "execution_count": 9,
   "metadata": {},
   "outputs": [],
   "source": [
    "etf_price_ts = stock_file_reader.read_stockdata_in_range(etf_ticker,\n",
    "                                                         start_date,\n",
    "                                                         end_date)"
   ]
  },
  {
   "cell_type": "code",
   "execution_count": 10,
   "metadata": {},
   "outputs": [
    {
     "data": {
      "text/plain": [
       "<matplotlib.axes._subplots.AxesSubplot at 0x116b09518>"
      ]
     },
     "execution_count": 10,
     "metadata": {},
     "output_type": "execute_result"
    },
    {
     "data": {
      "image/png": "[encoded data removed]",
      "text/plain": [
       "<Figure size 432x288 with 1 Axes>"
      ]
     },
     "metadata": {
      "needs_background": "light"
     },
     "output_type": "display_data"
    }
   ],
   "source": [
    "etf_price_ts.plot()"
   ]
  },
  {
   "cell_type": "code",
   "execution_count": 11,
   "metadata": {},
   "outputs": [
    {
     "name": "stderr",
     "output_type": "stream",
     "text": [
      "/Users/seung-jae_bang/.virtualenvs/my_research/lib/python3.6/site-packages/matplotlib/legend.py:1270: UserWarning: You have mixed positional and keyword arguments, some input may be discarded.\n",
      "  warnings.warn(\"You have mixed positional and keyword arguments, some \"\n"
     ]
    },
    {
     "data": {
      "image/png": "[encoded data removed]",
      "text/plain": [
       "<Figure size 1008x360 with 2 Axes>"
      ]
     },
     "metadata": {
      "needs_background": "light"
     },
     "output_type": "display_data"
    }
   ],
   "source": [
    "ax = plot_time_series_bar(wkly_sentiment_agg_df[['Bearish', 'Bullish']], \n",
    "                          figsize=(14, 5),)\n",
    "\n",
    "overlay_on_secondary_axis(etf_price_ts, 'adjusted close', ax)"
   ]
  },
  {
   "cell_type": "markdown",
   "metadata": {},
   "source": [
    "### Very rough eyeball - seems that 2017 is a good start"
   ]
  },
  {
   "cell_type": "code",
   "execution_count": null,
   "metadata": {},
   "outputs": [],
   "source": []
  },
  {
   "cell_type": "markdown",
   "metadata": {},
   "source": [
    "### Daily Correlations by Lag"
   ]
  },
  {
   "cell_type": "code",
   "execution_count": 12,
   "metadata": {},
   "outputs": [],
   "source": [
    "start_date = '2017-01-01'\n",
    "end_date = '2019-08-10'"
   ]
  },
  {
   "cell_type": "code",
   "execution_count": 13,
   "metadata": {},
   "outputs": [],
   "source": [
    "sentiment_types = [\n",
    "    'Bullish',\n",
    "    'Bearish',\n",
    "    'Bullish_minus_Bearish',\n",
    "    'Log_Bullish_over_Bearish'\n",
    "]"
   ]
  },
  {
   "cell_type": "code",
   "execution_count": 15,
   "metadata": {},
   "outputs": [
    {
     "name": "stdout",
     "output_type": "stream",
     "text": [
      "number of component tickers 33 in Consumer Staples\n"
     ]
    },
    {
     "name": "stderr",
     "output_type": "stream",
     "text": [
      "/Users/seung-jae_bang/.virtualenvs/my_research/lib/python3.6/site-packages/ipykernel_launcher.py:5: RuntimeWarning: divide by zero encountered in log\n",
      "  \"\"\"\n"
     ]
    },
    {
     "name": "stdout",
     "output_type": "stream",
     "text": [
      "number of component tickers 32 in Real Estate\n"
     ]
    },
    {
     "name": "stderr",
     "output_type": "stream",
     "text": [
      "/Users/seung-jae_bang/.virtualenvs/my_research/lib/python3.6/site-packages/ipykernel_launcher.py:5: RuntimeWarning: divide by zero encountered in log\n",
      "  \"\"\"\n"
     ]
    },
    {
     "name": "stdout",
     "output_type": "stream",
     "text": [
      "number of component tickers 69 in Industrials\n",
      "number of component tickers 68 in Information Technology\n",
      "number of component tickers 28 in Energy\n"
     ]
    },
    {
     "name": "stderr",
     "output_type": "stream",
     "text": [
      "/Users/seung-jae_bang/.virtualenvs/my_research/lib/python3.6/site-packages/ipykernel_launcher.py:5: RuntimeWarning: divide by zero encountered in log\n",
      "  \"\"\"\n"
     ]
    },
    {
     "name": "stdout",
     "output_type": "stream",
     "text": [
      "number of component tickers 27 in Materials\n"
     ]
    },
    {
     "name": "stderr",
     "output_type": "stream",
     "text": [
      "/Users/seung-jae_bang/.virtualenvs/my_research/lib/python3.6/site-packages/ipykernel_launcher.py:5: RuntimeWarning: divide by zero encountered in log\n",
      "  \"\"\"\n"
     ]
    },
    {
     "name": "stdout",
     "output_type": "stream",
     "text": [
      "number of component tickers 62 in Consumer Discretionary\n",
      "number of component tickers 67 in Financials\n",
      "number of component tickers 62 in Health Care\n",
      "number of component tickers 28 in Utilities\n"
     ]
    },
    {
     "name": "stderr",
     "output_type": "stream",
     "text": [
      "/Users/seung-jae_bang/.virtualenvs/my_research/lib/python3.6/site-packages/ipykernel_launcher.py:5: RuntimeWarning: divide by zero encountered in log\n",
      "  \"\"\"\n"
     ]
    },
    {
     "name": "stdout",
     "output_type": "stream",
     "text": [
      "number of component tickers 502 in All\n"
     ]
    }
   ],
   "source": [
    "# lags indicate Twit leads\n",
    "n_lags = [0, 1, 3, 5]\n",
    "corr_summary = []\n",
    "\n",
    "\n",
    "for sector in all_sectors:\n",
    "    \n",
    "    daily_sentiment_agg_df = get_daily_sentiment_agg_df_for_sector(sector)\n",
    "    etf_ticker = get_etf_ticker_for_sector(sector)\n",
    "    daily_etf_return = get_nday_returns_for_ticker(etf_ticker, \n",
    "                                                   start_date, \n",
    "                                                   end_date,\n",
    "                                                   n_days=1)\n",
    "    \n",
    "    daily_sentiment_agg_df = append_sentiment_cols(daily_sentiment_agg_df)\n",
    "    \n",
    "    for sentiment_type in sentiment_types:\n",
    "        for lag in n_lags:\n",
    "            if lag == 0:\n",
    "                shifted_daily_sentiment_agg_df = daily_sentiment_agg_df\n",
    "            else:\n",
    "                shifted_daily_sentiment_agg_df = shift_date_index(daily_sentiment_agg_df, lag)\n",
    "\n",
    "            corr = calc_corr(shifted_daily_sentiment_agg_df, \n",
    "                             daily_etf_return,\n",
    "                             sentiment_type,\n",
    "                             'adjusted close return')\n",
    "            corr_summary.append({\n",
    "                'ticker': etf_ticker,\n",
    "                'sector': sector,\n",
    "                'sentiment_type': sentiment_type,\n",
    "                'lag': lag,\n",
    "                'corr': corr,\n",
    "            })"
   ]
  },
  {
   "cell_type": "code",
   "execution_count": 16,
   "metadata": {},
   "outputs": [],
   "source": [
    "corr_summary_df = pd.DataFrame(corr_summary)"
   ]
  },
  {
   "cell_type": "code",
   "execution_count": 17,
   "metadata": {},
   "outputs": [],
   "source": [
    "corr_summary_df_pivot = corr_summary_df.pivot_table(\n",
    "    index=['sentiment_type', 'ticker', 'sector'],\n",
    "    columns=['lag'],\n",
    "    values='corr'\n",
    ").round(2)"
   ]
  },
  {
   "cell_type": "code",
   "execution_count": 18,
   "metadata": {},
   "outputs": [
    {
     "data": {
      "text/html": [
       "<div>\n",
       "<style scoped>\n",
       "    .dataframe tbody tr th:only-of-type {\n",
       "        vertical-align: middle;\n",
       "    }\n",
       "\n",
       "    .dataframe tbody tr th {\n",
       "        vertical-align: top;\n",
       "    }\n",
       "\n",
       "    .dataframe thead th {\n",
       "        text-align: right;\n",
       "    }\n",
       "</style>\n",
       "<table border=\"1\" class=\"dataframe\">\n",
       "  <thead>\n",
       "    <tr style=\"text-align: right;\">\n",
       "      <th></th>\n",
       "      <th>lag</th>\n",
       "      <th>0</th>\n",
       "      <th>1</th>\n",
       "      <th>3</th>\n",
       "      <th>5</th>\n",
       "    </tr>\n",
       "    <tr>\n",
       "      <th>ticker</th>\n",
       "      <th>sector</th>\n",
       "      <th></th>\n",
       "      <th></th>\n",
       "      <th></th>\n",
       "      <th></th>\n",
       "    </tr>\n",
       "  </thead>\n",
       "  <tbody>\n",
       "    <tr>\n",
       "      <th>SPY</th>\n",
       "      <th>All</th>\n",
       "      <td>0.34</td>\n",
       "      <td>-0.02</td>\n",
       "      <td>-0.02</td>\n",
       "      <td>-0.03</td>\n",
       "    </tr>\n",
       "    <tr>\n",
       "      <th>XLB</th>\n",
       "      <th>Materials</th>\n",
       "      <td>0.21</td>\n",
       "      <td>0.02</td>\n",
       "      <td>-0.00</td>\n",
       "      <td>-0.07</td>\n",
       "    </tr>\n",
       "    <tr>\n",
       "      <th>XLE</th>\n",
       "      <th>Energy</th>\n",
       "      <td>0.37</td>\n",
       "      <td>0.05</td>\n",
       "      <td>0.02</td>\n",
       "      <td>-0.03</td>\n",
       "    </tr>\n",
       "    <tr>\n",
       "      <th>XLF</th>\n",
       "      <th>Financials</th>\n",
       "      <td>0.36</td>\n",
       "      <td>-0.01</td>\n",
       "      <td>0.00</td>\n",
       "      <td>-0.09</td>\n",
       "    </tr>\n",
       "    <tr>\n",
       "      <th>XLI</th>\n",
       "      <th>Industrials</th>\n",
       "      <td>0.25</td>\n",
       "      <td>0.00</td>\n",
       "      <td>-0.02</td>\n",
       "      <td>0.03</td>\n",
       "    </tr>\n",
       "    <tr>\n",
       "      <th>XLK</th>\n",
       "      <th>Information Technology</th>\n",
       "      <td>0.32</td>\n",
       "      <td>-0.05</td>\n",
       "      <td>-0.03</td>\n",
       "      <td>-0.05</td>\n",
       "    </tr>\n",
       "    <tr>\n",
       "      <th>XLP</th>\n",
       "      <th>Consumer Staples</th>\n",
       "      <td>0.26</td>\n",
       "      <td>0.01</td>\n",
       "      <td>-0.01</td>\n",
       "      <td>-0.03</td>\n",
       "    </tr>\n",
       "    <tr>\n",
       "      <th>XLRE</th>\n",
       "      <th>Real Estate</th>\n",
       "      <td>0.20</td>\n",
       "      <td>-0.01</td>\n",
       "      <td>0.01</td>\n",
       "      <td>0.00</td>\n",
       "    </tr>\n",
       "    <tr>\n",
       "      <th>XLU</th>\n",
       "      <th>Utilities</th>\n",
       "      <td>0.08</td>\n",
       "      <td>-0.01</td>\n",
       "      <td>0.01</td>\n",
       "      <td>0.01</td>\n",
       "    </tr>\n",
       "    <tr>\n",
       "      <th>XLV</th>\n",
       "      <th>Health Care</th>\n",
       "      <td>0.35</td>\n",
       "      <td>0.08</td>\n",
       "      <td>-0.02</td>\n",
       "      <td>-0.04</td>\n",
       "    </tr>\n",
       "    <tr>\n",
       "      <th>XLY</th>\n",
       "      <th>Consumer Discretionary</th>\n",
       "      <td>0.40</td>\n",
       "      <td>-0.04</td>\n",
       "      <td>-0.01</td>\n",
       "      <td>0.01</td>\n",
       "    </tr>\n",
       "  </tbody>\n",
       "</table>\n",
       "</div>"
      ],
      "text/plain": [
       "lag                               0     1     3     5\n",
       "ticker sector                                        \n",
       "SPY    All                     0.34 -0.02 -0.02 -0.03\n",
       "XLB    Materials               0.21  0.02 -0.00 -0.07\n",
       "XLE    Energy                  0.37  0.05  0.02 -0.03\n",
       "XLF    Financials              0.36 -0.01  0.00 -0.09\n",
       "XLI    Industrials             0.25  0.00 -0.02  0.03\n",
       "XLK    Information Technology  0.32 -0.05 -0.03 -0.05\n",
       "XLP    Consumer Staples        0.26  0.01 -0.01 -0.03\n",
       "XLRE   Real Estate             0.20 -0.01  0.01  0.00\n",
       "XLU    Utilities               0.08 -0.01  0.01  0.01\n",
       "XLV    Health Care             0.35  0.08 -0.02 -0.04\n",
       "XLY    Consumer Discretionary  0.40 -0.04 -0.01  0.01"
      ]
     },
     "execution_count": 18,
     "metadata": {},
     "output_type": "execute_result"
    }
   ],
   "source": [
    "corr_summary_df_pivot.loc['Log_Bullish_over_Bearish']"
   ]
  },
  {
   "cell_type": "code",
   "execution_count": null,
   "metadata": {},
   "outputs": [],
   "source": []
  },
  {
   "cell_type": "markdown",
   "metadata": {},
   "source": [
    "### Daily vs. NDay Correlation"
   ]
  },
  {
   "cell_type": "code",
   "execution_count": 19,
   "metadata": {},
   "outputs": [
    {
     "name": "stdout",
     "output_type": "stream",
     "text": [
      "number of component tickers 33 in Consumer Staples\n"
     ]
    },
    {
     "name": "stderr",
     "output_type": "stream",
     "text": [
      "/Users/seung-jae_bang/.virtualenvs/my_research/lib/python3.6/site-packages/ipykernel_launcher.py:5: RuntimeWarning: divide by zero encountered in log\n",
      "  \"\"\"\n"
     ]
    },
    {
     "name": "stdout",
     "output_type": "stream",
     "text": [
      "number of component tickers 32 in Real Estate\n"
     ]
    },
    {
     "name": "stderr",
     "output_type": "stream",
     "text": [
      "/Users/seung-jae_bang/.virtualenvs/my_research/lib/python3.6/site-packages/ipykernel_launcher.py:5: RuntimeWarning: divide by zero encountered in log\n",
      "  \"\"\"\n"
     ]
    },
    {
     "name": "stdout",
     "output_type": "stream",
     "text": [
      "number of component tickers 69 in Industrials\n",
      "number of component tickers 68 in Information Technology\n",
      "number of component tickers 28 in Energy\n"
     ]
    },
    {
     "name": "stderr",
     "output_type": "stream",
     "text": [
      "/Users/seung-jae_bang/.virtualenvs/my_research/lib/python3.6/site-packages/ipykernel_launcher.py:5: RuntimeWarning: divide by zero encountered in log\n",
      "  \"\"\"\n"
     ]
    },
    {
     "name": "stdout",
     "output_type": "stream",
     "text": [
      "number of component tickers 27 in Materials\n"
     ]
    },
    {
     "name": "stderr",
     "output_type": "stream",
     "text": [
      "/Users/seung-jae_bang/.virtualenvs/my_research/lib/python3.6/site-packages/ipykernel_launcher.py:5: RuntimeWarning: divide by zero encountered in log\n",
      "  \"\"\"\n"
     ]
    },
    {
     "name": "stdout",
     "output_type": "stream",
     "text": [
      "number of component tickers 62 in Consumer Discretionary\n",
      "number of component tickers 67 in Financials\n",
      "number of component tickers 62 in Health Care\n",
      "number of component tickers 28 in Utilities\n"
     ]
    },
    {
     "name": "stderr",
     "output_type": "stream",
     "text": [
      "/Users/seung-jae_bang/.virtualenvs/my_research/lib/python3.6/site-packages/ipykernel_launcher.py:5: RuntimeWarning: divide by zero encountered in log\n",
      "  \"\"\"\n"
     ]
    },
    {
     "name": "stdout",
     "output_type": "stream",
     "text": [
      "number of component tickers 502 in All\n"
     ]
    }
   ],
   "source": [
    "n_days = [1, 5, 21, 63, 128, 256]\n",
    "corr_summary = []\n",
    "\n",
    "\n",
    "for sector in all_sectors:\n",
    "    \n",
    "    daily_sentiment_agg_df = get_daily_sentiment_agg_df_for_sector(sector)\n",
    "    etf_ticker = get_etf_ticker_for_sector(sector)\n",
    "    \n",
    "    daily_sentiment_agg_df = append_sentiment_cols(daily_sentiment_agg_df)\n",
    "    \n",
    "    for sentiment_type in sentiment_types:\n",
    "        \n",
    "        for n_day in n_days:\n",
    "            nday_etf_return = get_nday_returns_for_ticker(etf_ticker, \n",
    "                                                           start_date, \n",
    "                                                           end_date,\n",
    "                                                           n_days=n_day)\n",
    "            \n",
    "            shifted_daily_sentiment_agg_df = shift_date_index(daily_sentiment_agg_df, \n",
    "                                                              n_day)\n",
    "\n",
    "            corr = calc_corr(shifted_daily_sentiment_agg_df, \n",
    "                             nday_etf_return,\n",
    "                             sentiment_type,\n",
    "                             'adjusted close return')\n",
    "            corr_summary.append({\n",
    "                'ticker': etf_ticker,\n",
    "                'sector': sector,\n",
    "                'sentiment_type': sentiment_type,\n",
    "                'nday': n_day,\n",
    "                'corr': corr,\n",
    "            })"
   ]
  },
  {
   "cell_type": "code",
   "execution_count": 20,
   "metadata": {},
   "outputs": [],
   "source": [
    "corr_summary_df = pd.DataFrame(corr_summary)"
   ]
  },
  {
   "cell_type": "code",
   "execution_count": 21,
   "metadata": {},
   "outputs": [],
   "source": [
    "corr_summary_df_pivot = corr_summary_df.pivot_table(\n",
    "    index=['sentiment_type', 'ticker', 'sector'],\n",
    "    columns=['nday'],\n",
    "    values='corr'\n",
    ").round(2)"
   ]
  },
  {
   "cell_type": "code",
   "execution_count": 22,
   "metadata": {},
   "outputs": [
    {
     "data": {
      "text/html": [
       "<div>\n",
       "<style scoped>\n",
       "    .dataframe tbody tr th:only-of-type {\n",
       "        vertical-align: middle;\n",
       "    }\n",
       "\n",
       "    .dataframe tbody tr th {\n",
       "        vertical-align: top;\n",
       "    }\n",
       "\n",
       "    .dataframe thead th {\n",
       "        text-align: right;\n",
       "    }\n",
       "</style>\n",
       "<table border=\"1\" class=\"dataframe\">\n",
       "  <thead>\n",
       "    <tr style=\"text-align: right;\">\n",
       "      <th></th>\n",
       "      <th>nday</th>\n",
       "      <th>1</th>\n",
       "      <th>5</th>\n",
       "      <th>21</th>\n",
       "      <th>63</th>\n",
       "      <th>128</th>\n",
       "      <th>256</th>\n",
       "    </tr>\n",
       "    <tr>\n",
       "      <th>ticker</th>\n",
       "      <th>sector</th>\n",
       "      <th></th>\n",
       "      <th></th>\n",
       "      <th></th>\n",
       "      <th></th>\n",
       "      <th></th>\n",
       "      <th></th>\n",
       "    </tr>\n",
       "  </thead>\n",
       "  <tbody>\n",
       "    <tr>\n",
       "      <th>SPY</th>\n",
       "      <th>All</th>\n",
       "      <td>-0.02</td>\n",
       "      <td>-0.07</td>\n",
       "      <td>-0.14</td>\n",
       "      <td>-0.26</td>\n",
       "      <td>-0.41</td>\n",
       "      <td>-0.43</td>\n",
       "    </tr>\n",
       "    <tr>\n",
       "      <th>XLB</th>\n",
       "      <th>Materials</th>\n",
       "      <td>0.02</td>\n",
       "      <td>-0.03</td>\n",
       "      <td>-0.02</td>\n",
       "      <td>-0.10</td>\n",
       "      <td>-0.23</td>\n",
       "      <td>-0.31</td>\n",
       "    </tr>\n",
       "    <tr>\n",
       "      <th>XLE</th>\n",
       "      <th>Energy</th>\n",
       "      <td>0.05</td>\n",
       "      <td>-0.01</td>\n",
       "      <td>0.03</td>\n",
       "      <td>0.09</td>\n",
       "      <td>0.03</td>\n",
       "      <td>-0.19</td>\n",
       "    </tr>\n",
       "    <tr>\n",
       "      <th>XLF</th>\n",
       "      <th>Financials</th>\n",
       "      <td>-0.01</td>\n",
       "      <td>-0.08</td>\n",
       "      <td>-0.14</td>\n",
       "      <td>-0.26</td>\n",
       "      <td>-0.39</td>\n",
       "      <td>-0.46</td>\n",
       "    </tr>\n",
       "    <tr>\n",
       "      <th>XLI</th>\n",
       "      <th>Industrials</th>\n",
       "      <td>0.00</td>\n",
       "      <td>0.00</td>\n",
       "      <td>0.03</td>\n",
       "      <td>-0.19</td>\n",
       "      <td>-0.26</td>\n",
       "      <td>-0.31</td>\n",
       "    </tr>\n",
       "    <tr>\n",
       "      <th>XLK</th>\n",
       "      <th>Information Technology</th>\n",
       "      <td>-0.05</td>\n",
       "      <td>-0.11</td>\n",
       "      <td>-0.16</td>\n",
       "      <td>-0.22</td>\n",
       "      <td>-0.38</td>\n",
       "      <td>-0.32</td>\n",
       "    </tr>\n",
       "    <tr>\n",
       "      <th>XLP</th>\n",
       "      <th>Consumer Staples</th>\n",
       "      <td>0.01</td>\n",
       "      <td>-0.03</td>\n",
       "      <td>-0.12</td>\n",
       "      <td>-0.20</td>\n",
       "      <td>-0.31</td>\n",
       "      <td>-0.17</td>\n",
       "    </tr>\n",
       "    <tr>\n",
       "      <th>XLRE</th>\n",
       "      <th>Real Estate</th>\n",
       "      <td>-0.01</td>\n",
       "      <td>0.03</td>\n",
       "      <td>0.03</td>\n",
       "      <td>-0.04</td>\n",
       "      <td>-0.06</td>\n",
       "      <td>0.13</td>\n",
       "    </tr>\n",
       "    <tr>\n",
       "      <th>XLU</th>\n",
       "      <th>Utilities</th>\n",
       "      <td>-0.01</td>\n",
       "      <td>0.03</td>\n",
       "      <td>-0.04</td>\n",
       "      <td>-0.12</td>\n",
       "      <td>-0.02</td>\n",
       "      <td>0.05</td>\n",
       "    </tr>\n",
       "    <tr>\n",
       "      <th>XLV</th>\n",
       "      <th>Health Care</th>\n",
       "      <td>0.08</td>\n",
       "      <td>-0.04</td>\n",
       "      <td>-0.18</td>\n",
       "      <td>-0.34</td>\n",
       "      <td>-0.19</td>\n",
       "      <td>-0.16</td>\n",
       "    </tr>\n",
       "    <tr>\n",
       "      <th>XLY</th>\n",
       "      <th>Consumer Discretionary</th>\n",
       "      <td>-0.04</td>\n",
       "      <td>-0.07</td>\n",
       "      <td>-0.15</td>\n",
       "      <td>-0.16</td>\n",
       "      <td>-0.17</td>\n",
       "      <td>-0.34</td>\n",
       "    </tr>\n",
       "  </tbody>\n",
       "</table>\n",
       "</div>"
      ],
      "text/plain": [
       "nday                            1     5     21    63    128   256\n",
       "ticker sector                                                    \n",
       "SPY    All                    -0.02 -0.07 -0.14 -0.26 -0.41 -0.43\n",
       "XLB    Materials               0.02 -0.03 -0.02 -0.10 -0.23 -0.31\n",
       "XLE    Energy                  0.05 -0.01  0.03  0.09  0.03 -0.19\n",
       "XLF    Financials             -0.01 -0.08 -0.14 -0.26 -0.39 -0.46\n",
       "XLI    Industrials             0.00  0.00  0.03 -0.19 -0.26 -0.31\n",
       "XLK    Information Technology -0.05 -0.11 -0.16 -0.22 -0.38 -0.32\n",
       "XLP    Consumer Staples        0.01 -0.03 -0.12 -0.20 -0.31 -0.17\n",
       "XLRE   Real Estate            -0.01  0.03  0.03 -0.04 -0.06  0.13\n",
       "XLU    Utilities              -0.01  0.03 -0.04 -0.12 -0.02  0.05\n",
       "XLV    Health Care             0.08 -0.04 -0.18 -0.34 -0.19 -0.16\n",
       "XLY    Consumer Discretionary -0.04 -0.07 -0.15 -0.16 -0.17 -0.34"
      ]
     },
     "execution_count": 22,
     "metadata": {},
     "output_type": "execute_result"
    }
   ],
   "source": [
    "corr_summary_df_pivot.loc['Log_Bullish_over_Bearish']"
   ]
  },
  {
   "cell_type": "code",
   "execution_count": null,
   "metadata": {},
   "outputs": [],
   "source": []
  },
  {
   "cell_type": "markdown",
   "metadata": {},
   "source": [
    "### Weekly vs NDay Correlation"
   ]
  },
  {
   "cell_type": "code",
   "execution_count": 23,
   "metadata": {},
   "outputs": [],
   "source": [
    "from util.ts_util import rolling_nday"
   ]
  },
  {
   "cell_type": "code",
   "execution_count": null,
   "metadata": {},
   "outputs": [],
   "source": []
  },
  {
   "cell_type": "code",
   "execution_count": 24,
   "metadata": {},
   "outputs": [
    {
     "name": "stdout",
     "output_type": "stream",
     "text": [
      "number of component tickers 33 in Consumer Staples\n",
      "number of component tickers 32 in Real Estate\n"
     ]
    },
    {
     "name": "stderr",
     "output_type": "stream",
     "text": [
      "/Users/seung-jae_bang/.virtualenvs/my_research/lib/python3.6/site-packages/ipykernel_launcher.py:5: RuntimeWarning: divide by zero encountered in log\n",
      "  \"\"\"\n"
     ]
    },
    {
     "name": "stdout",
     "output_type": "stream",
     "text": [
      "number of component tickers 69 in Industrials\n",
      "number of component tickers 68 in Information Technology\n",
      "number of component tickers 28 in Energy\n",
      "number of component tickers 27 in Materials\n",
      "number of component tickers 62 in Consumer Discretionary\n",
      "number of component tickers 67 in Financials\n",
      "number of component tickers 62 in Health Care\n",
      "number of component tickers 28 in Utilities\n"
     ]
    },
    {
     "name": "stderr",
     "output_type": "stream",
     "text": [
      "/Users/seung-jae_bang/.virtualenvs/my_research/lib/python3.6/site-packages/ipykernel_launcher.py:5: RuntimeWarning: divide by zero encountered in log\n",
      "  \"\"\"\n"
     ]
    },
    {
     "name": "stdout",
     "output_type": "stream",
     "text": [
      "number of component tickers 502 in All\n"
     ]
    }
   ],
   "source": [
    "n_days = [1, 5, 21, 63, 128, 256]\n",
    "corr_summary = []\n",
    "\n",
    "\n",
    "for sector in all_sectors:\n",
    "\n",
    "    daily_sentiment_agg_df = get_daily_sentiment_agg_df_for_sector(sector)\n",
    "    weekly_sentiment_agg_df = rolling_nday(daily_sentiment_agg_df, window='180D')\n",
    "    etf_ticker = get_etf_ticker_for_sector(sector)\n",
    "    \n",
    "    weekly_sentiment_agg_df = append_sentiment_cols(weekly_sentiment_agg_df)\n",
    "    \n",
    "    for sentiment_type in sentiment_types:\n",
    "        \n",
    "        for n_day in n_days:\n",
    "            nday_etf_return = get_nday_returns_for_ticker(etf_ticker, \n",
    "                                                           start_date, \n",
    "                                                           end_date,\n",
    "                                                           n_days=n_day)\n",
    "            \n",
    "            shifted_weekly_sentiment_agg_df = shift_date_index(weekly_sentiment_agg_df, \n",
    "                                                               n_day)\n",
    "\n",
    "            corr = calc_corr(shifted_weekly_sentiment_agg_df, \n",
    "                             nday_etf_return,\n",
    "                             sentiment_type,\n",
    "                             'adjusted close return')\n",
    "            corr_summary.append({\n",
    "                'ticker': etf_ticker,\n",
    "                'sector': sector,\n",
    "                'sentiment_type': sentiment_type,\n",
    "                'nday': n_day,\n",
    "                'corr': corr,\n",
    "            })"
   ]
  },
  {
   "cell_type": "code",
   "execution_count": 25,
   "metadata": {},
   "outputs": [],
   "source": [
    "corr_summary_df = pd.DataFrame(corr_summary)"
   ]
  },
  {
   "cell_type": "code",
   "execution_count": 26,
   "metadata": {},
   "outputs": [],
   "source": [
    "corr_summary_df_pivot = corr_summary_df.pivot_table(\n",
    "    index=['sentiment_type', 'ticker', 'sector'],\n",
    "    columns=['nday'],\n",
    "    values='corr'\n",
    ").round(2)"
   ]
  },
  {
   "cell_type": "code",
   "execution_count": 27,
   "metadata": {},
   "outputs": [
    {
     "data": {
      "text/html": [
       "<div>\n",
       "<style scoped>\n",
       "    .dataframe tbody tr th:only-of-type {\n",
       "        vertical-align: middle;\n",
       "    }\n",
       "\n",
       "    .dataframe tbody tr th {\n",
       "        vertical-align: top;\n",
       "    }\n",
       "\n",
       "    .dataframe thead th {\n",
       "        text-align: right;\n",
       "    }\n",
       "</style>\n",
       "<table border=\"1\" class=\"dataframe\">\n",
       "  <thead>\n",
       "    <tr style=\"text-align: right;\">\n",
       "      <th></th>\n",
       "      <th>nday</th>\n",
       "      <th>1</th>\n",
       "      <th>5</th>\n",
       "      <th>21</th>\n",
       "      <th>63</th>\n",
       "      <th>128</th>\n",
       "      <th>256</th>\n",
       "    </tr>\n",
       "    <tr>\n",
       "      <th>ticker</th>\n",
       "      <th>sector</th>\n",
       "      <th></th>\n",
       "      <th></th>\n",
       "      <th></th>\n",
       "      <th></th>\n",
       "      <th></th>\n",
       "      <th></th>\n",
       "    </tr>\n",
       "  </thead>\n",
       "  <tbody>\n",
       "    <tr>\n",
       "      <th>SPY</th>\n",
       "      <th>All</th>\n",
       "      <td>-0.04</td>\n",
       "      <td>-0.09</td>\n",
       "      <td>-0.21</td>\n",
       "      <td>-0.27</td>\n",
       "      <td>-0.60</td>\n",
       "      <td>-0.50</td>\n",
       "    </tr>\n",
       "    <tr>\n",
       "      <th>XLB</th>\n",
       "      <th>Materials</th>\n",
       "      <td>-0.04</td>\n",
       "      <td>-0.08</td>\n",
       "      <td>-0.22</td>\n",
       "      <td>-0.55</td>\n",
       "      <td>-0.82</td>\n",
       "      <td>-0.67</td>\n",
       "    </tr>\n",
       "    <tr>\n",
       "      <th>XLE</th>\n",
       "      <th>Energy</th>\n",
       "      <td>0.00</td>\n",
       "      <td>0.00</td>\n",
       "      <td>0.05</td>\n",
       "      <td>0.01</td>\n",
       "      <td>-0.21</td>\n",
       "      <td>-0.78</td>\n",
       "    </tr>\n",
       "    <tr>\n",
       "      <th>XLF</th>\n",
       "      <th>Financials</th>\n",
       "      <td>-0.06</td>\n",
       "      <td>-0.15</td>\n",
       "      <td>-0.32</td>\n",
       "      <td>-0.59</td>\n",
       "      <td>-0.85</td>\n",
       "      <td>-0.69</td>\n",
       "    </tr>\n",
       "    <tr>\n",
       "      <th>XLI</th>\n",
       "      <th>Industrials</th>\n",
       "      <td>-0.04</td>\n",
       "      <td>-0.08</td>\n",
       "      <td>-0.19</td>\n",
       "      <td>-0.34</td>\n",
       "      <td>-0.37</td>\n",
       "      <td>0.04</td>\n",
       "    </tr>\n",
       "    <tr>\n",
       "      <th>XLK</th>\n",
       "      <th>Information Technology</th>\n",
       "      <td>-0.03</td>\n",
       "      <td>-0.07</td>\n",
       "      <td>-0.19</td>\n",
       "      <td>-0.29</td>\n",
       "      <td>-0.65</td>\n",
       "      <td>-0.27</td>\n",
       "    </tr>\n",
       "    <tr>\n",
       "      <th>XLP</th>\n",
       "      <th>Consumer Staples</th>\n",
       "      <td>-0.06</td>\n",
       "      <td>-0.15</td>\n",
       "      <td>-0.33</td>\n",
       "      <td>-0.47</td>\n",
       "      <td>-0.23</td>\n",
       "      <td>0.16</td>\n",
       "    </tr>\n",
       "    <tr>\n",
       "      <th>XLRE</th>\n",
       "      <th>Real Estate</th>\n",
       "      <td>-0.04</td>\n",
       "      <td>-0.12</td>\n",
       "      <td>-0.21</td>\n",
       "      <td>-0.28</td>\n",
       "      <td>0.20</td>\n",
       "      <td>0.48</td>\n",
       "    </tr>\n",
       "    <tr>\n",
       "      <th>XLU</th>\n",
       "      <th>Utilities</th>\n",
       "      <td>-0.01</td>\n",
       "      <td>-0.02</td>\n",
       "      <td>-0.01</td>\n",
       "      <td>0.09</td>\n",
       "      <td>0.30</td>\n",
       "      <td>0.60</td>\n",
       "    </tr>\n",
       "    <tr>\n",
       "      <th>XLV</th>\n",
       "      <th>Health Care</th>\n",
       "      <td>-0.03</td>\n",
       "      <td>-0.11</td>\n",
       "      <td>-0.11</td>\n",
       "      <td>-0.02</td>\n",
       "      <td>0.11</td>\n",
       "      <td>0.19</td>\n",
       "    </tr>\n",
       "    <tr>\n",
       "      <th>XLY</th>\n",
       "      <th>Consumer Discretionary</th>\n",
       "      <td>-0.04</td>\n",
       "      <td>-0.08</td>\n",
       "      <td>-0.10</td>\n",
       "      <td>-0.14</td>\n",
       "      <td>-0.45</td>\n",
       "      <td>-0.45</td>\n",
       "    </tr>\n",
       "  </tbody>\n",
       "</table>\n",
       "</div>"
      ],
      "text/plain": [
       "nday                            1     5     21    63    128   256\n",
       "ticker sector                                                    \n",
       "SPY    All                    -0.04 -0.09 -0.21 -0.27 -0.60 -0.50\n",
       "XLB    Materials              -0.04 -0.08 -0.22 -0.55 -0.82 -0.67\n",
       "XLE    Energy                  0.00  0.00  0.05  0.01 -0.21 -0.78\n",
       "XLF    Financials             -0.06 -0.15 -0.32 -0.59 -0.85 -0.69\n",
       "XLI    Industrials            -0.04 -0.08 -0.19 -0.34 -0.37  0.04\n",
       "XLK    Information Technology -0.03 -0.07 -0.19 -0.29 -0.65 -0.27\n",
       "XLP    Consumer Staples       -0.06 -0.15 -0.33 -0.47 -0.23  0.16\n",
       "XLRE   Real Estate            -0.04 -0.12 -0.21 -0.28  0.20  0.48\n",
       "XLU    Utilities              -0.01 -0.02 -0.01  0.09  0.30  0.60\n",
       "XLV    Health Care            -0.03 -0.11 -0.11 -0.02  0.11  0.19\n",
       "XLY    Consumer Discretionary -0.04 -0.08 -0.10 -0.14 -0.45 -0.45"
      ]
     },
     "execution_count": 27,
     "metadata": {},
     "output_type": "execute_result"
    }
   ],
   "source": [
    "corr_summary_df_pivot.loc['Log_Bullish_over_Bearish']"
   ]
  },
  {
   "cell_type": "code",
   "execution_count": 28,
   "metadata": {},
   "outputs": [
    {
     "data": {
      "text/plain": [
       "nday\n",
       "1     -0.04\n",
       "5     -0.08\n",
       "21    -0.19\n",
       "63    -0.28\n",
       "128   -0.37\n",
       "256   -0.27\n",
       "dtype: float64"
      ]
     },
     "execution_count": 28,
     "metadata": {},
     "output_type": "execute_result"
    }
   ],
   "source": [
    "corr_summary_df_pivot.loc['Log_Bullish_over_Bearish'].median()"
   ]
  },
  {
   "cell_type": "code",
   "execution_count": 32,
   "metadata": {},
   "outputs": [
    {
     "name": "stdout",
     "output_type": "stream",
     "text": [
      "number of component tickers 69 in Industrials\n"
     ]
    }
   ],
   "source": [
    "corr_summary = []\n",
    "\n",
    "\n",
    "for sector in ['Industrials']:\n",
    "\n",
    "    daily_sentiment_agg_df = get_daily_sentiment_agg_df_for_sector(sector)\n",
    "    weekly_sentiment_agg_df = resample_weekly(daily_sentiment_agg_df)\n",
    "    etf_ticker = get_etf_ticker_for_sector(sector)\n",
    "    \n",
    "    weekly_sentiment_agg_df = append_sentiment_cols(weekly_sentiment_agg_df)\n",
    "    \n",
    "    for sentiment_type in sentiment_types:\n",
    "        \n",
    "        \n",
    "        nday_etf_return = get_nday_returns_for_ticker(etf_ticker, \n",
    "                                                       start_date, \n",
    "                                                       end_date,\n",
    "                                                       n_days=5)\n",
    "        nday_etf_return = nday_etf_return.resample('W-FRI').last()\n",
    "\n",
    "        shifted_weekly_sentiment_agg_df = weekly_sentiment_agg_df.shift(1)\n",
    "\n",
    "        corr = calc_corr(shifted_weekly_sentiment_agg_df, \n",
    "                         nday_etf_return,\n",
    "                         sentiment_type,\n",
    "                         'adjusted close return')\n",
    "        corr_summary.append({\n",
    "            'ticker': etf_ticker,\n",
    "            'sector': sector,\n",
    "            'sentiment_type': sentiment_type,\n",
    "#             'nday': n_day,\n",
    "            'corr': corr,\n",
    "        })"
   ]
  },
  {
   "cell_type": "code",
   "execution_count": 33,
   "metadata": {},
   "outputs": [
    {
     "data": {
      "text/plain": [
       "Bearish    143.512039\n",
       "Bullish    131.807032\n",
       "dtype: float64"
      ]
     },
     "execution_count": 33,
     "metadata": {},
     "output_type": "execute_result"
    }
   ],
   "source": [
    "daily_sentiment_agg_df.std()"
   ]
  },
  {
   "cell_type": "code",
   "execution_count": 34,
   "metadata": {},
   "outputs": [
    {
     "data": {
      "text/plain": [
       "<matplotlib.axes._subplots.AxesSubplot at 0x119c39cf8>"
      ]
     },
     "execution_count": 34,
     "metadata": {},
     "output_type": "execute_result"
    },
    {
     "data": {
      "image/png": "[encoded data removed]",
      "text/plain": [
       "<Figure size 432x288 with 1 Axes>"
      ]
     },
     "metadata": {
      "needs_background": "light"
     },
     "output_type": "display_data"
    }
   ],
   "source": [
    "daily_sentiment_agg_df.plot()"
   ]
  },
  {
   "cell_type": "code",
   "execution_count": null,
   "metadata": {},
   "outputs": [],
   "source": []
  },
  {
   "cell_type": "code",
   "execution_count": null,
   "metadata": {},
   "outputs": [],
   "source": []
  },
  {
   "cell_type": "code",
   "execution_count": null,
   "metadata": {},
   "outputs": [],
   "source": []
  },
  {
   "cell_type": "code",
   "execution_count": null,
   "metadata": {},
   "outputs": [],
   "source": [
    "corr_summary_df = pd.DataFrame(corr_summary)"
   ]
  },
  {
   "cell_type": "code",
   "execution_count": null,
   "metadata": {},
   "outputs": [],
   "source": [
    "corr_summary_df = corr_summary_df[corr_summary_df['sentiment_type'] == 'Log_Bullish_over_Bearish']"
   ]
  },
  {
   "cell_type": "code",
   "execution_count": null,
   "metadata": {},
   "outputs": [],
   "source": [
    "corr_summary_df.drop('sentiment_type', axis=1).sort_values('corr').round(2)"
   ]
  },
  {
   "cell_type": "code",
   "execution_count": null,
   "metadata": {},
   "outputs": [],
   "source": [
    "sector"
   ]
  },
  {
   "cell_type": "code",
   "execution_count": null,
   "metadata": {},
   "outputs": [],
   "source": [
    "daily_sentiment_agg_df"
   ]
  },
  {
   "cell_type": "code",
   "execution_count": null,
   "metadata": {},
   "outputs": [],
   "source": []
  }
 ],
 "metadata": {
  "kernelspec": {
   "display_name": "Python 3",
   "language": "python",
   "name": "python3"
  },
  "language_info": {
   "codemirror_mode": {
    "name": "ipython",
    "version": 3
   },
   "file_extension": ".py",
   "mimetype": "text/x-python",
   "name": "python",
   "nbconvert_exporter": "python",
   "pygments_lexer": "ipython3",
   "version": "3.6.5"
  }
 },
 "nbformat": 4,
 "nbformat_minor": 2
}
