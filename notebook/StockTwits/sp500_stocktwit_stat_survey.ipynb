{
 "cells": [
  {
   "cell_type": "code",
   "execution_count": null,
   "metadata": {},
   "outputs": [],
   "source": [
    "%load_ext autoreload\n",
    "%autoreload 2"
   ]
  },
  {
   "cell_type": "code",
   "execution_count": 2,
   "metadata": {},
   "outputs": [],
   "source": [
    "import sys\n",
    "sys.path.append('../../')"
   ]
  },
  {
   "cell_type": "code",
   "execution_count": 69,
   "metadata": {},
   "outputs": [],
   "source": [
    "import pandas as pd\n",
    "\n",
    "import matplotlib.pyplot as plt\n",
    "%matplotlib inline\n",
    "\n",
    "from util.file_util import StockTwitsFileReader, StockDataFileReader\n",
    "from util.ts_util import resample_weekly\n",
    "from util.plot_util import plot_time_series_bar\n",
    "from config import STOCKTWITS_TICKER_LIST"
   ]
  },
  {
   "cell_type": "code",
   "execution_count": 4,
   "metadata": {},
   "outputs": [],
   "source": [
    "start_date = '2018-01-01'\n",
    "end_date = '2019-08-10'\n",
    "\n",
    "twit_file_reader = StockTwitsFileReader() \n",
    "stock_file_reader = StockDataFileReader()"
   ]
  },
  {
   "cell_type": "code",
   "execution_count": 5,
   "metadata": {},
   "outputs": [],
   "source": [
    "sp500_ticker_list = STOCKTWITS_TICKER_LIST"
   ]
  },
  {
   "cell_type": "code",
   "execution_count": 6,
   "metadata": {},
   "outputs": [
    {
     "data": {
      "text/plain": [
       "502"
      ]
     },
     "execution_count": 6,
     "metadata": {},
     "output_type": "execute_result"
    }
   ],
   "source": [
    "len(sp500_ticker_list)"
   ]
  },
  {
   "cell_type": "markdown",
   "metadata": {},
   "source": [
    "## Distribution of Total Twits by Company"
   ]
  },
  {
   "cell_type": "code",
   "execution_count": 28,
   "metadata": {},
   "outputs": [
    {
     "name": "stdout",
     "output_type": "stream",
     "text": [
      "CPU times: user 3.42 s, sys: 116 ms, total: 3.54 s\n",
      "Wall time: 3.55 s\n"
     ]
    }
   ],
   "source": [
    "%%time\n",
    "\n",
    "stats = []\n",
    "\n",
    "for ticker in sp500_ticker_list:\n",
    "    twit_df = twit_file_reader.read_daily_sentiment_summary_prelim(ticker)\n",
    "    n_days = twit_df.shape[0]\n",
    "    \n",
    "    twit_sum = twit_df.sum(axis=0)\n",
    "    total_bearish = twit_sum['Bearish']\n",
    "    total_bullish = twit_sum['Bullish']\n",
    "    \n",
    "    total_twits = total_bearish + total_bullish\n",
    "    avg_twits = total_twits / n_days\n",
    "    \n",
    "    stats.append({\n",
    "        'ticker': ticker, \n",
    "        'total_bearish': total_bearish,\n",
    "        'total_bullish': total_bullish,\n",
    "        'total_twits': total_twits,\n",
    "        'avg_twits': avg_twits,\n",
    "        'n_days': n_days,\n",
    "    })"
   ]
  },
  {
   "cell_type": "code",
   "execution_count": 29,
   "metadata": {},
   "outputs": [],
   "source": [
    "stat_df = pd.DataFrame(stats).sort_values('avg_twits', ascending=False)"
   ]
  },
  {
   "cell_type": "code",
   "execution_count": 30,
   "metadata": {},
   "outputs": [
    {
     "data": {
      "text/html": [
       "<div>\n",
       "<style scoped>\n",
       "    .dataframe tbody tr th:only-of-type {\n",
       "        vertical-align: middle;\n",
       "    }\n",
       "\n",
       "    .dataframe tbody tr th {\n",
       "        vertical-align: top;\n",
       "    }\n",
       "\n",
       "    .dataframe thead th {\n",
       "        text-align: right;\n",
       "    }\n",
       "</style>\n",
       "<table border=\"1\" class=\"dataframe\">\n",
       "  <thead>\n",
       "    <tr style=\"text-align: right;\">\n",
       "      <th></th>\n",
       "      <th>avg_twits</th>\n",
       "      <th>n_days</th>\n",
       "      <th>ticker</th>\n",
       "      <th>total_bearish</th>\n",
       "      <th>total_bullish</th>\n",
       "      <th>total_twits</th>\n",
       "    </tr>\n",
       "  </thead>\n",
       "  <tbody>\n",
       "    <tr>\n",
       "      <th>275</th>\n",
       "      <td>744.302381</td>\n",
       "      <td>420</td>\n",
       "      <td>AMD</td>\n",
       "      <td>59381.0</td>\n",
       "      <td>253226.0</td>\n",
       "      <td>312607.0</td>\n",
       "    </tr>\n",
       "    <tr>\n",
       "      <th>400</th>\n",
       "      <td>400.285714</td>\n",
       "      <td>420</td>\n",
       "      <td>AAPL</td>\n",
       "      <td>48634.0</td>\n",
       "      <td>119486.0</td>\n",
       "      <td>168120.0</td>\n",
       "    </tr>\n",
       "    <tr>\n",
       "      <th>63</th>\n",
       "      <td>376.578571</td>\n",
       "      <td>420</td>\n",
       "      <td>AMZN</td>\n",
       "      <td>38453.0</td>\n",
       "      <td>119710.0</td>\n",
       "      <td>158163.0</td>\n",
       "    </tr>\n",
       "    <tr>\n",
       "      <th>406</th>\n",
       "      <td>306.445238</td>\n",
       "      <td>420</td>\n",
       "      <td>MU</td>\n",
       "      <td>22832.0</td>\n",
       "      <td>105875.0</td>\n",
       "      <td>128707.0</td>\n",
       "    </tr>\n",
       "    <tr>\n",
       "      <th>469</th>\n",
       "      <td>299.835714</td>\n",
       "      <td>420</td>\n",
       "      <td>FB</td>\n",
       "      <td>41525.0</td>\n",
       "      <td>84406.0</td>\n",
       "      <td>125931.0</td>\n",
       "    </tr>\n",
       "  </tbody>\n",
       "</table>\n",
       "</div>"
      ],
      "text/plain": [
       "      avg_twits  n_days ticker  total_bearish  total_bullish  total_twits\n",
       "275  744.302381     420    AMD        59381.0       253226.0     312607.0\n",
       "400  400.285714     420   AAPL        48634.0       119486.0     168120.0\n",
       "63   376.578571     420   AMZN        38453.0       119710.0     158163.0\n",
       "406  306.445238     420     MU        22832.0       105875.0     128707.0\n",
       "469  299.835714     420     FB        41525.0        84406.0     125931.0"
      ]
     },
     "execution_count": 30,
     "metadata": {},
     "output_type": "execute_result"
    }
   ],
   "source": [
    "stat_df.head()"
   ]
  },
  {
   "cell_type": "code",
   "execution_count": 14,
   "metadata": {},
   "outputs": [
    {
     "data": {
      "text/plain": [
       "64"
      ]
     },
     "execution_count": 14,
     "metadata": {},
     "output_type": "execute_result"
    }
   ],
   "source": [
    "(stat_df['avg_twits'] > 10).sum()"
   ]
  },
  {
   "cell_type": "code",
   "execution_count": 31,
   "metadata": {},
   "outputs": [
    {
     "data": {
      "text/plain": [
       "<matplotlib.axes._subplots.AxesSubplot at 0x1148aa208>"
      ]
     },
     "execution_count": 31,
     "metadata": {},
     "output_type": "execute_result"
    },
    {
     "data": {
      "image/png": "[encoded data removed]",
      "text/plain": [
       "<Figure size 432x288 with 1 Axes>"
      ]
     },
     "metadata": {
      "needs_background": "light"
     },
     "output_type": "display_data"
    }
   ],
   "source": [
    "stat_df['avg_twits'].hist(bins=100)"
   ]
  },
  {
   "cell_type": "code",
   "execution_count": 41,
   "metadata": {},
   "outputs": [
    {
     "data": {
      "text/plain": [
       "total_bearish     472116.0\n",
       "total_bullish    1489482.0\n",
       "dtype: float64"
      ]
     },
     "execution_count": 41,
     "metadata": {},
     "output_type": "execute_result"
    }
   ],
   "source": [
    "stat_df[['total_bearish', 'total_bullish']].sum()"
   ]
  },
  {
   "cell_type": "code",
   "execution_count": 43,
   "metadata": {},
   "outputs": [],
   "source": [
    "stat_df['bullish_more_than_bearish'] = stat_df['total_bullish'] > stat_df['total_bearish']"
   ]
  },
  {
   "cell_type": "code",
   "execution_count": 45,
   "metadata": {},
   "outputs": [
    {
     "data": {
      "text/plain": [
       "0.9820717131474104"
      ]
     },
     "execution_count": 45,
     "metadata": {},
     "output_type": "execute_result"
    }
   ],
   "source": [
    "stat_df['bullish_more_than_bearish'].mean()"
   ]
  },
  {
   "cell_type": "code",
   "execution_count": 46,
   "metadata": {},
   "outputs": [
    {
     "data": {
      "text/html": [
       "<div>\n",
       "<style scoped>\n",
       "    .dataframe tbody tr th:only-of-type {\n",
       "        vertical-align: middle;\n",
       "    }\n",
       "\n",
       "    .dataframe tbody tr th {\n",
       "        vertical-align: top;\n",
       "    }\n",
       "\n",
       "    .dataframe thead th {\n",
       "        text-align: right;\n",
       "    }\n",
       "</style>\n",
       "<table border=\"1\" class=\"dataframe\">\n",
       "  <thead>\n",
       "    <tr style=\"text-align: right;\">\n",
       "      <th></th>\n",
       "      <th>avg_twits</th>\n",
       "      <th>n_days</th>\n",
       "      <th>ticker</th>\n",
       "      <th>total_bearish</th>\n",
       "      <th>total_bullish</th>\n",
       "      <th>total_twits</th>\n",
       "      <th>bullish_more_than_bearish</th>\n",
       "    </tr>\n",
       "  </thead>\n",
       "  <tbody>\n",
       "    <tr>\n",
       "      <th>453</th>\n",
       "      <td>34.004843</td>\n",
       "      <td>413</td>\n",
       "      <td>NKE</td>\n",
       "      <td>7084.0</td>\n",
       "      <td>6960.0</td>\n",
       "      <td>14044.0</td>\n",
       "      <td>False</td>\n",
       "    </tr>\n",
       "    <tr>\n",
       "      <th>115</th>\n",
       "      <td>24.952267</td>\n",
       "      <td>419</td>\n",
       "      <td>CMG</td>\n",
       "      <td>5370.0</td>\n",
       "      <td>5085.0</td>\n",
       "      <td>10455.0</td>\n",
       "      <td>False</td>\n",
       "    </tr>\n",
       "    <tr>\n",
       "      <th>338</th>\n",
       "      <td>6.981273</td>\n",
       "      <td>267</td>\n",
       "      <td>TIF</td>\n",
       "      <td>985.0</td>\n",
       "      <td>879.0</td>\n",
       "      <td>1864.0</td>\n",
       "      <td>False</td>\n",
       "    </tr>\n",
       "    <tr>\n",
       "      <th>299</th>\n",
       "      <td>3.728814</td>\n",
       "      <td>177</td>\n",
       "      <td>HAS</td>\n",
       "      <td>345.0</td>\n",
       "      <td>315.0</td>\n",
       "      <td>660.0</td>\n",
       "      <td>False</td>\n",
       "    </tr>\n",
       "    <tr>\n",
       "      <th>178</th>\n",
       "      <td>3.510067</td>\n",
       "      <td>298</td>\n",
       "      <td>DISH</td>\n",
       "      <td>709.0</td>\n",
       "      <td>337.0</td>\n",
       "      <td>1046.0</td>\n",
       "      <td>False</td>\n",
       "    </tr>\n",
       "    <tr>\n",
       "      <th>281</th>\n",
       "      <td>3.397351</td>\n",
       "      <td>302</td>\n",
       "      <td>HOG</td>\n",
       "      <td>532.0</td>\n",
       "      <td>494.0</td>\n",
       "      <td>1026.0</td>\n",
       "      <td>False</td>\n",
       "    </tr>\n",
       "    <tr>\n",
       "      <th>374</th>\n",
       "      <td>2.587571</td>\n",
       "      <td>177</td>\n",
       "      <td>MAR</td>\n",
       "      <td>232.0</td>\n",
       "      <td>226.0</td>\n",
       "      <td>458.0</td>\n",
       "      <td>False</td>\n",
       "    </tr>\n",
       "    <tr>\n",
       "      <th>58</th>\n",
       "      <td>1.775000</td>\n",
       "      <td>80</td>\n",
       "      <td>NI</td>\n",
       "      <td>75.0</td>\n",
       "      <td>67.0</td>\n",
       "      <td>142.0</td>\n",
       "      <td>False</td>\n",
       "    </tr>\n",
       "    <tr>\n",
       "      <th>358</th>\n",
       "      <td>1.553398</td>\n",
       "      <td>103</td>\n",
       "      <td>SEE</td>\n",
       "      <td>110.0</td>\n",
       "      <td>50.0</td>\n",
       "      <td>160.0</td>\n",
       "      <td>False</td>\n",
       "    </tr>\n",
       "  </tbody>\n",
       "</table>\n",
       "</div>"
      ],
      "text/plain": [
       "     avg_twits  n_days ticker  total_bearish  total_bullish  total_twits  \\\n",
       "453  34.004843     413    NKE         7084.0         6960.0      14044.0   \n",
       "115  24.952267     419    CMG         5370.0         5085.0      10455.0   \n",
       "338   6.981273     267    TIF          985.0          879.0       1864.0   \n",
       "299   3.728814     177    HAS          345.0          315.0        660.0   \n",
       "178   3.510067     298   DISH          709.0          337.0       1046.0   \n",
       "281   3.397351     302    HOG          532.0          494.0       1026.0   \n",
       "374   2.587571     177    MAR          232.0          226.0        458.0   \n",
       "58    1.775000      80     NI           75.0           67.0        142.0   \n",
       "358   1.553398     103    SEE          110.0           50.0        160.0   \n",
       "\n",
       "     bullish_more_than_bearish  \n",
       "453                      False  \n",
       "115                      False  \n",
       "338                      False  \n",
       "299                      False  \n",
       "178                      False  \n",
       "281                      False  \n",
       "374                      False  \n",
       "58                       False  \n",
       "358                      False  "
      ]
     },
     "execution_count": 46,
     "metadata": {},
     "output_type": "execute_result"
    }
   ],
   "source": [
    "stat_df[~stat_df['bullish_more_than_bearish']]"
   ]
  },
  {
   "cell_type": "code",
   "execution_count": null,
   "metadata": {},
   "outputs": [],
   "source": []
  },
  {
   "cell_type": "markdown",
   "metadata": {},
   "source": [
    "## Distribution of Twits Across Time"
   ]
  },
  {
   "cell_type": "code",
   "execution_count": 49,
   "metadata": {},
   "outputs": [],
   "source": [
    "sample_twit_df = twit_df\n",
    "sample_wkly_twit_df = resample_weekly(sample_twit_df)"
   ]
  },
  {
   "cell_type": "code",
   "execution_count": 64,
   "metadata": {},
   "outputs": [],
   "source": [
    "wkly_sum_df = sample_wkly_twit_df.copy()"
   ]
  },
  {
   "cell_type": "code",
   "execution_count": 65,
   "metadata": {},
   "outputs": [],
   "source": [
    "wkly_sum_df['Bearish'] = 0.0\n",
    "wkly_sum_df['Bullish'] = 0.0"
   ]
  },
  {
   "cell_type": "code",
   "execution_count": 68,
   "metadata": {},
   "outputs": [
    {
     "name": "stdout",
     "output_type": "stream",
     "text": [
      "CPU times: user 6.47 s, sys: 149 ms, total: 6.62 s\n",
      "Wall time: 6.64 s\n"
     ]
    }
   ],
   "source": [
    "%%time\n",
    "\n",
    "for ticker in sp500_ticker_list:\n",
    "    twit_df = twit_file_reader.read_daily_sentiment_summary_prelim(ticker)\n",
    "    wkly_twit_df = resample_weekly(twit_df)\n",
    "    \n",
    "    wkly_sum_df = wkly_sum_df.add(wkly_twit_df, fill_value=0)"
   ]
  },
  {
   "cell_type": "code",
   "execution_count": 72,
   "metadata": {},
   "outputs": [
    {
     "name": "stderr",
     "output_type": "stream",
     "text": [
      "/Users/seung-jae_bang/.virtualenvs/my_research/lib/python3.6/site-packages/matplotlib/legend.py:1270: UserWarning: You have mixed positional and keyword arguments, some input may be discarded.\n",
      "  warnings.warn(\"You have mixed positional and keyword arguments, some \"\n"
     ]
    },
    {
     "data": {
      "image/png": "[encoded data removed]",
      "text/plain": [
       "<Figure size 1008x360 with 1 Axes>"
      ]
     },
     "metadata": {
      "needs_background": "light"
     },
     "output_type": "display_data"
    }
   ],
   "source": [
    "ax = plot_time_series_bar(wkly_sum_df, \n",
    "                          figsize=(14, 5),)\n"
   ]
  },
  {
   "cell_type": "code",
   "execution_count": null,
   "metadata": {},
   "outputs": [],
   "source": []
  }
 ],
 "metadata": {
  "kernelspec": {
   "display_name": "Python 3",
   "language": "python",
   "name": "python3"
  },
  "language_info": {
   "codemirror_mode": {
    "name": "ipython",
    "version": 3
   },
   "file_extension": ".py",
   "mimetype": "text/x-python",
   "name": "python",
   "nbconvert_exporter": "python",
   "pygments_lexer": "ipython3",
   "version": "3.6.5"
  }
 },
 "nbformat": 4,
 "nbformat_minor": 2
}
