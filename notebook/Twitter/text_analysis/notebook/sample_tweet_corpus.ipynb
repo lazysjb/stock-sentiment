{
 "cells": [
  {
   "cell_type": "code",
   "execution_count": 29,
   "metadata": {},
   "outputs": [],
   "source": [
    "import numpy as np\n",
    "from glob import glob\n",
    "import pandas as pd\n",
    "from tqdm import tqdm\n",
    "from sklearn.model_selection import train_test_split\n",
    "import re"
   ]
  },
  {
   "cell_type": "code",
   "execution_count": 25,
   "metadata": {},
   "outputs": [],
   "source": [
    "np.random.seed(828)"
   ]
  },
  {
   "cell_type": "code",
   "execution_count": null,
   "metadata": {},
   "outputs": [],
   "source": [
    "TWEETS_DIRECTORY = '/home/sjb/Projects/Research/Stock_Sentiment/data/twitter/'"
   ]
  },
  {
   "cell_type": "code",
   "execution_count": null,
   "metadata": {},
   "outputs": [],
   "source": [
    "tweet_file_paths = glob(TWEETS_DIRECTORY + '*.json')"
   ]
  },
  {
   "cell_type": "code",
   "execution_count": 4,
   "metadata": {},
   "outputs": [],
   "source": [
    "def read_tweet_file_path(tweet_file_path):\n",
    "    cash_tag = tweet_file_path.replace('.json', '').split('_')[-1]\n",
    "    df = pd.read_json(tweet_file_path, dtype=False)\n",
    "    df['cash_tag'] = cash_tag\n",
    "    return df"
   ]
  },
  {
   "cell_type": "code",
   "execution_count": 5,
   "metadata": {},
   "outputs": [],
   "source": [
    "dfs = []\n",
    "\n",
    "for fp in tweet_file_paths:\n",
    "    dfs.append(read_tweet_file_path(fp))\n",
    "    \n",
    "tweet_df = pd.concat(dfs)"
   ]
  },
  {
   "cell_type": "code",
   "execution_count": 6,
   "metadata": {},
   "outputs": [],
   "source": [
    "del(dfs)"
   ]
  },
  {
   "cell_type": "code",
   "execution_count": 7,
   "metadata": {},
   "outputs": [
    {
     "data": {
      "text/plain": [
       "(545762, 16)"
      ]
     },
     "execution_count": 7,
     "metadata": {},
     "output_type": "execute_result"
    }
   ],
   "source": [
    "tweet_df.shape"
   ]
  },
  {
   "cell_type": "code",
   "execution_count": null,
   "metadata": {},
   "outputs": [],
   "source": []
  },
  {
   "cell_type": "markdown",
   "metadata": {},
   "source": [
    "#### Can tweets be duplicated? - yes, just b/c I'm querying individual cash tags separately"
   ]
  },
  {
   "cell_type": "code",
   "execution_count": 8,
   "metadata": {},
   "outputs": [],
   "source": [
    "duplicates = tweet_df[tweet_df['id'].duplicated(keep=False)].sort_values('id').copy()"
   ]
  },
  {
   "cell_type": "code",
   "execution_count": 9,
   "metadata": {},
   "outputs": [
    {
     "data": {
      "text/plain": [
       "(119655, 16)"
      ]
     },
     "execution_count": 9,
     "metadata": {},
     "output_type": "execute_result"
    }
   ],
   "source": [
    "duplicates.shape"
   ]
  },
  {
   "cell_type": "code",
   "execution_count": 10,
   "metadata": {},
   "outputs": [
    {
     "data": {
      "text/html": [
       "<div>\n",
       "<style scoped>\n",
       "    .dataframe tbody tr th:only-of-type {\n",
       "        vertical-align: middle;\n",
       "    }\n",
       "\n",
       "    .dataframe tbody tr th {\n",
       "        vertical-align: top;\n",
       "    }\n",
       "\n",
       "    .dataframe thead th {\n",
       "        text-align: right;\n",
       "    }\n",
       "</style>\n",
       "<table border=\"1\" class=\"dataframe\">\n",
       "  <thead>\n",
       "    <tr style=\"text-align: right;\">\n",
       "      <th></th>\n",
       "      <th>EST_date</th>\n",
       "      <th>UTC_date</th>\n",
       "      <th>author_id</th>\n",
       "      <th>favorites</th>\n",
       "      <th>geo</th>\n",
       "      <th>hashtags</th>\n",
       "      <th>id</th>\n",
       "      <th>mentions</th>\n",
       "      <th>permalink</th>\n",
       "      <th>replies</th>\n",
       "      <th>retweets</th>\n",
       "      <th>text</th>\n",
       "      <th>to</th>\n",
       "      <th>urls</th>\n",
       "      <th>username</th>\n",
       "      <th>cash_tag</th>\n",
       "    </tr>\n",
       "  </thead>\n",
       "  <tbody>\n",
       "    <tr>\n",
       "      <th>203</th>\n",
       "      <td>2019-05-27, 20:26</td>\n",
       "      <td>2019-05-28, 00:26</td>\n",
       "      <td>1018324467758465024</td>\n",
       "      <td>13</td>\n",
       "      <td></td>\n",
       "      <td></td>\n",
       "      <td>1133167689533276160</td>\n",
       "      <td></td>\n",
       "      <td>https://twitter.com/EliteOptions2/status/11331...</td>\n",
       "      <td>0</td>\n",
       "      <td>2</td>\n",
       "      <td>$AMZN - Trade Idea - If 1800 breaks - 1800P --...</td>\n",
       "      <td>None</td>\n",
       "      <td></td>\n",
       "      <td>EliteOptions2</td>\n",
       "      <td>$GOOG</td>\n",
       "    </tr>\n",
       "    <tr>\n",
       "      <th>1168</th>\n",
       "      <td>2019-05-27, 20:26</td>\n",
       "      <td>2019-05-28, 00:26</td>\n",
       "      <td>1018324467758465024</td>\n",
       "      <td>13</td>\n",
       "      <td></td>\n",
       "      <td></td>\n",
       "      <td>1133167689533276160</td>\n",
       "      <td></td>\n",
       "      <td>https://twitter.com/EliteOptions2/status/11331...</td>\n",
       "      <td>0</td>\n",
       "      <td>2</td>\n",
       "      <td>$AMZN - Trade Idea - If 1800 breaks - 1800P --...</td>\n",
       "      <td>None</td>\n",
       "      <td></td>\n",
       "      <td>EliteOptions2</td>\n",
       "      <td>$AAPL</td>\n",
       "    </tr>\n",
       "    <tr>\n",
       "      <th>638</th>\n",
       "      <td>2019-05-27, 20:26</td>\n",
       "      <td>2019-05-28, 00:26</td>\n",
       "      <td>1018324467758465024</td>\n",
       "      <td>13</td>\n",
       "      <td></td>\n",
       "      <td></td>\n",
       "      <td>1133167689533276160</td>\n",
       "      <td></td>\n",
       "      <td>https://twitter.com/EliteOptions2/status/11331...</td>\n",
       "      <td>0</td>\n",
       "      <td>2</td>\n",
       "      <td>$AMZN - Trade Idea - If 1800 breaks - 1800P --...</td>\n",
       "      <td>None</td>\n",
       "      <td></td>\n",
       "      <td>EliteOptions2</td>\n",
       "      <td>$AMZN</td>\n",
       "    </tr>\n",
       "  </tbody>\n",
       "</table>\n",
       "</div>"
      ],
      "text/plain": [
       "               EST_date           UTC_date            author_id  favorites  \\\n",
       "203   2019-05-27, 20:26  2019-05-28, 00:26  1018324467758465024         13   \n",
       "1168  2019-05-27, 20:26  2019-05-28, 00:26  1018324467758465024         13   \n",
       "638   2019-05-27, 20:26  2019-05-28, 00:26  1018324467758465024         13   \n",
       "\n",
       "     geo hashtags                   id mentions  \\\n",
       "203                1133167689533276160            \n",
       "1168               1133167689533276160            \n",
       "638                1133167689533276160            \n",
       "\n",
       "                                              permalink  replies  retweets  \\\n",
       "203   https://twitter.com/EliteOptions2/status/11331...        0         2   \n",
       "1168  https://twitter.com/EliteOptions2/status/11331...        0         2   \n",
       "638   https://twitter.com/EliteOptions2/status/11331...        0         2   \n",
       "\n",
       "                                                   text    to urls  \\\n",
       "203   $AMZN - Trade Idea - If 1800 breaks - 1800P --...  None        \n",
       "1168  $AMZN - Trade Idea - If 1800 breaks - 1800P --...  None        \n",
       "638   $AMZN - Trade Idea - If 1800 breaks - 1800P --...  None        \n",
       "\n",
       "           username cash_tag  \n",
       "203   EliteOptions2    $GOOG  \n",
       "1168  EliteOptions2    $AAPL  \n",
       "638   EliteOptions2    $AMZN  "
      ]
     },
     "execution_count": 10,
     "metadata": {},
     "output_type": "execute_result"
    }
   ],
   "source": [
    "duplicates.head(3)"
   ]
  },
  {
   "cell_type": "code",
   "execution_count": null,
   "metadata": {},
   "outputs": [],
   "source": []
  },
  {
   "cell_type": "markdown",
   "metadata": {},
   "source": [
    "#### Filters that I am currently trying (since there are so much noise in tweets)\n",
    "- Remove duplicates\n",
    "- Only select those with retweets >= 3 (no particular rationale - just that more shared tweets are likely not 'spam' tweets)\n",
    "- Only select those with 1 cash_tag (so that tweet is only talking about single company)"
   ]
  },
  {
   "cell_type": "code",
   "execution_count": 11,
   "metadata": {},
   "outputs": [],
   "source": [
    "tweet_df = tweet_df.drop_duplicates(subset='id')\n",
    "tweet_df = tweet_df[tweet_df['retweets'] >= 3].copy()"
   ]
  },
  {
   "cell_type": "code",
   "execution_count": 12,
   "metadata": {},
   "outputs": [],
   "source": [
    "reg_pattern = re.compile(r'\\$[a-zA-Z]+')"
   ]
  },
  {
   "cell_type": "code",
   "execution_count": 13,
   "metadata": {},
   "outputs": [],
   "source": [
    "sample_texts = tweet_df['text'].sample(5).values"
   ]
  },
  {
   "cell_type": "code",
   "execution_count": 14,
   "metadata": {},
   "outputs": [
    {
     "data": {
      "text/plain": [
       "array(['$ARIA $SDVI $HEMP $PHOT $CNAB $HPNN $MSFT $MFST $DGRI $EFIR $EAPH $PXYN $SANP $BTDG $BTC $CCTL $TXHD $TWLO $VALE $SING $RGBP $AUY $PTAH',\n",
       "       'Which #Companies Make The Most #Revenue Per Employee? http://sumo.ly/Bx9d #ENERGY #HEALTHCARE #UTILITIES #TECH $VLO $CVX $FB. $NFLXpic.twitter.com/MlhawTfGf5',\n",
       "       '\"Never regret missing a trade.\" - @Trader_Dante #TGIF $SPY $AAPL $FB $TSLA $AMZN $NFLX $GLDpic.twitter.com/ToatT6AzOf',\n",
       "       'NASDAQ JIMPS IN SHORTS: $AMD $OCLR $SBUX $MSFT $CAR $AUPH $ASNA $NFLX $YHOO $BBBY $NVDA $URBN $EBAY $JBLU $VIAB $ESRX $MYL $JBLU $ETSYpic.twitter.com/TZtH9mjgib',\n",
       "       \"We won't live to see another company like this. $AAPL pic.twitter.com/E3ngJA5OI9\"],\n",
       "      dtype=object)"
      ]
     },
     "execution_count": 14,
     "metadata": {},
     "output_type": "execute_result"
    }
   ],
   "source": [
    "sample_texts"
   ]
  },
  {
   "cell_type": "code",
   "execution_count": 15,
   "metadata": {},
   "outputs": [
    {
     "data": {
      "text/plain": [
       "[['$ARIA',\n",
       "  '$SDVI',\n",
       "  '$HEMP',\n",
       "  '$PHOT',\n",
       "  '$CNAB',\n",
       "  '$HPNN',\n",
       "  '$MSFT',\n",
       "  '$MFST',\n",
       "  '$DGRI',\n",
       "  '$EFIR',\n",
       "  '$EAPH',\n",
       "  '$PXYN',\n",
       "  '$SANP',\n",
       "  '$BTDG',\n",
       "  '$BTC',\n",
       "  '$CCTL',\n",
       "  '$TXHD',\n",
       "  '$TWLO',\n",
       "  '$VALE',\n",
       "  '$SING',\n",
       "  '$RGBP',\n",
       "  '$AUY',\n",
       "  '$PTAH'],\n",
       " ['$VLO', '$CVX', '$FB', '$NFLXpic'],\n",
       " ['$SPY', '$AAPL', '$FB', '$TSLA', '$AMZN', '$NFLX', '$GLDpic'],\n",
       " ['$AMD',\n",
       "  '$OCLR',\n",
       "  '$SBUX',\n",
       "  '$MSFT',\n",
       "  '$CAR',\n",
       "  '$AUPH',\n",
       "  '$ASNA',\n",
       "  '$NFLX',\n",
       "  '$YHOO',\n",
       "  '$BBBY',\n",
       "  '$NVDA',\n",
       "  '$URBN',\n",
       "  '$EBAY',\n",
       "  '$JBLU',\n",
       "  '$VIAB',\n",
       "  '$ESRX',\n",
       "  '$MYL',\n",
       "  '$JBLU',\n",
       "  '$ETSYpic'],\n",
       " ['$AAPL']]"
      ]
     },
     "execution_count": 15,
     "metadata": {},
     "output_type": "execute_result"
    }
   ],
   "source": [
    "[reg_pattern.findall(t) for t in sample_texts]"
   ]
  },
  {
   "cell_type": "code",
   "execution_count": null,
   "metadata": {},
   "outputs": [],
   "source": []
  },
  {
   "cell_type": "code",
   "execution_count": 16,
   "metadata": {},
   "outputs": [],
   "source": [
    "tweet_df['all_cashtags'] = tweet_df['text'].apply(lambda t: reg_pattern.findall(t))"
   ]
  },
  {
   "cell_type": "code",
   "execution_count": 17,
   "metadata": {},
   "outputs": [],
   "source": [
    "tweet_df = tweet_df[tweet_df['all_cashtags'].str.len() == 1].copy()"
   ]
  },
  {
   "cell_type": "code",
   "execution_count": 18,
   "metadata": {},
   "outputs": [
    {
     "data": {
      "text/html": [
       "<div>\n",
       "<style scoped>\n",
       "    .dataframe tbody tr th:only-of-type {\n",
       "        vertical-align: middle;\n",
       "    }\n",
       "\n",
       "    .dataframe tbody tr th {\n",
       "        vertical-align: top;\n",
       "    }\n",
       "\n",
       "    .dataframe thead th {\n",
       "        text-align: right;\n",
       "    }\n",
       "</style>\n",
       "<table border=\"1\" class=\"dataframe\">\n",
       "  <thead>\n",
       "    <tr style=\"text-align: right;\">\n",
       "      <th></th>\n",
       "      <th>EST_date</th>\n",
       "      <th>UTC_date</th>\n",
       "      <th>author_id</th>\n",
       "      <th>favorites</th>\n",
       "      <th>geo</th>\n",
       "      <th>hashtags</th>\n",
       "      <th>id</th>\n",
       "      <th>mentions</th>\n",
       "      <th>permalink</th>\n",
       "      <th>replies</th>\n",
       "      <th>retweets</th>\n",
       "      <th>text</th>\n",
       "      <th>to</th>\n",
       "      <th>urls</th>\n",
       "      <th>username</th>\n",
       "      <th>cash_tag</th>\n",
       "      <th>all_cashtags</th>\n",
       "    </tr>\n",
       "  </thead>\n",
       "  <tbody>\n",
       "    <tr>\n",
       "      <th>873</th>\n",
       "      <td>2017-06-12, 06:16</td>\n",
       "      <td>2017-06-12, 10:16</td>\n",
       "      <td>397230151</td>\n",
       "      <td>14</td>\n",
       "      <td></td>\n",
       "      <td></td>\n",
       "      <td>874208721697730560</td>\n",
       "      <td></td>\n",
       "      <td>https://twitter.com/OMillionaires/status/87420...</td>\n",
       "      <td>2</td>\n",
       "      <td>14</td>\n",
       "      <td>$AMZN price target raised to $1,200 from $1,05...</td>\n",
       "      <td>None</td>\n",
       "      <td></td>\n",
       "      <td>OMillionaires</td>\n",
       "      <td>$AMZN</td>\n",
       "      <td>[$AMZN]</td>\n",
       "    </tr>\n",
       "    <tr>\n",
       "      <th>694</th>\n",
       "      <td>2017-06-27, 22:31</td>\n",
       "      <td>2017-06-28, 02:31</td>\n",
       "      <td>263812431</td>\n",
       "      <td>11</td>\n",
       "      <td></td>\n",
       "      <td></td>\n",
       "      <td>879889947280453632</td>\n",
       "      <td></td>\n",
       "      <td>https://twitter.com/2kaykim/status/87988994728...</td>\n",
       "      <td>1</td>\n",
       "      <td>3</td>\n",
       "      <td>*NEW POST* \"Apple (AAPL) Analysis - PART 2\" $A...</td>\n",
       "      <td>None</td>\n",
       "      <td>http://2tradersclub.com/2017/06/27/apple-aapl-...</td>\n",
       "      <td>2kaykim</td>\n",
       "      <td>$AAPL</td>\n",
       "      <td>[$AAPL]</td>\n",
       "    </tr>\n",
       "    <tr>\n",
       "      <th>5</th>\n",
       "      <td>2017-04-26, 19:48</td>\n",
       "      <td>2017-04-26, 23:48</td>\n",
       "      <td>943845800</td>\n",
       "      <td>0</td>\n",
       "      <td></td>\n",
       "      <td></td>\n",
       "      <td>857380773090938880</td>\n",
       "      <td></td>\n",
       "      <td>https://twitter.com/marketexclusive/status/857...</td>\n",
       "      <td>0</td>\n",
       "      <td>4</td>\n",
       "      <td>Insider Trading Activity Facebook Inc (NASDAQ:...</td>\n",
       "      <td>None</td>\n",
       "      <td>https://marketexclusive.com/insider-trading-ac...</td>\n",
       "      <td>marketexclusive</td>\n",
       "      <td>$FB</td>\n",
       "      <td>[$FB]</td>\n",
       "    </tr>\n",
       "    <tr>\n",
       "      <th>628</th>\n",
       "      <td>2017-04-04, 20:20</td>\n",
       "      <td>2017-04-05, 00:20</td>\n",
       "      <td>784564195987783680</td>\n",
       "      <td>3</td>\n",
       "      <td></td>\n",
       "      <td></td>\n",
       "      <td>849416418617696256</td>\n",
       "      <td></td>\n",
       "      <td>https://twitter.com/Ascend_Trading/status/8494...</td>\n",
       "      <td>0</td>\n",
       "      <td>3</td>\n",
       "      <td>Swing Trading Courses - \"Scanning and Planning...</td>\n",
       "      <td>None</td>\n",
       "      <td>http://www.ascendtrading.net/swing-trading/,ht...</td>\n",
       "      <td>Ascend_Trading</td>\n",
       "      <td>$FB</td>\n",
       "      <td>[$FB]</td>\n",
       "    </tr>\n",
       "    <tr>\n",
       "      <th>101</th>\n",
       "      <td>2017-05-03, 18:26</td>\n",
       "      <td>2017-05-03, 22:26</td>\n",
       "      <td>16451932</td>\n",
       "      <td>8</td>\n",
       "      <td></td>\n",
       "      <td></td>\n",
       "      <td>859897026129129474</td>\n",
       "      <td>@Tim_Cook</td>\n",
       "      <td>https://twitter.com/MadMoneyOnCNBC/status/8598...</td>\n",
       "      <td>3</td>\n",
       "      <td>7</td>\n",
       "      <td>$AAPL CEO @Tim_Cook says rumors hurt iPhone sa...</td>\n",
       "      <td>None</td>\n",
       "      <td>http://cnb.cx/2pJ3aNe</td>\n",
       "      <td>MadMoneyOnCNBC</td>\n",
       "      <td>$AAPL</td>\n",
       "      <td>[$AAPL]</td>\n",
       "    </tr>\n",
       "    <tr>\n",
       "      <th>669</th>\n",
       "      <td>2017-07-11, 09:52</td>\n",
       "      <td>2017-07-11, 13:52</td>\n",
       "      <td>704210282126712832</td>\n",
       "      <td>4</td>\n",
       "      <td></td>\n",
       "      <td></td>\n",
       "      <td>884772503477944320</td>\n",
       "      <td></td>\n",
       "      <td>https://twitter.com/xcar9x/status/884772503477...</td>\n",
       "      <td>4</td>\n",
       "      <td>6</td>\n",
       "      <td>$AMZN 1000 call 4.75$</td>\n",
       "      <td>None</td>\n",
       "      <td></td>\n",
       "      <td>xcar9x</td>\n",
       "      <td>$AMZN</td>\n",
       "      <td>[$AMZN]</td>\n",
       "    </tr>\n",
       "    <tr>\n",
       "      <th>552</th>\n",
       "      <td>2017-02-28, 12:14</td>\n",
       "      <td>2017-02-28, 17:14</td>\n",
       "      <td>19546277</td>\n",
       "      <td>1</td>\n",
       "      <td></td>\n",
       "      <td></td>\n",
       "      <td>836625750384082944</td>\n",
       "      <td>@Pogue</td>\n",
       "      <td>https://twitter.com/YahooFinance/status/836625...</td>\n",
       "      <td>0</td>\n",
       "      <td>3</td>\n",
       "      <td>LIVE: @Pogue's best wireless earbuds - Apple A...</td>\n",
       "      <td>None</td>\n",
       "      <td>http://yhoo.it/2lkJGIE</td>\n",
       "      <td>YahooFinance</td>\n",
       "      <td>$AAPL</td>\n",
       "      <td>[$AAPL]</td>\n",
       "    </tr>\n",
       "    <tr>\n",
       "      <th>277</th>\n",
       "      <td>2017-02-05, 02:23</td>\n",
       "      <td>2017-02-05, 07:23</td>\n",
       "      <td>973980920</td>\n",
       "      <td>8</td>\n",
       "      <td></td>\n",
       "      <td>#Amazon #tech #stocks #investing #innovation #...</td>\n",
       "      <td>828141913555529728</td>\n",
       "      <td></td>\n",
       "      <td>https://twitter.com/EcommerceTop/status/828141...</td>\n",
       "      <td>0</td>\n",
       "      <td>8</td>\n",
       "      <td>Is Anyone Safe From #Amazon? ... #tech #stocks...</td>\n",
       "      <td>BColwell_Invest</td>\n",
       "      <td>https://twitter.com/BColwell_Invest/statuses/8...</td>\n",
       "      <td>EcommerceTop</td>\n",
       "      <td>$AMZN</td>\n",
       "      <td>[$amzn]</td>\n",
       "    </tr>\n",
       "    <tr>\n",
       "      <th>447</th>\n",
       "      <td>2017-05-30, 11:17</td>\n",
       "      <td>2017-05-30, 15:17</td>\n",
       "      <td>20562637</td>\n",
       "      <td>14</td>\n",
       "      <td></td>\n",
       "      <td></td>\n",
       "      <td>869573395968602112</td>\n",
       "      <td></td>\n",
       "      <td>https://twitter.com/businessinsider/status/869...</td>\n",
       "      <td>0</td>\n",
       "      <td>15</td>\n",
       "      <td>Amazon launches curbside pickup for groceries ...</td>\n",
       "      <td>None</td>\n",
       "      <td>http://read.bi/2r7b3fu</td>\n",
       "      <td>businessinsider</td>\n",
       "      <td>$AMZN</td>\n",
       "      <td>[$AMZN]</td>\n",
       "    </tr>\n",
       "    <tr>\n",
       "      <th>59</th>\n",
       "      <td>2017-06-04, 16:10</td>\n",
       "      <td>2017-06-04, 20:10</td>\n",
       "      <td>3410575617</td>\n",
       "      <td>28</td>\n",
       "      <td></td>\n",
       "      <td></td>\n",
       "      <td>871459134197116928</td>\n",
       "      <td></td>\n",
       "      <td>https://twitter.com/johnscharts/status/8714591...</td>\n",
       "      <td>5</td>\n",
       "      <td>6</td>\n",
       "      <td>$AAPL tight price action hitting support on an...</td>\n",
       "      <td>None</td>\n",
       "      <td></td>\n",
       "      <td>johnscharts</td>\n",
       "      <td>$AAPL</td>\n",
       "      <td>[$AAPL]</td>\n",
       "    </tr>\n",
       "  </tbody>\n",
       "</table>\n",
       "</div>"
      ],
      "text/plain": [
       "              EST_date           UTC_date           author_id  favorites geo  \\\n",
       "873  2017-06-12, 06:16  2017-06-12, 10:16           397230151         14       \n",
       "694  2017-06-27, 22:31  2017-06-28, 02:31           263812431         11       \n",
       "5    2017-04-26, 19:48  2017-04-26, 23:48           943845800          0       \n",
       "628  2017-04-04, 20:20  2017-04-05, 00:20  784564195987783680          3       \n",
       "101  2017-05-03, 18:26  2017-05-03, 22:26            16451932          8       \n",
       "669  2017-07-11, 09:52  2017-07-11, 13:52  704210282126712832          4       \n",
       "552  2017-02-28, 12:14  2017-02-28, 17:14            19546277          1       \n",
       "277  2017-02-05, 02:23  2017-02-05, 07:23           973980920          8       \n",
       "447  2017-05-30, 11:17  2017-05-30, 15:17            20562637         14       \n",
       "59   2017-06-04, 16:10  2017-06-04, 20:10          3410575617         28       \n",
       "\n",
       "                                              hashtags                  id  \\\n",
       "873                                                     874208721697730560   \n",
       "694                                                     879889947280453632   \n",
       "5                                                       857380773090938880   \n",
       "628                                                     849416418617696256   \n",
       "101                                                     859897026129129474   \n",
       "669                                                     884772503477944320   \n",
       "552                                                     836625750384082944   \n",
       "277  #Amazon #tech #stocks #investing #innovation #...  828141913555529728   \n",
       "447                                                     869573395968602112   \n",
       "59                                                      871459134197116928   \n",
       "\n",
       "      mentions                                          permalink  replies  \\\n",
       "873             https://twitter.com/OMillionaires/status/87420...        2   \n",
       "694             https://twitter.com/2kaykim/status/87988994728...        1   \n",
       "5               https://twitter.com/marketexclusive/status/857...        0   \n",
       "628             https://twitter.com/Ascend_Trading/status/8494...        0   \n",
       "101  @Tim_Cook  https://twitter.com/MadMoneyOnCNBC/status/8598...        3   \n",
       "669             https://twitter.com/xcar9x/status/884772503477...        4   \n",
       "552     @Pogue  https://twitter.com/YahooFinance/status/836625...        0   \n",
       "277             https://twitter.com/EcommerceTop/status/828141...        0   \n",
       "447             https://twitter.com/businessinsider/status/869...        0   \n",
       "59              https://twitter.com/johnscharts/status/8714591...        5   \n",
       "\n",
       "     retweets                                               text  \\\n",
       "873        14  $AMZN price target raised to $1,200 from $1,05...   \n",
       "694         3  *NEW POST* \"Apple (AAPL) Analysis - PART 2\" $A...   \n",
       "5           4  Insider Trading Activity Facebook Inc (NASDAQ:...   \n",
       "628         3  Swing Trading Courses - \"Scanning and Planning...   \n",
       "101         7  $AAPL CEO @Tim_Cook says rumors hurt iPhone sa...   \n",
       "669         6                              $AMZN 1000 call 4.75$   \n",
       "552         3  LIVE: @Pogue's best wireless earbuds - Apple A...   \n",
       "277         8  Is Anyone Safe From #Amazon? ... #tech #stocks...   \n",
       "447        15  Amazon launches curbside pickup for groceries ...   \n",
       "59          6  $AAPL tight price action hitting support on an...   \n",
       "\n",
       "                  to                                               urls  \\\n",
       "873             None                                                      \n",
       "694             None  http://2tradersclub.com/2017/06/27/apple-aapl-...   \n",
       "5               None  https://marketexclusive.com/insider-trading-ac...   \n",
       "628             None  http://www.ascendtrading.net/swing-trading/,ht...   \n",
       "101             None                              http://cnb.cx/2pJ3aNe   \n",
       "669             None                                                      \n",
       "552             None                             http://yhoo.it/2lkJGIE   \n",
       "277  BColwell_Invest  https://twitter.com/BColwell_Invest/statuses/8...   \n",
       "447             None                             http://read.bi/2r7b3fu   \n",
       "59              None                                                      \n",
       "\n",
       "            username cash_tag all_cashtags  \n",
       "873    OMillionaires    $AMZN      [$AMZN]  \n",
       "694          2kaykim    $AAPL      [$AAPL]  \n",
       "5    marketexclusive      $FB        [$FB]  \n",
       "628   Ascend_Trading      $FB        [$FB]  \n",
       "101   MadMoneyOnCNBC    $AAPL      [$AAPL]  \n",
       "669           xcar9x    $AMZN      [$AMZN]  \n",
       "552     YahooFinance    $AAPL      [$AAPL]  \n",
       "277     EcommerceTop    $AMZN      [$amzn]  \n",
       "447  businessinsider    $AMZN      [$AMZN]  \n",
       "59       johnscharts    $AAPL      [$AAPL]  "
      ]
     },
     "execution_count": 18,
     "metadata": {},
     "output_type": "execute_result"
    }
   ],
   "source": [
    "tweet_df.sample(10)"
   ]
  },
  {
   "cell_type": "code",
   "execution_count": 19,
   "metadata": {},
   "outputs": [
    {
     "data": {
      "text/plain": [
       "(6699, 17)"
      ]
     },
     "execution_count": 19,
     "metadata": {},
     "output_type": "execute_result"
    }
   ],
   "source": [
    "tweet_df.shape"
   ]
  },
  {
   "cell_type": "code",
   "execution_count": 21,
   "metadata": {},
   "outputs": [],
   "source": [
    "tweet_df.to_pickle('./tweets_sampled_0602.pkl')"
   ]
  },
  {
   "cell_type": "code",
   "execution_count": null,
   "metadata": {},
   "outputs": [],
   "source": []
  },
  {
   "cell_type": "code",
   "execution_count": 30,
   "metadata": {},
   "outputs": [],
   "source": [
    "tweet_df_train, tweet_df_test = train_test_split(tweet_df, test_size=500)"
   ]
  },
  {
   "cell_type": "code",
   "execution_count": 31,
   "metadata": {},
   "outputs": [
    {
     "data": {
      "text/plain": [
       "((6199, 17), (500, 17))"
      ]
     },
     "execution_count": 31,
     "metadata": {},
     "output_type": "execute_result"
    }
   ],
   "source": [
    "tweet_df_train.shape, tweet_df_test.shape"
   ]
  },
  {
   "cell_type": "code",
   "execution_count": 32,
   "metadata": {},
   "outputs": [],
   "source": [
    "tweet_df_train.to_pickle('./tweets_sampled_train_0602.pkl')\n",
    "tweet_df_test.to_pickle('./tweets_sampled_test_0602.pkl')"
   ]
  },
  {
   "cell_type": "code",
   "execution_count": 35,
   "metadata": {},
   "outputs": [],
   "source": [
    "tweet_df_test[['id', 'text', 'permalink']].to_csv('./tweets_sampled_test_0602.csv', index=False)"
   ]
  },
  {
   "cell_type": "code",
   "execution_count": 37,
   "metadata": {},
   "outputs": [],
   "source": [
    "tweet_df_train[['id', 'text', 'permalink']].to_csv('./tweets_sampled_train_0602.csv', index=False)"
   ]
  },
  {
   "cell_type": "code",
   "execution_count": null,
   "metadata": {},
   "outputs": [],
   "source": []
  }
 ],
 "metadata": {
  "kernelspec": {
   "display_name": "Python 3",
   "language": "python",
   "name": "python3"
  },
  "language_info": {
   "codemirror_mode": {
    "name": "ipython",
    "version": 3
   },
   "file_extension": ".py",
   "mimetype": "text/x-python",
   "name": "python",
   "nbconvert_exporter": "python",
   "pygments_lexer": "ipython3",
   "version": "3.6.7"
  }
 },
 "nbformat": 4,
 "nbformat_minor": 2
}
