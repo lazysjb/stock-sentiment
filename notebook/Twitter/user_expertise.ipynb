{
 "cells": [
  {
   "cell_type": "markdown",
   "metadata": {},
   "source": [
    "## Can Twitter Username Change?"
   ]
  },
  {
   "cell_type": "markdown",
   "metadata": {},
   "source": [
    "Conclusion is no"
   ]
  },
  {
   "cell_type": "code",
   "execution_count": 1,
   "metadata": {},
   "outputs": [],
   "source": [
    "from glob import glob\n",
    "import pandas as pd\n",
    "import numpy as np\n",
    "from tqdm import tqdm\n",
    "import matplotlib.pyplot as plt\n",
    "from vaderSentiment.vaderSentiment import SentimentIntensityAnalyzer"
   ]
  },
  {
   "cell_type": "code",
   "execution_count": 2,
   "metadata": {},
   "outputs": [],
   "source": [
    "all_tweet_file_paths = glob('data/tweets*.json')"
   ]
  },
  {
   "cell_type": "code",
   "execution_count": 3,
   "metadata": {},
   "outputs": [],
   "source": [
    "username_map = {}\n",
    "updated_author_id_map = {}"
   ]
  },
  {
   "cell_type": "code",
   "execution_count": 4,
   "metadata": {},
   "outputs": [
    {
     "name": "stderr",
     "output_type": "stream",
     "text": [
      "100%|██████████| 667/667 [01:03<00:00, 10.52it/s]\n"
     ]
    }
   ],
   "source": [
    "for file_path in tqdm(all_tweet_file_paths):\n",
    "    \n",
    "    df = pd.read_json(file_path, dtype=False)\n",
    "    \n",
    "    for idx, row in df.iterrows():\n",
    "        author_id, username = row['author_id'], row['username']\n",
    "\n",
    "        if username in username_map:\n",
    "            prev_author_id = username_map[username]\n",
    "\n",
    "            if author_id != prev_author_id:\n",
    "                updated_author_id_map[prev_author_id] = author_id\n",
    "        else:\n",
    "            username_map[username] = author_id"
   ]
  },
  {
   "cell_type": "code",
   "execution_count": 5,
   "metadata": {},
   "outputs": [
    {
     "data": {
      "text/plain": [
       "37053"
      ]
     },
     "execution_count": 5,
     "metadata": {},
     "output_type": "execute_result"
    }
   ],
   "source": [
    "len(username_map)"
   ]
  },
  {
   "cell_type": "code",
   "execution_count": 6,
   "metadata": {},
   "outputs": [
    {
     "data": {
      "text/plain": [
       "0"
      ]
     },
     "execution_count": 6,
     "metadata": {},
     "output_type": "execute_result"
    }
   ],
   "source": [
    "len(updated_author_id_map)"
   ]
  },
  {
   "cell_type": "code",
   "execution_count": null,
   "metadata": {},
   "outputs": [],
   "source": []
  },
  {
   "cell_type": "markdown",
   "metadata": {},
   "source": [
    "## Get tweet counts by username"
   ]
  },
  {
   "cell_type": "code",
   "execution_count": 7,
   "metadata": {},
   "outputs": [],
   "source": [
    "def add_dict_contents(dict1, dict2):\n",
    "    all_keys = np.unique(list(dict1.keys()) + list(dict2.keys()))\n",
    "    result = {}\n",
    "    for k in all_keys:\n",
    "        result[k] = dict1.get(k, 0) + dict2.get(k, 0)\n",
    "    return result"
   ]
  },
  {
   "cell_type": "code",
   "execution_count": 8,
   "metadata": {},
   "outputs": [],
   "source": [
    "tweet_counts_by_username = {}"
   ]
  },
  {
   "cell_type": "code",
   "execution_count": 9,
   "metadata": {},
   "outputs": [
    {
     "name": "stderr",
     "output_type": "stream",
     "text": [
      "100%|██████████| 667/667 [00:17<00:00, 26.30it/s]\n"
     ]
    }
   ],
   "source": [
    "for file_path in tqdm(all_tweet_file_paths):\n",
    "    df = pd.read_json(file_path, dtype=False)\n",
    "    \n",
    "    temp_count = df.groupby('username').size().to_dict()\n",
    "    tweet_counts_by_username = add_dict_contents(tweet_counts_by_username, temp_count)"
   ]
  },
  {
   "cell_type": "code",
   "execution_count": 10,
   "metadata": {},
   "outputs": [],
   "source": [
    "tweet_counts_df = pd.Series(tweet_counts_by_username, name='count').to_frame().reset_index()"
   ]
  },
  {
   "cell_type": "code",
   "execution_count": 11,
   "metadata": {},
   "outputs": [],
   "source": [
    "tweet_counts_df.columns = ['username', 'count']"
   ]
  },
  {
   "cell_type": "code",
   "execution_count": 12,
   "metadata": {},
   "outputs": [],
   "source": [
    "tweet_counts_df = tweet_counts_df.sort_values('count', ascending=False)"
   ]
  },
  {
   "cell_type": "code",
   "execution_count": 13,
   "metadata": {},
   "outputs": [],
   "source": [
    "tweet_counts_df.to_pickle('temp_data/tweet_counts_by_username.pkl')"
   ]
  },
  {
   "cell_type": "code",
   "execution_count": null,
   "metadata": {},
   "outputs": [],
   "source": []
  },
  {
   "cell_type": "markdown",
   "metadata": {},
   "source": [
    "### Filter by User (with min threhold tweets) + Perform naive sentiment analysis"
   ]
  },
  {
   "cell_type": "code",
   "execution_count": 14,
   "metadata": {},
   "outputs": [],
   "source": [
    "tweet_counts_df = pd.read_pickle('temp_data/tweet_counts_by_username.pkl')"
   ]
  },
  {
   "cell_type": "code",
   "execution_count": 15,
   "metadata": {},
   "outputs": [
    {
     "data": {
      "image/png": "[encoded data removed]",
      "text/plain": [
       "<Figure size 432x288 with 1 Axes>"
      ]
     },
     "metadata": {
      "needs_background": "light"
     },
     "output_type": "display_data"
    }
   ],
   "source": [
    "_ = plt.hist(tweet_counts_df['count'], bins=100)"
   ]
  },
  {
   "cell_type": "code",
   "execution_count": 16,
   "metadata": {},
   "outputs": [],
   "source": [
    "MIN_TWEET_THRESHOLD = 10"
   ]
  },
  {
   "cell_type": "code",
   "execution_count": 17,
   "metadata": {},
   "outputs": [],
   "source": [
    "tweet_counts_df = tweet_counts_df[tweet_counts_df['count'] >= MIN_TWEET_THRESHOLD]"
   ]
  },
  {
   "cell_type": "code",
   "execution_count": 18,
   "metadata": {},
   "outputs": [
    {
     "data": {
      "text/plain": [
       "(6412, 2)"
      ]
     },
     "execution_count": 18,
     "metadata": {},
     "output_type": "execute_result"
    }
   ],
   "source": [
    "tweet_counts_df.shape"
   ]
  },
  {
   "cell_type": "code",
   "execution_count": 19,
   "metadata": {},
   "outputs": [],
   "source": [
    "top_usernames = tweet_counts_df['username'].values"
   ]
  },
  {
   "cell_type": "code",
   "execution_count": 20,
   "metadata": {},
   "outputs": [
    {
     "data": {
      "image/png": "[encoded data removed]",
      "text/plain": [
       "<Figure size 432x288 with 1 Axes>"
      ]
     },
     "metadata": {
      "needs_background": "light"
     },
     "output_type": "display_data"
    }
   ],
   "source": [
    "_ = plt.hist(tweet_counts_df['count'], bins=100)"
   ]
  },
  {
   "cell_type": "code",
   "execution_count": null,
   "metadata": {},
   "outputs": [],
   "source": []
  },
  {
   "cell_type": "code",
   "execution_count": 21,
   "metadata": {},
   "outputs": [],
   "source": [
    "start_date = '2018-01-01'\n",
    "end_date = '2019-05-13'"
   ]
  },
  {
   "cell_type": "code",
   "execution_count": 22,
   "metadata": {},
   "outputs": [],
   "source": [
    "dfs = []"
   ]
  },
  {
   "cell_type": "code",
   "execution_count": 23,
   "metadata": {},
   "outputs": [
    {
     "name": "stderr",
     "output_type": "stream",
     "text": [
      "100%|██████████| 667/667 [00:05<00:00, 109.34it/s]\n"
     ]
    }
   ],
   "source": [
    "for file_path in tqdm(all_tweet_file_paths):\n",
    "    file_date = file_path.split('_')[1]\n",
    "    if file_date < start_date:\n",
    "        continue\n",
    "    \n",
    "    df = pd.read_json(file_path, dtype=False)\n",
    "    df = df[df['username'].isin(top_usernames)].copy()\n",
    "    dfs.append(df)"
   ]
  },
  {
   "cell_type": "code",
   "execution_count": 24,
   "metadata": {},
   "outputs": [],
   "source": [
    "top_user_tweets = pd.concat(dfs)"
   ]
  },
  {
   "cell_type": "code",
   "execution_count": 25,
   "metadata": {},
   "outputs": [
    {
     "data": {
      "text/html": [
       "<div>\n",
       "<style scoped>\n",
       "    .dataframe tbody tr th:only-of-type {\n",
       "        vertical-align: middle;\n",
       "    }\n",
       "\n",
       "    .dataframe tbody tr th {\n",
       "        vertical-align: top;\n",
       "    }\n",
       "\n",
       "    .dataframe thead th {\n",
       "        text-align: right;\n",
       "    }\n",
       "</style>\n",
       "<table border=\"1\" class=\"dataframe\">\n",
       "  <thead>\n",
       "    <tr style=\"text-align: right;\">\n",
       "      <th></th>\n",
       "      <th>UTC_date</th>\n",
       "      <th>author_id</th>\n",
       "      <th>favorites</th>\n",
       "      <th>geo</th>\n",
       "      <th>hashtags</th>\n",
       "      <th>id</th>\n",
       "      <th>mentions</th>\n",
       "      <th>permalink</th>\n",
       "      <th>replies</th>\n",
       "      <th>retweets</th>\n",
       "      <th>text</th>\n",
       "      <th>to</th>\n",
       "      <th>urls</th>\n",
       "      <th>username</th>\n",
       "    </tr>\n",
       "  </thead>\n",
       "  <tbody>\n",
       "    <tr>\n",
       "      <th>0</th>\n",
       "      <td>2019-01-25, 23:58</td>\n",
       "      <td>2276424079</td>\n",
       "      <td>1</td>\n",
       "      <td></td>\n",
       "      <td></td>\n",
       "      <td>1088949344831721473</td>\n",
       "      <td></td>\n",
       "      <td>https://twitter.com/EgoEquus/status/1088949344...</td>\n",
       "      <td>2</td>\n",
       "      <td>0</td>\n",
       "      <td>All car companies are the product of some meas...</td>\n",
       "      <td>None</td>\n",
       "      <td></td>\n",
       "      <td>EgoEquus</td>\n",
       "    </tr>\n",
       "    <tr>\n",
       "      <th>1</th>\n",
       "      <td>2019-01-25, 23:57</td>\n",
       "      <td>1472086890</td>\n",
       "      <td>2</td>\n",
       "      <td></td>\n",
       "      <td></td>\n",
       "      <td>1088949052106932225</td>\n",
       "      <td>@http</td>\n",
       "      <td>https://twitter.com/Mexicano_Bulls/status/1088...</td>\n",
       "      <td>0</td>\n",
       "      <td>1</td>\n",
       "      <td>$TSLA the bull pattern is confirmed &amp; a BUY si...</td>\n",
       "      <td>None</td>\n",
       "      <td>http://bit.ly/1y9od8o</td>\n",
       "      <td>Mexicano_Bulls</td>\n",
       "    </tr>\n",
       "    <tr>\n",
       "      <th>2</th>\n",
       "      <td>2019-01-25, 23:47</td>\n",
       "      <td>286547402</td>\n",
       "      <td>8</td>\n",
       "      <td></td>\n",
       "      <td></td>\n",
       "      <td>1088946500468563970</td>\n",
       "      <td></td>\n",
       "      <td>https://twitter.com/TheAdaptedMind/status/1088...</td>\n",
       "      <td>0</td>\n",
       "      <td>0</td>\n",
       "      <td>Koch Bros pay well man. Get in on the cold har...</td>\n",
       "      <td>None</td>\n",
       "      <td></td>\n",
       "      <td>TheAdaptedMind</td>\n",
       "    </tr>\n",
       "    <tr>\n",
       "      <th>3</th>\n",
       "      <td>2019-01-25, 23:46</td>\n",
       "      <td>50206233</td>\n",
       "      <td>1</td>\n",
       "      <td></td>\n",
       "      <td></td>\n",
       "      <td>1088946332906283008</td>\n",
       "      <td></td>\n",
       "      <td>https://twitter.com/WintonCapPtnrs/status/1088...</td>\n",
       "      <td>0</td>\n",
       "      <td>0</td>\n",
       "      <td>$TSLA $TSLAQhttps://twitter.com/BSA19741/statu...</td>\n",
       "      <td>BSA19741</td>\n",
       "      <td>https://twitter.com/BSA19741/status/1085575365...</td>\n",
       "      <td>WintonCapPtnrs</td>\n",
       "    </tr>\n",
       "    <tr>\n",
       "      <th>4</th>\n",
       "      <td>2019-01-25, 23:45</td>\n",
       "      <td>4549072574</td>\n",
       "      <td>1</td>\n",
       "      <td></td>\n",
       "      <td></td>\n",
       "      <td>1088946019595780096</td>\n",
       "      <td></td>\n",
       "      <td>https://twitter.com/mydoghasagun/status/108894...</td>\n",
       "      <td>1</td>\n",
       "      <td>1</td>\n",
       "      <td>$TSLA Who do you think pays us? https://twitte...</td>\n",
       "      <td>None</td>\n",
       "      <td>https://twitter.com/Michaelsully/status/108894...</td>\n",
       "      <td>mydoghasagun</td>\n",
       "    </tr>\n",
       "  </tbody>\n",
       "</table>\n",
       "</div>"
      ],
      "text/plain": [
       "            UTC_date   author_id  favorites geo hashtags                   id  \\\n",
       "0  2019-01-25, 23:58  2276424079          1               1088949344831721473   \n",
       "1  2019-01-25, 23:57  1472086890          2               1088949052106932225   \n",
       "2  2019-01-25, 23:47   286547402          8               1088946500468563970   \n",
       "3  2019-01-25, 23:46    50206233          1               1088946332906283008   \n",
       "4  2019-01-25, 23:45  4549072574          1               1088946019595780096   \n",
       "\n",
       "  mentions                                          permalink  replies  \\\n",
       "0           https://twitter.com/EgoEquus/status/1088949344...        2   \n",
       "1    @http  https://twitter.com/Mexicano_Bulls/status/1088...        0   \n",
       "2           https://twitter.com/TheAdaptedMind/status/1088...        0   \n",
       "3           https://twitter.com/WintonCapPtnrs/status/1088...        0   \n",
       "4           https://twitter.com/mydoghasagun/status/108894...        1   \n",
       "\n",
       "   retweets                                               text        to  \\\n",
       "0         0  All car companies are the product of some meas...      None   \n",
       "1         1  $TSLA the bull pattern is confirmed & a BUY si...      None   \n",
       "2         0  Koch Bros pay well man. Get in on the cold har...      None   \n",
       "3         0  $TSLA $TSLAQhttps://twitter.com/BSA19741/statu...  BSA19741   \n",
       "4         1  $TSLA Who do you think pays us? https://twitte...      None   \n",
       "\n",
       "                                                urls        username  \n",
       "0                                                           EgoEquus  \n",
       "1                              http://bit.ly/1y9od8o  Mexicano_Bulls  \n",
       "2                                                     TheAdaptedMind  \n",
       "3  https://twitter.com/BSA19741/status/1085575365...  WintonCapPtnrs  \n",
       "4  https://twitter.com/Michaelsully/status/108894...    mydoghasagun  "
      ]
     },
     "execution_count": 25,
     "metadata": {},
     "output_type": "execute_result"
    }
   ],
   "source": [
    "top_user_tweets.head()"
   ]
  },
  {
   "cell_type": "code",
   "execution_count": 26,
   "metadata": {},
   "outputs": [],
   "source": [
    "top_user_tweets.to_pickle('temp_data/top_user_tweets.pkl')"
   ]
  },
  {
   "cell_type": "code",
   "execution_count": null,
   "metadata": {},
   "outputs": [],
   "source": []
  },
  {
   "cell_type": "code",
   "execution_count": 27,
   "metadata": {},
   "outputs": [],
   "source": [
    "analyser = SentimentIntensityAnalyzer()\n",
    "\n",
    "def sentiment_analyzer_scores(sentence):\n",
    "    score = analyser.polarity_scores(sentence)\n",
    "    return score['compound']\n",
    "    #     print(\"{:-<40} {}\".format(sentence, str(score)))"
   ]
  },
  {
   "cell_type": "code",
   "execution_count": 28,
   "metadata": {},
   "outputs": [],
   "source": [
    "top_user_tweets['sentiment'] = top_user_tweets['text'].apply(sentiment_analyzer_scores)"
   ]
  },
  {
   "cell_type": "code",
   "execution_count": 29,
   "metadata": {},
   "outputs": [],
   "source": [
    "top_user_tweets.to_pickle('temp_data/top_user_tweets_with_sentiment.pkl')"
   ]
  },
  {
   "cell_type": "code",
   "execution_count": null,
   "metadata": {},
   "outputs": [],
   "source": []
  },
  {
   "cell_type": "code",
   "execution_count": null,
   "metadata": {},
   "outputs": [],
   "source": []
  }
 ],
 "metadata": {
  "kernelspec": {
   "display_name": "Python 3",
   "language": "python",
   "name": "python3"
  },
  "language_info": {
   "codemirror_mode": {
    "name": "ipython",
    "version": 3
   },
   "file_extension": ".py",
   "mimetype": "text/x-python",
   "name": "python",
   "nbconvert_exporter": "python",
   "pygments_lexer": "ipython3",
   "version": "3.6.7"
  }
 },
 "nbformat": 4,
 "nbformat_minor": 2
}
