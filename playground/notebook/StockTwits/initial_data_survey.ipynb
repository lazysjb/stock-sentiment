{
 "cells": [
  {
   "cell_type": "code",
   "execution_count": 1,
   "metadata": {},
   "outputs": [],
   "source": [
    "%load_ext autoreload\n",
    "%autoreload 2"
   ]
  },
  {
   "cell_type": "code",
   "execution_count": 2,
   "metadata": {},
   "outputs": [],
   "source": [
    "import sys\n",
    "sys.path.append('../../..')"
   ]
  },
  {
   "cell_type": "code",
   "execution_count": 141,
   "metadata": {},
   "outputs": [],
   "source": [
    "from glob import glob\n",
    "import os\n",
    "import time\n",
    "\n",
    "import pandas as pd\n",
    "import matplotlib\n",
    "import matplotlib.pyplot as plt\n",
    "%matplotlib inline\n",
    "from tqdm import tqdm\n",
    "\n",
    "from util.file_util import StockTwitsFileReader"
   ]
  },
  {
   "cell_type": "code",
   "execution_count": 4,
   "metadata": {},
   "outputs": [],
   "source": [
    "pd.set_option('display.max_rows', 200)\n",
    "pd.set_option('display.max_colwidth', 150)"
   ]
  },
  {
   "cell_type": "code",
   "execution_count": 5,
   "metadata": {},
   "outputs": [],
   "source": [
    "file_reader = StockTwitsFileReader()"
   ]
  },
  {
   "cell_type": "code",
   "execution_count": 6,
   "metadata": {},
   "outputs": [],
   "source": [
    "date = '2019-08-09'\n",
    "ticker = 'SHAK'"
   ]
  },
  {
   "cell_type": "code",
   "execution_count": 7,
   "metadata": {},
   "outputs": [],
   "source": [
    "temp_df = file_reader.read_twit_file(ticker, date)"
   ]
  },
  {
   "cell_type": "code",
   "execution_count": 8,
   "metadata": {},
   "outputs": [
    {
     "data": {
      "text/html": [
       "<div>\n",
       "<style scoped>\n",
       "    .dataframe tbody tr th:only-of-type {\n",
       "        vertical-align: middle;\n",
       "    }\n",
       "\n",
       "    .dataframe tbody tr th {\n",
       "        vertical-align: top;\n",
       "    }\n",
       "\n",
       "    .dataframe thead th {\n",
       "        text-align: right;\n",
       "    }\n",
       "</style>\n",
       "<table border=\"1\" class=\"dataframe\">\n",
       "  <thead>\n",
       "    <tr style=\"text-align: right;\">\n",
       "      <th></th>\n",
       "      <th>0</th>\n",
       "      <th>1</th>\n",
       "    </tr>\n",
       "  </thead>\n",
       "  <tbody>\n",
       "    <tr>\n",
       "      <th>body</th>\n",
       "      <td>$SHAK CLDR Boys next call on Monday after the drop . One to look at anyways 👍</td>\n",
       "      <td>$SHAK new insider selling: 40987 shares. http://insiderbuyingselling.com/?t=SHAK</td>\n",
       "    </tr>\n",
       "    <tr>\n",
       "      <th>conversation.in_reply_to_message_id</th>\n",
       "      <td>NaN</td>\n",
       "      <td>NaN</td>\n",
       "    </tr>\n",
       "    <tr>\n",
       "      <th>conversation.parent</th>\n",
       "      <td>NaN</td>\n",
       "      <td>NaN</td>\n",
       "    </tr>\n",
       "    <tr>\n",
       "      <th>conversation.parent_message_id</th>\n",
       "      <td>NaN</td>\n",
       "      <td>NaN</td>\n",
       "    </tr>\n",
       "    <tr>\n",
       "      <th>conversation.replies</th>\n",
       "      <td>NaN</td>\n",
       "      <td>NaN</td>\n",
       "    </tr>\n",
       "    <tr>\n",
       "      <th>created_at</th>\n",
       "      <td>2019-08-10 03:46:47</td>\n",
       "      <td>2019-08-10 00:41:37</td>\n",
       "    </tr>\n",
       "    <tr>\n",
       "      <th>created_at_est</th>\n",
       "      <td>2019-08-09 23:46:47</td>\n",
       "      <td>2019-08-09 20:41:37</td>\n",
       "    </tr>\n",
       "    <tr>\n",
       "      <th>date_est</th>\n",
       "      <td>2019-08-09</td>\n",
       "      <td>2019-08-09</td>\n",
       "    </tr>\n",
       "    <tr>\n",
       "      <th>entities.chart.large</th>\n",
       "      <td>None</td>\n",
       "      <td>None</td>\n",
       "    </tr>\n",
       "    <tr>\n",
       "      <th>entities.chart.original</th>\n",
       "      <td>None</td>\n",
       "      <td>None</td>\n",
       "    </tr>\n",
       "    <tr>\n",
       "      <th>entities.chart.thumb</th>\n",
       "      <td>None</td>\n",
       "      <td>None</td>\n",
       "    </tr>\n",
       "    <tr>\n",
       "      <th>entities.chart.url</th>\n",
       "      <td>None</td>\n",
       "      <td>None</td>\n",
       "    </tr>\n",
       "    <tr>\n",
       "      <th>entities.sentiment</th>\n",
       "      <td>NaN</td>\n",
       "      <td>NaN</td>\n",
       "    </tr>\n",
       "    <tr>\n",
       "      <th>entities.sentiment.basic</th>\n",
       "      <td>None</td>\n",
       "      <td>None</td>\n",
       "    </tr>\n",
       "    <tr>\n",
       "      <th>id</th>\n",
       "      <td>173670691</td>\n",
       "      <td>173662866</td>\n",
       "    </tr>\n",
       "    <tr>\n",
       "      <th>liked_by_self</th>\n",
       "      <td>False</td>\n",
       "      <td>False</td>\n",
       "    </tr>\n",
       "    <tr>\n",
       "      <th>likes.total</th>\n",
       "      <td>1</td>\n",
       "      <td>NaN</td>\n",
       "    </tr>\n",
       "    <tr>\n",
       "      <th>likes.user_ids</th>\n",
       "      <td>[468764]</td>\n",
       "      <td>None</td>\n",
       "    </tr>\n",
       "    <tr>\n",
       "      <th>links</th>\n",
       "      <td>None</td>\n",
       "      <td>[{'title': 'Tracking insider buying and selling stocks for Shake Shack Inc. ( SHAK )', 'url': 'http://insiderbuyingselling.com/?t=SHAK', 'shortene...</td>\n",
       "    </tr>\n",
       "    <tr>\n",
       "      <th>mentioned_users</th>\n",
       "      <td>[]</td>\n",
       "      <td>[]</td>\n",
       "    </tr>\n",
       "    <tr>\n",
       "      <th>reshare_message.message.body</th>\n",
       "      <td>NaN</td>\n",
       "      <td>NaN</td>\n",
       "    </tr>\n",
       "    <tr>\n",
       "      <th>reshare_message.message.conversation.in_reply_to_message_id</th>\n",
       "      <td>NaN</td>\n",
       "      <td>NaN</td>\n",
       "    </tr>\n",
       "    <tr>\n",
       "      <th>reshare_message.message.conversation.parent</th>\n",
       "      <td>NaN</td>\n",
       "      <td>NaN</td>\n",
       "    </tr>\n",
       "    <tr>\n",
       "      <th>reshare_message.message.conversation.parent_message_id</th>\n",
       "      <td>NaN</td>\n",
       "      <td>NaN</td>\n",
       "    </tr>\n",
       "    <tr>\n",
       "      <th>reshare_message.message.conversation.replies</th>\n",
       "      <td>NaN</td>\n",
       "      <td>NaN</td>\n",
       "    </tr>\n",
       "    <tr>\n",
       "      <th>reshare_message.message.created_at</th>\n",
       "      <td>NaT</td>\n",
       "      <td>NaT</td>\n",
       "    </tr>\n",
       "    <tr>\n",
       "      <th>reshare_message.message.entities.chart.large</th>\n",
       "      <td>NaN</td>\n",
       "      <td>NaN</td>\n",
       "    </tr>\n",
       "    <tr>\n",
       "      <th>reshare_message.message.entities.chart.original</th>\n",
       "      <td>NaN</td>\n",
       "      <td>NaN</td>\n",
       "    </tr>\n",
       "    <tr>\n",
       "      <th>reshare_message.message.entities.chart.thumb</th>\n",
       "      <td>NaN</td>\n",
       "      <td>NaN</td>\n",
       "    </tr>\n",
       "    <tr>\n",
       "      <th>reshare_message.message.entities.chart.url</th>\n",
       "      <td>NaN</td>\n",
       "      <td>NaN</td>\n",
       "    </tr>\n",
       "    <tr>\n",
       "      <th>reshare_message.message.entities.sentiment</th>\n",
       "      <td>NaN</td>\n",
       "      <td>NaN</td>\n",
       "    </tr>\n",
       "    <tr>\n",
       "      <th>reshare_message.message.entities.sentiment.basic</th>\n",
       "      <td>NaN</td>\n",
       "      <td>NaN</td>\n",
       "    </tr>\n",
       "    <tr>\n",
       "      <th>reshare_message.message.id</th>\n",
       "      <td>NaN</td>\n",
       "      <td>NaN</td>\n",
       "    </tr>\n",
       "    <tr>\n",
       "      <th>reshare_message.message.likes.total</th>\n",
       "      <td>NaN</td>\n",
       "      <td>NaN</td>\n",
       "    </tr>\n",
       "    <tr>\n",
       "      <th>reshare_message.message.likes.user_ids</th>\n",
       "      <td>NaN</td>\n",
       "      <td>NaN</td>\n",
       "    </tr>\n",
       "    <tr>\n",
       "      <th>reshare_message.message.links</th>\n",
       "      <td>NaN</td>\n",
       "      <td>NaN</td>\n",
       "    </tr>\n",
       "    <tr>\n",
       "      <th>reshare_message.message.mentioned_users</th>\n",
       "      <td>NaN</td>\n",
       "      <td>NaN</td>\n",
       "    </tr>\n",
       "    <tr>\n",
       "      <th>reshare_message.message.source.id</th>\n",
       "      <td>NaN</td>\n",
       "      <td>NaN</td>\n",
       "    </tr>\n",
       "    <tr>\n",
       "      <th>reshare_message.message.source.title</th>\n",
       "      <td>NaN</td>\n",
       "      <td>NaN</td>\n",
       "    </tr>\n",
       "    <tr>\n",
       "      <th>reshare_message.message.source.url</th>\n",
       "      <td>NaN</td>\n",
       "      <td>NaN</td>\n",
       "    </tr>\n",
       "    <tr>\n",
       "      <th>reshare_message.message.symbols</th>\n",
       "      <td>NaN</td>\n",
       "      <td>NaN</td>\n",
       "    </tr>\n",
       "    <tr>\n",
       "      <th>reshare_message.message.user.avatar_url</th>\n",
       "      <td>NaN</td>\n",
       "      <td>NaN</td>\n",
       "    </tr>\n",
       "    <tr>\n",
       "      <th>reshare_message.message.user.avatar_url_ssl</th>\n",
       "      <td>NaN</td>\n",
       "      <td>NaN</td>\n",
       "    </tr>\n",
       "    <tr>\n",
       "      <th>reshare_message.message.user.classification</th>\n",
       "      <td>NaN</td>\n",
       "      <td>NaN</td>\n",
       "    </tr>\n",
       "    <tr>\n",
       "      <th>reshare_message.message.user.followers</th>\n",
       "      <td>NaN</td>\n",
       "      <td>NaN</td>\n",
       "    </tr>\n",
       "    <tr>\n",
       "      <th>reshare_message.message.user.following</th>\n",
       "      <td>NaN</td>\n",
       "      <td>NaN</td>\n",
       "    </tr>\n",
       "    <tr>\n",
       "      <th>reshare_message.message.user.id</th>\n",
       "      <td>NaN</td>\n",
       "      <td>NaN</td>\n",
       "    </tr>\n",
       "    <tr>\n",
       "      <th>reshare_message.message.user.ideas</th>\n",
       "      <td>NaN</td>\n",
       "      <td>NaN</td>\n",
       "    </tr>\n",
       "    <tr>\n",
       "      <th>reshare_message.message.user.identity</th>\n",
       "      <td>NaN</td>\n",
       "      <td>NaN</td>\n",
       "    </tr>\n",
       "    <tr>\n",
       "      <th>reshare_message.message.user.join_date</th>\n",
       "      <td>NaN</td>\n",
       "      <td>NaN</td>\n",
       "    </tr>\n",
       "    <tr>\n",
       "      <th>reshare_message.message.user.like_count</th>\n",
       "      <td>NaN</td>\n",
       "      <td>NaN</td>\n",
       "    </tr>\n",
       "    <tr>\n",
       "      <th>reshare_message.message.user.name</th>\n",
       "      <td>NaN</td>\n",
       "      <td>NaN</td>\n",
       "    </tr>\n",
       "    <tr>\n",
       "      <th>reshare_message.message.user.official</th>\n",
       "      <td>NaN</td>\n",
       "      <td>NaN</td>\n",
       "    </tr>\n",
       "    <tr>\n",
       "      <th>reshare_message.message.user.plus_tier</th>\n",
       "      <td>NaN</td>\n",
       "      <td>NaN</td>\n",
       "    </tr>\n",
       "    <tr>\n",
       "      <th>reshare_message.message.user.username</th>\n",
       "      <td>NaN</td>\n",
       "      <td>NaN</td>\n",
       "    </tr>\n",
       "    <tr>\n",
       "      <th>reshare_message.message.user.watchlist_stocks_count</th>\n",
       "      <td>NaN</td>\n",
       "      <td>NaN</td>\n",
       "    </tr>\n",
       "    <tr>\n",
       "      <th>reshare_message.parent_reshared_deleted</th>\n",
       "      <td>NaN</td>\n",
       "      <td>NaN</td>\n",
       "    </tr>\n",
       "    <tr>\n",
       "      <th>reshare_message.parent_reshared_message_id</th>\n",
       "      <td>NaN</td>\n",
       "      <td>NaN</td>\n",
       "    </tr>\n",
       "    <tr>\n",
       "      <th>reshare_message.parent_reshared_url</th>\n",
       "      <td>NaN</td>\n",
       "      <td>NaN</td>\n",
       "    </tr>\n",
       "    <tr>\n",
       "      <th>reshare_message.reshared_count</th>\n",
       "      <td>NaN</td>\n",
       "      <td>NaN</td>\n",
       "    </tr>\n",
       "    <tr>\n",
       "      <th>reshare_message.reshared_deleted</th>\n",
       "      <td>NaN</td>\n",
       "      <td>NaN</td>\n",
       "    </tr>\n",
       "    <tr>\n",
       "      <th>reshare_message.reshared_user_deleted</th>\n",
       "      <td>NaN</td>\n",
       "      <td>NaN</td>\n",
       "    </tr>\n",
       "    <tr>\n",
       "      <th>reshared_by_self</th>\n",
       "      <td>False</td>\n",
       "      <td>False</td>\n",
       "    </tr>\n",
       "    <tr>\n",
       "      <th>reshares.reshared_count</th>\n",
       "      <td>1</td>\n",
       "      <td>NaN</td>\n",
       "    </tr>\n",
       "    <tr>\n",
       "      <th>reshares.user_ids</th>\n",
       "      <td>[1844945]</td>\n",
       "      <td>None</td>\n",
       "    </tr>\n",
       "    <tr>\n",
       "      <th>source.id</th>\n",
       "      <td>1149</td>\n",
       "      <td>4049</td>\n",
       "    </tr>\n",
       "    <tr>\n",
       "      <th>source.title</th>\n",
       "      <td>StockTwits for iOS</td>\n",
       "      <td>insiderbuyingselling</td>\n",
       "    </tr>\n",
       "    <tr>\n",
       "      <th>source.url</th>\n",
       "      <td>http://www.stocktwits.com/mobile</td>\n",
       "      <td>http://insiderbuyingselling.com</td>\n",
       "    </tr>\n",
       "    <tr>\n",
       "      <th>symbols</th>\n",
       "      <td>[{'id': 12378, 'symbol': 'SHAK', 'title': 'Shake Shack', 'aliases': [], 'is_following': False, 'watchlist_count': 9548}]</td>\n",
       "      <td>[{'id': 12378, 'symbol': 'SHAK', 'title': 'Shake Shack', 'aliases': [], 'is_following': False, 'watchlist_count': 9547}]</td>\n",
       "    </tr>\n",
       "    <tr>\n",
       "      <th>user.avatar_url</th>\n",
       "      <td>https://avatars.stocktwits.com/production/1844945/thumb-1565122000.png</td>\n",
       "      <td>https://avatars.stocktwits.com/production/1419740/thumb-1522159697.png</td>\n",
       "    </tr>\n",
       "    <tr>\n",
       "      <th>user.avatar_url_ssl</th>\n",
       "      <td>https://avatars.stocktwits.com/production/1844945/thumb-1565122000.png</td>\n",
       "      <td>https://avatars.stocktwits.com/production/1419740/thumb-1522159697.png</td>\n",
       "    </tr>\n",
       "    <tr>\n",
       "      <th>user.classification</th>\n",
       "      <td>[]</td>\n",
       "      <td>[]</td>\n",
       "    </tr>\n",
       "    <tr>\n",
       "      <th>user.followers</th>\n",
       "      <td>3</td>\n",
       "      <td>778</td>\n",
       "    </tr>\n",
       "    <tr>\n",
       "      <th>user.following</th>\n",
       "      <td>4</td>\n",
       "      <td>0</td>\n",
       "    </tr>\n",
       "    <tr>\n",
       "      <th>user.id</th>\n",
       "      <td>1844945</td>\n",
       "      <td>1419740</td>\n",
       "    </tr>\n",
       "    <tr>\n",
       "      <th>user.ideas</th>\n",
       "      <td>301</td>\n",
       "      <td>28240</td>\n",
       "    </tr>\n",
       "    <tr>\n",
       "      <th>user.identity</th>\n",
       "      <td>User</td>\n",
       "      <td>User</td>\n",
       "    </tr>\n",
       "    <tr>\n",
       "      <th>user.join_date</th>\n",
       "      <td>2019-02-02</td>\n",
       "      <td>2018-02-22</td>\n",
       "    </tr>\n",
       "    <tr>\n",
       "      <th>user.like_count</th>\n",
       "      <td>561</td>\n",
       "      <td>0</td>\n",
       "    </tr>\n",
       "    <tr>\n",
       "      <th>user.name</th>\n",
       "      <td>David</td>\n",
       "      <td>sky</td>\n",
       "    </tr>\n",
       "    <tr>\n",
       "      <th>user.official</th>\n",
       "      <td>False</td>\n",
       "      <td>False</td>\n",
       "    </tr>\n",
       "    <tr>\n",
       "      <th>user.plus_tier</th>\n",
       "      <td></td>\n",
       "      <td></td>\n",
       "    </tr>\n",
       "    <tr>\n",
       "      <th>user.username</th>\n",
       "      <td>Driggs417</td>\n",
       "      <td>insiderbuyingselling</td>\n",
       "    </tr>\n",
       "    <tr>\n",
       "      <th>user.watchlist_stocks_count</th>\n",
       "      <td>9</td>\n",
       "      <td>0</td>\n",
       "    </tr>\n",
       "  </tbody>\n",
       "</table>\n",
       "</div>"
      ],
      "text/plain": [
       "                                                                                                                                                                                    0  \\\n",
       "body                                                                                                    $SHAK CLDR Boys next call on Monday after the drop . One to look at anyways 👍   \n",
       "conversation.in_reply_to_message_id                                                                                                                                               NaN   \n",
       "conversation.parent                                                                                                                                                               NaN   \n",
       "conversation.parent_message_id                                                                                                                                                    NaN   \n",
       "conversation.replies                                                                                                                                                              NaN   \n",
       "created_at                                                                                                                                                        2019-08-10 03:46:47   \n",
       "created_at_est                                                                                                                                                    2019-08-09 23:46:47   \n",
       "date_est                                                                                                                                                                   2019-08-09   \n",
       "entities.chart.large                                                                                                                                                             None   \n",
       "entities.chart.original                                                                                                                                                          None   \n",
       "entities.chart.thumb                                                                                                                                                             None   \n",
       "entities.chart.url                                                                                                                                                               None   \n",
       "entities.sentiment                                                                                                                                                                NaN   \n",
       "entities.sentiment.basic                                                                                                                                                         None   \n",
       "id                                                                                                                                                                          173670691   \n",
       "liked_by_self                                                                                                                                                                   False   \n",
       "likes.total                                                                                                                                                                         1   \n",
       "likes.user_ids                                                                                                                                                               [468764]   \n",
       "links                                                                                                                                                                            None   \n",
       "mentioned_users                                                                                                                                                                    []   \n",
       "reshare_message.message.body                                                                                                                                                      NaN   \n",
       "reshare_message.message.conversation.in_reply_to_message_id                                                                                                                       NaN   \n",
       "reshare_message.message.conversation.parent                                                                                                                                       NaN   \n",
       "reshare_message.message.conversation.parent_message_id                                                                                                                            NaN   \n",
       "reshare_message.message.conversation.replies                                                                                                                                      NaN   \n",
       "reshare_message.message.created_at                                                                                                                                                NaT   \n",
       "reshare_message.message.entities.chart.large                                                                                                                                      NaN   \n",
       "reshare_message.message.entities.chart.original                                                                                                                                   NaN   \n",
       "reshare_message.message.entities.chart.thumb                                                                                                                                      NaN   \n",
       "reshare_message.message.entities.chart.url                                                                                                                                        NaN   \n",
       "reshare_message.message.entities.sentiment                                                                                                                                        NaN   \n",
       "reshare_message.message.entities.sentiment.basic                                                                                                                                  NaN   \n",
       "reshare_message.message.id                                                                                                                                                        NaN   \n",
       "reshare_message.message.likes.total                                                                                                                                               NaN   \n",
       "reshare_message.message.likes.user_ids                                                                                                                                            NaN   \n",
       "reshare_message.message.links                                                                                                                                                     NaN   \n",
       "reshare_message.message.mentioned_users                                                                                                                                           NaN   \n",
       "reshare_message.message.source.id                                                                                                                                                 NaN   \n",
       "reshare_message.message.source.title                                                                                                                                              NaN   \n",
       "reshare_message.message.source.url                                                                                                                                                NaN   \n",
       "reshare_message.message.symbols                                                                                                                                                   NaN   \n",
       "reshare_message.message.user.avatar_url                                                                                                                                           NaN   \n",
       "reshare_message.message.user.avatar_url_ssl                                                                                                                                       NaN   \n",
       "reshare_message.message.user.classification                                                                                                                                       NaN   \n",
       "reshare_message.message.user.followers                                                                                                                                            NaN   \n",
       "reshare_message.message.user.following                                                                                                                                            NaN   \n",
       "reshare_message.message.user.id                                                                                                                                                   NaN   \n",
       "reshare_message.message.user.ideas                                                                                                                                                NaN   \n",
       "reshare_message.message.user.identity                                                                                                                                             NaN   \n",
       "reshare_message.message.user.join_date                                                                                                                                            NaN   \n",
       "reshare_message.message.user.like_count                                                                                                                                           NaN   \n",
       "reshare_message.message.user.name                                                                                                                                                 NaN   \n",
       "reshare_message.message.user.official                                                                                                                                             NaN   \n",
       "reshare_message.message.user.plus_tier                                                                                                                                            NaN   \n",
       "reshare_message.message.user.username                                                                                                                                             NaN   \n",
       "reshare_message.message.user.watchlist_stocks_count                                                                                                                               NaN   \n",
       "reshare_message.parent_reshared_deleted                                                                                                                                           NaN   \n",
       "reshare_message.parent_reshared_message_id                                                                                                                                        NaN   \n",
       "reshare_message.parent_reshared_url                                                                                                                                               NaN   \n",
       "reshare_message.reshared_count                                                                                                                                                    NaN   \n",
       "reshare_message.reshared_deleted                                                                                                                                                  NaN   \n",
       "reshare_message.reshared_user_deleted                                                                                                                                             NaN   \n",
       "reshared_by_self                                                                                                                                                                False   \n",
       "reshares.reshared_count                                                                                                                                                             1   \n",
       "reshares.user_ids                                                                                                                                                           [1844945]   \n",
       "source.id                                                                                                                                                                        1149   \n",
       "source.title                                                                                                                                                       StockTwits for iOS   \n",
       "source.url                                                                                                                                           http://www.stocktwits.com/mobile   \n",
       "symbols                                                      [{'id': 12378, 'symbol': 'SHAK', 'title': 'Shake Shack', 'aliases': [], 'is_following': False, 'watchlist_count': 9548}]   \n",
       "user.avatar_url                                                                                                https://avatars.stocktwits.com/production/1844945/thumb-1565122000.png   \n",
       "user.avatar_url_ssl                                                                                            https://avatars.stocktwits.com/production/1844945/thumb-1565122000.png   \n",
       "user.classification                                                                                                                                                                []   \n",
       "user.followers                                                                                                                                                                      3   \n",
       "user.following                                                                                                                                                                      4   \n",
       "user.id                                                                                                                                                                       1844945   \n",
       "user.ideas                                                                                                                                                                        301   \n",
       "user.identity                                                                                                                                                                    User   \n",
       "user.join_date                                                                                                                                                             2019-02-02   \n",
       "user.like_count                                                                                                                                                                   561   \n",
       "user.name                                                                                                                                                                       David   \n",
       "user.official                                                                                                                                                                   False   \n",
       "user.plus_tier                                                                                                                                                                          \n",
       "user.username                                                                                                                                                               Driggs417   \n",
       "user.watchlist_stocks_count                                                                                                                                                         9   \n",
       "\n",
       "                                                                                                                                                                                                                 1  \n",
       "body                                                                                                                              $SHAK new insider selling: 40987 shares. http://insiderbuyingselling.com/?t=SHAK  \n",
       "conversation.in_reply_to_message_id                                                                                                                                                                            NaN  \n",
       "conversation.parent                                                                                                                                                                                            NaN  \n",
       "conversation.parent_message_id                                                                                                                                                                                 NaN  \n",
       "conversation.replies                                                                                                                                                                                           NaN  \n",
       "created_at                                                                                                                                                                                     2019-08-10 00:41:37  \n",
       "created_at_est                                                                                                                                                                                 2019-08-09 20:41:37  \n",
       "date_est                                                                                                                                                                                                2019-08-09  \n",
       "entities.chart.large                                                                                                                                                                                          None  \n",
       "entities.chart.original                                                                                                                                                                                       None  \n",
       "entities.chart.thumb                                                                                                                                                                                          None  \n",
       "entities.chart.url                                                                                                                                                                                            None  \n",
       "entities.sentiment                                                                                                                                                                                             NaN  \n",
       "entities.sentiment.basic                                                                                                                                                                                      None  \n",
       "id                                                                                                                                                                                                       173662866  \n",
       "liked_by_self                                                                                                                                                                                                False  \n",
       "likes.total                                                                                                                                                                                                    NaN  \n",
       "likes.user_ids                                                                                                                                                                                                None  \n",
       "links                                                        [{'title': 'Tracking insider buying and selling stocks for Shake Shack Inc. ( SHAK )', 'url': 'http://insiderbuyingselling.com/?t=SHAK', 'shortene...  \n",
       "mentioned_users                                                                                                                                                                                                 []  \n",
       "reshare_message.message.body                                                                                                                                                                                   NaN  \n",
       "reshare_message.message.conversation.in_reply_to_message_id                                                                                                                                                    NaN  \n",
       "reshare_message.message.conversation.parent                                                                                                                                                                    NaN  \n",
       "reshare_message.message.conversation.parent_message_id                                                                                                                                                         NaN  \n",
       "reshare_message.message.conversation.replies                                                                                                                                                                   NaN  \n",
       "reshare_message.message.created_at                                                                                                                                                                             NaT  \n",
       "reshare_message.message.entities.chart.large                                                                                                                                                                   NaN  \n",
       "reshare_message.message.entities.chart.original                                                                                                                                                                NaN  \n",
       "reshare_message.message.entities.chart.thumb                                                                                                                                                                   NaN  \n",
       "reshare_message.message.entities.chart.url                                                                                                                                                                     NaN  \n",
       "reshare_message.message.entities.sentiment                                                                                                                                                                     NaN  \n",
       "reshare_message.message.entities.sentiment.basic                                                                                                                                                               NaN  \n",
       "reshare_message.message.id                                                                                                                                                                                     NaN  \n",
       "reshare_message.message.likes.total                                                                                                                                                                            NaN  \n",
       "reshare_message.message.likes.user_ids                                                                                                                                                                         NaN  \n",
       "reshare_message.message.links                                                                                                                                                                                  NaN  \n",
       "reshare_message.message.mentioned_users                                                                                                                                                                        NaN  \n",
       "reshare_message.message.source.id                                                                                                                                                                              NaN  \n",
       "reshare_message.message.source.title                                                                                                                                                                           NaN  \n",
       "reshare_message.message.source.url                                                                                                                                                                             NaN  \n",
       "reshare_message.message.symbols                                                                                                                                                                                NaN  \n",
       "reshare_message.message.user.avatar_url                                                                                                                                                                        NaN  \n",
       "reshare_message.message.user.avatar_url_ssl                                                                                                                                                                    NaN  \n",
       "reshare_message.message.user.classification                                                                                                                                                                    NaN  \n",
       "reshare_message.message.user.followers                                                                                                                                                                         NaN  \n",
       "reshare_message.message.user.following                                                                                                                                                                         NaN  \n",
       "reshare_message.message.user.id                                                                                                                                                                                NaN  \n",
       "reshare_message.message.user.ideas                                                                                                                                                                             NaN  \n",
       "reshare_message.message.user.identity                                                                                                                                                                          NaN  \n",
       "reshare_message.message.user.join_date                                                                                                                                                                         NaN  \n",
       "reshare_message.message.user.like_count                                                                                                                                                                        NaN  \n",
       "reshare_message.message.user.name                                                                                                                                                                              NaN  \n",
       "reshare_message.message.user.official                                                                                                                                                                          NaN  \n",
       "reshare_message.message.user.plus_tier                                                                                                                                                                         NaN  \n",
       "reshare_message.message.user.username                                                                                                                                                                          NaN  \n",
       "reshare_message.message.user.watchlist_stocks_count                                                                                                                                                            NaN  \n",
       "reshare_message.parent_reshared_deleted                                                                                                                                                                        NaN  \n",
       "reshare_message.parent_reshared_message_id                                                                                                                                                                     NaN  \n",
       "reshare_message.parent_reshared_url                                                                                                                                                                            NaN  \n",
       "reshare_message.reshared_count                                                                                                                                                                                 NaN  \n",
       "reshare_message.reshared_deleted                                                                                                                                                                               NaN  \n",
       "reshare_message.reshared_user_deleted                                                                                                                                                                          NaN  \n",
       "reshared_by_self                                                                                                                                                                                             False  \n",
       "reshares.reshared_count                                                                                                                                                                                        NaN  \n",
       "reshares.user_ids                                                                                                                                                                                             None  \n",
       "source.id                                                                                                                                                                                                     4049  \n",
       "source.title                                                                                                                                                                                  insiderbuyingselling  \n",
       "source.url                                                                                                                                                                         http://insiderbuyingselling.com  \n",
       "symbols                                                                                   [{'id': 12378, 'symbol': 'SHAK', 'title': 'Shake Shack', 'aliases': [], 'is_following': False, 'watchlist_count': 9547}]  \n",
       "user.avatar_url                                                                                                                             https://avatars.stocktwits.com/production/1419740/thumb-1522159697.png  \n",
       "user.avatar_url_ssl                                                                                                                         https://avatars.stocktwits.com/production/1419740/thumb-1522159697.png  \n",
       "user.classification                                                                                                                                                                                             []  \n",
       "user.followers                                                                                                                                                                                                 778  \n",
       "user.following                                                                                                                                                                                                   0  \n",
       "user.id                                                                                                                                                                                                    1419740  \n",
       "user.ideas                                                                                                                                                                                                   28240  \n",
       "user.identity                                                                                                                                                                                                 User  \n",
       "user.join_date                                                                                                                                                                                          2018-02-22  \n",
       "user.like_count                                                                                                                                                                                                  0  \n",
       "user.name                                                                                                                                                                                                      sky  \n",
       "user.official                                                                                                                                                                                                False  \n",
       "user.plus_tier                                                                                                                                                                                                      \n",
       "user.username                                                                                                                                                                                 insiderbuyingselling  \n",
       "user.watchlist_stocks_count                                                                                                                                                                                      0  "
      ]
     },
     "execution_count": 8,
     "metadata": {},
     "output_type": "execute_result"
    }
   ],
   "source": [
    "temp_df.head(2).T"
   ]
  },
  {
   "cell_type": "markdown",
   "metadata": {},
   "source": [
    "#### Lets Think about User information question later (for ex, is this user reliable?)\n",
    "- For now, just focus on the message"
   ]
  },
  {
   "cell_type": "code",
   "execution_count": 9,
   "metadata": {},
   "outputs": [],
   "source": [
    "COLS_OF_INTEREST = [\n",
    "    'date_est',\n",
    "    'created_at_est',\n",
    "    'body',\n",
    "    'symbols',\n",
    "    'entities.sentiment.basic',\n",
    "    'links',\n",
    "]"
   ]
  },
  {
   "cell_type": "code",
   "execution_count": 10,
   "metadata": {},
   "outputs": [],
   "source": [
    "sentiment_cols = [c for c in temp_df.columns if 'sentiment' in c]"
   ]
  },
  {
   "cell_type": "code",
   "execution_count": 11,
   "metadata": {},
   "outputs": [
    {
     "name": "stdout",
     "output_type": "stream",
     "text": [
      "<class 'pandas.core.frame.DataFrame'>\n",
      "RangeIndex: 54 entries, 0 to 53\n",
      "Data columns (total 4 columns):\n",
      "entities.sentiment                                  0 non-null float64\n",
      "entities.sentiment.basic                            22 non-null object\n",
      "reshare_message.message.entities.sentiment          0 non-null float64\n",
      "reshare_message.message.entities.sentiment.basic    0 non-null float64\n",
      "dtypes: float64(3), object(1)\n",
      "memory usage: 1.8+ KB\n"
     ]
    }
   ],
   "source": [
    "temp_df[sentiment_cols].info()"
   ]
  },
  {
   "cell_type": "code",
   "execution_count": 12,
   "metadata": {},
   "outputs": [],
   "source": [
    "temp_df_new = file_reader.read_twit_file(ticker, date, cols='default')"
   ]
  },
  {
   "cell_type": "code",
   "execution_count": 13,
   "metadata": {},
   "outputs": [
    {
     "data": {
      "text/html": [
       "<div>\n",
       "<style scoped>\n",
       "    .dataframe tbody tr th:only-of-type {\n",
       "        vertical-align: middle;\n",
       "    }\n",
       "\n",
       "    .dataframe tbody tr th {\n",
       "        vertical-align: top;\n",
       "    }\n",
       "\n",
       "    .dataframe thead th {\n",
       "        text-align: right;\n",
       "    }\n",
       "</style>\n",
       "<table border=\"1\" class=\"dataframe\">\n",
       "  <thead>\n",
       "    <tr style=\"text-align: right;\">\n",
       "      <th></th>\n",
       "      <th>date_est</th>\n",
       "      <th>created_at_est</th>\n",
       "      <th>body</th>\n",
       "      <th>symbols</th>\n",
       "      <th>entities.sentiment.basic</th>\n",
       "      <th>links</th>\n",
       "    </tr>\n",
       "  </thead>\n",
       "  <tbody>\n",
       "    <tr>\n",
       "      <th>0</th>\n",
       "      <td>2019-08-09</td>\n",
       "      <td>2019-08-09 23:46:47</td>\n",
       "      <td>$SHAK CLDR Boys next call on Monday after the drop . One to look at anyways 👍</td>\n",
       "      <td>[{'id': 12378, 'symbol': 'SHAK', 'title': 'Shake Shack', 'aliases': [], 'is_following': False, 'watchlist_count': 9548}]</td>\n",
       "      <td>None</td>\n",
       "      <td>None</td>\n",
       "    </tr>\n",
       "    <tr>\n",
       "      <th>1</th>\n",
       "      <td>2019-08-09</td>\n",
       "      <td>2019-08-09 20:41:37</td>\n",
       "      <td>$SHAK new insider selling: 40987 shares. http://insiderbuyingselling.com/?t=SHAK</td>\n",
       "      <td>[{'id': 12378, 'symbol': 'SHAK', 'title': 'Shake Shack', 'aliases': [], 'is_following': False, 'watchlist_count': 9547}]</td>\n",
       "      <td>None</td>\n",
       "      <td>[{'title': 'Tracking insider buying and selling stocks for Shake Shack Inc. ( SHAK )', 'url': 'http://insiderbuyingselling.com/?t=SHAK', 'shortene...</td>\n",
       "    </tr>\n",
       "    <tr>\n",
       "      <th>2</th>\n",
       "      <td>2019-08-09</td>\n",
       "      <td>2019-08-09 20:14:08</td>\n",
       "      <td>$SHAK how is institutional ownership 106%? Educate me dont belittle me please.</td>\n",
       "      <td>[{'id': 12378, 'symbol': 'SHAK', 'title': 'Shake Shack', 'aliases': [], 'is_following': False, 'watchlist_count': 9547}]</td>\n",
       "      <td>None</td>\n",
       "      <td>None</td>\n",
       "    </tr>\n",
       "    <tr>\n",
       "      <th>3</th>\n",
       "      <td>2019-08-09</td>\n",
       "      <td>2019-08-09 19:56:51</td>\n",
       "      <td>$SHAK So far Zach Koff was the insider who dumped at the highest price. If they are exercising their options and dumping them immediately, why are...</td>\n",
       "      <td>[{'id': 679, 'symbol': 'SPX', 'title': 'S&amp;P 500 Index', 'aliases': [], 'is_following': False, 'watchlist_count': 42321}, {'id': 4979, 'symbol': 'D...</td>\n",
       "      <td>Bearish</td>\n",
       "      <td>None</td>\n",
       "    </tr>\n",
       "    <tr>\n",
       "      <th>4</th>\n",
       "      <td>2019-08-09</td>\n",
       "      <td>2019-08-09 19:26:32</td>\n",
       "      <td>$SHAK all these big dumps and price goes up? What gives?</td>\n",
       "      <td>[{'id': 12378, 'symbol': 'SHAK', 'title': 'Shake Shack', 'aliases': [], 'is_following': False, 'watchlist_count': 9548}]</td>\n",
       "      <td>Bearish</td>\n",
       "      <td>None</td>\n",
       "    </tr>\n",
       "  </tbody>\n",
       "</table>\n",
       "</div>"
      ],
      "text/plain": [
       "     date_est       created_at_est  \\\n",
       "0  2019-08-09  2019-08-09 23:46:47   \n",
       "1  2019-08-09  2019-08-09 20:41:37   \n",
       "2  2019-08-09  2019-08-09 20:14:08   \n",
       "3  2019-08-09  2019-08-09 19:56:51   \n",
       "4  2019-08-09  2019-08-09 19:26:32   \n",
       "\n",
       "                                                                                                                                                    body  \\\n",
       "0                                                                          $SHAK CLDR Boys next call on Monday after the drop . One to look at anyways 👍   \n",
       "1                                                                       $SHAK new insider selling: 40987 shares. http://insiderbuyingselling.com/?t=SHAK   \n",
       "2                                                                         $SHAK how is institutional ownership 106%? Educate me dont belittle me please.   \n",
       "3  $SHAK So far Zach Koff was the insider who dumped at the highest price. If they are exercising their options and dumping them immediately, why are...   \n",
       "4                                                                                               $SHAK all these big dumps and price goes up? What gives?   \n",
       "\n",
       "                                                                                                                                                 symbols  \\\n",
       "0                               [{'id': 12378, 'symbol': 'SHAK', 'title': 'Shake Shack', 'aliases': [], 'is_following': False, 'watchlist_count': 9548}]   \n",
       "1                               [{'id': 12378, 'symbol': 'SHAK', 'title': 'Shake Shack', 'aliases': [], 'is_following': False, 'watchlist_count': 9547}]   \n",
       "2                               [{'id': 12378, 'symbol': 'SHAK', 'title': 'Shake Shack', 'aliases': [], 'is_following': False, 'watchlist_count': 9547}]   \n",
       "3  [{'id': 679, 'symbol': 'SPX', 'title': 'S&P 500 Index', 'aliases': [], 'is_following': False, 'watchlist_count': 42321}, {'id': 4979, 'symbol': 'D...   \n",
       "4                               [{'id': 12378, 'symbol': 'SHAK', 'title': 'Shake Shack', 'aliases': [], 'is_following': False, 'watchlist_count': 9548}]   \n",
       "\n",
       "  entities.sentiment.basic  \\\n",
       "0                     None   \n",
       "1                     None   \n",
       "2                     None   \n",
       "3                  Bearish   \n",
       "4                  Bearish   \n",
       "\n",
       "                                                                                                                                                   links  \n",
       "0                                                                                                                                                   None  \n",
       "1  [{'title': 'Tracking insider buying and selling stocks for Shake Shack Inc. ( SHAK )', 'url': 'http://insiderbuyingselling.com/?t=SHAK', 'shortene...  \n",
       "2                                                                                                                                                   None  \n",
       "3                                                                                                                                                   None  \n",
       "4                                                                                                                                                   None  "
      ]
     },
     "execution_count": 13,
     "metadata": {},
     "output_type": "execute_result"
    }
   ],
   "source": [
    "temp_df_new.head()"
   ]
  },
  {
   "cell_type": "code",
   "execution_count": null,
   "metadata": {},
   "outputs": [],
   "source": []
  },
  {
   "cell_type": "markdown",
   "metadata": {},
   "source": [
    "## Read for time range"
   ]
  },
  {
   "cell_type": "code",
   "execution_count": 14,
   "metadata": {},
   "outputs": [],
   "source": [
    "ticker = 'SHAK'\n",
    "\n",
    "start_date = '2018-01-01'\n",
    "end_date = '2019-08-01'"
   ]
  },
  {
   "cell_type": "markdown",
   "metadata": {},
   "source": [
    "Problem - below takes too long, I should cache it"
   ]
  },
  {
   "cell_type": "code",
   "execution_count": 15,
   "metadata": {},
   "outputs": [
    {
     "name": "stdout",
     "output_type": "stream",
     "text": [
      "CPU times: user 39.6 s, sys: 457 ms, total: 40 s\n",
      "Wall time: 40.7 s\n"
     ]
    }
   ],
   "source": [
    "%%time\n",
    "\n",
    "data_df = file_reader.read_twit_file_in_range(ticker, start_date, end_date, cols='default')"
   ]
  },
  {
   "cell_type": "code",
   "execution_count": 16,
   "metadata": {},
   "outputs": [
    {
     "data": {
      "text/plain": [
       "(8664, 6)"
      ]
     },
     "execution_count": 16,
     "metadata": {},
     "output_type": "execute_result"
    }
   ],
   "source": [
    "data_df.shape"
   ]
  },
  {
   "cell_type": "code",
   "execution_count": 17,
   "metadata": {},
   "outputs": [
    {
     "data": {
      "text/plain": [
       "NaN        6554\n",
       "Bearish    1067\n",
       "Bullish    1043\n",
       "Name: entities.sentiment.basic, dtype: int64"
      ]
     },
     "execution_count": 17,
     "metadata": {},
     "output_type": "execute_result"
    }
   ],
   "source": [
    "data_df['entities.sentiment.basic'].value_counts(dropna=False)"
   ]
  },
  {
   "cell_type": "code",
   "execution_count": 18,
   "metadata": {},
   "outputs": [
    {
     "data": {
      "text/plain": [
       "'/Users/seung-jae_bang/Personal/Research/Stock_Sentiment/data/Stocktwits/scrap_data'"
      ]
     },
     "execution_count": 18,
     "metadata": {},
     "output_type": "execute_result"
    }
   ],
   "source": [
    "root_dir = file_reader.get_root_dir()\n",
    "scrap_data_dir = os.path.join(root_dir, 'scrap_data')\n",
    "scrap_data_dir"
   ]
  },
  {
   "cell_type": "code",
   "execution_count": 21,
   "metadata": {},
   "outputs": [],
   "source": [
    "TICKER_LIST = [\n",
    "    'SHAK',\n",
    "    'MSFT',\n",
    "    'TSLA',\n",
    "    'SBUX'\n",
    "]"
   ]
  },
  {
   "cell_type": "code",
   "execution_count": 22,
   "metadata": {},
   "outputs": [
    {
     "name": "stderr",
     "output_type": "stream",
     "text": [
      "100%|██████████| 4/4 [03:37<00:00, 51.38s/it]\n"
     ]
    }
   ],
   "source": [
    "for t in tqdm(TICKER_LIST):\n",
    "    df = file_reader.read_twit_file_in_range(t, start_date, end_date, cols='default')\n",
    "    df.to_pickle(os.path.join(scrap_data_dir, \n",
    "                              '{ticker}_{start_date}_{end_date}.pkl'.format(ticker=t,\n",
    "                                                                            start_date=start_date,\n",
    "                                                                            end_date=end_date)))"
   ]
  },
  {
   "cell_type": "code",
   "execution_count": null,
   "metadata": {},
   "outputs": [],
   "source": []
  },
  {
   "cell_type": "code",
   "execution_count": 23,
   "metadata": {},
   "outputs": [
    {
     "data": {
      "text/html": [
       "<div>\n",
       "<style scoped>\n",
       "    .dataframe tbody tr th:only-of-type {\n",
       "        vertical-align: middle;\n",
       "    }\n",
       "\n",
       "    .dataframe tbody tr th {\n",
       "        vertical-align: top;\n",
       "    }\n",
       "\n",
       "    .dataframe thead th {\n",
       "        text-align: right;\n",
       "    }\n",
       "</style>\n",
       "<table border=\"1\" class=\"dataframe\">\n",
       "  <thead>\n",
       "    <tr style=\"text-align: right;\">\n",
       "      <th></th>\n",
       "      <th>body</th>\n",
       "    </tr>\n",
       "  </thead>\n",
       "  <tbody>\n",
       "    <tr>\n",
       "      <th>6538</th>\n",
       "      <td>$SHAK IMO, this has become a decent SHORT again.  Personally will wait to see if it gets to mid $50 B4 doing anything-due 2 current $ limits</td>\n",
       "    </tr>\n",
       "    <tr>\n",
       "      <th>6104</th>\n",
       "      <td>$SHAK sell sell sell</td>\n",
       "    </tr>\n",
       "    <tr>\n",
       "      <th>5618</th>\n",
       "      <td>$SHAK painfully SHORT. Added a bit to my SHORT position earlier today. Need another owner to sell some shares!</td>\n",
       "    </tr>\n",
       "    <tr>\n",
       "      <th>2256</th>\n",
       "      <td>$SHAK still see 57  EOD</td>\n",
       "    </tr>\n",
       "    <tr>\n",
       "      <th>5668</th>\n",
       "      <td>Covered half $SHAK earlier at target 57.45 for 61¢ net gain following Fri callaways and re-shorted the leg at 58¼ (not high enough, I see).</td>\n",
       "    </tr>\n",
       "    <tr>\n",
       "      <th>2651</th>\n",
       "      <td>$SHAK</td>\n",
       "    </tr>\n",
       "    <tr>\n",
       "      <th>5701</th>\n",
       "      <td>$SHAK EPS = 100. Despite the pump going on, there is only one conclusion for the logical mid-term play on this stock: go SHORT.</td>\n",
       "    </tr>\n",
       "    <tr>\n",
       "      <th>4138</th>\n",
       "      <td>$SHAK\\n\\nBurn you filthy 🐷</td>\n",
       "    </tr>\n",
       "    <tr>\n",
       "      <th>4301</th>\n",
       "      <td>$SHAK something is not right, this POS doesn&amp;#39;t wanna go down...Buyout Offer is looming?</td>\n",
       "    </tr>\n",
       "    <tr>\n",
       "      <th>930</th>\n",
       "      <td>$SHAK I like to hunt my food, thank for very much</td>\n",
       "    </tr>\n",
       "  </tbody>\n",
       "</table>\n",
       "</div>"
      ],
      "text/plain": [
       "                                                                                                                                              body\n",
       "6538  $SHAK IMO, this has become a decent SHORT again.  Personally will wait to see if it gets to mid $50 B4 doing anything-due 2 current $ limits\n",
       "6104                                                                                                                          $SHAK sell sell sell\n",
       "5618                                $SHAK painfully SHORT. Added a bit to my SHORT position earlier today. Need another owner to sell some shares!\n",
       "2256                                                                                                                       $SHAK still see 57  EOD\n",
       "5668   Covered half $SHAK earlier at target 57.45 for 61¢ net gain following Fri callaways and re-shorted the leg at 58¼ (not high enough, I see).\n",
       "2651                                                                                                                                         $SHAK\n",
       "5701               $SHAK EPS = 100. Despite the pump going on, there is only one conclusion for the logical mid-term play on this stock: go SHORT.\n",
       "4138                                                                                                                    $SHAK\\n\\nBurn you filthy 🐷\n",
       "4301                                                   $SHAK something is not right, this POS doesn&#39;t wanna go down...Buyout Offer is looming?\n",
       "930                                                                                              $SHAK I like to hunt my food, thank for very much"
      ]
     },
     "execution_count": 23,
     "metadata": {},
     "output_type": "execute_result"
    }
   ],
   "source": [
    "data_df.loc[data_df['entities.sentiment.basic'] == 'Bearish', 'body'].sample(10).to_frame()"
   ]
  },
  {
   "cell_type": "code",
   "execution_count": null,
   "metadata": {},
   "outputs": [],
   "source": []
  },
  {
   "cell_type": "code",
   "execution_count": 24,
   "metadata": {},
   "outputs": [
    {
     "data": {
      "text/html": [
       "<div>\n",
       "<style scoped>\n",
       "    .dataframe tbody tr th:only-of-type {\n",
       "        vertical-align: middle;\n",
       "    }\n",
       "\n",
       "    .dataframe tbody tr th {\n",
       "        vertical-align: top;\n",
       "    }\n",
       "\n",
       "    .dataframe thead th {\n",
       "        text-align: right;\n",
       "    }\n",
       "</style>\n",
       "<table border=\"1\" class=\"dataframe\">\n",
       "  <thead>\n",
       "    <tr style=\"text-align: right;\">\n",
       "      <th></th>\n",
       "      <th>body</th>\n",
       "    </tr>\n",
       "  </thead>\n",
       "  <tbody>\n",
       "    <tr>\n",
       "      <th>7057</th>\n",
       "      <td>$SHAK nice bounce up...</td>\n",
       "    </tr>\n",
       "    <tr>\n",
       "      <th>1216</th>\n",
       "      <td>$SHAK We have a clear Sky...!!</td>\n",
       "    </tr>\n",
       "    <tr>\n",
       "      <th>7223</th>\n",
       "      <td>$SHAK SHAK: You better love this name.. Marking all the ST price targets. They will happen fast N furious.\\nI have these</td>\n",
       "    </tr>\n",
       "    <tr>\n",
       "      <th>3799</th>\n",
       "      <td>bought in October $SHAK and $CMG , nearly 100% gain on shake shack!!! stay long</td>\n",
       "    </tr>\n",
       "    <tr>\n",
       "      <th>58</th>\n",
       "      <td>$SHAK lets go get back up there</td>\n",
       "    </tr>\n",
       "    <tr>\n",
       "      <th>96</th>\n",
       "      <td>$SHAK 50 soon</td>\n",
       "    </tr>\n",
       "    <tr>\n",
       "      <th>5427</th>\n",
       "      <td>$SHAK 60+ by Friday or sooner</td>\n",
       "    </tr>\n",
       "    <tr>\n",
       "      <th>5212</th>\n",
       "      <td>$CMG up $16 but only 4%. Fuvkin love my 100 shares of #CMG baaaby $CMG $YUM $MCD $SHAK $DPZ</td>\n",
       "    </tr>\n",
       "    <tr>\n",
       "      <th>2735</th>\n",
       "      <td>$SHAK This type of setup is truly what I call a no brainer (with a reasonable stop) Take em when you can get em.</td>\n",
       "    </tr>\n",
       "    <tr>\n",
       "      <th>4537</th>\n",
       "      <td>$FB Chart analysis updated. Next week $AAPL $ROKU $DBX $SHAK $MOMO $SIG $SQ $IQ $NFLX $TSLA $COUP $SPY Have a great weekend traders!</td>\n",
       "    </tr>\n",
       "  </tbody>\n",
       "</table>\n",
       "</div>"
      ],
      "text/plain": [
       "                                                                                                                                      body\n",
       "7057                                                                                                               $SHAK nice bounce up...\n",
       "1216                                                                                                        $SHAK We have a clear Sky...!!\n",
       "7223              $SHAK SHAK: You better love this name.. Marking all the ST price targets. They will happen fast N furious.\\nI have these\n",
       "3799                                                       bought in October $SHAK and $CMG , nearly 100% gain on shake shack!!! stay long\n",
       "58                                                                                                         $SHAK lets go get back up there\n",
       "96                                                                                                                           $SHAK 50 soon\n",
       "5427                                                                                                         $SHAK 60+ by Friday or sooner\n",
       "5212                                           $CMG up $16 but only 4%. Fuvkin love my 100 shares of #CMG baaaby $CMG $YUM $MCD $SHAK $DPZ\n",
       "2735                      $SHAK This type of setup is truly what I call a no brainer (with a reasonable stop) Take em when you can get em.\n",
       "4537  $FB Chart analysis updated. Next week $AAPL $ROKU $DBX $SHAK $MOMO $SIG $SQ $IQ $NFLX $TSLA $COUP $SPY Have a great weekend traders!"
      ]
     },
     "execution_count": 24,
     "metadata": {},
     "output_type": "execute_result"
    }
   ],
   "source": [
    "data_df.loc[data_df['entities.sentiment.basic'] == 'Bullish', 'body'].sample(10).to_frame()"
   ]
  },
  {
   "cell_type": "code",
   "execution_count": null,
   "metadata": {},
   "outputs": [],
   "source": []
  },
  {
   "cell_type": "markdown",
   "metadata": {},
   "source": [
    "## Summarize Stats"
   ]
  },
  {
   "cell_type": "code",
   "execution_count": 25,
   "metadata": {},
   "outputs": [],
   "source": [
    "cache_file_format = '{ticker}_{start_date}_{end_date}.pkl'"
   ]
  },
  {
   "cell_type": "code",
   "execution_count": 26,
   "metadata": {},
   "outputs": [],
   "source": [
    "data_dict = dict()"
   ]
  },
  {
   "cell_type": "code",
   "execution_count": 27,
   "metadata": {},
   "outputs": [],
   "source": [
    "for t in TICKER_LIST:\n",
    "    temp = pd.read_pickle(os.path.join(scrap_data_dir, \n",
    "                                       cache_file_format.format(ticker=t,\n",
    "                                                                start_date=start_date,\n",
    "                                                                end_date=end_date,)))\n",
    "    temp['ticker'] = t\n",
    "    data_dict[t] = temp"
   ]
  },
  {
   "cell_type": "code",
   "execution_count": 28,
   "metadata": {},
   "outputs": [],
   "source": [
    "all_df = pd.concat(data_dict.values())"
   ]
  },
  {
   "cell_type": "code",
   "execution_count": 29,
   "metadata": {},
   "outputs": [
    {
     "data": {
      "text/plain": [
       "578"
      ]
     },
     "execution_count": 29,
     "metadata": {},
     "output_type": "execute_result"
    }
   ],
   "source": [
    "n_days = all_df['date_est'].nunique()\n",
    "n_days"
   ]
  },
  {
   "cell_type": "markdown",
   "metadata": {},
   "source": [
    "Twit Count Stat"
   ]
  },
  {
   "cell_type": "code",
   "execution_count": 33,
   "metadata": {},
   "outputs": [
    {
     "data": {
      "text/html": [
       "<div>\n",
       "<style scoped>\n",
       "    .dataframe tbody tr th:only-of-type {\n",
       "        vertical-align: middle;\n",
       "    }\n",
       "\n",
       "    .dataframe tbody tr th {\n",
       "        vertical-align: top;\n",
       "    }\n",
       "\n",
       "    .dataframe thead th {\n",
       "        text-align: right;\n",
       "    }\n",
       "</style>\n",
       "<table border=\"1\" class=\"dataframe\">\n",
       "  <thead>\n",
       "    <tr style=\"text-align: right;\">\n",
       "      <th></th>\n",
       "      <th>count</th>\n",
       "      <th>count_per_day</th>\n",
       "    </tr>\n",
       "    <tr>\n",
       "      <th>ticker</th>\n",
       "      <th></th>\n",
       "      <th></th>\n",
       "    </tr>\n",
       "  </thead>\n",
       "  <tbody>\n",
       "    <tr>\n",
       "      <th>MSFT</th>\n",
       "      <td>93683</td>\n",
       "      <td>162.08</td>\n",
       "    </tr>\n",
       "    <tr>\n",
       "      <th>SBUX</th>\n",
       "      <td>29567</td>\n",
       "      <td>51.15</td>\n",
       "    </tr>\n",
       "    <tr>\n",
       "      <th>SHAK</th>\n",
       "      <td>8664</td>\n",
       "      <td>14.99</td>\n",
       "    </tr>\n",
       "    <tr>\n",
       "      <th>TSLA</th>\n",
       "      <td>634634</td>\n",
       "      <td>1097.98</td>\n",
       "    </tr>\n",
       "  </tbody>\n",
       "</table>\n",
       "</div>"
      ],
      "text/plain": [
       "         count  count_per_day\n",
       "ticker                       \n",
       "MSFT     93683         162.08\n",
       "SBUX     29567          51.15\n",
       "SHAK      8664          14.99\n",
       "TSLA    634634        1097.98"
      ]
     },
     "execution_count": 33,
     "metadata": {},
     "output_type": "execute_result"
    }
   ],
   "source": [
    "count_df = all_df.groupby('ticker')['date_est'].count().to_frame('count')\n",
    "count_df['count_per_day'] = (count_df['count'] / n_days).round(2)\n",
    "count_df"
   ]
  },
  {
   "cell_type": "code",
   "execution_count": 34,
   "metadata": {},
   "outputs": [
    {
     "data": {
      "text/html": [
       "<div>\n",
       "<style scoped>\n",
       "    .dataframe tbody tr th:only-of-type {\n",
       "        vertical-align: middle;\n",
       "    }\n",
       "\n",
       "    .dataframe tbody tr th {\n",
       "        vertical-align: top;\n",
       "    }\n",
       "\n",
       "    .dataframe thead th {\n",
       "        text-align: right;\n",
       "    }\n",
       "</style>\n",
       "<table border=\"1\" class=\"dataframe\">\n",
       "  <thead>\n",
       "    <tr style=\"text-align: right;\">\n",
       "      <th></th>\n",
       "      <th>Bearish</th>\n",
       "      <th>Bullish</th>\n",
       "      <th>total_sentiment_count</th>\n",
       "    </tr>\n",
       "    <tr>\n",
       "      <th>ticker</th>\n",
       "      <th></th>\n",
       "      <th></th>\n",
       "      <th></th>\n",
       "    </tr>\n",
       "  </thead>\n",
       "  <tbody>\n",
       "    <tr>\n",
       "      <th>MSFT</th>\n",
       "      <td>4887</td>\n",
       "      <td>30605</td>\n",
       "      <td>35492</td>\n",
       "    </tr>\n",
       "    <tr>\n",
       "      <th>SBUX</th>\n",
       "      <td>3793</td>\n",
       "      <td>5846</td>\n",
       "      <td>9639</td>\n",
       "    </tr>\n",
       "    <tr>\n",
       "      <th>SHAK</th>\n",
       "      <td>1067</td>\n",
       "      <td>1043</td>\n",
       "      <td>2110</td>\n",
       "    </tr>\n",
       "    <tr>\n",
       "      <th>TSLA</th>\n",
       "      <td>115769</td>\n",
       "      <td>213872</td>\n",
       "      <td>329641</td>\n",
       "    </tr>\n",
       "  </tbody>\n",
       "</table>\n",
       "</div>"
      ],
      "text/plain": [
       "        Bearish  Bullish  total_sentiment_count\n",
       "ticker                                         \n",
       "MSFT       4887    30605                  35492\n",
       "SBUX       3793     5846                   9639\n",
       "SHAK       1067     1043                   2110\n",
       "TSLA     115769   213872                 329641"
      ]
     },
     "execution_count": 34,
     "metadata": {},
     "output_type": "execute_result"
    }
   ],
   "source": [
    "sentiment_count_df = all_df.groupby('ticker').apply(\n",
    "    lambda x: x['entities.sentiment.basic'].value_counts(dropna=True)).reset_index()\n",
    "\n",
    "sentiment_count_df.columns = ['ticker', 'sentiment_type', 'count']\n",
    "sentiment_count_df = sentiment_count_df.pivot(\n",
    "    index='ticker', columns='sentiment_type', values=['count'])\n",
    "\n",
    "sentiment_count_df.columns = sentiment_count_df.columns.levels[1]\n",
    "sentiment_count_df.columns.name = None\n",
    "sentiment_count_df['total_sentiment_count'] = sentiment_count_df['Bearish'] + sentiment_count_df['Bullish']\n",
    "sentiment_count_df"
   ]
  },
  {
   "cell_type": "code",
   "execution_count": 35,
   "metadata": {},
   "outputs": [
    {
     "data": {
      "text/html": [
       "<div>\n",
       "<style scoped>\n",
       "    .dataframe tbody tr th:only-of-type {\n",
       "        vertical-align: middle;\n",
       "    }\n",
       "\n",
       "    .dataframe tbody tr th {\n",
       "        vertical-align: top;\n",
       "    }\n",
       "\n",
       "    .dataframe thead th {\n",
       "        text-align: right;\n",
       "    }\n",
       "</style>\n",
       "<table border=\"1\" class=\"dataframe\">\n",
       "  <thead>\n",
       "    <tr style=\"text-align: right;\">\n",
       "      <th></th>\n",
       "      <th>count</th>\n",
       "      <th>count_per_day</th>\n",
       "      <th>Bearish</th>\n",
       "      <th>Bullish</th>\n",
       "      <th>total_sentiment_count</th>\n",
       "      <th>pct_sentiment</th>\n",
       "    </tr>\n",
       "    <tr>\n",
       "      <th>ticker</th>\n",
       "      <th></th>\n",
       "      <th></th>\n",
       "      <th></th>\n",
       "      <th></th>\n",
       "      <th></th>\n",
       "      <th></th>\n",
       "    </tr>\n",
       "  </thead>\n",
       "  <tbody>\n",
       "    <tr>\n",
       "      <th>MSFT</th>\n",
       "      <td>93683</td>\n",
       "      <td>162.08</td>\n",
       "      <td>4887</td>\n",
       "      <td>30605</td>\n",
       "      <td>35492</td>\n",
       "      <td>0.378852</td>\n",
       "    </tr>\n",
       "    <tr>\n",
       "      <th>SBUX</th>\n",
       "      <td>29567</td>\n",
       "      <td>51.15</td>\n",
       "      <td>3793</td>\n",
       "      <td>5846</td>\n",
       "      <td>9639</td>\n",
       "      <td>0.326005</td>\n",
       "    </tr>\n",
       "    <tr>\n",
       "      <th>SHAK</th>\n",
       "      <td>8664</td>\n",
       "      <td>14.99</td>\n",
       "      <td>1067</td>\n",
       "      <td>1043</td>\n",
       "      <td>2110</td>\n",
       "      <td>0.243536</td>\n",
       "    </tr>\n",
       "    <tr>\n",
       "      <th>TSLA</th>\n",
       "      <td>634634</td>\n",
       "      <td>1097.98</td>\n",
       "      <td>115769</td>\n",
       "      <td>213872</td>\n",
       "      <td>329641</td>\n",
       "      <td>0.519419</td>\n",
       "    </tr>\n",
       "  </tbody>\n",
       "</table>\n",
       "</div>"
      ],
      "text/plain": [
       "         count  count_per_day  Bearish  Bullish  total_sentiment_count  \\\n",
       "ticker                                                                   \n",
       "MSFT     93683         162.08     4887    30605                  35492   \n",
       "SBUX     29567          51.15     3793     5846                   9639   \n",
       "SHAK      8664          14.99     1067     1043                   2110   \n",
       "TSLA    634634        1097.98   115769   213872                 329641   \n",
       "\n",
       "        pct_sentiment  \n",
       "ticker                 \n",
       "MSFT         0.378852  \n",
       "SBUX         0.326005  \n",
       "SHAK         0.243536  \n",
       "TSLA         0.519419  "
      ]
     },
     "execution_count": 35,
     "metadata": {},
     "output_type": "execute_result"
    }
   ],
   "source": [
    "count_df = count_df.merge(sentiment_count_df, left_index=True, right_index=True)\n",
    "count_df['pct_sentiment'] = count_df['total_sentiment_count'] / count_df['count']\n",
    "count_df"
   ]
  },
  {
   "cell_type": "code",
   "execution_count": null,
   "metadata": {},
   "outputs": [],
   "source": []
  },
  {
   "cell_type": "markdown",
   "metadata": {},
   "source": [
    "### Investigate Hyperlinks"
   ]
  },
  {
   "cell_type": "code",
   "execution_count": 39,
   "metadata": {},
   "outputs": [],
   "source": [
    "pd.set_option('display.max_colwidth', 500)"
   ]
  },
  {
   "cell_type": "code",
   "execution_count": 49,
   "metadata": {},
   "outputs": [],
   "source": [
    "def extract_link_info(row):\n",
    "    temp = row['links'][0]\n",
    "    return pd.Series(temp)"
   ]
  },
  {
   "cell_type": "code",
   "execution_count": 55,
   "metadata": {},
   "outputs": [],
   "source": [
    "link_df = all_df.dropna(subset=['links'])[['body', 'links']].sample(3)"
   ]
  },
  {
   "cell_type": "code",
   "execution_count": 56,
   "metadata": {},
   "outputs": [
    {
     "data": {
      "text/html": [
       "<div>\n",
       "<style scoped>\n",
       "    .dataframe tbody tr th:only-of-type {\n",
       "        vertical-align: middle;\n",
       "    }\n",
       "\n",
       "    .dataframe tbody tr th {\n",
       "        vertical-align: top;\n",
       "    }\n",
       "\n",
       "    .dataframe thead th {\n",
       "        text-align: right;\n",
       "    }\n",
       "</style>\n",
       "<table border=\"1\" class=\"dataframe\">\n",
       "  <thead>\n",
       "    <tr style=\"text-align: right;\">\n",
       "      <th></th>\n",
       "      <th>body</th>\n",
       "      <th>title</th>\n",
       "      <th>url</th>\n",
       "      <th>description</th>\n",
       "    </tr>\n",
       "  </thead>\n",
       "  <tbody>\n",
       "    <tr>\n",
       "      <th>245559</th>\n",
       "      <td>$TSLA watch it &amp;amp; weep, bears https://www.youtube.com/watch?v=pAS-yjWj9DY</td>\n",
       "      <td>Munro Teardown Shows Tesla Model 3 Solidly Profitable</td>\n",
       "      <td>https://www.youtube.com/watch?v=pAS-yjWj9DY</td>\n",
       "      <td>Munro &amp; Associates finished its teardown and analysis of the Tesla Model 3, and the results are startling. Sandy Munro, the president of the company, says his first impressions of the car kind of misled him, and that now he has to eat crow. It's all got to do with the potential profitability of the car.</td>\n",
       "    </tr>\n",
       "    <tr>\n",
       "      <th>13053</th>\n",
       "      <td>$TSLA estimates distribution - here’s what 268 Estimize analysts are expecting $TSLA to report for Q4 [Reporting 02/07 AMC]\\nhttp://www.estimize.com/intro/tsla?chart=scatter-plot&amp;amp;amp;metric_name=eps&amp;amp;amp;utm_content=TSLA&amp;amp;amp;utm_medium=distribution&amp;amp;amp;utm_source=stocktwits</td>\n",
       "      <td>TSLA - Tesla Inc. Crowdsourced Earnings Estimates - Estimize</td>\n",
       "      <td>http://www.estimize.com/intro/tsla?chart=scatter-plot&amp;amp;metric_name=eps&amp;amp;utm_content=TSLA&amp;amp;utm_medium=distribution&amp;amp;utm_source=stocktwits</td>\n",
       "      <td>Earnings estimates for TSLA from thousands of professional and amateur analysts who contribute to a open, crowdsourced estimate data set.</td>\n",
       "    </tr>\n",
       "    <tr>\n",
       "      <th>76075</th>\n",
       "      <td>$MSFT closes within previous day&amp;#39;s range after lackluster session: https://techniquant.com/reports/stock-msft-daily-technical-analysis-report-for-2019-04-29/</td>\n",
       "      <td>MSFT closes within previous day's range after lackluster session</td>\n",
       "      <td>https://techniquant.com/reports/stock-msft-daily-technical-analysis-report-for-2019-04-29/</td>\n",
       "      <td>Highlights Overview MSFT ended Monday at 129.77 losing $0.12 (-0.09%) on low volume, slightly underperforming the Nasdaq 100 (0.16%). Closing within the prior day's range, prices failed to decisively move beyond the previous day's trading range in a lackluster session.</td>\n",
       "    </tr>\n",
       "  </tbody>\n",
       "</table>\n",
       "</div>"
      ],
      "text/plain": [
       "                                                                                                                                                                                                                                                                                                     body  \\\n",
       "245559                                                                                                                                                                                                                       $TSLA watch it &amp; weep, bears https://www.youtube.com/watch?v=pAS-yjWj9DY   \n",
       "13053   $TSLA estimates distribution - here’s what 268 Estimize analysts are expecting $TSLA to report for Q4 [Reporting 02/07 AMC]\\nhttp://www.estimize.com/intro/tsla?chart=scatter-plot&amp;amp;metric_name=eps&amp;amp;utm_content=TSLA&amp;amp;utm_medium=distribution&amp;amp;utm_source=stocktwits   \n",
       "76075                                                                                                                                   $MSFT closes within previous day&#39;s range after lackluster session: https://techniquant.com/reports/stock-msft-daily-technical-analysis-report-for-2019-04-29/   \n",
       "\n",
       "                                                                   title  \\\n",
       "245559             Munro Teardown Shows Tesla Model 3 Solidly Profitable   \n",
       "13053       TSLA - Tesla Inc. Crowdsourced Earnings Estimates - Estimize   \n",
       "76075   MSFT closes within previous day's range after lackluster session   \n",
       "\n",
       "                                                                                                                                                         url  \\\n",
       "245559                                                                                                           https://www.youtube.com/watch?v=pAS-yjWj9DY   \n",
       "13053   http://www.estimize.com/intro/tsla?chart=scatter-plot&amp;metric_name=eps&amp;utm_content=TSLA&amp;utm_medium=distribution&amp;utm_source=stocktwits   \n",
       "76075                                                             https://techniquant.com/reports/stock-msft-daily-technical-analysis-report-for-2019-04-29/   \n",
       "\n",
       "                                                                                                                                                                                                                                                                                                             description  \n",
       "245559  Munro & Associates finished its teardown and analysis of the Tesla Model 3, and the results are startling. Sandy Munro, the president of the company, says his first impressions of the car kind of misled him, and that now he has to eat crow. It's all got to do with the potential profitability of the car.  \n",
       "13053                                                                                                                                                                          Earnings estimates for TSLA from thousands of professional and amateur analysts who contribute to a open, crowdsourced estimate data set.  \n",
       "76075                                      Highlights Overview MSFT ended Monday at 129.77 losing $0.12 (-0.09%) on low volume, slightly underperforming the Nasdaq 100 (0.16%). Closing within the prior day's range, prices failed to decisively move beyond the previous day's trading range in a lackluster session.  "
      ]
     },
     "execution_count": 56,
     "metadata": {},
     "output_type": "execute_result"
    }
   ],
   "source": [
    "link_df.assign(**link_df.apply(extract_link_info, axis=1))[['body', 'title', 'url', 'description']]"
   ]
  },
  {
   "cell_type": "code",
   "execution_count": null,
   "metadata": {},
   "outputs": [],
   "source": []
  },
  {
   "cell_type": "markdown",
   "metadata": {},
   "source": [
    "#### Look at Labeled Samples"
   ]
  },
  {
   "cell_type": "code",
   "execution_count": 77,
   "metadata": {},
   "outputs": [],
   "source": [
    "N_SAMPLES = 4"
   ]
  },
  {
   "cell_type": "code",
   "execution_count": 78,
   "metadata": {},
   "outputs": [],
   "source": [
    "bullish_dfs = []\n",
    "bearish_dfs = []"
   ]
  },
  {
   "cell_type": "code",
   "execution_count": 79,
   "metadata": {},
   "outputs": [],
   "source": [
    "all_bullish_df = all_df[all_df['entities.sentiment.basic'] == 'Bullish']\n",
    "all_bearish_df = all_df[all_df['entities.sentiment.basic'] == 'Bearish']"
   ]
  },
  {
   "cell_type": "code",
   "execution_count": 80,
   "metadata": {},
   "outputs": [],
   "source": [
    "for _, df in all_bullish_df.groupby('ticker'):\n",
    "    bullish_dfs.append(df[['body', 'ticker', 'entities.sentiment.basic']].sample(N_SAMPLES))\n",
    "    \n",
    "for _, df in all_bearish_df.groupby('ticker'):\n",
    "    bearish_dfs.append(df[['body', 'ticker', 'entities.sentiment.basic']].sample(N_SAMPLES))"
   ]
  },
  {
   "cell_type": "code",
   "execution_count": 81,
   "metadata": {},
   "outputs": [],
   "source": [
    "bullish_df = pd.concat(bullish_dfs)\n",
    "bearish_df = pd.concat(bearish_dfs)"
   ]
  },
  {
   "cell_type": "code",
   "execution_count": 83,
   "metadata": {},
   "outputs": [
    {
     "data": {
      "text/html": [
       "<div>\n",
       "<style scoped>\n",
       "    .dataframe tbody tr th:only-of-type {\n",
       "        vertical-align: middle;\n",
       "    }\n",
       "\n",
       "    .dataframe tbody tr th {\n",
       "        vertical-align: top;\n",
       "    }\n",
       "\n",
       "    .dataframe thead th {\n",
       "        text-align: right;\n",
       "    }\n",
       "</style>\n",
       "<table border=\"1\" class=\"dataframe\">\n",
       "  <thead>\n",
       "    <tr style=\"text-align: right;\">\n",
       "      <th></th>\n",
       "      <th>body</th>\n",
       "      <th>ticker</th>\n",
       "      <th>entities.sentiment.basic</th>\n",
       "    </tr>\n",
       "  </thead>\n",
       "  <tbody>\n",
       "    <tr>\n",
       "      <th>91007</th>\n",
       "      <td>$MSFT make 137.23 great again.</td>\n",
       "      <td>MSFT</td>\n",
       "      <td>Bearish</td>\n",
       "    </tr>\n",
       "    <tr>\n",
       "      <th>29664</th>\n",
       "      <td>$MSFT sell off by end of the day</td>\n",
       "      <td>MSFT</td>\n",
       "      <td>Bearish</td>\n",
       "    </tr>\n",
       "    <tr>\n",
       "      <th>88703</th>\n",
       "      <td>$SPY bad $MSFT earnings AH destroys this market</td>\n",
       "      <td>MSFT</td>\n",
       "      <td>Bearish</td>\n",
       "    </tr>\n",
       "    <tr>\n",
       "      <th>77265</th>\n",
       "      <td>$MSFT probabily go back up , but I think it was fallen for the privacy politicy of $AAPL in Europe</td>\n",
       "      <td>MSFT</td>\n",
       "      <td>Bearish</td>\n",
       "    </tr>\n",
       "    <tr>\n",
       "      <th>14617</th>\n",
       "      <td>$SBUX 7% Social media sales and 20000 new page action app signups without depositing funds for september is pathetic</td>\n",
       "      <td>SBUX</td>\n",
       "      <td>Bearish</td>\n",
       "    </tr>\n",
       "    <tr>\n",
       "      <th>8736</th>\n",
       "      <td>$SBUX Down she goes!</td>\n",
       "      <td>SBUX</td>\n",
       "      <td>Bearish</td>\n",
       "    </tr>\n",
       "    <tr>\n",
       "      <th>10706</th>\n",
       "      <td>$SBUX 150+ stores closing, mngt is leaving and lowered ER.</td>\n",
       "      <td>SBUX</td>\n",
       "      <td>Bearish</td>\n",
       "    </tr>\n",
       "    <tr>\n",
       "      <th>16669</th>\n",
       "      <td>$SBUX https://www.wsj.com/articles/starbucks-to-lay-off-5-of-corporate-workforce-1542130200</td>\n",
       "      <td>SBUX</td>\n",
       "      <td>Bearish</td>\n",
       "    </tr>\n",
       "    <tr>\n",
       "      <th>7528</th>\n",
       "      <td>$SHAK trading at a steeper valuation with much worse margins and same store growth. $CMG may be overvalued but that growth was impressive</td>\n",
       "      <td>SHAK</td>\n",
       "      <td>Bearish</td>\n",
       "    </tr>\n",
       "    <tr>\n",
       "      <th>6512</th>\n",
       "      <td>Now short some $SHAK at 45 via callaways. Rolled up next week&amp;#39;s strike-41 short puts, taking gains, to 43½ for 38¢ credit.</td>\n",
       "      <td>SHAK</td>\n",
       "      <td>Bearish</td>\n",
       "    </tr>\n",
       "    <tr>\n",
       "      <th>3035</th>\n",
       "      <td>$SHAK vwap 58.67  -59.12</td>\n",
       "      <td>SHAK</td>\n",
       "      <td>Bearish</td>\n",
       "    </tr>\n",
       "    <tr>\n",
       "      <th>6918</th>\n",
       "      <td>$SHAK finds buyers at key support level: https://techniquant.com/reports/stock-shak-daily-technical-analysis-report-for-2019-02-25/</td>\n",
       "      <td>SHAK</td>\n",
       "      <td>Bearish</td>\n",
       "    </tr>\n",
       "    <tr>\n",
       "      <th>443637</th>\n",
       "      <td>@Retro807 $TSLA my guess is they haven&amp;#39;t reached that stage yet, but we will find out more if they dont make profit for a couple quarters.</td>\n",
       "      <td>TSLA</td>\n",
       "      <td>Bearish</td>\n",
       "    </tr>\n",
       "    <tr>\n",
       "      <th>524362</th>\n",
       "      <td>$TSLA how anyone would be long this week is LUNACY</td>\n",
       "      <td>TSLA</td>\n",
       "      <td>Bearish</td>\n",
       "    </tr>\n",
       "    <tr>\n",
       "      <th>200179</th>\n",
       "      <td>$TSLA I’m sure the other billionaires will start a go fund me for him</td>\n",
       "      <td>TSLA</td>\n",
       "      <td>Bearish</td>\n",
       "    </tr>\n",
       "    <tr>\n",
       "      <th>529698</th>\n",
       "      <td>$TSLA $NIO $SPY  this deserves another post</td>\n",
       "      <td>TSLA</td>\n",
       "      <td>Bearish</td>\n",
       "    </tr>\n",
       "  </tbody>\n",
       "</table>\n",
       "</div>"
      ],
      "text/plain": [
       "                                                                                                                                                  body  \\\n",
       "91007                                                                                                                   $MSFT make 137.23 great again.   \n",
       "29664                                                                                                                 $MSFT sell off by end of the day   \n",
       "88703                                                                                                  $SPY bad $MSFT earnings AH destroys this market   \n",
       "77265                                               $MSFT probabily go back up , but I think it was fallen for the privacy politicy of $AAPL in Europe   \n",
       "14617                             $SBUX 7% Social media sales and 20000 new page action app signups without depositing funds for september is pathetic   \n",
       "8736                                                                                                                              $SBUX Down she goes!   \n",
       "10706                                                                                       $SBUX 150+ stores closing, mngt is leaving and lowered ER.   \n",
       "16669                                                      $SBUX https://www.wsj.com/articles/starbucks-to-lay-off-5-of-corporate-workforce-1542130200   \n",
       "7528         $SHAK trading at a steeper valuation with much worse margins and same store growth. $CMG may be overvalued but that growth was impressive   \n",
       "6512                    Now short some $SHAK at 45 via callaways. Rolled up next week&#39;s strike-41 short puts, taking gains, to 43½ for 38¢ credit.   \n",
       "3035                                                                                                                          $SHAK vwap 58.67  -59.12   \n",
       "6918               $SHAK finds buyers at key support level: https://techniquant.com/reports/stock-shak-daily-technical-analysis-report-for-2019-02-25/   \n",
       "443637  @Retro807 $TSLA my guess is they haven&#39;t reached that stage yet, but we will find out more if they dont make profit for a couple quarters.   \n",
       "524362                                                                                              $TSLA how anyone would be long this week is LUNACY   \n",
       "200179                                                                           $TSLA I’m sure the other billionaires will start a go fund me for him   \n",
       "529698                                                                                                     $TSLA $NIO $SPY  this deserves another post   \n",
       "\n",
       "       ticker entities.sentiment.basic  \n",
       "91007    MSFT                  Bearish  \n",
       "29664    MSFT                  Bearish  \n",
       "88703    MSFT                  Bearish  \n",
       "77265    MSFT                  Bearish  \n",
       "14617    SBUX                  Bearish  \n",
       "8736     SBUX                  Bearish  \n",
       "10706    SBUX                  Bearish  \n",
       "16669    SBUX                  Bearish  \n",
       "7528     SHAK                  Bearish  \n",
       "6512     SHAK                  Bearish  \n",
       "3035     SHAK                  Bearish  \n",
       "6918     SHAK                  Bearish  \n",
       "443637   TSLA                  Bearish  \n",
       "524362   TSLA                  Bearish  \n",
       "200179   TSLA                  Bearish  \n",
       "529698   TSLA                  Bearish  "
      ]
     },
     "execution_count": 83,
     "metadata": {},
     "output_type": "execute_result"
    }
   ],
   "source": [
    "bearish_df"
   ]
  },
  {
   "cell_type": "code",
   "execution_count": null,
   "metadata": {},
   "outputs": [],
   "source": []
  },
  {
   "cell_type": "markdown",
   "metadata": {},
   "source": [
    "#### Bullish / Bearish Counts"
   ]
  },
  {
   "cell_type": "code",
   "execution_count": 164,
   "metadata": {},
   "outputs": [],
   "source": [
    "import matplotlib.dates as md\n",
    "from matplotlib.dates import date2num"
   ]
  },
  {
   "cell_type": "code",
   "execution_count": 184,
   "metadata": {},
   "outputs": [],
   "source": [
    "STOCK_DATA_DIR = '/Users/seung-jae_bang/Personal/Research/Stock_Sentiment/data/AlphaVantage/scrap'"
   ]
  },
  {
   "cell_type": "code",
   "execution_count": 229,
   "metadata": {},
   "outputs": [],
   "source": [
    "ticker = 'MSFT'"
   ]
  },
  {
   "cell_type": "code",
   "execution_count": 230,
   "metadata": {},
   "outputs": [],
   "source": [
    "stock_df = pd.read_pickle(os.path.join(STOCK_DATA_DIR,\n",
    "                                       'stock_price_{}.pkl'.format(ticker)))"
   ]
  },
  {
   "cell_type": "code",
   "execution_count": 231,
   "metadata": {},
   "outputs": [],
   "source": [
    "stock_df = stock_df.loc['2018-01-01':'2019-08-10', ['close']]"
   ]
  },
  {
   "cell_type": "code",
   "execution_count": 232,
   "metadata": {},
   "outputs": [],
   "source": [
    "shak_df = pd.read_pickle(os.path.join(scrap_data_dir, \n",
    "                                      cache_file_format.format(ticker=ticker,\n",
    "                                                               start_date=start_date,\n",
    "                                                               end_date=end_date,)))\n",
    "\n",
    "shak_df['date_est'] = pd.to_datetime(shak_df['date_est'])\n",
    "shak_df = shak_df.dropna(subset=['entities.sentiment.basic'])"
   ]
  },
  {
   "cell_type": "code",
   "execution_count": 233,
   "metadata": {},
   "outputs": [],
   "source": [
    "shak_df = shak_df.groupby('date_est').apply(\n",
    "    lambda d: d['entities.sentiment.basic'].value_counts()).to_frame('count').reset_index()"
   ]
  },
  {
   "cell_type": "code",
   "execution_count": 234,
   "metadata": {},
   "outputs": [],
   "source": [
    "shak_df = shak_df.pivot(index='date_est', columns='level_1', values='count').fillna(0)"
   ]
  },
  {
   "cell_type": "code",
   "execution_count": 235,
   "metadata": {},
   "outputs": [],
   "source": [
    "shak_df['Bearish'] = shak_df['Bearish'].astype(int)\n",
    "shak_df['Bullish'] = shak_df['Bullish'].astype(int)\n",
    "\n",
    "shak_df = shak_df.sort_index()"
   ]
  },
  {
   "cell_type": "code",
   "execution_count": 236,
   "metadata": {},
   "outputs": [],
   "source": [
    "shak_weely_df = shak_df.resample('W-FRI').sum()"
   ]
  },
  {
   "cell_type": "code",
   "execution_count": 237,
   "metadata": {},
   "outputs": [],
   "source": [
    "num_dates = date2num(shak_weely_df.index)"
   ]
  },
  {
   "cell_type": "code",
   "execution_count": null,
   "metadata": {},
   "outputs": [],
   "source": []
  },
  {
   "cell_type": "code",
   "execution_count": 238,
   "metadata": {},
   "outputs": [
    {
     "name": "stderr",
     "output_type": "stream",
     "text": [
      "/Users/seung-jae_bang/.virtualenvs/my_research/lib/python3.6/site-packages/matplotlib/legend.py:1270: UserWarning: You have mixed positional and keyword arguments, some input may be discarded.\n",
      "  warnings.warn(\"You have mixed positional and keyword arguments, some \"\n"
     ]
    },
    {
     "data": {
      "image/png": "[encoded data removed]",
      "text/plain": [
       "<Figure size 1008x504 with 2 Axes>"
      ]
     },
     "metadata": {
      "needs_background": "light"
     },
     "output_type": "display_data"
    }
   ],
   "source": [
    "myFmt = md.DateFormatter('%Y-%m-%d')\n",
    "\n",
    "fig, ax = plt.subplots(figsize=(14, 7))\n",
    "# shak_weely_df.plot(kind='bar', ax=ax)\n",
    "b1 = ax.bar(num_dates - 2, shak_weely_df['Bullish'], label='bullish', color='g', width=2, align='center')\n",
    "b2 = ax.bar(num_dates, shak_weely_df['Bearish'], label='bearish', color='orange', width=2, align='center')\n",
    "\n",
    "# Set major x ticks on Mondays.\n",
    "ax.xaxis.set_major_locator(\n",
    "#     matplotlib.dates.WeekdayLocator(byweekday=matplotlib.dates.MO)\n",
    "    matplotlib.dates.MonthLocator()\n",
    ")\n",
    "ax.xaxis.set_major_formatter(myFmt)\n",
    "ax.xaxis.set_tick_params(rotation=45)\n",
    "\n",
    "ax2 = ax.twinx()\n",
    "l1 = ax2.plot(stock_df.index, stock_df['close'], linewidth=0.7, linestyle='--')\n",
    "\n",
    "ax.legend('upper right', handles=[b1, b2])\n",
    "plt.title('Weekly Bullish / Bearish Twit Counts for {}'.format(ticker))\n",
    "plt.show()"
   ]
  },
  {
   "cell_type": "code",
   "execution_count": 239,
   "metadata": {},
   "outputs": [
    {
     "data": {
      "text/plain": [
       "<matplotlib.axes._subplots.AxesSubplot at 0x18dde0eb8>"
      ]
     },
     "execution_count": 239,
     "metadata": {},
     "output_type": "execute_result"
    },
    {
     "data": {
      "image/png": "[encoded data removed]",
      "text/plain": [
       "<Figure size 1008x504 with 1 Axes>"
      ]
     },
     "metadata": {
      "needs_background": "light"
     },
     "output_type": "display_data"
    }
   ],
   "source": [
    "myFmt = md.DateFormatter('%Y-%m-%d')\n",
    "\n",
    "fig, ax = plt.subplots(figsize=(14, 7))\n",
    "shak_weely_df.plot(kind='bar', ax=ax)"
   ]
  },
  {
   "cell_type": "code",
   "execution_count": 145,
   "metadata": {},
   "outputs": [
    {
     "data": {
      "text/plain": [
       "<matplotlib.ticker.FixedFormatter at 0x16e834160>"
      ]
     },
     "execution_count": 145,
     "metadata": {},
     "output_type": "execute_result"
    }
   ],
   "source": [
    "ax.xaxis.get_major_formatter()"
   ]
  },
  {
   "cell_type": "code",
   "execution_count": 142,
   "metadata": {},
   "outputs": [
    {
     "data": {
      "text/plain": [
       "<matplotlib.axes._subplots.AxesSubplot at 0x1928d97b8>"
      ]
     },
     "execution_count": 142,
     "metadata": {},
     "output_type": "execute_result"
    },
    {
     "data": {
      "image/png": "[encoded data removed]",
      "text/plain": [
       "<Figure size 432x288 with 1 Axes>"
      ]
     },
     "metadata": {
      "needs_background": "light"
     },
     "output_type": "display_data"
    }
   ],
   "source": [
    "shak_weely_df.plot(kind='bar')"
   ]
  },
  {
   "cell_type": "code",
   "execution_count": null,
   "metadata": {},
   "outputs": [],
   "source": []
  }
 ],
 "metadata": {
  "kernelspec": {
   "display_name": "Python 3",
   "language": "python",
   "name": "python3"
  },
  "language_info": {
   "codemirror_mode": {
    "name": "ipython",
    "version": 3
   },
   "file_extension": ".py",
   "mimetype": "text/x-python",
   "name": "python",
   "nbconvert_exporter": "python",
   "pygments_lexer": "ipython3",
   "version": "3.6.5"
  }
 },
 "nbformat": 4,
 "nbformat_minor": 2
}
