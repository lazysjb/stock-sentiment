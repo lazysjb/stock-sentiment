{
 "cells": [
  {
   "cell_type": "code",
   "execution_count": 12,
   "metadata": {},
   "outputs": [],
   "source": [
    "import GetOldTweets3 as got\n",
    "import pandas as pd\n",
    "import json\n",
    "import pytz\n",
    "import arrow\n",
    "import os\n",
    "from tqdm import tqdm"
   ]
  },
  {
   "cell_type": "code",
   "execution_count": 13,
   "metadata": {},
   "outputs": [],
   "source": [
    "# start_date = '2014-01-01'\n",
    "\n",
    "start_date = '2019-05-12'\n",
    "end_date = '2019-05-13'"
   ]
  },
  {
   "cell_type": "code",
   "execution_count": 14,
   "metadata": {},
   "outputs": [],
   "source": [
    "def save_tweets_for_query_and_date(query,\n",
    "                                   date_str):\n",
    "    tweets = get_tweets_for_query_and_date(query, date_str)\n",
    "    \n",
    "    parsed_result = []\n",
    "\n",
    "    for tweet in tweets:\n",
    "        parsed_result.append(parse_tweet_object(tweet))\n",
    "    \n",
    "    out_path = os.path.join('../../../../data', \n",
    "                            'tweets_{}_{}.json'.format(date_str, query))\n",
    "    \n",
    "    print('Saving output to {}'.format(out_path))\n",
    "    \n",
    "    with open(out_path, 'w') as f:\n",
    "        json.dump(parsed_result, f, indent=4)"
   ]
  },
  {
   "cell_type": "code",
   "execution_count": 15,
   "metadata": {},
   "outputs": [],
   "source": [
    "def get_tweets_for_query_and_date(query,\n",
    "                                  date_str):\n",
    "    \n",
    "    next_date = arrow.get(date_str).shift(days=1).strftime('%Y-%m-%d')\n",
    "    \n",
    "    tweetCriteria = got.manager.TweetCriteria().setQuerySearch(query)\\\n",
    "                                               .setSince(date_str)\\\n",
    "                                               .setUntil(next_date)#\\\n",
    "    #                                            .setMaxTweets(100)\n",
    "    tweets = got.manager.TweetManager.getTweets(tweetCriteria)\n",
    "    return tweets"
   ]
  },
  {
   "cell_type": "code",
   "execution_count": 16,
   "metadata": {},
   "outputs": [],
   "source": [
    "TAGS = [\n",
    "    'author_id',\n",
    "    'date',\n",
    "    'favorites',\n",
    "#     'formatted_date',\n",
    "    'geo',\n",
    "    'hashtags',\n",
    "    'id',\n",
    "    'mentions',\n",
    "    'permalink',\n",
    "    'replies',\n",
    "    'retweets',\n",
    "    'text',\n",
    "    'to',\n",
    "    'urls',\n",
    "    'username'\n",
    "]"
   ]
  },
  {
   "cell_type": "code",
   "execution_count": 17,
   "metadata": {},
   "outputs": [],
   "source": [
    "def _format_date_to_str(datetime_object):\n",
    "    # Lets keep it as UTC\n",
    "    \n",
    "    \n",
    "#     date_str = datetime_object.astimezone(\n",
    "#         pytz.timezone('US/Eastern')).strftime('%Y-%m-%d, %H:%M')\n",
    "    date_str = datetime_object.strftime('%Y-%m-%d, %H:%M')\n",
    "    return date_str\n",
    "\n",
    "def parse_tweet_object(tweet_object):\n",
    "    parsed = dict()\n",
    "    \n",
    "    for tag in TAGS:\n",
    "        tag_value = getattr(tweet_object, tag)\n",
    "        \n",
    "        if tag == 'date':\n",
    "            tag_value = _format_date_to_str(tag_value)\n",
    "            \n",
    "        if tag == 'date':\n",
    "            parsed['UTC_date'] = tag_value\n",
    "        else: \n",
    "            parsed[tag] = tag_value\n",
    "    \n",
    "    return parsed"
   ]
  },
  {
   "cell_type": "code",
   "execution_count": 18,
   "metadata": {},
   "outputs": [
    {
     "name": "stderr",
     "output_type": "stream",
     "text": [
      " 50%|█████     | 1/2 [00:34<00:34, 34.38s/it]"
     ]
    },
    {
     "name": "stdout",
     "output_type": "stream",
     "text": [
      "Saving output to ../../../../data/tweets_2019-05-12_$TSLA.json\n"
     ]
    },
    {
     "name": "stderr",
     "output_type": "stream",
     "text": [
      "100%|██████████| 2/2 [01:59<00:00, 49.63s/it]"
     ]
    },
    {
     "name": "stdout",
     "output_type": "stream",
     "text": [
      "Saving output to ../../../../data/tweets_2019-05-13_$TSLA.json\n"
     ]
    },
    {
     "name": "stderr",
     "output_type": "stream",
     "text": [
      "\n"
     ]
    }
   ],
   "source": [
    "for date in tqdm(pd.date_range(start_date, end_date)):\n",
    "    save_tweets_for_query_and_date('$TSLA', date.strftime('%Y-%m-%d'))"
   ]
  },
  {
   "cell_type": "code",
   "execution_count": null,
   "metadata": {},
   "outputs": [],
   "source": [
    "# result = pd.DataFrame(parsed_result)"
   ]
  },
  {
   "cell_type": "code",
   "execution_count": null,
   "metadata": {},
   "outputs": [],
   "source": [
    "# result['date']"
   ]
  },
  {
   "cell_type": "code",
   "execution_count": null,
   "metadata": {},
   "outputs": [],
   "source": [
    "# pd.to_datetime(result['UTC_date']).max()"
   ]
  },
  {
   "cell_type": "code",
   "execution_count": null,
   "metadata": {},
   "outputs": [],
   "source": []
  }
 ],
 "metadata": {
  "kernelspec": {
   "display_name": "Python 3",
   "language": "python",
   "name": "python3"
  },
  "language_info": {
   "codemirror_mode": {
    "name": "ipython",
    "version": 3
   },
   "file_extension": ".py",
   "mimetype": "text/x-python",
   "name": "python",
   "nbconvert_exporter": "python",
   "pygments_lexer": "ipython3",
   "version": "3.6.5"
  }
 },
 "nbformat": 4,
 "nbformat_minor": 2
}
