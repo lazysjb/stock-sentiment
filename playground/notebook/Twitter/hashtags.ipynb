{
 "cells": [
  {
   "cell_type": "code",
   "execution_count": 14,
   "metadata": {},
   "outputs": [],
   "source": [
    "import pandas as pd\n",
    "import itertools\n",
    "import numpy as np"
   ]
  },
  {
   "cell_type": "code",
   "execution_count": 24,
   "metadata": {},
   "outputs": [],
   "source": [
    "sample_tweet_df = pd.read_json('../../../../data/tweets_2019-05-13_$TSLA.json', \n",
    "                               dtype=False)"
   ]
  },
  {
   "cell_type": "code",
   "execution_count": 25,
   "metadata": {},
   "outputs": [],
   "source": [
    "uniq_hashtags = np.unique(list(itertools.chain.from_iterable(\n",
    "    sample_tweet_df['hashtags'].str.split().tolist())))"
   ]
  },
  {
   "cell_type": "code",
   "execution_count": 26,
   "metadata": {},
   "outputs": [
    {
     "data": {
      "text/plain": [
       "array(['#', '#1', '#15796ec146fe', '#15ORB', '#1Ahttps', '#21700cell',\n",
       "       '#227', '#30ORB', '#401kOnMarginhttps', '#5G', '#60ANCHOR',\n",
       "       '#7cb4a15354ce', '#ACT', '#AI', '#AISuperPowerspic', '#AR',\n",
       "       '#ARYC', '#Afternoon', '#Analytic', '#Apple', '#Audi',\n",
       "       '#Automation', '#Automotive', '#AutonomousVehicleshttps',\n",
       "       '#Autopilot', '#Avengers', '#BIGMONEY', '#BMW', '#BOD', '#BREXIT',\n",
       "       '#BakerSchedule', '#Batteries', '#Battery', '#Bigdata',\n",
       "       '#Billions', '#Bircoin', '#Bitcoin', '#Blockchain',\n",
       "       '#BloombergModel3BuildTracker', '#Boardwhores', '#Bond', '#Bot',\n",
       "       '#Bullishpic', '#BusinessModel', '#CAC40', '#CEO', '#CEOcult',\n",
       "       '#CHINA', '#CNBC', '#CSE', '#CX', '#California',\n",
       "       '#CassockTentingIsTheOnlyGoodTent', '#Charging', '#Chatbot',\n",
       "       '#China', '#Chinahttps', '#Chinese', '#Copper', '#Crude',\n",
       "       '#Crypto', '#Cult', '#DJIA', '#Data', '#DayTrading', '#Daytrader',\n",
       "       '#Daytrading', '#Defamation', '#DonaldtheDuck', '#DumDum',\n",
       "       '#DumDums', '#EMHiveMind', '#ES', '#ES_F', '#EV', '#EVpic', '#EVs',\n",
       "       '#EVshttps', '#EatYourVegetablespic', '#ElectricCar',\n",
       "       '#ElectricFueledVehicle', '#ElectricVehicle', '#ElectricVehicles',\n",
       "       '#ElectricVehicleshttps', '#Elliottwave', '#ElonMusk', '#Eminis',\n",
       "       '#Energy', '#Enron', '#Equities', '#Ethereum',\n",
       "       '#ExplainBabyCharts', '#FAANG', '#FAANGpic', '#FAKENEWS', '#FSD',\n",
       "       '#FTSE', '#Facebook', '#FakeNewshttp', '#FakeTradingFloor',\n",
       "       '#FinTech', '#FinTwit', '#Finserv', '#Fintech',\n",
       "       '#FirstAmendmenthttps', '#ForcedAccountability', '#Ford',\n",
       "       '#FraudFormula', '#FraudWatch', '#Fraudhttps',\n",
       "       '#FuelCostAdvantageSecuredhttps', '#Fund2Baggy', '#FundingSecured',\n",
       "       '#Futures', '#GEMRoyalty', '#GF3pic', '#GM', '#GamePlan',\n",
       "       '#German', '#Gigafactory3', '#Gilt', '#GoT', '#GodsOfFrauds',\n",
       "       '#Gold', '#GotPuts', '#Green', '#GreenEnergy',\n",
       "       '#HappyMothersDaypic', '#Healthcare', '#Hyundai',\n",
       "       '#IStillLoveMyTesla', '#IT', '#Infrastructure', '#Insurtech',\n",
       "       '#Investing', '#LIZJNY', '#Last', '#Lithium', '#LowOS', '#Lyft',\n",
       "       '#ML', '#MMT', '#MONEYGANG', '#MachineLearning', '#Marijuana',\n",
       "       '#MedicalDevice', '#Metals', '#Mindthegap', '#Mnuchinhttps',\n",
       "       '#Model3', '#Model3pic', '#ModelX', '#Motors', '#NASDAQ',\n",
       "       '#NASDAQpic', '#NIO', '#NQ', '#NQ_F', '#NYSE', '#NeuroticNethttps',\n",
       "       '#Newshttps', '#OOTT', '#OTCBB', '#OTCQB', '#OperationFund2Baggy',\n",
       "       '#OptionBlock', '#Options', '#OptionsTrading', '#Performance',\n",
       "       '#PleaseDonate', '#Profit', '#PropFirm', '#RARE',\n",
       "       '#RacetoZerohttps', '#RampUpTradingpic', '#Renewables',\n",
       "       '#RoboTaxi', '#Robotaxi', '#Robotics', '#Royalty', '#SALE', '#SEC',\n",
       "       '#SGFREPORT', '#SIMPLYAMAZING', '#SP500', '#SPX500', '#SQ',\n",
       "       '#Samsung', '#SharesInFocus', '#SiliconValley', '#SmartGrids',\n",
       "       '#SoftwareCompany', '#Solar', '#SolarShitty', '#SolarSunset',\n",
       "       '#Sony', '#SpaceX', '#SpaceXpic', '#StephenHawking',\n",
       "       '#StockMarket', '#StockNews', '#StockPicking', '#Stocks',\n",
       "       '#Sunnyvale', '#TESLA', '#TESLAhttps', '#THESTREET', '#TRADING',\n",
       "       '#TRICKTRADES', '#TRMX', '#TSLA', '#TSLALEMMINGhttps', '#TSLAQ',\n",
       "       '#TSLAQpic', '#Tariff', '#TariffMan', '#TariffsHurt', '#Tarrif',\n",
       "       '#Tea', '#Tech', '#Tesla', '#TeslaAutoPilotIssues',\n",
       "       '#TeslaAutoPilotIssueshttps', '#TeslaChina',\n",
       "       '#TeslaCustomerServiceIssues', '#TeslaDeliveryIssueshttps',\n",
       "       '#TeslaHater', '#TeslaModel3', '#TeslaModelS', '#TeslaModelX',\n",
       "       '#TeslaMotors', '#TeslaQualityIssues', '#TeslaQualityIssueshttps',\n",
       "       '#TeslaRefundIssues', '#TeslaScreenIssues', '#TeslaServiceIssues',\n",
       "       '#TeslaServiceIssueshttps', '#TeslaSolarIssues', '#TeslaStock',\n",
       "       '#Teslahttps', '#Teslapic', '#Tesloop',\n",
       "       '#TheSociopathicBusinessModel', '#TheStratpic',\n",
       "       '#Thistimeisdifferent', '#TradeHacks', '#TradeTalk', '#TradeTalks',\n",
       "       '#TradeWar', '#TradenetIndia', '#TraderEquity', '#Trading',\n",
       "       '#Trucking', '#Trump', '#US', '#Uber', '#UnitedStates', '#VC',\n",
       "       '#WTI', '#WallStreet', '#Watchlist', '#Wind', '#XiJinping',\n",
       "       '#ZoZo', '#ZoZohttps', '#aaplpic', '#abuse', '#autonomous',\n",
       "       '#autos', '#aviaton', '#babycharts', '#batteries', '#battery',\n",
       "       '#bigdata', '#bitchytitty', '#bitcoin', '#blockchain',\n",
       "       '#bloomberg', '#bonds', '#book', '#books', '#botpic', '#business',\n",
       "       '#buyTheDip', '#cannabis', '#car', '#carpic', '#cars', '#carspic',\n",
       "       '#charts', '#cherrypic', '#china', '#click', '#climatechange',\n",
       "       '#cloud', '#commodities', '#corpgov', '#crash', '#crypto',\n",
       "       '#cryptoassets', '#cryptocurrency', '#cryptopic',\n",
       "       '#cryptotrifectapic', '#dashcam', '#daytrade', '#daytrader',\n",
       "       '#daytrading', '#daytradingpic', '#dearMoon', '#dearMoonhttps',\n",
       "       '#dearMoonpic', '#demandrecallhttps', '#dessert', '#doubletop',\n",
       "       '#dow', '#ebook', '#ebooks', '#electric', '#electriccarspic',\n",
       "       '#electricvehicle', '#electrified', '#eliottwave', '#elliottwave',\n",
       "       '#elonmusk', '#energy', '#enron', '#equities', '#estate', '#etf',\n",
       "       '#etron', '#ev', '#finance', '#financepic', '#financepodcast',\n",
       "       '#financialpodcast', '#fintwit', '#fomc', '#forbes', '#forex',\n",
       "       '#fraud', '#fundingsecured', '#futurespic', '#game', '#gofundme',\n",
       "       '#gold', '#heatlhcare', '#hedgeit', '#hedging', '#hemp', '#hodl',\n",
       "       '#industrials', '#instagood', '#invest', '#investing',\n",
       "       '#investinghttps', '#investment', '#investments',\n",
       "       '#investmentspic', '#investors', '#investorspic', '#itunes',\n",
       "       '#jokestockmarket', '#kindle', '#lawtwitter', '#leadership',\n",
       "       '#lig', '#lightnin', '#lookoutbelow', '#love',\n",
       "       '#lowgradedogfoodhttps', '#management', '#margincall', '#marital',\n",
       "       '#markets', '#maxpain', '#medicaldevice', '#mobilityhttps',\n",
       "       '#model3', '#modely', '#money', '#motivation', '#motivationpic',\n",
       "       '#musklies', '#muslies', '#nasdaq', '#neverafinancialadvisor',\n",
       "       '#news', '#nikkei', '#nio', '#nuttynurpleloverpic', '#nyse',\n",
       "       '#oil', '#option', '#optionmarkets', '#options', '#optionspic',\n",
       "       '#optionstrading', '#outofcash', '#patiencepic', '#pennystock',\n",
       "       '#pennystockspic', '#pivots', '#podcast', '#ponziassets', '#post',\n",
       "       '#potstocks', '#productivity', '#ps60pic', '#rEVolution',\n",
       "       '#rEvolution', '#reckless', '#robinhood', '#robotaxi',\n",
       "       '#rossgerber', '#rumors', '#s', '#shakerattleroll', '#shitbox',\n",
       "       '#shocker', '#silver', '#smartmoney', '#sp500', '#spy',\n",
       "       '#stagflation', '#startup', '#steem', '#steemit', '#stock',\n",
       "       '#stockmarket', '#stockmarketpic', '#stockmarkets', '#stocknews',\n",
       "       '#stocks', '#stocksinnews', '#stockspic', '#stockstowatch',\n",
       "       '#stockstowatchpic', '#stocktrading', '#strategy', '#success',\n",
       "       '#sundaymorning', '#support', '#swingtrading',\n",
       "       '#takethemoneyandrun', '#tariffpic', '#tariffs', '#teaching',\n",
       "       '#tech', '#technicalanalysis', '#telsapic', '#tesla',\n",
       "       '#teslaserviceissueshttps', '#trade', '#tradedeal',\n",
       "       '#traderequitypic', '#trades', '#tradetalks', '#tradewar',\n",
       "       '#tradewars', '#trading', '#tradingpic', '#transparency', '#tsla',\n",
       "       '#tslapic', '#twitch', '#usa', '#usstocks', '#valueinvesting',\n",
       "       '#vwap', '#wallstreet', '#watchlist', '#wontchargehttps',\n",
       "       '#workhorse', '#workplace', '#yields', '#zozohttps', '#テスラ',\n",
       "       '#テスラhttps', '#テスラpic', '#パナソニックhttps'], dtype='<U32')"
      ]
     },
     "execution_count": 26,
     "metadata": {},
     "output_type": "execute_result"
    }
   ],
   "source": [
    "uniq_hashtags"
   ]
  },
  {
   "cell_type": "code",
   "execution_count": 29,
   "metadata": {},
   "outputs": [],
   "source": [
    "temp = '#tradewar'"
   ]
  },
  {
   "cell_type": "code",
   "execution_count": 30,
   "metadata": {},
   "outputs": [
    {
     "data": {
      "text/plain": [
       "array(['$SPY @realDonaldTrump Will NOT back down & will MAXIMIZE Tariffs on #China #tradewar #TradeTalks $SPX $QQQ $IWM $DJI $AAPL $TSLA $FB $AMZN $GS $JPM $BAC $C $GOOGL $SPOT $XLE $BA $BABA $UVXY $LYFT Trump Muscle Flex.. -1000 tomorrow...!pic.twitter.com/qjQffmsXY0',\n",
       "       'T10 Bullish Options Flow 5/13/19: $KSS $TSLA $HIQ $QRTEA $SPY $SMH $PNC $MU $JNJ $AAPL #hodl#nyse#nasdaq#trading#options#hedging#hodl#tech#aviaton#optionstrading#stocks#stocktrading#hedgeit#tradewars#dow#china#usa#industrials',\n",
       "       'A -5% limit down in stocks today would shave about $1-2 trillion dollars off of US net worth. Who needs tariffs? $SPY $SPX $ES_F $NQ_F $QQQ $TQQQ $AAPL $NVDA $MU $INTC $FXI $CL_F $GC_F $GLD $SOXL $SOXS $UVXY $FXI $USD $EUR $JPY $AAPL $AMZN $GOOG $MSFT $TSLA $BA $CAT #tradewar',\n",
       "       '$SPY #China #TradeTalk #tradewar #Tarrif $SPY $SPX $QQQ $IWM $DJI $AAPL $TSLA $FB $AMZN $GS $JPM $BAC $C $GOOGL $SPOT $XLE $BA $BABA $UVXY $LYFTpic.twitter.com/DjN2cV44cq',\n",
       "       '$SPY Trump- \"Trade Talks are going very very well...believe me\" #china #TradeTalk #tradewar #Tariff $SPX $QQQ $IWM $DJI $AAPL $TSLA $FB $AMZN $GS $JPM $BAC $C $GOOGL $SPOT $XLE $BA $BABA $UVXY $LYFTpic.twitter.com/5quk7guZ6A'],\n",
       "      dtype=object)"
      ]
     },
     "execution_count": 30,
     "metadata": {},
     "output_type": "execute_result"
    }
   ],
   "source": [
    "sample_tweet_df[sample_tweet_df['hashtags'].str.contains(temp)]['text'].values"
   ]
  },
  {
   "cell_type": "code",
   "execution_count": null,
   "metadata": {},
   "outputs": [],
   "source": []
  }
 ],
 "metadata": {
  "kernelspec": {
   "display_name": "Python 3",
   "language": "python",
   "name": "python3"
  },
  "language_info": {
   "codemirror_mode": {
    "name": "ipython",
    "version": 3
   },
   "file_extension": ".py",
   "mimetype": "text/x-python",
   "name": "python",
   "nbconvert_exporter": "python",
   "pygments_lexer": "ipython3",
   "version": "3.6.5"
  }
 },
 "nbformat": 4,
 "nbformat_minor": 2
}
