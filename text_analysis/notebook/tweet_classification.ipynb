{
 "cells": [
  {
   "cell_type": "code",
   "execution_count": 1,
   "metadata": {},
   "outputs": [],
   "source": [
    "import pickle\n",
    "import re\n",
    "import numpy as np\n",
    "import string\n",
    "import matplotlib.pyplot as plt"
   ]
  },
  {
   "cell_type": "code",
   "execution_count": 2,
   "metadata": {},
   "outputs": [],
   "source": [
    "with open('./corpus_and_sentiment.pkl', 'rb') as f:\n",
    "    corpus_and_sentiment = pickle.load(f)"
   ]
  },
  {
   "cell_type": "code",
   "execution_count": 3,
   "metadata": {},
   "outputs": [],
   "source": [
    "corpus_train = corpus_and_sentiment['train']['corpus']\n",
    "sentiment_train = corpus_and_sentiment['train']['sentiment']\n",
    "\n",
    "corpus_test = corpus_and_sentiment['test']['corpus']\n",
    "sentiment_test = corpus_and_sentiment['test']['sentiment']"
   ]
  },
  {
   "cell_type": "code",
   "execution_count": null,
   "metadata": {},
   "outputs": [],
   "source": []
  },
  {
   "cell_type": "markdown",
   "metadata": {},
   "source": [
    "### Normalize Text"
   ]
  },
  {
   "cell_type": "code",
   "execution_count": 4,
   "metadata": {},
   "outputs": [],
   "source": [
    "url_pattern = re.compile(r'((http(s?))|(pic\\.twitter\\.com))\\S+')\n",
    "cashtag_pattern = re.compile(r'\\$[A-Za-z]+')\n",
    "atmention_pattern = re.compile(r'\\@[A-Za-z]+')\n",
    "punctuation = ''.join(set(string.punctuation) - set(['@', '$', '#'])) # remove these separately, not part of punctuation\n",
    "punctuation_pattern = re.compile(r'[%s]+\\ *' % re.escape(punctuation))\n",
    "\n",
    "# Sometimes hashtags contain useful info - for now, I'll just remove the '#' symbol\n",
    "def normalize_tweet(raw_text, remove_punctuation=True):\n",
    "    clean_text = re.sub(url_pattern, '', raw_text)\n",
    "    clean_text = re.sub(cashtag_pattern, '', clean_text)\n",
    "    clean_text = re.sub(atmention_pattern, '', clean_text)\n",
    "    \n",
    "    if remove_punctuation:\n",
    "        clean_text = re.sub(punctuation_pattern, ' ', clean_text)\n",
    "    \n",
    "    clean_text = clean_text.replace('#', '')\n",
    "    clean_text = clean_text.strip()\n",
    "    return clean_text"
   ]
  },
  {
   "cell_type": "code",
   "execution_count": 5,
   "metadata": {},
   "outputs": [
    {
     "name": "stdout",
     "output_type": "stream",
     "text": [
      "Call of the week: Wall Street gets more bullish on Amazon https://yhoo.it/2oy00Yg $AMZN @SeanaNSmithpic.twitter.com/LXum282B6v \n",
      "\n",
      "Call of the week Wall Street gets more bullish on Amazon \n",
      "\n",
      "Breaking open the deck with $MSFT! A 10…. pic.twitter.com/ESWBXCyBpd \n",
      "\n",
      "Breaking open the deck with  A 10… \n",
      "\n",
      "Here's a superlative: $AAPL shares poised for best quarter in five years http://blogs.wsj.com/moneybeat/2017/03/31/apple-poised-for-best-quarter-in-five-years/ … via @WSJMoneyBeat @beneisen \n",
      "\n",
      "Here s a superlative shares poised for best quarter in five years  … via \n",
      "\n"
     ]
    }
   ],
   "source": [
    "for t in np.random.choice(corpus_train, size=3, replace=False):\n",
    "    print(t, '\\n')\n",
    "    print(normalize_tweet(t), '\\n')"
   ]
  },
  {
   "cell_type": "code",
   "execution_count": 6,
   "metadata": {},
   "outputs": [],
   "source": [
    "corpus_train = [normalize_tweet(t) for t in corpus_train]\n",
    "corpus_test = [normalize_tweet(t) for t in corpus_test]"
   ]
  },
  {
   "cell_type": "code",
   "execution_count": 7,
   "metadata": {},
   "outputs": [
    {
     "data": {
      "text/plain": [
       "(291, 100)"
      ]
     },
     "execution_count": 7,
     "metadata": {},
     "output_type": "execute_result"
    }
   ],
   "source": [
    "len(corpus_train), len(corpus_test)"
   ]
  },
  {
   "cell_type": "code",
   "execution_count": 8,
   "metadata": {},
   "outputs": [
    {
     "data": {
      "text/plain": [
       "array([12, 63, 25])"
      ]
     },
     "execution_count": 8,
     "metadata": {},
     "output_type": "execute_result"
    }
   ],
   "source": [
    "np.bincount(sentiment_test + 1)"
   ]
  },
  {
   "cell_type": "code",
   "execution_count": null,
   "metadata": {},
   "outputs": [],
   "source": []
  },
  {
   "cell_type": "markdown",
   "metadata": {},
   "source": [
    "### Loughrand McDonald Dictionary"
   ]
  },
  {
   "cell_type": "code",
   "execution_count": 9,
   "metadata": {},
   "outputs": [],
   "source": [
    "with open('./lm_dictionary_vocab.pkl', 'rb') as f:\n",
    "    lm_dictionary_vocab = pickle.load(f)\n",
    "    \n",
    "lm_pos_words = lm_dictionary_vocab['pos']\n",
    "lm_neg_words = lm_dictionary_vocab['neg']"
   ]
  },
  {
   "cell_type": "markdown",
   "metadata": {},
   "source": [
    "### 1. Construct score by (#pos words - #neg words) / length"
   ]
  },
  {
   "cell_type": "code",
   "execution_count": 10,
   "metadata": {},
   "outputs": [],
   "source": [
    "from sklearn.feature_extraction.text import CountVectorizer\n",
    "from sklearn.metrics import accuracy_score, confusion_matrix, classification_report\n",
    "from nltk.corpus import stopwords"
   ]
  },
  {
   "cell_type": "code",
   "execution_count": 11,
   "metadata": {},
   "outputs": [],
   "source": [
    "# STOPS = set(stopwords.words('english'))"
   ]
  },
  {
   "cell_type": "code",
   "execution_count": 12,
   "metadata": {},
   "outputs": [],
   "source": [
    "cv = CountVectorizer(\n",
    "    lowercase=True,\n",
    "#     stop_words=STOPS,\n",
    "#     min_df=2\n",
    ")\n",
    "\n",
    "pos_word_cv = CountVectorizer(\n",
    "    lowercase=True,\n",
    "#     stop_words=STOPS,\n",
    "#     min_df=2,\n",
    "    vocabulary=lm_pos_words\n",
    ")\n",
    "\n",
    "neg_word_cv = CountVectorizer(\n",
    "    lowercase=True,\n",
    "#     stop_words=STOPS,\n",
    "#     min_df=2,\n",
    "    vocabulary=lm_neg_words\n",
    ")"
   ]
  },
  {
   "cell_type": "code",
   "execution_count": 13,
   "metadata": {},
   "outputs": [],
   "source": [
    "count_matrix_test = cv.fit_transform(corpus_test)\n",
    "count_neg_matrix_test = neg_word_cv.fit_transform(corpus_test)\n",
    "count_pos_matrix_test = pos_word_cv.fit_transform(corpus_test)"
   ]
  },
  {
   "cell_type": "code",
   "execution_count": 14,
   "metadata": {},
   "outputs": [
    {
     "data": {
      "text/plain": [
       "(2355, 354)"
      ]
     },
     "execution_count": 14,
     "metadata": {},
     "output_type": "execute_result"
    }
   ],
   "source": [
    "len(lm_neg_words), len(lm_pos_words)"
   ]
  },
  {
   "cell_type": "code",
   "execution_count": 15,
   "metadata": {},
   "outputs": [
    {
     "data": {
      "text/plain": [
       "((100, 709), (100, 2355), (100, 354))"
      ]
     },
     "execution_count": 15,
     "metadata": {},
     "output_type": "execute_result"
    }
   ],
   "source": [
    "count_matrix_test.shape, count_neg_matrix_test.shape, count_pos_matrix_test.shape"
   ]
  },
  {
   "cell_type": "code",
   "execution_count": 16,
   "metadata": {},
   "outputs": [],
   "source": [
    "num_pos_words = np.array(count_pos_matrix_test.sum(axis=1)).flatten()\n",
    "num_neg_words = np.array(count_neg_matrix_test.sum(axis=1)).flatten()\n",
    "num_words = np.array(count_matrix_test.sum(axis=1)).flatten()"
   ]
  },
  {
   "cell_type": "code",
   "execution_count": 17,
   "metadata": {},
   "outputs": [],
   "source": [
    "sentiment_scores = (num_pos_words - num_neg_words) / num_words"
   ]
  },
  {
   "cell_type": "code",
   "execution_count": 18,
   "metadata": {},
   "outputs": [
    {
     "data": {
      "image/png": "[encoded data removed]",
      "text/plain": [
       "<Figure size 432x288 with 1 Axes>"
      ]
     },
     "metadata": {
      "needs_background": "light"
     },
     "output_type": "display_data"
    }
   ],
   "source": [
    "_ = plt.hist(sentiment_scores, bins=20)"
   ]
  },
  {
   "cell_type": "code",
   "execution_count": 19,
   "metadata": {},
   "outputs": [],
   "source": [
    "sentiment_scores_int = np.where(sentiment_scores < 0, -1, sentiment_scores)\n",
    "sentiment_scores_int = np.where(sentiment_scores_int > 0, 1, sentiment_scores_int)"
   ]
  },
  {
   "cell_type": "code",
   "execution_count": 20,
   "metadata": {},
   "outputs": [],
   "source": [
    "sentiment_scores_int = sentiment_scores_int.astype(int)"
   ]
  },
  {
   "cell_type": "code",
   "execution_count": 21,
   "metadata": {},
   "outputs": [
    {
     "data": {
      "text/plain": [
       "0.49"
      ]
     },
     "execution_count": 21,
     "metadata": {},
     "output_type": "execute_result"
    }
   ],
   "source": [
    "accuracy_score(sentiment_test, sentiment_scores_int)"
   ]
  },
  {
   "cell_type": "code",
   "execution_count": 22,
   "metadata": {},
   "outputs": [
    {
     "name": "stdout",
     "output_type": "stream",
     "text": [
      "              precision    recall  f1-score   support\n",
      "\n",
      "          -1       0.31      0.42      0.36        12\n",
      "           0       0.59      0.68      0.63        63\n",
      "           1       0.09      0.04      0.06        25\n",
      "\n",
      "    accuracy                           0.49       100\n",
      "   macro avg       0.33      0.38      0.35       100\n",
      "weighted avg       0.43      0.49      0.46       100\n",
      "\n"
     ]
    }
   ],
   "source": [
    "print(classification_report(sentiment_test,\n",
    "                      sentiment_scores_int))"
   ]
  },
  {
   "cell_type": "code",
   "execution_count": null,
   "metadata": {},
   "outputs": [],
   "source": []
  },
  {
   "cell_type": "markdown",
   "metadata": {},
   "source": [
    "### 3. Use LM Dictionary Words and fit a classifer from train set"
   ]
  },
  {
   "cell_type": "code",
   "execution_count": 23,
   "metadata": {},
   "outputs": [],
   "source": [
    "from sklearn.feature_extraction.text import TfidfVectorizer\n",
    "from sklearn.linear_model import LogisticRegression\n",
    "from sklearn.naive_bayes import MultinomialNB"
   ]
  },
  {
   "cell_type": "code",
   "execution_count": 24,
   "metadata": {},
   "outputs": [],
   "source": [
    "lm_tfidf = TfidfVectorizer(\n",
    "    lowercase=True,\n",
    "#     stop_words=STOPS,\n",
    "#     min_df=2,\n",
    "    vocabulary=set(lm_neg_words) | set(lm_pos_words),\n",
    "    sublinear_tf=True,\n",
    ")"
   ]
  },
  {
   "cell_type": "code",
   "execution_count": 25,
   "metadata": {},
   "outputs": [],
   "source": [
    "X_lm_train = lm_tfidf.fit_transform(corpus_train)\n",
    "X_lm_test = lm_tfidf.transform(corpus_test)"
   ]
  },
  {
   "cell_type": "code",
   "execution_count": 26,
   "metadata": {},
   "outputs": [
    {
     "name": "stderr",
     "output_type": "stream",
     "text": [
      "/home/sjb/virtualenv/stock_research/lib/python3.6/site-packages/sklearn/linear_model/logistic.py:432: FutureWarning: Default solver will be changed to 'lbfgs' in 0.22. Specify a solver to silence this warning.\n",
      "  FutureWarning)\n",
      "/home/sjb/virtualenv/stock_research/lib/python3.6/site-packages/sklearn/linear_model/logistic.py:469: FutureWarning: Default multi_class will be changed to 'auto' in 0.22. Specify the multi_class option to silence this warning.\n",
      "  \"this warning.\", FutureWarning)\n"
     ]
    }
   ],
   "source": [
    "lr = LogisticRegression()\n",
    "\n",
    "lr.fit(X_lm_train, sentiment_train)\n",
    "y_lm_pred = lr.predict(X_lm_test)"
   ]
  },
  {
   "cell_type": "code",
   "execution_count": 27,
   "metadata": {},
   "outputs": [
    {
     "data": {
      "text/plain": [
       "array([0, 0, 0, 0, 0, 0, 0, 0, 0, 0, 0, 0, 0, 0, 0, 0, 0, 0, 0, 0, 0, 0,\n",
       "       0, 0, 0, 0, 0, 0, 0, 0, 0, 0, 0, 0, 0, 0, 0, 0, 0, 0, 0, 0, 0, 0,\n",
       "       0, 0, 0, 0, 0, 0, 0, 0, 0, 0, 0, 0, 0, 0, 0, 0, 0, 0, 0, 0, 0, 0,\n",
       "       0, 0, 0, 0, 0, 0, 0, 0, 0, 0, 0, 0, 0, 0, 0, 0, 0, 0, 0, 0, 0, 0,\n",
       "       0, 0, 0, 0, 0, 0, 0, 0, 0, 0, 0, 0])"
      ]
     },
     "execution_count": 27,
     "metadata": {},
     "output_type": "execute_result"
    }
   ],
   "source": [
    "y_lm_pred"
   ]
  },
  {
   "cell_type": "code",
   "execution_count": 30,
   "metadata": {},
   "outputs": [
    {
     "data": {
      "text/plain": [
       "0.63"
      ]
     },
     "execution_count": 30,
     "metadata": {},
     "output_type": "execute_result"
    }
   ],
   "source": [
    "accuracy_score(sentiment_test, y_lm_pred)"
   ]
  },
  {
   "cell_type": "code",
   "execution_count": 31,
   "metadata": {},
   "outputs": [
    {
     "name": "stdout",
     "output_type": "stream",
     "text": [
      "              precision    recall  f1-score   support\n",
      "\n",
      "          -1       0.00      0.00      0.00        12\n",
      "           0       0.63      1.00      0.77        63\n",
      "           1       0.00      0.00      0.00        25\n",
      "\n",
      "    accuracy                           0.63       100\n",
      "   macro avg       0.21      0.33      0.26       100\n",
      "weighted avg       0.40      0.63      0.49       100\n",
      "\n"
     ]
    },
    {
     "name": "stderr",
     "output_type": "stream",
     "text": [
      "/home/sjb/virtualenv/stock_research/lib/python3.6/site-packages/sklearn/metrics/classification.py:1437: UndefinedMetricWarning: Precision and F-score are ill-defined and being set to 0.0 in labels with no predicted samples.\n",
      "  'precision', 'predicted', average, warn_for)\n"
     ]
    }
   ],
   "source": [
    "print(classification_report(sentiment_test,\n",
    "                      y_lm_pred))"
   ]
  },
  {
   "cell_type": "code",
   "execution_count": null,
   "metadata": {},
   "outputs": [],
   "source": []
  },
  {
   "cell_type": "code",
   "execution_count": 32,
   "metadata": {},
   "outputs": [],
   "source": [
    "clf = MultinomialNB()\n",
    "\n",
    "clf.fit(X_lm_train, sentiment_train)\n",
    "y_lm_pred_nb = clf.predict(X_lm_test)"
   ]
  },
  {
   "cell_type": "code",
   "execution_count": 33,
   "metadata": {},
   "outputs": [
    {
     "data": {
      "text/plain": [
       "array([0, 0, 0, 0, 0, 0, 0, 0, 0, 0, 0, 0, 0, 0, 0, 0, 0, 0, 0, 0, 0, 0,\n",
       "       0, 0, 0, 0, 0, 0, 0, 0, 0, 0, 0, 0, 0, 0, 0, 0, 0, 0, 0, 0, 0, 0,\n",
       "       0, 0, 0, 0, 0, 0, 0, 0, 0, 0, 0, 0, 0, 0, 0, 0, 0, 0, 0, 0, 0, 0,\n",
       "       0, 0, 0, 0, 0, 0, 0, 0, 0, 0, 0, 0, 0, 0, 0, 0, 0, 0, 0, 0, 0, 0,\n",
       "       0, 0, 0, 0, 0, 0, 0, 0, 0, 0, 0, 1])"
      ]
     },
     "execution_count": 33,
     "metadata": {},
     "output_type": "execute_result"
    }
   ],
   "source": [
    "y_lm_pred_nb"
   ]
  },
  {
   "cell_type": "code",
   "execution_count": null,
   "metadata": {},
   "outputs": [],
   "source": []
  },
  {
   "cell_type": "markdown",
   "metadata": {},
   "source": [
    "### 4. Use all words to fit a classifier from train set"
   ]
  },
  {
   "cell_type": "code",
   "execution_count": 34,
   "metadata": {},
   "outputs": [
    {
     "data": {
      "text/plain": [
       "array([ 31, 173,  87])"
      ]
     },
     "execution_count": 34,
     "metadata": {},
     "output_type": "execute_result"
    }
   ],
   "source": [
    "np.bincount(sentiment_train + 1)"
   ]
  },
  {
   "cell_type": "code",
   "execution_count": 35,
   "metadata": {},
   "outputs": [],
   "source": [
    "tfidf = TfidfVectorizer(\n",
    "    lowercase=True,\n",
    "#     stop_words=STOPS,\n",
    "    min_df=2,\n",
    "    sublinear_tf=True,\n",
    ")"
   ]
  },
  {
   "cell_type": "code",
   "execution_count": 36,
   "metadata": {},
   "outputs": [],
   "source": [
    "X_train = tfidf.fit_transform(corpus_train)\n",
    "X_test = tfidf.transform(corpus_test)"
   ]
  },
  {
   "cell_type": "code",
   "execution_count": 37,
   "metadata": {},
   "outputs": [
    {
     "data": {
      "text/plain": [
       "((291, 497), (100, 497))"
      ]
     },
     "execution_count": 37,
     "metadata": {},
     "output_type": "execute_result"
    }
   ],
   "source": [
    "X_train.shape, X_test.shape"
   ]
  },
  {
   "cell_type": "code",
   "execution_count": 38,
   "metadata": {},
   "outputs": [
    {
     "name": "stderr",
     "output_type": "stream",
     "text": [
      "/home/sjb/virtualenv/stock_research/lib/python3.6/site-packages/sklearn/linear_model/logistic.py:432: FutureWarning: Default solver will be changed to 'lbfgs' in 0.22. Specify a solver to silence this warning.\n",
      "  FutureWarning)\n",
      "/home/sjb/virtualenv/stock_research/lib/python3.6/site-packages/sklearn/linear_model/logistic.py:469: FutureWarning: Default multi_class will be changed to 'auto' in 0.22. Specify the multi_class option to silence this warning.\n",
      "  \"this warning.\", FutureWarning)\n"
     ]
    }
   ],
   "source": [
    "lr = LogisticRegression()\n",
    "\n",
    "lr.fit(X_train, sentiment_train)\n",
    "y_pred = lr.predict(X_test)"
   ]
  },
  {
   "cell_type": "code",
   "execution_count": 42,
   "metadata": {},
   "outputs": [
    {
     "data": {
      "text/plain": [
       "0.66"
      ]
     },
     "execution_count": 42,
     "metadata": {},
     "output_type": "execute_result"
    }
   ],
   "source": [
    "accuracy_score(sentiment_test, y_pred)"
   ]
  },
  {
   "cell_type": "code",
   "execution_count": 43,
   "metadata": {},
   "outputs": [
    {
     "name": "stdout",
     "output_type": "stream",
     "text": [
      "              precision    recall  f1-score   support\n",
      "\n",
      "          -1       1.00      0.08      0.15        12\n",
      "           0       0.65      1.00      0.79        63\n",
      "           1       1.00      0.08      0.15        25\n",
      "\n",
      "    accuracy                           0.66       100\n",
      "   macro avg       0.88      0.39      0.36       100\n",
      "weighted avg       0.78      0.66      0.55       100\n",
      "\n"
     ]
    }
   ],
   "source": [
    "print(classification_report(sentiment_test,\n",
    "                      y_pred))"
   ]
  },
  {
   "cell_type": "code",
   "execution_count": null,
   "metadata": {},
   "outputs": [],
   "source": []
  },
  {
   "cell_type": "code",
   "execution_count": null,
   "metadata": {},
   "outputs": [],
   "source": []
  },
  {
   "cell_type": "code",
   "execution_count": 44,
   "metadata": {},
   "outputs": [],
   "source": [
    "clf = MultinomialNB()\n",
    "\n",
    "clf.fit(X_train, sentiment_train)\n",
    "y_pred_nb = clf.predict(X_test)"
   ]
  },
  {
   "cell_type": "code",
   "execution_count": 45,
   "metadata": {},
   "outputs": [
    {
     "data": {
      "text/plain": [
       "array([ 0,  0,  0,  0,  0,  0,  0,  0,  0,  0,  0,  0,  0,  0,  0,  0,  0,\n",
       "        0,  0,  0,  0,  0,  0,  0,  0,  0,  0,  0,  0,  0,  0,  0,  0,  0,\n",
       "        0,  0,  0,  0,  0,  0,  0,  0,  0,  0,  0,  0,  0,  0,  0,  0,  0,\n",
       "        0,  0,  0,  0,  0,  1,  0,  0,  0,  0,  0,  0,  0,  0,  0,  0,  0,\n",
       "        0,  0,  0,  0,  0,  0,  0,  0,  0,  0,  0,  0,  0,  0,  0,  0,  0,\n",
       "        0,  0,  0,  0,  0,  1,  0,  0,  0,  1,  0,  0, -1,  0,  0])"
      ]
     },
     "execution_count": 45,
     "metadata": {},
     "output_type": "execute_result"
    }
   ],
   "source": [
    "y_pred_nb"
   ]
  },
  {
   "cell_type": "code",
   "execution_count": 46,
   "metadata": {},
   "outputs": [
    {
     "data": {
      "text/plain": [
       "0.65"
      ]
     },
     "execution_count": 46,
     "metadata": {},
     "output_type": "execute_result"
    }
   ],
   "source": [
    "accuracy_score(sentiment_test, y_pred_nb)"
   ]
  },
  {
   "cell_type": "code",
   "execution_count": 47,
   "metadata": {},
   "outputs": [
    {
     "name": "stdout",
     "output_type": "stream",
     "text": [
      "              precision    recall  f1-score   support\n",
      "\n",
      "          -1       1.00      0.08      0.15        12\n",
      "           0       0.65      0.98      0.78        63\n",
      "           1       0.67      0.08      0.14        25\n",
      "\n",
      "    accuracy                           0.65       100\n",
      "   macro avg       0.77      0.38      0.36       100\n",
      "weighted avg       0.69      0.65      0.55       100\n",
      "\n"
     ]
    }
   ],
   "source": [
    "print(classification_report(sentiment_test,\n",
    "                      y_pred_nb))"
   ]
  },
  {
   "cell_type": "code",
   "execution_count": null,
   "metadata": {},
   "outputs": [],
   "source": []
  },
  {
   "cell_type": "markdown",
   "metadata": {},
   "source": [
    "### Upsample Training Set"
   ]
  },
  {
   "cell_type": "code",
   "execution_count": 48,
   "metadata": {},
   "outputs": [],
   "source": [
    "neg_corpus_train = np.array(corpus_train)[sentiment_train == -1]\n",
    "neutral_corpus_train = np.array(corpus_train)[sentiment_train == 0]\n",
    "pos_corpus_train = np.array(corpus_train)[sentiment_train == 1]"
   ]
  },
  {
   "cell_type": "code",
   "execution_count": 49,
   "metadata": {},
   "outputs": [
    {
     "data": {
      "text/plain": [
       "((31,), (173,), (87,))"
      ]
     },
     "execution_count": 49,
     "metadata": {},
     "output_type": "execute_result"
    }
   ],
   "source": [
    "neg_corpus_train.shape, neutral_corpus_train.shape, pos_corpus_train.shape"
   ]
  },
  {
   "cell_type": "code",
   "execution_count": 50,
   "metadata": {},
   "outputs": [],
   "source": [
    "neg_corpus_train_upsample = np.random.choice(neg_corpus_train, size=170)\n",
    "pos_corpus_train_upsample = np.random.choice(pos_corpus_train, size=170)"
   ]
  },
  {
   "cell_type": "code",
   "execution_count": 51,
   "metadata": {},
   "outputs": [],
   "source": [
    "corpus_train_upsample = np.concatenate(\n",
    "    (neg_corpus_train_upsample, neutral_corpus_train, pos_corpus_train_upsample)\n",
    ")\n",
    "\n",
    "sentiment_train_upsample = np.concatenate(\n",
    "    (np.ones_like(neg_corpus_train_upsample, dtype=int) * -1,\n",
    "    np.zeros_like(neutral_corpus_train, dtype=int),\n",
    "     np.ones_like(pos_corpus_train_upsample, dtype=int)\n",
    "    )\n",
    ")"
   ]
  },
  {
   "cell_type": "code",
   "execution_count": 52,
   "metadata": {},
   "outputs": [
    {
     "data": {
      "text/plain": [
       "((513,), (513,))"
      ]
     },
     "execution_count": 52,
     "metadata": {},
     "output_type": "execute_result"
    }
   ],
   "source": [
    "corpus_train_upsample.shape, sentiment_train_upsample.shape"
   ]
  },
  {
   "cell_type": "code",
   "execution_count": 53,
   "metadata": {},
   "outputs": [
    {
     "data": {
      "text/plain": [
       "array([170, 173, 170])"
      ]
     },
     "execution_count": 53,
     "metadata": {},
     "output_type": "execute_result"
    }
   ],
   "source": [
    "np.bincount(sentiment_train_upsample+1)"
   ]
  },
  {
   "cell_type": "code",
   "execution_count": 54,
   "metadata": {},
   "outputs": [],
   "source": [
    "X_train = tfidf.fit_transform(corpus_train_upsample)\n",
    "X_test = tfidf.transform(corpus_test)"
   ]
  },
  {
   "cell_type": "code",
   "execution_count": 55,
   "metadata": {},
   "outputs": [
    {
     "name": "stderr",
     "output_type": "stream",
     "text": [
      "/home/sjb/virtualenv/stock_research/lib/python3.6/site-packages/sklearn/linear_model/logistic.py:432: FutureWarning: Default solver will be changed to 'lbfgs' in 0.22. Specify a solver to silence this warning.\n",
      "  FutureWarning)\n",
      "/home/sjb/virtualenv/stock_research/lib/python3.6/site-packages/sklearn/linear_model/logistic.py:469: FutureWarning: Default multi_class will be changed to 'auto' in 0.22. Specify the multi_class option to silence this warning.\n",
      "  \"this warning.\", FutureWarning)\n"
     ]
    }
   ],
   "source": [
    "lr = LogisticRegression()\n",
    "\n",
    "lr.fit(X_train, sentiment_train_upsample)\n",
    "y_pred = lr.predict(X_test)"
   ]
  },
  {
   "cell_type": "code",
   "execution_count": 56,
   "metadata": {},
   "outputs": [
    {
     "data": {
      "text/plain": [
       "0.67"
      ]
     },
     "execution_count": 56,
     "metadata": {},
     "output_type": "execute_result"
    }
   ],
   "source": [
    "accuracy_score(sentiment_test, y_pred)"
   ]
  },
  {
   "cell_type": "code",
   "execution_count": 73,
   "metadata": {},
   "outputs": [
    {
     "name": "stdout",
     "output_type": "stream",
     "text": [
      "              precision    recall  f1-score   support\n",
      "\n",
      "          -1       0.33      0.17      0.22        12\n",
      "           0       0.72      0.86      0.78        63\n",
      "           1       0.58      0.44      0.50        25\n",
      "\n",
      "    accuracy                           0.67       100\n",
      "   macro avg       0.54      0.49      0.50       100\n",
      "weighted avg       0.64      0.67      0.64       100\n",
      "\n"
     ]
    }
   ],
   "source": [
    "print(classification_report(sentiment_test,\n",
    "                      y_pred))"
   ]
  },
  {
   "cell_type": "code",
   "execution_count": null,
   "metadata": {},
   "outputs": [],
   "source": []
  }
 ],
 "metadata": {
  "kernelspec": {
   "display_name": "Python 3",
   "language": "python",
   "name": "python3"
  },
  "language_info": {
   "codemirror_mode": {
    "name": "ipython",
    "version": 3
   },
   "file_extension": ".py",
   "mimetype": "text/x-python",
   "name": "python",
   "nbconvert_exporter": "python",
   "pygments_lexer": "ipython3",
   "version": "3.6.7"
  }
 },
 "nbformat": 4,
 "nbformat_minor": 2
}
